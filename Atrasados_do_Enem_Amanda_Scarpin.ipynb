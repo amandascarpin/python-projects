{
  "nbformat": 4,
  "nbformat_minor": 0,
  "metadata": {
    "colab": {
      "name": "Atrasados do Enem - Amanda_Scarpin.ipynb",
      "provenance": [],
      "collapsed_sections": [],
      "authorship_tag": "ABX9TyMGKOrvfb/8sePD4SHmgX1q",
      "include_colab_link": true
    },
    "kernelspec": {
      "name": "python3",
      "display_name": "Python 3"
    }
  },
  "cells": [
    {
      "cell_type": "markdown",
      "metadata": {
        "id": "view-in-github",
        "colab_type": "text"
      },
      "source": [
        "<a href=\"https://colab.research.google.com/github/amandascarpin/python-projects/blob/main/Atrasados_do_Enem_Amanda_Scarpin.ipynb\" target=\"_parent\"><img src=\"https://colab.research.google.com/assets/colab-badge.svg\" alt=\"Open In Colab\"/></a>"
      ]
    },
    {
      "cell_type": "markdown",
      "metadata": {
        "id": "VebWZjl-KMhb"
      },
      "source": [
        "## Os Atrasados do ENEM"
      ]
    },
    {
      "cell_type": "markdown",
      "metadata": {
        "id": "KHQpqBV5KXUe"
      },
      "source": [
        "Todos os anos, uma parcela dos estudantes inscritos não realiza as provas do Enem, o que já gerou muito meme e muita polêmica nas redes sociais. Mas será que existe algum padrão entre quem não realiza a prova? Ou não comparecer no dia da prova é aleatório? Nesse estudo, vamos explorar uma amostra de dados do Enem 2019 para entender um pouco mais sobre eles - **atrasados do ENEM: quem são? onde vivem? de que se alimentam?**"
      ]
    },
    {
      "cell_type": "markdown",
      "metadata": {
        "id": "lYOlcMJbienC"
      },
      "source": [
        "Esse projeto é um desafio proposto pela Alura através da Imersão Dados e foi realizado por Amanda Scarpin."
      ]
    },
    {
      "cell_type": "markdown",
      "metadata": {
        "id": "9BOZ0oeuHa_N"
      },
      "source": [
        "##Importando os dados"
      ]
    },
    {
      "cell_type": "markdown",
      "metadata": {
        "id": "WcN3qSTAISlb"
      },
      "source": [
        "Para iniciar, vamos importar as bibliotecas que utilizaremos (`pandas` e `numpy` para a análise dos dados e `seaborn` e `matplotlib` para os gráficos) e a amostra de dados do Enem 2019:"
      ]
    },
    {
      "cell_type": "code",
      "metadata": {
        "id": "XSgrigYjJ-GM",
        "colab": {
          "base_uri": "https://localhost:8080/",
          "height": 244
        },
        "outputId": "bbcde7f7-7de9-4899-845a-962191ba37c5"
      },
      "source": [
        "import pandas as pd\n",
        "import numpy as np\n",
        "import seaborn as sns\n",
        "import matplotlib.pyplot as plt\n",
        "\n",
        "fonte = \"https://github.com/alura-cursos/imersao-dados-2-2020/blob/master/MICRODADOS_ENEM_2019_SAMPLE_43278.csv?raw=true\"\n",
        "\n",
        "dados = pd.read_csv(fonte)\n",
        "dados.head()"
      ],
      "execution_count": null,
      "outputs": [
        {
          "output_type": "execute_result",
          "data": {
            "text/html": [
              "<div>\n",
              "<style scoped>\n",
              "    .dataframe tbody tr th:only-of-type {\n",
              "        vertical-align: middle;\n",
              "    }\n",
              "\n",
              "    .dataframe tbody tr th {\n",
              "        vertical-align: top;\n",
              "    }\n",
              "\n",
              "    .dataframe thead th {\n",
              "        text-align: right;\n",
              "    }\n",
              "</style>\n",
              "<table border=\"1\" class=\"dataframe\">\n",
              "  <thead>\n",
              "    <tr style=\"text-align: right;\">\n",
              "      <th></th>\n",
              "      <th>NU_INSCRICAO</th>\n",
              "      <th>NU_ANO</th>\n",
              "      <th>CO_MUNICIPIO_RESIDENCIA</th>\n",
              "      <th>NO_MUNICIPIO_RESIDENCIA</th>\n",
              "      <th>CO_UF_RESIDENCIA</th>\n",
              "      <th>SG_UF_RESIDENCIA</th>\n",
              "      <th>NU_IDADE</th>\n",
              "      <th>TP_SEXO</th>\n",
              "      <th>TP_ESTADO_CIVIL</th>\n",
              "      <th>TP_COR_RACA</th>\n",
              "      <th>TP_NACIONALIDADE</th>\n",
              "      <th>CO_MUNICIPIO_NASCIMENTO</th>\n",
              "      <th>NO_MUNICIPIO_NASCIMENTO</th>\n",
              "      <th>CO_UF_NASCIMENTO</th>\n",
              "      <th>SG_UF_NASCIMENTO</th>\n",
              "      <th>TP_ST_CONCLUSAO</th>\n",
              "      <th>TP_ANO_CONCLUIU</th>\n",
              "      <th>TP_ESCOLA</th>\n",
              "      <th>TP_ENSINO</th>\n",
              "      <th>IN_TREINEIRO</th>\n",
              "      <th>CO_ESCOLA</th>\n",
              "      <th>CO_MUNICIPIO_ESC</th>\n",
              "      <th>NO_MUNICIPIO_ESC</th>\n",
              "      <th>CO_UF_ESC</th>\n",
              "      <th>SG_UF_ESC</th>\n",
              "      <th>TP_DEPENDENCIA_ADM_ESC</th>\n",
              "      <th>TP_LOCALIZACAO_ESC</th>\n",
              "      <th>TP_SIT_FUNC_ESC</th>\n",
              "      <th>IN_BAIXA_VISAO</th>\n",
              "      <th>IN_CEGUEIRA</th>\n",
              "      <th>IN_SURDEZ</th>\n",
              "      <th>IN_DEFICIENCIA_AUDITIVA</th>\n",
              "      <th>IN_SURDO_CEGUEIRA</th>\n",
              "      <th>IN_DEFICIENCIA_FISICA</th>\n",
              "      <th>IN_DEFICIENCIA_MENTAL</th>\n",
              "      <th>IN_DEFICIT_ATENCAO</th>\n",
              "      <th>IN_DISLEXIA</th>\n",
              "      <th>IN_DISCALCULIA</th>\n",
              "      <th>IN_AUTISMO</th>\n",
              "      <th>IN_VISAO_MONOCULAR</th>\n",
              "      <th>...</th>\n",
              "      <th>TX_RESPOSTAS_CH</th>\n",
              "      <th>TX_RESPOSTAS_LC</th>\n",
              "      <th>TX_RESPOSTAS_MT</th>\n",
              "      <th>TP_LINGUA</th>\n",
              "      <th>TX_GABARITO_CN</th>\n",
              "      <th>TX_GABARITO_CH</th>\n",
              "      <th>TX_GABARITO_LC</th>\n",
              "      <th>TX_GABARITO_MT</th>\n",
              "      <th>TP_STATUS_REDACAO</th>\n",
              "      <th>NU_NOTA_COMP1</th>\n",
              "      <th>NU_NOTA_COMP2</th>\n",
              "      <th>NU_NOTA_COMP3</th>\n",
              "      <th>NU_NOTA_COMP4</th>\n",
              "      <th>NU_NOTA_COMP5</th>\n",
              "      <th>NU_NOTA_REDACAO</th>\n",
              "      <th>Q001</th>\n",
              "      <th>Q002</th>\n",
              "      <th>Q003</th>\n",
              "      <th>Q004</th>\n",
              "      <th>Q005</th>\n",
              "      <th>Q006</th>\n",
              "      <th>Q007</th>\n",
              "      <th>Q008</th>\n",
              "      <th>Q009</th>\n",
              "      <th>Q010</th>\n",
              "      <th>Q011</th>\n",
              "      <th>Q012</th>\n",
              "      <th>Q013</th>\n",
              "      <th>Q014</th>\n",
              "      <th>Q015</th>\n",
              "      <th>Q016</th>\n",
              "      <th>Q017</th>\n",
              "      <th>Q018</th>\n",
              "      <th>Q019</th>\n",
              "      <th>Q020</th>\n",
              "      <th>Q021</th>\n",
              "      <th>Q022</th>\n",
              "      <th>Q023</th>\n",
              "      <th>Q024</th>\n",
              "      <th>Q025</th>\n",
              "    </tr>\n",
              "  </thead>\n",
              "  <tbody>\n",
              "    <tr>\n",
              "      <th>0</th>\n",
              "      <td>190001004661</td>\n",
              "      <td>2019</td>\n",
              "      <td>1506138</td>\n",
              "      <td>Redenção</td>\n",
              "      <td>15</td>\n",
              "      <td>PA</td>\n",
              "      <td>17</td>\n",
              "      <td>M</td>\n",
              "      <td>1</td>\n",
              "      <td>3</td>\n",
              "      <td>1</td>\n",
              "      <td>1506138.0</td>\n",
              "      <td>Redenção</td>\n",
              "      <td>15.0</td>\n",
              "      <td>PA</td>\n",
              "      <td>3</td>\n",
              "      <td>0</td>\n",
              "      <td>1</td>\n",
              "      <td>NaN</td>\n",
              "      <td>1</td>\n",
              "      <td>NaN</td>\n",
              "      <td>NaN</td>\n",
              "      <td>NaN</td>\n",
              "      <td>NaN</td>\n",
              "      <td>NaN</td>\n",
              "      <td>NaN</td>\n",
              "      <td>NaN</td>\n",
              "      <td>NaN</td>\n",
              "      <td>0</td>\n",
              "      <td>0</td>\n",
              "      <td>0</td>\n",
              "      <td>0</td>\n",
              "      <td>0</td>\n",
              "      <td>0</td>\n",
              "      <td>0</td>\n",
              "      <td>0</td>\n",
              "      <td>0</td>\n",
              "      <td>0</td>\n",
              "      <td>0</td>\n",
              "      <td>0</td>\n",
              "      <td>...</td>\n",
              "      <td>ACAEAAACABEBABAADCEEEDE*CBDCCCADADCCCBEBBBBDB</td>\n",
              "      <td>99999CCCABBCAADDBCEBCCADBEEBDECBAABDEACACAEABB...</td>\n",
              "      <td>DEEDCAECDDEEECBCBECABEBAECBBCDAECAEBBBBBDCCDB</td>\n",
              "      <td>1</td>\n",
              "      <td>DEADBAAAEBEECEBCBCBCBDADAEABCEDDDDADCBEECACBC</td>\n",
              "      <td>ACACEEBCCBABADBBBACDBBACCCCADCEBADCBEEDBBEADB</td>\n",
              "      <td>EBBADCABDABACBCEBDEEAAADDBECDECDDBADBCDAAECBCC...</td>\n",
              "      <td>AADDDBEEEBEDDBEBACABCDBABECECACAECDCBDCCEDCDA</td>\n",
              "      <td>1.0</td>\n",
              "      <td>60.0</td>\n",
              "      <td>100.0</td>\n",
              "      <td>80.0</td>\n",
              "      <td>80.0</td>\n",
              "      <td>100.0</td>\n",
              "      <td>420.0</td>\n",
              "      <td>B</td>\n",
              "      <td>B</td>\n",
              "      <td>A</td>\n",
              "      <td>A</td>\n",
              "      <td>4</td>\n",
              "      <td>B</td>\n",
              "      <td>A</td>\n",
              "      <td>C</td>\n",
              "      <td>B</td>\n",
              "      <td>A</td>\n",
              "      <td>C</td>\n",
              "      <td>B</td>\n",
              "      <td>A</td>\n",
              "      <td>A</td>\n",
              "      <td>A</td>\n",
              "      <td>A</td>\n",
              "      <td>A</td>\n",
              "      <td>A</td>\n",
              "      <td>A</td>\n",
              "      <td>B</td>\n",
              "      <td>A</td>\n",
              "      <td>C</td>\n",
              "      <td>A</td>\n",
              "      <td>B</td>\n",
              "      <td>B</td>\n",
              "    </tr>\n",
              "    <tr>\n",
              "      <th>1</th>\n",
              "      <td>190001004674</td>\n",
              "      <td>2019</td>\n",
              "      <td>1504208</td>\n",
              "      <td>Marabá</td>\n",
              "      <td>15</td>\n",
              "      <td>PA</td>\n",
              "      <td>23</td>\n",
              "      <td>M</td>\n",
              "      <td>1</td>\n",
              "      <td>3</td>\n",
              "      <td>1</td>\n",
              "      <td>1504208.0</td>\n",
              "      <td>Marabá</td>\n",
              "      <td>15.0</td>\n",
              "      <td>PA</td>\n",
              "      <td>1</td>\n",
              "      <td>3</td>\n",
              "      <td>1</td>\n",
              "      <td>1.0</td>\n",
              "      <td>0</td>\n",
              "      <td>NaN</td>\n",
              "      <td>NaN</td>\n",
              "      <td>NaN</td>\n",
              "      <td>NaN</td>\n",
              "      <td>NaN</td>\n",
              "      <td>NaN</td>\n",
              "      <td>NaN</td>\n",
              "      <td>NaN</td>\n",
              "      <td>0</td>\n",
              "      <td>0</td>\n",
              "      <td>0</td>\n",
              "      <td>0</td>\n",
              "      <td>0</td>\n",
              "      <td>0</td>\n",
              "      <td>0</td>\n",
              "      <td>0</td>\n",
              "      <td>0</td>\n",
              "      <td>0</td>\n",
              "      <td>0</td>\n",
              "      <td>0</td>\n",
              "      <td>...</td>\n",
              "      <td>ABBCEADCEBAAACACEDCDCDACCCACDCBCABCAACBDBDEDE</td>\n",
              "      <td>99999ABCEBCEDDECEEEBBCCEECCABDABEEBCDEAEBBEAEA...</td>\n",
              "      <td>NaN</td>\n",
              "      <td>1</td>\n",
              "      <td>NaN</td>\n",
              "      <td>CBABADBBCEEEBCBADCBEEDBBEADBBACDBBACCCCADACAC</td>\n",
              "      <td>BBEDABDACACBABAECBBCCADCEBDBBCDDEEAAADDBECDECA...</td>\n",
              "      <td>NaN</td>\n",
              "      <td>1.0</td>\n",
              "      <td>80.0</td>\n",
              "      <td>100.0</td>\n",
              "      <td>80.0</td>\n",
              "      <td>80.0</td>\n",
              "      <td>60.0</td>\n",
              "      <td>400.0</td>\n",
              "      <td>C</td>\n",
              "      <td>C</td>\n",
              "      <td>A</td>\n",
              "      <td>A</td>\n",
              "      <td>4</td>\n",
              "      <td>B</td>\n",
              "      <td>A</td>\n",
              "      <td>B</td>\n",
              "      <td>C</td>\n",
              "      <td>A</td>\n",
              "      <td>A</td>\n",
              "      <td>B</td>\n",
              "      <td>B</td>\n",
              "      <td>B</td>\n",
              "      <td>A</td>\n",
              "      <td>A</td>\n",
              "      <td>A</td>\n",
              "      <td>A</td>\n",
              "      <td>B</td>\n",
              "      <td>A</td>\n",
              "      <td>A</td>\n",
              "      <td>B</td>\n",
              "      <td>A</td>\n",
              "      <td>A</td>\n",
              "      <td>B</td>\n",
              "    </tr>\n",
              "    <tr>\n",
              "      <th>2</th>\n",
              "      <td>190001004722</td>\n",
              "      <td>2019</td>\n",
              "      <td>1501402</td>\n",
              "      <td>Belém</td>\n",
              "      <td>15</td>\n",
              "      <td>PA</td>\n",
              "      <td>35</td>\n",
              "      <td>F</td>\n",
              "      <td>2</td>\n",
              "      <td>1</td>\n",
              "      <td>1</td>\n",
              "      <td>1501402.0</td>\n",
              "      <td>Belém</td>\n",
              "      <td>15.0</td>\n",
              "      <td>PA</td>\n",
              "      <td>1</td>\n",
              "      <td>12</td>\n",
              "      <td>1</td>\n",
              "      <td>1.0</td>\n",
              "      <td>0</td>\n",
              "      <td>NaN</td>\n",
              "      <td>NaN</td>\n",
              "      <td>NaN</td>\n",
              "      <td>NaN</td>\n",
              "      <td>NaN</td>\n",
              "      <td>NaN</td>\n",
              "      <td>NaN</td>\n",
              "      <td>NaN</td>\n",
              "      <td>0</td>\n",
              "      <td>0</td>\n",
              "      <td>0</td>\n",
              "      <td>0</td>\n",
              "      <td>0</td>\n",
              "      <td>0</td>\n",
              "      <td>0</td>\n",
              "      <td>0</td>\n",
              "      <td>0</td>\n",
              "      <td>0</td>\n",
              "      <td>0</td>\n",
              "      <td>0</td>\n",
              "      <td>...</td>\n",
              "      <td>CDCAACCAAADEACBBEBAAEECDABDEBAEAABEDCABABAABC</td>\n",
              "      <td>99999ECBCECEBBABECCCECECCEECCDECEEEDADDDDECEDD...</td>\n",
              "      <td>DDBEADEBBCADCEEACABECBCEBADECADCEDAACBDABABCE</td>\n",
              "      <td>1</td>\n",
              "      <td>AAECACDEADCBCDDDBCBDADAEABCEBABEEBCBEECEBDADC</td>\n",
              "      <td>CBABADBBCEEEBCBADCBEEDBBEADBBACDBBACCCCADACAC</td>\n",
              "      <td>BBEDABDACACBABAECBBCCADCEBDBBCDDEEAAADDBECDECA...</td>\n",
              "      <td>EEEADBEBACABCDBABECECACDCBDCCEDCDABEDECDDDBAA</td>\n",
              "      <td>1.0</td>\n",
              "      <td>100.0</td>\n",
              "      <td>120.0</td>\n",
              "      <td>120.0</td>\n",
              "      <td>100.0</td>\n",
              "      <td>120.0</td>\n",
              "      <td>560.0</td>\n",
              "      <td>C</td>\n",
              "      <td>A</td>\n",
              "      <td>B</td>\n",
              "      <td>B</td>\n",
              "      <td>5</td>\n",
              "      <td>C</td>\n",
              "      <td>A</td>\n",
              "      <td>B</td>\n",
              "      <td>C</td>\n",
              "      <td>A</td>\n",
              "      <td>A</td>\n",
              "      <td>B</td>\n",
              "      <td>A</td>\n",
              "      <td>B</td>\n",
              "      <td>A</td>\n",
              "      <td>A</td>\n",
              "      <td>A</td>\n",
              "      <td>A</td>\n",
              "      <td>B</td>\n",
              "      <td>A</td>\n",
              "      <td>B</td>\n",
              "      <td>B</td>\n",
              "      <td>A</td>\n",
              "      <td>A</td>\n",
              "      <td>B</td>\n",
              "    </tr>\n",
              "    <tr>\n",
              "      <th>3</th>\n",
              "      <td>190001004735</td>\n",
              "      <td>2019</td>\n",
              "      <td>1507300</td>\n",
              "      <td>São Félix do Xingu</td>\n",
              "      <td>15</td>\n",
              "      <td>PA</td>\n",
              "      <td>23</td>\n",
              "      <td>F</td>\n",
              "      <td>1</td>\n",
              "      <td>3</td>\n",
              "      <td>1</td>\n",
              "      <td>1505437.0</td>\n",
              "      <td>Ourilândia do Norte</td>\n",
              "      <td>15.0</td>\n",
              "      <td>PA</td>\n",
              "      <td>1</td>\n",
              "      <td>7</td>\n",
              "      <td>1</td>\n",
              "      <td>NaN</td>\n",
              "      <td>0</td>\n",
              "      <td>NaN</td>\n",
              "      <td>NaN</td>\n",
              "      <td>NaN</td>\n",
              "      <td>NaN</td>\n",
              "      <td>NaN</td>\n",
              "      <td>NaN</td>\n",
              "      <td>NaN</td>\n",
              "      <td>NaN</td>\n",
              "      <td>0</td>\n",
              "      <td>0</td>\n",
              "      <td>0</td>\n",
              "      <td>0</td>\n",
              "      <td>0</td>\n",
              "      <td>0</td>\n",
              "      <td>0</td>\n",
              "      <td>0</td>\n",
              "      <td>0</td>\n",
              "      <td>0</td>\n",
              "      <td>0</td>\n",
              "      <td>0</td>\n",
              "      <td>...</td>\n",
              "      <td>EECCCEDBADBEAAAAEBAECEAAAAEEEBACCAC*CEAEDAECE</td>\n",
              "      <td>99999BABCDABBCBDDAAECADBDDADDCBCEEDCAEBCEAEABD...</td>\n",
              "      <td>CBDEBBCBDEBCABCDBDEDADCCBEDBCAECEBEBDEBAEECBC</td>\n",
              "      <td>1</td>\n",
              "      <td>BEEAAEBEEBADEADDADAEABCEDDDBCBCBCCACBCDADCCEB</td>\n",
              "      <td>EEBCEEDBADBBCBABCCADCEBACDBBACCACACBEADBBADCB</td>\n",
              "      <td>ADBBEDCABAABBCBCDAAECDDDBAAAECADECDCEBDEEAECBD...</td>\n",
              "      <td>BEDEEEAADBEBACABCDBABECECACADCBDCCEDCDABECDDD</td>\n",
              "      <td>1.0</td>\n",
              "      <td>100.0</td>\n",
              "      <td>120.0</td>\n",
              "      <td>120.0</td>\n",
              "      <td>120.0</td>\n",
              "      <td>40.0</td>\n",
              "      <td>500.0</td>\n",
              "      <td>E</td>\n",
              "      <td>C</td>\n",
              "      <td>A</td>\n",
              "      <td>A</td>\n",
              "      <td>1</td>\n",
              "      <td>B</td>\n",
              "      <td>A</td>\n",
              "      <td>B</td>\n",
              "      <td>C</td>\n",
              "      <td>A</td>\n",
              "      <td>A</td>\n",
              "      <td>B</td>\n",
              "      <td>A</td>\n",
              "      <td>A</td>\n",
              "      <td>A</td>\n",
              "      <td>A</td>\n",
              "      <td>A</td>\n",
              "      <td>A</td>\n",
              "      <td>B</td>\n",
              "      <td>A</td>\n",
              "      <td>A</td>\n",
              "      <td>B</td>\n",
              "      <td>A</td>\n",
              "      <td>A</td>\n",
              "      <td>B</td>\n",
              "    </tr>\n",
              "    <tr>\n",
              "      <th>4</th>\n",
              "      <td>190001004776</td>\n",
              "      <td>2019</td>\n",
              "      <td>1500800</td>\n",
              "      <td>Ananindeua</td>\n",
              "      <td>15</td>\n",
              "      <td>PA</td>\n",
              "      <td>16</td>\n",
              "      <td>F</td>\n",
              "      <td>1</td>\n",
              "      <td>3</td>\n",
              "      <td>1</td>\n",
              "      <td>1500800.0</td>\n",
              "      <td>Ananindeua</td>\n",
              "      <td>15.0</td>\n",
              "      <td>PA</td>\n",
              "      <td>3</td>\n",
              "      <td>0</td>\n",
              "      <td>1</td>\n",
              "      <td>NaN</td>\n",
              "      <td>1</td>\n",
              "      <td>NaN</td>\n",
              "      <td>NaN</td>\n",
              "      <td>NaN</td>\n",
              "      <td>NaN</td>\n",
              "      <td>NaN</td>\n",
              "      <td>NaN</td>\n",
              "      <td>NaN</td>\n",
              "      <td>NaN</td>\n",
              "      <td>0</td>\n",
              "      <td>0</td>\n",
              "      <td>0</td>\n",
              "      <td>0</td>\n",
              "      <td>0</td>\n",
              "      <td>0</td>\n",
              "      <td>0</td>\n",
              "      <td>0</td>\n",
              "      <td>0</td>\n",
              "      <td>0</td>\n",
              "      <td>0</td>\n",
              "      <td>0</td>\n",
              "      <td>...</td>\n",
              "      <td>CCBCBEACABACABBBBACCBCEBDCBABCADADCBCADBAADEA</td>\n",
              "      <td>EBCAB99999BBCECBCACBEACBDAABDBCBBDACEBBACDCAEC...</td>\n",
              "      <td>AECCBBCBBCBDEDECACBAABEDABBEDDADCEADDBEBDBBEB</td>\n",
              "      <td>0</td>\n",
              "      <td>DEADBAAAEBEECEBCBCBCBDADAEABCEDDDDADCBEECACBC</td>\n",
              "      <td>ACACEEBCCBABADBBBACDBBACCCCADCEBADCBEEDBBEADB</td>\n",
              "      <td>EBBADCABDABACBCEBDEEAAADDBECDECDDBADBCDAAECBCC...</td>\n",
              "      <td>AADDDBEEEBEDDBEBACABCDBABECECACAECDCBDCCEDCDA</td>\n",
              "      <td>1.0</td>\n",
              "      <td>160.0</td>\n",
              "      <td>140.0</td>\n",
              "      <td>160.0</td>\n",
              "      <td>160.0</td>\n",
              "      <td>160.0</td>\n",
              "      <td>780.0</td>\n",
              "      <td>E</td>\n",
              "      <td>E</td>\n",
              "      <td>B</td>\n",
              "      <td>D</td>\n",
              "      <td>3</td>\n",
              "      <td>E</td>\n",
              "      <td>A</td>\n",
              "      <td>B</td>\n",
              "      <td>C</td>\n",
              "      <td>B</td>\n",
              "      <td>A</td>\n",
              "      <td>B</td>\n",
              "      <td>A</td>\n",
              "      <td>A</td>\n",
              "      <td>A</td>\n",
              "      <td>A</td>\n",
              "      <td>A</td>\n",
              "      <td>A</td>\n",
              "      <td>B</td>\n",
              "      <td>A</td>\n",
              "      <td>A</td>\n",
              "      <td>D</td>\n",
              "      <td>A</td>\n",
              "      <td>A</td>\n",
              "      <td>B</td>\n",
              "    </tr>\n",
              "  </tbody>\n",
              "</table>\n",
              "<p>5 rows × 136 columns</p>\n",
              "</div>"
            ],
            "text/plain": [
              "   NU_INSCRICAO  NU_ANO  CO_MUNICIPIO_RESIDENCIA  ... Q023  Q024 Q025\n",
              "0  190001004661    2019                  1506138  ...    A     B    B\n",
              "1  190001004674    2019                  1504208  ...    A     A    B\n",
              "2  190001004722    2019                  1501402  ...    A     A    B\n",
              "3  190001004735    2019                  1507300  ...    A     A    B\n",
              "4  190001004776    2019                  1500800  ...    A     A    B\n",
              "\n",
              "[5 rows x 136 columns]"
            ]
          },
          "metadata": {
            "tags": []
          },
          "execution_count": 1
        }
      ]
    },
    {
      "cell_type": "markdown",
      "metadata": {
        "id": "qn4a4PdWBgIu"
      },
      "source": [
        "Como esse dataset está organizado?"
      ]
    },
    {
      "cell_type": "code",
      "metadata": {
        "id": "8IpBe2x9gf2Y",
        "colab": {
          "base_uri": "https://localhost:8080/"
        },
        "outputId": "f700dcc2-fd4c-4efa-9002-497275a5c411"
      },
      "source": [
        "#tamanho do dataset\n",
        "nLin, nCol = dados.shape\n",
        "print(f'Esse dataset tem {nLin} linhas e {nCol} colunas')"
      ],
      "execution_count": null,
      "outputs": [
        {
          "output_type": "stream",
          "text": [
            "Esse dataset tem 127380 linhas e 136 colunas\n"
          ],
          "name": "stdout"
        }
      ]
    },
    {
      "cell_type": "code",
      "metadata": {
        "id": "lzAyY-jlipXS",
        "colab": {
          "base_uri": "https://localhost:8080/"
        },
        "outputId": "e9f9bc10-fb10-4bdf-bc7f-3df64c7cae8e"
      },
      "source": [
        "#verificando se existem dados duplicados\n",
        "dados.duplicated().sum()"
      ],
      "execution_count": null,
      "outputs": [
        {
          "output_type": "execute_result",
          "data": {
            "text/plain": [
              "0"
            ]
          },
          "metadata": {
            "tags": []
          },
          "execution_count": 3
        }
      ]
    },
    {
      "cell_type": "code",
      "metadata": {
        "id": "DmiT6z9KJ5V9",
        "colab": {
          "base_uri": "https://localhost:8080/"
        },
        "outputId": "bcf72dd2-f099-494c-eaf7-a851e07d369d"
      },
      "source": [
        "#conhecendo todas as colunas do dataset\n",
        "dados.columns.values"
      ],
      "execution_count": null,
      "outputs": [
        {
          "output_type": "execute_result",
          "data": {
            "text/plain": [
              "array(['NU_INSCRICAO', 'NU_ANO', 'CO_MUNICIPIO_RESIDENCIA',\n",
              "       'NO_MUNICIPIO_RESIDENCIA', 'CO_UF_RESIDENCIA', 'SG_UF_RESIDENCIA',\n",
              "       'NU_IDADE', 'TP_SEXO', 'TP_ESTADO_CIVIL', 'TP_COR_RACA',\n",
              "       'TP_NACIONALIDADE', 'CO_MUNICIPIO_NASCIMENTO',\n",
              "       'NO_MUNICIPIO_NASCIMENTO', 'CO_UF_NASCIMENTO', 'SG_UF_NASCIMENTO',\n",
              "       'TP_ST_CONCLUSAO', 'TP_ANO_CONCLUIU', 'TP_ESCOLA', 'TP_ENSINO',\n",
              "       'IN_TREINEIRO', 'CO_ESCOLA', 'CO_MUNICIPIO_ESC',\n",
              "       'NO_MUNICIPIO_ESC', 'CO_UF_ESC', 'SG_UF_ESC',\n",
              "       'TP_DEPENDENCIA_ADM_ESC', 'TP_LOCALIZACAO_ESC', 'TP_SIT_FUNC_ESC',\n",
              "       'IN_BAIXA_VISAO', 'IN_CEGUEIRA', 'IN_SURDEZ',\n",
              "       'IN_DEFICIENCIA_AUDITIVA', 'IN_SURDO_CEGUEIRA',\n",
              "       'IN_DEFICIENCIA_FISICA', 'IN_DEFICIENCIA_MENTAL',\n",
              "       'IN_DEFICIT_ATENCAO', 'IN_DISLEXIA', 'IN_DISCALCULIA',\n",
              "       'IN_AUTISMO', 'IN_VISAO_MONOCULAR', 'IN_OUTRA_DEF', 'IN_GESTANTE',\n",
              "       'IN_LACTANTE', 'IN_IDOSO', 'IN_ESTUDA_CLASSE_HOSPITALAR',\n",
              "       'IN_SEM_RECURSO', 'IN_BRAILLE', 'IN_AMPLIADA_24', 'IN_AMPLIADA_18',\n",
              "       'IN_LEDOR', 'IN_ACESSO', 'IN_TRANSCRICAO', 'IN_LIBRAS',\n",
              "       'IN_TEMPO_ADICIONAL', 'IN_LEITURA_LABIAL', 'IN_MESA_CADEIRA_RODAS',\n",
              "       'IN_MESA_CADEIRA_SEPARADA', 'IN_APOIO_PERNA', 'IN_GUIA_INTERPRETE',\n",
              "       'IN_COMPUTADOR', 'IN_CADEIRA_ESPECIAL', 'IN_CADEIRA_CANHOTO',\n",
              "       'IN_CADEIRA_ACOLCHOADA', 'IN_PROVA_DEITADO', 'IN_MOBILIARIO_OBESO',\n",
              "       'IN_LAMINA_OVERLAY', 'IN_PROTETOR_AURICULAR', 'IN_MEDIDOR_GLICOSE',\n",
              "       'IN_MAQUINA_BRAILE', 'IN_SOROBAN', 'IN_MARCA_PASSO', 'IN_SONDA',\n",
              "       'IN_MEDICAMENTOS', 'IN_SALA_INDIVIDUAL', 'IN_SALA_ESPECIAL',\n",
              "       'IN_SALA_ACOMPANHANTE', 'IN_MOBILIARIO_ESPECIFICO',\n",
              "       'IN_MATERIAL_ESPECIFICO', 'IN_NOME_SOCIAL', 'CO_MUNICIPIO_PROVA',\n",
              "       'NO_MUNICIPIO_PROVA', 'CO_UF_PROVA', 'SG_UF_PROVA',\n",
              "       'TP_PRESENCA_CN', 'TP_PRESENCA_CH', 'TP_PRESENCA_LC',\n",
              "       'TP_PRESENCA_MT', 'CO_PROVA_CN', 'CO_PROVA_CH', 'CO_PROVA_LC',\n",
              "       'CO_PROVA_MT', 'NU_NOTA_CN', 'NU_NOTA_CH', 'NU_NOTA_LC',\n",
              "       'NU_NOTA_MT', 'TX_RESPOSTAS_CN', 'TX_RESPOSTAS_CH',\n",
              "       'TX_RESPOSTAS_LC', 'TX_RESPOSTAS_MT', 'TP_LINGUA',\n",
              "       'TX_GABARITO_CN', 'TX_GABARITO_CH', 'TX_GABARITO_LC',\n",
              "       'TX_GABARITO_MT', 'TP_STATUS_REDACAO', 'NU_NOTA_COMP1',\n",
              "       'NU_NOTA_COMP2', 'NU_NOTA_COMP3', 'NU_NOTA_COMP4', 'NU_NOTA_COMP5',\n",
              "       'NU_NOTA_REDACAO', 'Q001', 'Q002', 'Q003', 'Q004', 'Q005', 'Q006',\n",
              "       'Q007', 'Q008', 'Q009', 'Q010', 'Q011', 'Q012', 'Q013', 'Q014',\n",
              "       'Q015', 'Q016', 'Q017', 'Q018', 'Q019', 'Q020', 'Q021', 'Q022',\n",
              "       'Q023', 'Q024', 'Q025'], dtype=object)"
            ]
          },
          "metadata": {
            "tags": []
          },
          "execution_count": 4
        }
      ]
    },
    {
      "cell_type": "markdown",
      "metadata": {
        "id": "Fl11Rj4TgydG"
      },
      "source": [
        "Para entender o significado de cada uma das colunas, utilizei o dicionário de dados disponibilizado pelo INEP junto com a base de dados. Vamos começar a perguntar para esses dados sobre aqueles que não realizam o exame?"
      ]
    },
    {
      "cell_type": "markdown",
      "metadata": {
        "id": "CduRtWPqwzH8"
      },
      "source": [
        "## 1. Quem são?"
      ]
    },
    {
      "cell_type": "markdown",
      "metadata": {
        "id": "68i8Tx75walq"
      },
      "source": [
        "**Qual a proporção de inscritos que não comparece à prova?**"
      ]
    },
    {
      "cell_type": "markdown",
      "metadata": {
        "id": "KT_z1LvRBBAI"
      },
      "source": [
        "A prova do Enem é realizada em dois dias. Em 2019, as provas de Redação, Linguagens e Códigos (LC) e Ciências Humanas (CH) foram feitas no primeiro dia, Ciências da Natureza (CN) e Matemática (MT) no segundo. Vamos criar uma váriável única chamada `alunos_faltantes` que classifica como \"*faltantes*\" os alunos que não compareceram em algum dos dias de prova. Ou seja, a pessoa pode ter faltado os dois dias, ou ter faltado em um e ido em outro - veremos isso no detalhe mais pra frente."
      ]
    },
    {
      "cell_type": "markdown",
      "metadata": {
        "id": "aTAoWszFX9gB"
      },
      "source": [
        "Como não temos acesso ao motivo do não comparecimento, se foi atraso, desistência ou qualquer outro motivo, vamos englobar em `alunos_faltantes` todos os inscritos que não compareceram em alguma das provas."
      ]
    },
    {
      "cell_type": "code",
      "metadata": {
        "id": "H9NeL5Y_wX9C",
        "colab": {
          "base_uri": "https://localhost:8080/",
          "height": 402
        },
        "outputId": "7f104eaa-d92f-46da-a2da-5f9032effe18"
      },
      "source": [
        "#criando uma variável para identificar os alunos que faltaram em um dos dias\n",
        "\n",
        "dados['alunos_faltantes'] = np.where((dados['TP_PRESENCA_LC'] == 0) | (dados['TP_PRESENCA_CN'] == 0), 1, 0)\n",
        "dados[['TP_PRESENCA_LC', 'TP_PRESENCA_CN', 'alunos_faltantes']]"
      ],
      "execution_count": null,
      "outputs": [
        {
          "output_type": "execute_result",
          "data": {
            "text/html": [
              "<div>\n",
              "<style scoped>\n",
              "    .dataframe tbody tr th:only-of-type {\n",
              "        vertical-align: middle;\n",
              "    }\n",
              "\n",
              "    .dataframe tbody tr th {\n",
              "        vertical-align: top;\n",
              "    }\n",
              "\n",
              "    .dataframe thead th {\n",
              "        text-align: right;\n",
              "    }\n",
              "</style>\n",
              "<table border=\"1\" class=\"dataframe\">\n",
              "  <thead>\n",
              "    <tr style=\"text-align: right;\">\n",
              "      <th></th>\n",
              "      <th>TP_PRESENCA_LC</th>\n",
              "      <th>TP_PRESENCA_CN</th>\n",
              "      <th>alunos_faltantes</th>\n",
              "    </tr>\n",
              "  </thead>\n",
              "  <tbody>\n",
              "    <tr>\n",
              "      <th>0</th>\n",
              "      <td>1</td>\n",
              "      <td>1</td>\n",
              "      <td>0</td>\n",
              "    </tr>\n",
              "    <tr>\n",
              "      <th>1</th>\n",
              "      <td>1</td>\n",
              "      <td>0</td>\n",
              "      <td>1</td>\n",
              "    </tr>\n",
              "    <tr>\n",
              "      <th>2</th>\n",
              "      <td>1</td>\n",
              "      <td>1</td>\n",
              "      <td>0</td>\n",
              "    </tr>\n",
              "    <tr>\n",
              "      <th>3</th>\n",
              "      <td>1</td>\n",
              "      <td>1</td>\n",
              "      <td>0</td>\n",
              "    </tr>\n",
              "    <tr>\n",
              "      <th>4</th>\n",
              "      <td>1</td>\n",
              "      <td>1</td>\n",
              "      <td>0</td>\n",
              "    </tr>\n",
              "    <tr>\n",
              "      <th>...</th>\n",
              "      <td>...</td>\n",
              "      <td>...</td>\n",
              "      <td>...</td>\n",
              "    </tr>\n",
              "    <tr>\n",
              "      <th>127375</th>\n",
              "      <td>1</td>\n",
              "      <td>1</td>\n",
              "      <td>0</td>\n",
              "    </tr>\n",
              "    <tr>\n",
              "      <th>127376</th>\n",
              "      <td>1</td>\n",
              "      <td>1</td>\n",
              "      <td>0</td>\n",
              "    </tr>\n",
              "    <tr>\n",
              "      <th>127377</th>\n",
              "      <td>1</td>\n",
              "      <td>0</td>\n",
              "      <td>1</td>\n",
              "    </tr>\n",
              "    <tr>\n",
              "      <th>127378</th>\n",
              "      <td>1</td>\n",
              "      <td>1</td>\n",
              "      <td>0</td>\n",
              "    </tr>\n",
              "    <tr>\n",
              "      <th>127379</th>\n",
              "      <td>1</td>\n",
              "      <td>1</td>\n",
              "      <td>0</td>\n",
              "    </tr>\n",
              "  </tbody>\n",
              "</table>\n",
              "<p>127380 rows × 3 columns</p>\n",
              "</div>"
            ],
            "text/plain": [
              "        TP_PRESENCA_LC  TP_PRESENCA_CN  alunos_faltantes\n",
              "0                    1               1                 0\n",
              "1                    1               0                 1\n",
              "2                    1               1                 0\n",
              "3                    1               1                 0\n",
              "4                    1               1                 0\n",
              "...                ...             ...               ...\n",
              "127375               1               1                 0\n",
              "127376               1               1                 0\n",
              "127377               1               0                 1\n",
              "127378               1               1                 0\n",
              "127379               1               1                 0\n",
              "\n",
              "[127380 rows x 3 columns]"
            ]
          },
          "metadata": {
            "tags": []
          },
          "execution_count": 5
        }
      ]
    },
    {
      "cell_type": "code",
      "metadata": {
        "id": "Itnq74q67rtg",
        "colab": {
          "base_uri": "https://localhost:8080/",
          "height": 390
        },
        "outputId": "3a8c1bbc-e7d0-4658-ec12-4b40f738d749"
      },
      "source": [
        "#plotando as informacoes\n",
        "\n",
        "plt.figure(figsize=(8,6))\n",
        "plt.title('% de alunos que faltaram pelo menos um dos dias de prova')\n",
        "dados['alunos_faltantes'].value_counts().plot.pie(labels=['Presentes','Faltantes'],autopct='%1.1f%%')"
      ],
      "execution_count": null,
      "outputs": [
        {
          "output_type": "execute_result",
          "data": {
            "text/plain": [
              "<matplotlib.axes._subplots.AxesSubplot at 0x7f0603b06b70>"
            ]
          },
          "metadata": {
            "tags": []
          },
          "execution_count": 6
        },
        {
          "output_type": "display_data",
          "data": {
            "image/png": "[encoded data removed]",
            "text/plain": [
              "<Figure size 576x432 with 1 Axes>"
            ]
          },
          "metadata": {
            "tags": []
          }
        }
      ]
    },
    {
      "cell_type": "markdown",
      "metadata": {
        "id": "Srcuw-4d-zS0"
      },
      "source": [
        "De acordo com a amostra, observamos que **27% dos alunos inscritos faltam alguma das provas**.\n"
      ]
    },
    {
      "cell_type": "markdown",
      "metadata": {
        "id": "CUqOCtxSUTMX"
      },
      "source": [
        "**Quantos faltam nos dois dias e quantos faltam em apenas um?**"
      ]
    },
    {
      "cell_type": "markdown",
      "metadata": {
        "id": "zGJqegqjEK0W"
      },
      "source": [
        "Para encontrar esse número, vamos filtrar os `alunos_faltantes` e identificar se faltou em um ou em ambos os dias. A variável `alunos_faltantes_2_dias` pode ser interpretada da seguinte forma: se for igual a 1, o estudante faltou apenas um dos dias. Se for igual a 0, faltou nos dois."
      ]
    },
    {
      "cell_type": "code",
      "metadata": {
        "id": "ZzALYpCsUGCm",
        "colab": {
          "base_uri": "https://localhost:8080/",
          "height": 490
        },
        "outputId": "c4f95699-5ae6-439d-b717-f56c90848282"
      },
      "source": [
        "# filtrando apenas os alunos faltantes e excluindo os alunos eliminados para simplificar a análise\n",
        "dados_apenas_faltantes = dados.query('alunos_faltantes == 1 and TP_PRESENCA_LC != 2')\n",
        "\n",
        "# criando uma variável para alunos que faltam nos dois dias\n",
        "dados_apenas_faltantes['alunos_faltantes_2_dias'] = dados_apenas_faltantes['TP_PRESENCA_CN'] + dados_apenas_faltantes['TP_PRESENCA_LC']\n",
        "\n",
        "# plotando as informacoes\n",
        "plt.figure(figsize=(8,6))\n",
        "plt.title('% de alunos que faltaram nos dois dias')\n",
        "dados_apenas_faltantes['alunos_faltantes_2_dias'].value_counts().plot.pie(labels=['Faltou os dois dias','Faltou apenas um dia'],autopct='%1.1f%%')"
      ],
      "execution_count": null,
      "outputs": [
        {
          "output_type": "stream",
          "text": [
            "/usr/local/lib/python3.6/dist-packages/ipykernel_launcher.py:5: SettingWithCopyWarning: \n",
            "A value is trying to be set on a copy of a slice from a DataFrame.\n",
            "Try using .loc[row_indexer,col_indexer] = value instead\n",
            "\n",
            "See the caveats in the documentation: https://pandas.pydata.org/pandas-docs/stable/user_guide/indexing.html#returning-a-view-versus-a-copy\n",
            "  \"\"\"\n"
          ],
          "name": "stderr"
        },
        {
          "output_type": "execute_result",
          "data": {
            "text/plain": [
              "<matplotlib.axes._subplots.AxesSubplot at 0x7f06027b3908>"
            ]
          },
          "metadata": {
            "tags": []
          },
          "execution_count": 7
        },
        {
          "output_type": "display_data",
          "data": {
            "image/png": "[encoded data removed]",
            "text/plain": [
              "<Figure size 576x432 with 1 Axes>"
            ]
          },
          "metadata": {
            "tags": []
          }
        }
      ]
    },
    {
      "cell_type": "markdown",
      "metadata": {
        "id": "V-wIk1ekc1o3"
      },
      "source": [
        "Dos alunos que faltaram, **a grande maioria não compareceram nos dois dias,  representando 84% dos faltantes**. Os outros 16% faltaram apenas um dia. Podemos também verificar qual dia foi esse:"
      ]
    },
    {
      "cell_type": "code",
      "metadata": {
        "id": "khFFQaO2_X66",
        "colab": {
          "base_uri": "https://localhost:8080/"
        },
        "outputId": "a049e86a-2254-499e-8813-5aa7d8f7e950"
      },
      "source": [
        "# verificando a presenca por prova\n",
        "dados_apenas_faltantes[['TP_PRESENCA_LC','TP_PRESENCA_CN']].value_counts(normalize=True)"
      ],
      "execution_count": null,
      "outputs": [
        {
          "output_type": "execute_result",
          "data": {
            "text/plain": [
              "TP_PRESENCA_LC  TP_PRESENCA_CN\n",
              "0               0                 0.836569\n",
              "1               0                 0.157286\n",
              "0               1                 0.006145\n",
              "dtype: float64"
            ]
          },
          "metadata": {
            "tags": []
          },
          "execution_count": 8
        }
      ]
    },
    {
      "cell_type": "code",
      "metadata": {
        "id": "kBm3iR2H6rlO",
        "colab": {
          "base_uri": "https://localhost:8080/",
          "height": 390
        },
        "outputId": "d224c922-7024-4e28-f0cb-0546de9fdc03"
      },
      "source": [
        "# plotando as informacoes\n",
        "plt.figure(figsize=(8,6))\n",
        "plt.title('% de alunos que faltaram pelo menos um dos dias de prova')\n",
        "\n",
        "dados_apenas_faltantes[['TP_PRESENCA_LC','TP_PRESENCA_CN']].value_counts(normalize=True).plot.pie(labels=['Faltou os dois dias','Faltou o segundo dia','Faltou o primeiro dia'],\n",
        "                                                                                                  autopct='%1.1f%%')"
      ],
      "execution_count": null,
      "outputs": [
        {
          "output_type": "execute_result",
          "data": {
            "text/plain": [
              "<matplotlib.axes._subplots.AxesSubplot at 0x7f06027b3400>"
            ]
          },
          "metadata": {
            "tags": []
          },
          "execution_count": 9
        },
        {
          "output_type": "display_data",
          "data": {
            "image/png": "[encoded data removed]",
            "text/plain": [
              "<Figure size 576x432 with 1 Axes>"
            ]
          },
          "metadata": {
            "tags": []
          }
        }
      ]
    },
    {
      "cell_type": "markdown",
      "metadata": {
        "id": "dkdTXnaV-E8a"
      },
      "source": [
        "Já que é muito pequeno o número de quem falta o primeiro dia e comparece no segundo, contra quase 16% que comparecem no primeiro dia e faltam no segundo, parece que, **raramente, quem falta o primeiro dia comparece no segundo - menos de 1%, mais precisamente.**"
      ]
    },
    {
      "cell_type": "markdown",
      "metadata": {
        "id": "AJr3dInlggWO"
      },
      "source": [
        "##2.  Onde vivem?"
      ]
    },
    {
      "cell_type": "markdown",
      "metadata": {
        "id": "BRqoZaTk_myF"
      },
      "source": [
        "**Em quais Estados moram os faltantes?**"
      ]
    },
    {
      "cell_type": "code",
      "metadata": {
        "id": "gagUcaZoduC3",
        "colab": {
          "base_uri": "https://localhost:8080/",
          "height": 506
        },
        "outputId": "e141f6d5-6d1e-4b5c-ed60-b3946c8d3dc9"
      },
      "source": [
        "# plotando o Estado de residencia\n",
        "dados_apenas_faltantes['SG_UF_RESIDENCIA'].value_counts().plot.bar(figsize=(12,8))"
      ],
      "execution_count": null,
      "outputs": [
        {
          "output_type": "execute_result",
          "data": {
            "text/plain": [
              "<matplotlib.axes._subplots.AxesSubplot at 0x7f06022c1278>"
            ]
          },
          "metadata": {
            "tags": []
          },
          "execution_count": 10
        },
        {
          "output_type": "display_data",
          "data": {
            "image/png": "[encoded data removed]",
            "text/plain": [
              "<Figure size 864x576 with 1 Axes>"
            ]
          },
          "metadata": {
            "tags": [],
            "needs_background": "light"
          }
        }
      ]
    },
    {
      "cell_type": "markdown",
      "metadata": {
        "id": "JT8weEKlgo1M"
      },
      "source": [
        "**A maioria dos faltantes mora em SP**, mas normalmente também temos mais alunos inscritos de SP por conta do tamanho da população do Estado. Para ajudar a entender melhor se pode existir influencia da localização no não comparecimento, vamos olhar a proporção de alunos faltantes por Estado:"
      ]
    },
    {
      "cell_type": "code",
      "metadata": {
        "id": "7Ykw3LmpAH8-",
        "colab": {
          "base_uri": "https://localhost:8080/"
        },
        "outputId": "dbebf61b-b75e-4973-9a22-d274be922cd7"
      },
      "source": [
        "# explorando os dados de alunos faltantes por estado\n",
        "dados.groupby(['SG_UF_RESIDENCIA'])['alunos_faltantes'].value_counts(normalize=True).sort_values()"
      ],
      "execution_count": null,
      "outputs": [
        {
          "output_type": "execute_result",
          "data": {
            "text/plain": [
              "SG_UF_RESIDENCIA  alunos_faltantes\n",
              "PB                1                   0.219512\n",
              "SE                1                   0.224242\n",
              "PI                1                   0.224786\n",
              "RN                1                   0.238932\n",
              "AL                1                   0.248343\n",
              "PE                1                   0.248811\n",
              "CE                1                   0.253082\n",
              "MA                1                   0.256901\n",
              "PA                1                   0.268061\n",
              "TO                1                   0.268251\n",
              "MG                1                   0.268694\n",
              "BA                1                   0.274104\n",
              "SC                1                   0.274598\n",
              "RJ                1                   0.277666\n",
              "AC                1                   0.279070\n",
              "SP                1                   0.279955\n",
              "PR                1                   0.281612\n",
              "GO                1                   0.287723\n",
              "RS                1                   0.290340\n",
              "ES                1                   0.292157\n",
              "DF                1                   0.298588\n",
              "AP                1                   0.301815\n",
              "MS                1                   0.312387\n",
              "RR                1                   0.314208\n",
              "MT                1                   0.319283\n",
              "RO                1                   0.327857\n",
              "AM                1                   0.377660\n",
              "                  0                   0.622340\n",
              "RO                0                   0.672143\n",
              "MT                0                   0.680717\n",
              "RR                0                   0.685792\n",
              "MS                0                   0.687613\n",
              "AP                0                   0.698185\n",
              "DF                0                   0.701412\n",
              "ES                0                   0.707843\n",
              "RS                0                   0.709660\n",
              "GO                0                   0.712277\n",
              "PR                0                   0.718388\n",
              "SP                0                   0.720045\n",
              "AC                0                   0.720930\n",
              "RJ                0                   0.722334\n",
              "SC                0                   0.725402\n",
              "BA                0                   0.725896\n",
              "MG                0                   0.731306\n",
              "TO                0                   0.731749\n",
              "PA                0                   0.731939\n",
              "MA                0                   0.743099\n",
              "CE                0                   0.746918\n",
              "PE                0                   0.751189\n",
              "AL                0                   0.751657\n",
              "RN                0                   0.761068\n",
              "PI                0                   0.775214\n",
              "SE                0                   0.775758\n",
              "PB                0                   0.780488\n",
              "Name: alunos_faltantes, dtype: float64"
            ]
          },
          "metadata": {
            "tags": []
          },
          "execution_count": 11
        }
      ]
    },
    {
      "cell_type": "markdown",
      "metadata": {
        "id": "CTak7Ng8rQWq"
      },
      "source": [
        "Os estados que aparecem no topo da lista, ou seja, que tem **a menor proporção de alunos faltantes são todos do Nordeste: Paraíba (PB), Sergipe (SE), Piauí (PI), Rio Grande do Norte (RN), Alagoas (AL), Pernambuco (PE), Ceará (CE) e Maranhão (MA) tem porcentagens de alunos faltantes inferiores à 25%.**"
      ]
    },
    {
      "cell_type": "code",
      "metadata": {
        "id": "Px2uHLJxsTp5",
        "colab": {
          "base_uri": "https://localhost:8080/",
          "height": 537
        },
        "outputId": "cab4e3ce-616a-4ea4-bac9-be0ff4a188da"
      },
      "source": [
        "# criando uma variavel de proporcao\n",
        "proporcao_faltantes_por_estado = dados.groupby(['SG_UF_RESIDENCIA','alunos_faltantes'])['SG_UF_RESIDENCIA'].count()/dados.groupby('SG_UF_RESIDENCIA')['SG_UF_RESIDENCIA'].count()\n",
        "\n",
        "# plotando as informacoes\n",
        "proporcao_faltantes_por_estado.unstack().plot(kind='bar',stacked=True,figsize=(19, 8))\n",
        "plt.axhline(y=0.70, color='red', linestyle='--')\n",
        "plt.title(\"Proporção de faltantes por estado\")"
      ],
      "execution_count": null,
      "outputs": [
        {
          "output_type": "execute_result",
          "data": {
            "text/plain": [
              "Text(0.5, 1.0, 'Proporção de faltantes por estado')"
            ]
          },
          "metadata": {
            "tags": []
          },
          "execution_count": 12
        },
        {
          "output_type": "display_data",
          "data": {
            "image/png": "[encoded data removed]",
            "text/plain": [
              "<Figure size 1368x576 with 1 Axes>"
            ]
          },
          "metadata": {
            "tags": [],
            "needs_background": "light"
          }
        }
      ]
    },
    {
      "cell_type": "markdown",
      "metadata": {
        "id": "qYpEExamIcye"
      },
      "source": [
        "Com o auxílio da linha de referência, é possível observar que **6 estados tem mais de 30% de inscritos faltantes: Amapá (AP), Amazonas (AM), Mato Grosso do Sul (MS), Mato Grosso (MT), Rondônia (RO) e Roraima (RR). O AM tem a maior proporção do Brasil, com quase 38% de alunos faltantes.** Podemos elaborar algumas hipóteses aqui: é possível que exista um desafio logístico maior nessas localidades? como os estados podem melhorar o acesso dos alunos?"
      ]
    },
    {
      "cell_type": "markdown",
      "metadata": {
        "id": "bgqgZ0TBX8fz"
      },
      "source": [
        "**Os alunos fazem prova na mesma na mesma cidade onde moram?**"
      ]
    },
    {
      "cell_type": "markdown",
      "metadata": {
        "id": "o_zMzn_8JRz8"
      },
      "source": [
        "Vamos tentar entender se ter que se deslocar para outro município para fazer a prova pode ter influência. Para isso, vou criar a variável `municipios_diferentes`: se o aluno se inscreveu para fazer a prova em um município diferente de onde mora, `municipios_diferentes` será igual a 1. Se a residencia e o local de prova forem no mesmo municipio, será igual a 0."
      ]
    },
    {
      "cell_type": "code",
      "metadata": {
        "id": "aJ_1znLko_GC",
        "colab": {
          "base_uri": "https://localhost:8080/",
          "height": 402
        },
        "outputId": "54ea7d9b-6aab-4be5-fecd-8714495ac2b8"
      },
      "source": [
        "# criando uma variável que avalia se o aluno fez a prova na mesma cidade onde mora\n",
        "dados['municipios_diferentes'] = np.where(dados[\"NO_MUNICIPIO_PROVA\"] != dados[\"NO_MUNICIPIO_RESIDENCIA\"], 1, 0)\n",
        "dados[['NO_MUNICIPIO_PROVA',\"NO_MUNICIPIO_RESIDENCIA\",'municipios_diferentes']]"
      ],
      "execution_count": null,
      "outputs": [
        {
          "output_type": "execute_result",
          "data": {
            "text/html": [
              "<div>\n",
              "<style scoped>\n",
              "    .dataframe tbody tr th:only-of-type {\n",
              "        vertical-align: middle;\n",
              "    }\n",
              "\n",
              "    .dataframe tbody tr th {\n",
              "        vertical-align: top;\n",
              "    }\n",
              "\n",
              "    .dataframe thead th {\n",
              "        text-align: right;\n",
              "    }\n",
              "</style>\n",
              "<table border=\"1\" class=\"dataframe\">\n",
              "  <thead>\n",
              "    <tr style=\"text-align: right;\">\n",
              "      <th></th>\n",
              "      <th>NO_MUNICIPIO_PROVA</th>\n",
              "      <th>NO_MUNICIPIO_RESIDENCIA</th>\n",
              "      <th>municipios_diferentes</th>\n",
              "    </tr>\n",
              "  </thead>\n",
              "  <tbody>\n",
              "    <tr>\n",
              "      <th>0</th>\n",
              "      <td>Redenção</td>\n",
              "      <td>Redenção</td>\n",
              "      <td>0</td>\n",
              "    </tr>\n",
              "    <tr>\n",
              "      <th>1</th>\n",
              "      <td>Marabá</td>\n",
              "      <td>Marabá</td>\n",
              "      <td>0</td>\n",
              "    </tr>\n",
              "    <tr>\n",
              "      <th>2</th>\n",
              "      <td>Belém</td>\n",
              "      <td>Belém</td>\n",
              "      <td>0</td>\n",
              "    </tr>\n",
              "    <tr>\n",
              "      <th>3</th>\n",
              "      <td>São Félix do Xingu</td>\n",
              "      <td>São Félix do Xingu</td>\n",
              "      <td>0</td>\n",
              "    </tr>\n",
              "    <tr>\n",
              "      <th>4</th>\n",
              "      <td>Ananindeua</td>\n",
              "      <td>Ananindeua</td>\n",
              "      <td>0</td>\n",
              "    </tr>\n",
              "    <tr>\n",
              "      <th>...</th>\n",
              "      <td>...</td>\n",
              "      <td>...</td>\n",
              "      <td>...</td>\n",
              "    </tr>\n",
              "    <tr>\n",
              "      <th>127375</th>\n",
              "      <td>Cocos</td>\n",
              "      <td>Montalvânia</td>\n",
              "      <td>1</td>\n",
              "    </tr>\n",
              "    <tr>\n",
              "      <th>127376</th>\n",
              "      <td>Barra da Estiva</td>\n",
              "      <td>Barra da Estiva</td>\n",
              "      <td>0</td>\n",
              "    </tr>\n",
              "    <tr>\n",
              "      <th>127377</th>\n",
              "      <td>Salvador</td>\n",
              "      <td>Salvador</td>\n",
              "      <td>0</td>\n",
              "    </tr>\n",
              "    <tr>\n",
              "      <th>127378</th>\n",
              "      <td>Simões Filho</td>\n",
              "      <td>Simões Filho</td>\n",
              "      <td>0</td>\n",
              "    </tr>\n",
              "    <tr>\n",
              "      <th>127379</th>\n",
              "      <td>Belo Horizonte</td>\n",
              "      <td>Belo Horizonte</td>\n",
              "      <td>0</td>\n",
              "    </tr>\n",
              "  </tbody>\n",
              "</table>\n",
              "<p>127380 rows × 3 columns</p>\n",
              "</div>"
            ],
            "text/plain": [
              "        NO_MUNICIPIO_PROVA NO_MUNICIPIO_RESIDENCIA  municipios_diferentes\n",
              "0                 Redenção                Redenção                      0\n",
              "1                   Marabá                  Marabá                      0\n",
              "2                    Belém                   Belém                      0\n",
              "3       São Félix do Xingu      São Félix do Xingu                      0\n",
              "4               Ananindeua              Ananindeua                      0\n",
              "...                    ...                     ...                    ...\n",
              "127375               Cocos             Montalvânia                      1\n",
              "127376     Barra da Estiva         Barra da Estiva                      0\n",
              "127377            Salvador                Salvador                      0\n",
              "127378        Simões Filho            Simões Filho                      0\n",
              "127379      Belo Horizonte          Belo Horizonte                      0\n",
              "\n",
              "[127380 rows x 3 columns]"
            ]
          },
          "metadata": {
            "tags": []
          },
          "execution_count": 13
        }
      ]
    },
    {
      "cell_type": "code",
      "metadata": {
        "id": "-mKijJytqste",
        "colab": {
          "base_uri": "https://localhost:8080/"
        },
        "outputId": "0d170467-7262-48a9-9f64-32b90d914645"
      },
      "source": [
        "dados.groupby(['alunos_faltantes'])['municipios_diferentes'].value_counts(normalize=True)"
      ],
      "execution_count": null,
      "outputs": [
        {
          "output_type": "execute_result",
          "data": {
            "text/plain": [
              "alunos_faltantes  municipios_diferentes\n",
              "0                 0                        0.833008\n",
              "                  1                        0.166992\n",
              "1                 0                        0.823678\n",
              "                  1                        0.176322\n",
              "Name: municipios_diferentes, dtype: float64"
            ]
          },
          "metadata": {
            "tags": []
          },
          "execution_count": 14
        }
      ]
    },
    {
      "cell_type": "markdown",
      "metadata": {
        "id": "ObaSHVuKKQTQ"
      },
      "source": [
        "Olhando os dados acima, as proporções sobre fazer a prova em um município diferente não parecem variar muito entre os que estavam presente e os que faltaram. Para facilitar, vamos olhar graficamente:"
      ]
    },
    {
      "cell_type": "code",
      "metadata": {
        "id": "sNKfUN85J7zj",
        "colab": {
          "base_uri": "https://localhost:8080/",
          "height": 418
        },
        "outputId": "c7f8644d-3f2d-4341-af90-d0787c3dffe1"
      },
      "source": [
        "# criando uma variavel de proporcao de municipios diferentes\n",
        "proporcao_municipios_diferentes = dados.groupby(['municipios_diferentes','alunos_faltantes'])['municipios_diferentes'].count()/dados.groupby('municipios_diferentes')['municipios_diferentes'].count()\n",
        "\n",
        "# plotando as informacoes\n",
        "proporcao_municipios_diferentes.unstack().plot(kind='bar',stacked=True,figsize=(6, 6))\n",
        "plt.title(\"Proporção de faltantes por estado\")"
      ],
      "execution_count": null,
      "outputs": [
        {
          "output_type": "execute_result",
          "data": {
            "text/plain": [
              "Text(0.5, 1.0, 'Proporção de faltantes por estado')"
            ]
          },
          "metadata": {
            "tags": []
          },
          "execution_count": 15
        },
        {
          "output_type": "display_data",
          "data": {
            "image/png": "[encoded data removed]",
            "text/plain": [
              "<Figure size 432x432 with 1 Axes>"
            ]
          },
          "metadata": {
            "tags": [],
            "needs_background": "light"
          }
        }
      ]
    },
    {
      "cell_type": "markdown",
      "metadata": {
        "id": "-EYhIATQQ0CS"
      },
      "source": [
        "**Fazer a prova em uma cidade diferente de onde reside não parece influenciar na presença ou atraso do aluno**, já que as proporções para os alunos presentes e faltantes são muito próximas."
      ]
    },
    {
      "cell_type": "markdown",
      "metadata": {
        "id": "RZHIdbuGSnUc"
      },
      "source": [
        "##3. De que se alimentam?"
      ]
    },
    {
      "cell_type": "markdown",
      "metadata": {
        "id": "anBpOYDJSr8f"
      },
      "source": [
        "Ok, a gente não vai conseguir saber os estudantes almoçaram no dia da prova. Mas existe algo extramamente importante de saber (e que, infelizmente, pode ter influencia na alimentação das pessoas): vamos olhar agora para a **renda familiar dos estudantes**."
      ]
    },
    {
      "cell_type": "markdown",
      "metadata": {
        "id": "gkh5P6gIMtpZ"
      },
      "source": [
        "A renda familiar foi a pergunta Q006 do formulário de inscrição e classificou os estudantes nas faixas de renda abaixo, iniciando em 'A' (sem nenhuma renda) até 'Q' (mais de R$ 19.960,00):"
      ]
    },
    {
      "cell_type": "markdown",
      "metadata": {
        "id": "QDZGP1NKyqIY"
      },
      "source": [
        "![q006_enem_2019_.png](data:image/png;base64,iVBORw0KGgoAAAANSUhEUgAAA1QAAAH8CAIAAABZ03mgAAAAAXNSR0IArs4c6QAAAARnQU1BAACxjwv8YQUAAAAJcEhZcwAAEnQAABJ0Ad5mH3gAAP+lSURBVHhe7N0FYBNn/wfwizdJvU3dBXd3d/fh7jCcYWO4u7u7S0tLgQJFalSou6Rucbe7/yU5oC3sZfYfK/w+2ztyv/MnfblvT55DAAAAAAAAAAAAAAAAAAAAAAAA1GQk4k8DDMOIT+BfJJfLu3btumLFimHDhhElAACoaubMmR4eHqtXryaGwT9h0aJFbDZ7y5YtxDAA3y8S6VPkIxN/AgAAAACAHwCEPwAAAACAHwiEPwAAAACAHwiEPwAAAACAHwiEPwAAAACAHwiEPwAAAEAlyE1KTMzhqYhhBJMWpWdn5fI/Fv4wNT83OS2ZK1ATwzWPRsBNSUvM/tQY4DsD4Q8AAGomWVFSZHBkaqFYSxTA31D+7uLGJRNXXXpThBoLmnT//WdOXo4qMw7+Cbyoi5v3bLsSKyaGax5JwtVtu387G1FKDIPvDYQ/AACoibCKsCu75o+cu+tOaAFRAn+DTq1CRbEhAc9fRwgMBZJWIZFJZWpjFlTx89NiwsLDw8Ni0ouIuK0RFxeX5BUU5mfEheGj4nKLxRp9HdPIJTJhWWF2aeo7fT2bqGslxTncnGJibq2kKJubXSxFETW/oLAgOyc7KyU8LDwyNV8gFlbkJIWGhkUk55TLjevXioqzYsPCIiIjIyIik3PLFNW75UXlvApBETcrKyX0TVRyToUC3z5hYQY+D77NsWlFIsMm4NtcUlyaV1BUkB0XFhoe8XHb9KSlucnhYaHvkksy83lSuUSuMaxEq19MeLhh1RFp+RXEFoGaDMIfAADURHG3zj7hiWx5GSkBT8IlRBH8ZahG4zpgaBcmreDR4/eGColsQME/KjMeHFwya9TAESNHDBgxc+3ppxlyvFocvOu3RQOmL1q+bNKokf06dhm/8tjzYrxOJjOYkozQK+vmjB2hr09acSRYXy8L3jl9wfSdL0rwzwhSGrx1+oLJu18JkIxba+eNGTB51oolo/t1bN1/0vwtBw5sWjBiULc2A2Zuu5eGT6vKeHhy2YxBvUf8NHr0gC6t+4xeeCO2WvpTJNzat2f2xEkL5vYfNGXjmeCE4qygo8tnjRw4auSIgcNnrDwelCbDJyt7fWjDgj5TFq1YOnnUT/06dh2/ZP/TIsMCNNHXNs4e3WXgiOFjZ609/y5Pa0Kn4hFBnRN48OcJg3uPGDV6dP/ObQZMWHolBoUXQtR0EP4AAKDmweLCo/iOdRcun91EKkxISNUf18Hfo1VK3ToM9zE1z333tBRB8NBHwv+lMBDx071b75c0XBVWUZBfwAtd7Zp9Y8/plxLEjG3OS0mWOvbe9Cq/IP/lKpeiJ1fvxaIIjUJG8zIYvqPWh3AL8kNWOZc8vXYXr5vQmaZsUyZdHyfxwy+NxWabsvAhBptVkU5z77fiYW5Z2MFO/BuPs6xnBRRVJFzpb1v8+GkMIk8MCZO7jLxbXJibnV0acaSXJvXunaBCw2I+oDKZvLBiSqvJpwX8hOube8qu7bya7bXkbUV+fkFFxIbahbd2HX/GR9hMU2F6isS6428v8/PzX//mzXt2+eY7DSJ+cfD4U3GDX1MqivLebB3bUB2dilKoVET6/nk46jXxZn4BNzu7PPpkJ0nM7WsBecRKQU0F4Q8AAGoajeDdm2i1l0v7PiN71DORFkRHxPJ1xDjwl6FaFbNej64uVsKkF5FqBYVKIpHw/CN5FxJRlFmhLk54/uzJ0+BEEVmWUxj7/C1ff7awTq/23bs1MkcQtkcdJwZHUMITI2SdWlO7V1u8bobX3Y11vgghG16v9eEVW/pkaRzAtDpGQ2/vBh40hOboae8z0tOzjhcDQUwtzZUkcVlZOav51M2/7pjsWZ4cHhT8Mq5EgNpTiHk/0em0Lr6e9Wp56QcK370Jy0sp05UlGbY5jkdS5JXEPn1Thuk0Wt/ubXr0bmqBb5trLRe2g6BcLBJFvYqWa9w6d/DEZzat37t3ryENqSqVGjFtOXHdmu0TawtTI58Ev4wtlFBdyGQ48VfjQfgDAIAaBi2NDA6VUm3bNPKybNimjZMwN+LlOy4xEvx1qA6lcmp19RRJMgJfpMipdDz9USS8UoGKmxL58Mym9es3bFi34cDjRLGcaUVSSzEUo5mYMEwMM1OoFISMV1A8zaEYlckw+VgnUfElo0ilV6tWgaIoh2PlaGupHyCRHB2sHDnEZwzfJoyEYGJeQdKLq4e3r1+0euPRmyFJZYZLslWgKGZtY8mx0q9Eyy/jK3PTYvzOEdu83y9OKGdZU/TbjNKYDAbTMI9+2ygYhoj5pWUk1MzZiWMoI7b2Lg4cB53+ff9qMT/7/ZPrR7ZvxFd96NrbdOHnqwY1DnyFAABQw2S9ffEit1xIlnKjo9+rWQ4WJTnPg6OS4KHfvw1PbQji2GucO4Wc8PJpAcqkkjAqgqnMWk/advf1i1dv3r558/pN6LvY4KOLezvQ8HCEBzd93DPMbPyDSHgoVqmOGU7yYTj8T5LxwEumkMkfDsEYBa8asiG+SDI+ifGz4dwgmYkU+e9e0L/RqKvypktCIl6+Obd8eCO5Svt5lNQv3FClkFCVWYuxG29/3OawyNjnJ1f0d2HgE+m32bixxB8IlUIh6xCdVkcMIzqdDlWTqUykIODg0gEtJ52oqDU9KOLFqwsL+tWSq3WfrxrULBD+AACgZkl94hdXlJSR8fjAslmz5s7d45fJj0yOfvbmnf4hBPD36OMQqW7fLmamotDnoXwNBbNwq12brs56/TKaeCxWlpccH5NWrvtzB1B8wTQanSzTyqTG5Yh4ggohQuQ/fOyH3PUZamZiVJl1s/3B4UcX97JD1O8T0rKLdaj241O6nyO51Kptgua+eR5B9DWoKEhNiE4p0yCkD3nvEwzVmrnUqsUmlSS+TzCW0lNj4zOLGQy6KDW21KrlwVfvz6we4opoU1JSMr+yalAjQPgDAIAaJS00Wmzd8tfTASHBT588ffrkSfCtg4taavJSEjPhsY+/DsUjjVZruNKJIJx2PzW2c5OlhBVoURW5xeAxzTn5D45sPHLvxYvg84f37Dh69mUGDyEbZyFOl+EZSoP/g+IxDtVpDMsy1A0Lxgc1CNunXSsmJSfozOWXIU/vPQ7NLRKy9OcNUZ0WpzM8Q4svRf/ZsBmYTqefU8N28zBRi2L9Lr18/vzOpVP33iZzU3Vl+cVVwz6+UsOchgHLpv1+aulS8ujI+kN3n78IvnB4785Dp5+llRu3WaPTGc9K6rdZo1GplOTGfUe1cpMGn91x6fnL+xev+EfGlunP/5k6uzG1wshbF1+9DL535eS916kF2Wgpt1CKqMozUpLf5wqN6wM1DIQ/AACoKfRX2+Jfvi4yt2zesYUbw9TK2srK2tq0bvdRPRwpOZERCSLjdODPM7F293LztGMTVzQdm3bt3een5h72pnih1oBZc0Y1RsJOb1+7ds3Bp2i93lNHt7NDMAvX2t61XCzphjmoFq51vGu7mJMRqqVzLW9fF0uaoU6zcq3lXdvVHF+OR6+JEzt7CO7sXb7i8Gs+p+3wES0d8BUyOJ7ePp52htvwaJaubvhmEJ+dfb1rOTNd6wwY1baB5sn+VetWbX1a7NZ7+rJBLS0RTZXwR2JzvN093KyMK0VMfHtPnzuuBT3i7I7f1q45EKT06jltQkcnBLFwqe1Ty9Wa2DZz11q+dVwtSAjJp/f0OYPqa4L3rlhxLkbMaTupb207Jkqp239Eq3pyv4MrV6/ZHJBv32XumqGtrEioCpFkv30e7B9VCDcb1EhVLtxjn58OBv//5HJ5165dV6xYMWzYMKIEAABVzZw508PDa/Xq4WcXHS3wGjjp527ulf7+1qVeX7M2mNx/xuLJrYh79sEfsGjRIjabvWXLFmIYgO8XcUOoAZz5AwCAmgJFEN+p+/f9tqBK8sNR6ozefuvUVkh+AIA/AMIfAAAAAMAPBMIfAAAAAMAPBMIfAAAAAMAPBMIfAAAAAMAPBMIfAAAAAMAPBMIfAAAAAMAPBMIfAADUDFQqlfgE/iF4k0Krgh8QdPL87UEnzwCAr5o5c6ZWq50zZw7+NwZRAn8Pi8XasWMHk8lcuHChTAavxgPfuS5duhCfIPz9F0D4AwB81YwZM549e9ayZUu1mnhXP/ib6HT6u3fvqFRq06ZNoVXBd+/BgwfEJwh//wUQ/gAAXzVz5kxbW9vffvtNKpUSJfD3mJqaLlq0iMVibdu2TSKREFUAvlMczqcXAEH4+/Yg/AEAvgoPf15eXitXriSGwT9hyZIlbDZ706ZNxDAA3y94ty8AANQ8KIoSn8A/BG9SaFXwA4LwBwAAAADwA4HwBwAAAADwA4HwBwAAAADwA4HwBwAAAADwA4HwBwAAAHwFhqE6rYYYwKkFOfFvgiOTiiR/tZcMVFRWXl6mJIYA+DdB+AMAAAAIqJKXlxabmF0s0RIVPPgp+Xnx8Ul5PAVRwGU9vrJv+dqzT9MqdETlE3z6wrT34ZWFxmYUCNQfciIqqyjK9jt74OiRA9fCcouFX0qAqKKcmxIZERoWFprELZZ+fCS5cj23WPoxelarf/kRZq2oKPN9eGhYeEx6Ib9St9Z4PYuo45tJFMGPAgPfgkwma9Wq1Z07d4hhAAD4zIwZM7Zs2WL4qObnZyVH4d59kJbPV+oM48CfsnDhwtWrVxMDBlz/jSO8EMuuiy+8VxIlTBt7bOLIMTPPxqNEAcPygracOLE/tIwYrEodc2ZmB1vEzMnH28tTz8vV3K3ThJ0B2Qr9aJ0q/MovwztZWplZW5mxPLuM3nI9UWiYsRJ1xNlFA1taOrp7uZo2HzztxOsSqcZQjzy3aFBLiw/1Y3hdi5dRVeS5JYNbWeN1N9MWg+eeesuTV/uJQLWKLL+9U/rVd3L1cPTuPG7DjVS+XF/XKbL8907t19BYH7teX/+0p+C7QUQ9AzjzBwAANUvxg18nD2rRsd9PkydMGI8b2nPCwh03o8QqYjz467KCH76TaD3NlbyQ56HGV6moJZk5+WXlZSUpqallUv35QCUvLp/UxMW1DcZNLRRVuhZMIOk06pbj196Oy8jMytbLyojd1hCNvHz7bTmClL7YsesW12XRxaPHjh44fuvoZFdxWNC7MmJeA03+0217j8SbjfKPy83KTVztXXh1w+abSQhSFrxjz5F49ij/97lZ3MTVPkXXNmy8Ho8g4sjDu06FYwNuxuP194ud+EEHT4dWWSSClYQeXLP1rrDdobi8nKQbg8lv92049roUQXihh37dclfQdt97fX0INWzf+iMhhcRc4DsF4Q8AAGoWEpXGaDJk2TH/mPCwsNDQN0+Pd5a/vXb1XjzcP/Z3Zb9LEZt7zlo6v51OmRafJMNL6uL3IW/C4xMSYvwCnrzmSrSipMALJ04c3Hfs6Nb1G7cduBqc9KULpRiq03xK4wyvtp2cOBaZOQU6pDw3S46QvD2cLFBUJ7VtP2nzb5tmd7IlptRDs98FRmk5zUcMasvBD9Pu/X8aXttcGB4VFfc+OFpr22zEwHZ2+I+Bvl7XXBQaHqPWKkRSU7KVo60NPrutnQONTRXJK12kxgly3meS7Gv37tEUX5VV82HD2zS0ykvNVWvyEjIQ+1q9ejbD14XXh7ZtZJ2XjG8i+J5B+AMAgJqGRGKYWds70y0sraytbevU93Uzs9SqMDj19zelhUVKbDkdRk4c2sRcVxofGSdGELp7xxFD+nfq0LHbzGmTh9dHQy+e8Muw7Lflxp3bt65u7E9NuXf+bmQFsYBPSGQKlUZ81hMIpWItlUqlINY+XuZMYdLr0MS0tDyBSIXQWWYseuWDsVzC52GIqZ2DrbHKcLC3Umn4Rdx8sQBBTO0/1u3trdSairwykbVni3aOLsq0sPvxsSHBcSXmtrUau1oZJvqgoiRbx6bXaeBtaRh0dHIloaSC0qLysly8Xre+t3FyB2dn/L/5xVVPG4LvDYQ/AACoWUj4P5LizPiItLjY2JjoqDv3H1Fa1R/Yp5UFMQH4S6RvHj0pVrK7dPY18+nWy02a9+rh8xz9CAtzUxaTyba2sUDK3j58lJWucrY1Lc9MS69ge/vQuTmv7j3LNCzhAzKFIivnJkenJcXFxMYlJSY93H3odlqJedfmngji1HnO/C6Nio7s3r1v06Erxw5ciCkuFlQ5aWtq7+Si0xTGJ2cbTymKcnK4qQU6rbm9iyuqKYxL+VjPzsXrOvxA7t5z/vwBPsL7i/oNnnIs2brV6PndapsbJiII+eU8Pp/MoFGMw3g4RXhiQUVmFl8g4pEY9A91CgUpF/NKK+Cxj+8ahD8AAKhZSAiKZgRf3Dh72Ogxo8eOHb/y6Mt7L7ipGUXEePCXCCLfhuaVlZOEOe9j3/MptjYiYfTrd/pUh6H4P/p/EaSCJyenRTzY+fPAIcNGDh88YOzuwIIyE0eGpkpWotBNMkOub503bNSYCcN7tWjYYPDyzAbDd/82oqGpfjSnw8wdD9Nirv8yqU5exOmlQ0YsP/qUb5iR4NpoUH8HJPLa4W1XY6Mjn9wLjEzPUlBVmHuDAXj93bUj+vq7oPuBkRmZShYFkefdWTN+6SlZj73pBXnZd6awnuwc+dvlKGJpBjQqjUqnVbnpH6NTqTQWi4rXkcojMDo+aZXTluC7A+EPAABqFhQhkxsMWXz0UWx4eHhYeOjLO9sH6CKf+wenwHXfvy7t+eO4ouxyXsKdPes3rP/tzJt8SXphWvDLGBVCJRmm0OcjKlnLbDZq1fnncdERYWFh4RH4NxC4/+cBtemGSQhapaJe/zkHH76PiY56emv/vC7Ne3g6e3GoVZ4NkUlsWo3acDvw6nQHekpEVAlRNnBpPW/trpVd2GFX127a+kzkVK/j9DYcNp1h2mimvm6G1zdueSbU19s6WzN52bEqN/v+w7rVY+Azmzfv1snCWhARE19pfWxbe3tTa6pcRfRMo1UrKFZMW46PJ8eWaUORqYmebbRqJV7nONgZ9xl8pyD8AQBATYNhVKaZpa3+nj8rK2vntt26+jDoxfllEmI8+DMMMScr+lWq3Gns2su3Lp8+ibtw49zOsQ106THRKYaJEBJZnwGdPN1NqOKCQj6VZWFtbW3FVvHKCsql2qrHUgxDaSamljY0BpPp3WnW/GWDHRMvH97ll6DEo7uIm5qSVKhEMIqJqbmtub2VOR1haqv0FqiTlnNVdu0mrbt69erFs2v6u9JFVJZjyzoWOoG+PnHt1WtXL539dYAbXUhl2TWv44FQNUq1WKwwLkUjlyvlOor+BsNPbBx9qFptxodHOTJSM6QqkruDnZWdFw3VZSRn6p9uQZD01HSZiuzpbGcYAt8rCH8AAFDjkEhkMuXToV0pwxhUFpsFl+r+ApI+/L0PfpZIobTo1cGbaW5rZ2dna8GsNXBkbzfznBdP3pSS2CxEWpqUnC03bfPT6FqUyJNbNlwJTUtLfXR0zc+Llp58nVPlnKv+SV+NRq350E10nf6TZ4+ok3l7/44zobLMiFtbl05duuvK64y8rKysBxduvpLw7Jr5VH7cV5oRvGfD6jXH/ZMLivOTA6/dTqCathzcxUGVFLR34+pVJ/2T8ok6hdWsf1uOtW+PuggSfP7U2ecpSQn+524+5+m8uzavTUa0wuLCwjy+AkHManXsY6squXf22P30FP+DR2+llpt3buGDkDzb9bZRl947d9xQP34rrdSiU5s6VARRiwrz87PLpZ/3Yg1qPAh/AABQs2A6jZqXmxL9Ji4yPDwsNDTowIUHikYNR/VtCU98/AUkCoJlJmZYNms0bmBLR6Jo4NOyRwNzk7z3eRbt+jcwLzpz5sjpVyKfgeu3LO1OC1w5tl+/3rOv0rvNP7RpiOFy60ckUztvdw9Xy0+Xgl3bzfp5+Rir0IAbl/ktlh35baZn7OZftx48cHjHnvv8FjO2/jrKF09bH1k0Hb1uVm+fpO1TBg0YMmU/t/GQZTtHNTRBGI1G/zard63E7VMN9ZyGg5fvGt2IiSDOHRbt/nWGb/ruWf2GDJ1zTdNixsFfRzfFfzuoeHds3771VyMqEMS01tAtexf2ogf80rPfoqvqjjMP7BjdxBRBWLWGbt6zsDfDWFe1m35w+9gm+odFKqKuXjx/ODBFbNwo8D2pclW/WgfQ4N8hl8u7du26YsWKYcOGESUAAKhq5syZHh4eq1evRpDyJ7u2XbwXU2ZjwSShKEbWqVw7TJowbnQrdwrcqPXnLFq0iM023bJls1Iq0ZLoTDaj8pVSTKeSSVUYnW3KQBVSiQylm7LZTBpJp5bLZQo1RkIwEoNlymLSqp1HwedT6kh0E9anEZhWJZdKNBS2qRmTqlUqNbqcl/cTxZhLp1HNbSn0Dw/hfoRplXKZ4Q49jERjstkfOoP5WMcw/fZ+rBtGyOUqDYIhlUZguf43wni0WkOHN9fnOVSjwLdcpcPI+CQs1odHfL9cR9VyhVpHMTE1IW56BDUbyXCS2wjC37cH4Q8A8FWVwh+qkkplcqX+MG/4OxtD6KYW5mwTiH5/miH8sbds2UIM/6u0ajWKUOlVuvj7pykSgyPKtKaNerWwhZ+OH13l8Pf/+UMHAADgn0dmmJpb29nZ29kbOdhbmULyq3nw3Pf/m/xwzAbdu3TrDckPVAPhDwAAAADgBwLhDwAAAADgBwLhDwAAAADgBwLhDwAAAADgBwLhDwAAAADgBwLhDwAAagYqtXJHwOAfgDcptCr4AVV5/Bv6+fsmoJ8/AMBXzZw5E/8r+ueff8b/xiBK4O9hsVhbt241MTFZunSpTGZ8tS0A3622bdsSnyD8/RdA+AMAfNX06dMvXbrk4eGh1X54ZSz4e6hUalFREYVCsbe3h1YF373s7GziE4S//wIIfwCAr5o1a5aPj8/y5cuJYfBP+OWXX9hs9rp164hhAL5f8IYPAACoYfBfzjUaDTEA/iFqA2IAgB8GhD8AAAAAgB8IhD8AAAAAgB8IhD8AAAAAgB8IhD8AAAAAgB8IhD8AAAAAgB8IhD8AAADgX6MSy2Ti76JXQQzVEZ9wOgWvIDMlu4AnR4nKn6aSyWUS6G/xXwH9/H170M8fAOCrZs6c6eHhsXr1amIY/BMWLVrEZrO3bNmCHwCVwpLiolK+whhoMBRlcNy93OzYf/wciYJfVFxUIlR/OJbifzKsnVxdnCzphmFEJSzPfXLyQKSQ5DNs2eB6bo4WFOOISlS8wtycYgmCIab27q4unA/rV/ELc7OJupury8ftUvGLcrOLjHVXF2d7088XieikZdwcboUCMbFxdnP9uDkEjbiEL8WYNo7mDKLyVWpRSVpehYm1o6+zjbGijb+E/3CeUo7as2X11NZE8SOVuLSksKRC/iHZYRjJxMYBbxkLmmEYVQp55a/OHwsvEXqMWjusnq2tmXHE57TScr5Yw+B8mPXLNJLScqGaYeNsw9K3E6oSFOfnlIhQFDGzd3V1s2PpF1SSn8ctl1Mp+iBEouB/YiYWHDt7ZyumYRkf6GTlBbl55XKUYe3s6u5k+eF1gL9X/8+q3M8fhL9vD8IfAOCrPgt/WmF2ajp+PENIZAwzcfCtV8vdqupBHXxVpfCniLu4cufJp2kMH0emDsXzgkDNad2z/+TJA+rbsb8QqD6nCT+9ePfxwBzzBo5MLX40JZFUZWLTVkOnrVkw0JGC55Hwu/svXbv2IoVKRrScxh36j186e0Bt08rhUieNvLz9xJWH6Qx3k1KyY5t+E9ZO6skx0dev7Dhx+YGx7tSm37i1E3tymCStJPLq7lNX76fS3PC6c9dBE9dM6mZeNYVoxKmBF09deRAhoZHVpnW6DZ41/6fmH6dRCxL9dv0SKGg8cMm2wb5E8WvQtFsr9z+Rtf754ORGRNOUvrsUFMe3776whwdiSFOVqZNvb9hz6G4M2deFrUMxPHmoBCqbxv0mLJ83wJOByHmhD49cuH87NAlBNSSXZm16DpwzbVATKzYxeyWK7IADax7ku/dfuX2QK1H7HFb++uDSfa9ovX7ZP7u1GZ6Pw27sP3bjIZfkRBMw3Zr2GrdibHdXNPn2qSOHAzPZJlQShaYR5KalZTkNXLv+t+W93D/tgIKf9OzKqVsBsTw8IlnVa99/zoyhjexYJCU/6em107f8Y/A6alWvQ7/Z04c2tmdX3/P/FOjkGQAAajJUxst7fufo/j3rd+3cuXPHznXrtx85/zhZCp1A/w1qcYVFva4Ldl65cPbUqTMXrh1fUlcatH//qceZiPG8iIqflxYTGh4WGvY+o0D4ha6hNQqJZaM+c7ZfPn36FP7v2Ytn9o53ESUG+0dLEUQSc+1SUC5zwPJFk6dOn7pkZhszaXREqoCY1YgXefny9SS069bj166e2z/CseDJxWOBGQgifnfl8vVEXZctxroDXj8amIn/ApB6/+KtSHGrtSduXL+we4B5cdi9W3HVXv0sjr914syzsrrzj9+6dWx5Syzm1qVrMWL9GIWgNC/y8tFDx84HRpcpVZUu4VaiFhVnRb8NDQsPDw8LT8wulmEIJs9OT0rNykxPSMngyfSz6aSZOXwTtnU9E0FmIV9hnLMylYRn6tVmzo6rF/G2PXX63KXzW0a7SmIe3g3HG0AW/+DOoxRqt4ULps6YOmbO1C6Wwug3iRVVz0bp5Lyi3PBrJw4dO30zplyLJ8jfVx7/yv/B04gShUarTzuiqDu3L79TNV6z78ylc9uHORf7HT3wIF7O8u0/Y/1lfINOn714+sjiUZ28fRo26dCxoVPlACdL9Lt44mGuw6T9566eXNiaEn3hyMUIPoLIk/wvnXiQ4zBx37mrJxa3oeL1SxFlNej/fxD+AACghpFnPT7+y/p7kmbzLj9+GhTw+Mn55c4ph5b/ujc4l5gC/Gn6Qz7d1NLBxczazsnJ3tayYd8500b6CuLuPQ7FE4pOmh5yfv2yicPHjh0zdvqqbddC89TVAwiJRDYxtbJzMXNwdHJ0dLKzdu8wqK8zGwmLTUcQbnJ4gYJUt22HOrbWluyGQ5fsWbdufPMq10dzX9x/VMioO3T6gPqmZi7tJkwYxFEnPwhOTgsLDCyk1R02feCHup0m+cHTRERRkZ1LweybtK3HYju1a+xLZSjTioXE0owUyVERxUz7jiMHNWCz6/eeMKKhKxYWlqzCY13qk2MrZy17UECu1bCJE0L+0kkrbWHIjS1LRw8eM37ixBH9O46evd4/VZ716uatGwFv3jw/c/bk1fd4EioJv3F085IFy5bNGjdh3pqTT7if37dHQmhsC3sXvHWcnJwcOdYuXXp3d7OkhEWnK5C8zJhCEdqgbad69hxLyyZDZ+7YvGNOe/dKp6lwkoTHx5ZNmnc9XeLcqLkzqj83+zvKwx+HJOao3Fq4IjoSFd+6yOBnBWqf0bNHNrO3ce04YvhQD0rOvYBQHo1pwXFxdnZytLfWJUWFldPb/bpySlvHyleT1TkJsUWYTfeRg5vaWdXpPWJw89rkyIgUiTo7JaYYs+w2fEgzO6u6vYYPaVGXHBmeVE7MVgNA+AMAgJpF9Ozi5ShG1+mr5nbSX5+ikBHfXr8sntqelROfnA4n//4GDEV1lYKLZf0WHUxV8vDobKn4xaFNR97bT31WnJ3Dzbk1lh52eNXBp4WfpxwymVL5GjGfL5NqTVgMBHGpU8+UXh77JDgpKyNPKJDggYhcNXBpeWU8OmrlwrEmChx7WyXC42ak84UM1MrJ9kNS5Djg9YrcAoFZ7badzGxKX/n7Z2ZEPHiVwGQ4d6jtQExlVJyfRbU0adyornFVdvZuasQkq6AIQVCk9oiVV9MjHx2Y2MJC9VmS1St5c/N2uqb9pQJuVnp6wevD7cpenzn13LLP6t/WzRszZsqePXt/bs94tW/NwZco3jI52dkFr5bXLri5Zm9QBbGET/BkXLllULwJxBoTEzqCOHr5sNi8d0HPEtJT88RC/VlJCv5DXRWZ2XjkqpsZ4Y9O/dydLVf9bvYrCb79pFDnMGB6D45KjeIBEhPyeRSttbsj0XoMKzt7NVmQU/JpE8VhDx/GqlgjZvRzIyoflBdyEVNqi5b1jXcBWtl5oBSz7MLi4uJ8MpvSqlUDom7rjlJNM/JLa87/+yD8AQBAjaJISEhjsOwa1ap8pLLuuOTA0YM/9/T+X3fBgz/J1NzGUkaRVYhiw16/Ky9Wmcgy34S8fP08S+NAKZDGPQ7PqBpCSCRpYVpkcPiL589fvHwVHnVnz7H7BXLb/m1r4Umy7ZjZXVqgd8+fuHbk5I1DOw4HJRQIlMSMBlQPby8yxo1OSDIOi9LTslILaHQbTy9PCpYXU6memVpAZVBQxLZB/9FtPKXPd86bt/YB18K3S//GdsaJCBohX8QrR1AtcVFXR0LIfKGEJ9AiJo0a1KlfxxaRSFU69Mt3/Dt0nHdwx4kFtSsyYl6+fptUIWW4M6j6FKlWqTVqjUqtQ8rDXoUWcCUmsuy3r1+GvE5SmpHLVYmPX+YYl0Agk6myspzIZxFvQoKfv3gd/u7+vvP+OWL7QR1qMfGWGTKpZwfy4+unrxw9e+fwzhMh6Vll1Z8ZNqtXp17jhjaITqnU/G7yk+e+fBQmMPHsNbCxiSEgoihCcnJzp5HzI6LjjI1dlpOemsgl0z6dWMwMfhEmJNUf2bc2UfgIlYhEvFIShhCth6IYiS+WC/LyBCJBGQnFiC3BG4/MF0nK+cL/dTX6PwXCHwAA1Cj80nwhFbOxta789zeJxjIzN2PS/tCTCeCPQnU6MkJlyIXlFdLMzOjAizu2btu2Zeees0GpSiXblqytcn8bCcHKEkNuHd+ya8+e9b/MHtN32tZ4TrvJ4/r7GCK5U9vRS3fd2D1/aHf3sqyg4+vWHb0dXeUMmU3Dzt3cyGnPzx/xj4+LD3nyNqmgEDUhaZ0adOrmRkl/fu6wof70bVJhIcom07QVr64duhpG7rH88rXrN9cOdMwIOn72aQaxNAMKGf+Hon/Ewkj/J4VCJpPxHxQK1fCgK4oR9zR+TqcUleclvLh2bOfm5eu3n7j9OrmcTtX/2OFZ0TAPCeGX8WTZOcnBF7dv3bJt65bthx9EVyjNOFRVlZOiZCpNkBV1+9jm7Tv3bl4zd8LAybvfW3X6eebIRvqHOkhu7UYv339n/7IJg+oUpD05unrVvktv8qoEY4RExeGr/rDmL0DzY968q2C49xpc34lNQkhkfAfx/TOv1aq9q2lW0IXDdyKi3j9/EZaUX6hjfXzAVfb+7atMGb3TgC5OxkIlZBKeWinYx5iobz4KBSHTqBQKXieKeiTMUKo5kQrCHwAA1CgkkuEYWO1czf+8Ax78NeUleQJTxNHb0UqD2rQevOzwPb8AP38/P7+A4LD3QcdXD21Y5YFU/Cvw6DZpwzm/gEePTq8f386O07RWq07t3InRJCqTxXZy5nj0mLL22p09PdGCJ48iioiRBk7t5/y2cbxrwsZZ/Qb03xupcm4+poM9osbYzabjdfekTYZ6hMqp+biO9mSTvLg3uQi1bb+RLdysrS19u3drrlWk+L+IrXTxkcyx51ja0XQocY4K1WpI1mY2jnafAs3/kPvi1Npx7ceeK3Aaee6p37Xt03vXVah1H2Y1xDBMpzFt2H3G9nt+jwL8/f0ePnoWGuN3ZPWQOlUeOdaplU4tB6+/4Of/6NHlnbN7erk09mrWvfOHp2rJNBbb1MLe0qPzyJXnLh3ujwme3g/PNo77w6TR/oHR8cV23mYl3KSUnHKhUFCQlyuQ6Gw6zFy+bW7t0gNLfxo6cP9bkXOnuZ3s6SYmhrlUGfGxfCmrSafmxuGqrDh2lg4U1YdzjRiqJVkxbRy8vW1tLe0/1VFUTbZm2zhyrP9Qs/4XQPgDAIAaxcGrjr2CVJRfoiIKBmU58dHxScaHL8FfRKZQ6ZX6ust49SxYamLfuW2LRt5OKFaQkJKFIDQcVcfPz8ks+NAn4EeYvrs44xJ8+60+en66S8jqlUsup+pHSYqys3IqtHjQodAZTLK1OcfMxK5y5xv4NHJ+ocrnp21PSwsL8vMfbOxqI2Jqbbq1tEHFhWrvn7Y++VgXmmhsujZtRKZharVIZHh2F88xMplKhTFM6JVP/zp61CajaHJqmnEwIyVZrdTV86h6Y+DvyI17k0P33vr03YUNYxqQET6PVyHSYYa7IjEU31UalYy4+XrS6RXJ6XhUI+tbBpEU52Xl85RVfxfBcyKJTKEZWsapw7w9pxa7Rm6YM/F8jL4gK+FmZ5Rq8HCMNx6TamVpY2biYDg3+WdoS3m8vOeB11YO69iuXY+p2+48fvl0985th15kKJUViPvQrffzc3Pz8x9uHmBdKFFa9WrmY5itICcVM6E1a9bki6uzc/akkGjx71MNXzTGzUiQSFS13WztnN1JJFrC+2RjPS8jSSxS1vf8Q63631Bld9evX098Av8ijUZz4cKFDh061K1blygBAEBVfn5+lpaWHTt2REhWCD80OilTyGzU2MeKYfgVXp32aOfqLc95nPrN63O+dAoDfNHjx4/pdHr37t3xv4mLIh++ji+TmrhReOmZ3ILi8HtnH4SIag2aNbKLu629GZoaFRT4LlNKoSqLQ24fPnrjpcC2fmNv2099K+pyw+69L2N7te9Zz1I/bOLsaa8p8H8cnkT26GVbEXzu8MGAZIGkNDmNy0tLTowrkNcdOLRbLWvjcRhPSzpu6OljJ25G5FIpmrLE5zfvvNc59Bg/sgmn4O3JI8dvheeSqZqyJEPdvue4UfUdLWmlMe+fv88QU2maitCHN5/kqJoMHz+wji3Ky84pLlPRbc0Ylkws7W10eAJXa0tJuXP5QarQc9j4wXVtPx79lfkRfrGFVLd2AxtwiBJBJ854FZ7ELSE50EVxYY8CAvwDI+hO9VsPbW2Z/SokOqPMomHbRnU8LUoSXga9SpYwmZryt/dPnbj6rMKmSUsfq0/5Qlcc7RebR3Lp0L++oWVodq4Wqrwgv2cxGo+OtsKwK0d33ImTKspTUnMK0zIy47klnv0G9qjvVLWzZQNdSWxAVLbOpdPABlb6YWVFTnZ+vozGsXLwaNlr3Ny58+cvWLR8VlfLUp7W8ac1h9f1dyl9c/bowbMvcmg0VXlqyIP7MTKrTuNHd3AywYN3afSt26Fxls2G96u080oeN7ewQE7lmJtYULWpkTEv4nJ15ki6322/+GLXQeMGN3O0JWvSIqNfxHPxeob/Hb/3hc6Dxg9p7cjQ8LnZeVwpxdaS+Z87ubZhwwbiE4S//wIIfwCAr/oU/hCqnT1Tmhke8CxVhtJo6vL8orCHp249rqgzdOpPPX3NiRnAH1Ap/KHSooy4qOg34eERoW/fvnkV/DbPsdPkeXNHt7UnkxAqx8fHjVKU/PzB45DwsJgK67ZDJ03uV9+KXKlDY1TATeIjjt7NWnmaGSvmri7msuK4oAyNc5OeI9valKSFXrnhH5eYkpwm9eo6Ytbs4Q1MK536o1h72pO4aW8uXXsY8fpVBq1x39FTRzSzJiFWHvbkvIwPdWojfb05Xme7NPI2F2Y/vXg1IPxVGNe8+ZAp80c1N0UQUcL1K4/Dyi3aNnY0sfGt44oUR927fCsoMs+s+aDJ035q/uF5Yj2NiJtSobP3btbByxCnPmG52LPLiuL9bt0Pff2KZ9W+W5eWFmaojWfb1vXYyry06Mfpao5n8y4dm7kx+HEBN/xehoeE5po06D115rCG5pWfZEbFBSnlWmuP5u29iJZhu3KYan7841Q5p16n8W05FRmvbt57GvM+IT1H5dZxxNRZI5rbUj7rLBqHSYpSS1UWni06eBsWxUsMDHwTIbJsUcfehEY3YTJNTBh0CktXnlEoN63TsU9De7q5oxValvPq+p3HYSEvc+kNek6YN7KFjeHBFURemlqipPs06dXUhaUfNuAn3r3mF5TPatfcjWnj4eVuIkwJvHnvSXgBu9nAmT+PbmFFIZOtPTzdWcKUALwels9uMnAGXrehkhFe8pPHIW+EVq3q2NGrdlbz7VUOf1U2Dd7w8U3AGz4AAF/12Rs+MgLWbTt4/mUqlURGtdad56xaMm94I+LQCv6gSm/4wA+BqA6HfnzylUSl06vmD0ynUWtRfAyZSqN9Hk3wBaD6y5tVe3BBtSodQjU+XGE4R3v+HR/zHjC9jdWXwo3+vjK1Rn81kUShGZ+uMPq9Or4CjfHmMxKVRv/wyEHp81uvKxDXgSNbG8+eYTq1Gp+ITPs0yUf4ZmMYiVRtswn4SI1G/74SMpVBoxh2kWRIZfq20CEUqv7aL06nUelb5vOtMzC0DEKuFucwfI8wfJOMOQzJfnL9XbHIdcisdhaG4d9hWNbHReHNotVvUvWVGqbCt/RD1dB6+G5U3z5M/33jO185qKElr++/zpY7DBnX0cJQJr53w7deeTVfqP/e9vwXwOvd/lsg/AEAvgre7fv/oUr4+45IY56+46OW7Xo3/XQ+C/xRoriX0YVC045DWn1fv0zB690AAACA7xa7Uef2nbo2/MI9c+DrzOu379CjXzNTYvC7BOEPAAAA+K7or1jT6cTlVPAn6a+ff++tB+EPAAAAAOAHAuEPAAAAAOAHAuEPAAAAAOAHAuEPAAAAAOAHAuEPAABqBgqlSrf84O/DmxRaFfyAoJ+/bw/6+QMAfNXMmTPpdPrSpUtlMhlRAn8Pi8Vat24dk8lcvXq1VColqgB8pxo2bEh8gvD3XwDhDwDwVdOnT3/8+HGTJk00Gg1RAn8PHqbj4uIoFEr9+vWhVcF378mTJ8QnCH//BRD+AABfNWvWLAsLCzhH9Q9is9m//PILk8ncuHEjtCr47rm6uhKfIPz9F0D4AwB81cyZM728vFauXEkMg3/CkiVL8Ai4adMmYhiA7xe83g0AAGoeFNW/OR/8g/AmhVYFPyAIfwAAAAAAPxAIfwAAAAAAPxAIfwAAAAAAPxAIfwAAAAAAPxAIfwAAAMC/BZWU8/jlKmLo+4ZhGKqt1IGiWlSQGvUmJqVQ9Jd7VZQJBbwyJTEA/jLo6uXbg65eAABfNXPmTA8Pj9WrVxPD4J+waNEiNpu9ZcsW/ACo4Bfk5xfzFcaHfzEUpdt5+Lg7WdAMw3+ErJxbUFAs+Bjs8OjDsHH1cHW1ZhqGUVlFSc7L61eTJJhrjyk96ni62fzewpU8boWMbGrvaskgKtXhh2uSUpBfLNSZ2ntwWPoSKi/Nz8oqlJIQDK95uDuZUfG8VZjHzauQGw/2JDKFhOlMOW7OLk4WdEPpA424KDsjt0KJmNi4uLu72Ro3+QMlP58nxVh2blYmROWrVIKC9DwB087Nx9HCWFGn3Dt46OB9dNDy+VMHNyCKHykFhQX5RRVyHTGMoSQTWwd3d3drYxNoZRWlxaH3biWVi+37zOpdx97Zquo2fqIWFpWLtSwHN6uq+2iglZcX5mYVizEUMXdwdfVwNjeeBdMqygtzMovFCIqYObi6ezibEWfHUHl5fq5+BIKYWDi6erhXaxs9jaiYm5NbLsdMrJ3dPN1tPnxrGnFxXja3TI4yDHXb3/s2/xWVu3qpAg9/4N8nk8latWp1584dYhgAAD4zY8YMPKMYPyvFFcV5WR9lZuaViVQ64zjwZyxcuBDP04aP8vfn5g2pa2Xj6uPj7eXl7enGqTt8ybFnRSrUMPoPUIcen9nbk2nj6osvAF+Et5eztW/vWYeeCokJUh5sntaebWpqbck2rd1n2v6XJcSIalBlbtDmIbNnL7uXTlS+TBByeOKQsTOPxaqMw6n3Nk5uYWrn5eVi1XbkwgsR+h+J0lfHlvT39PTC//X2re3tasukIG2n7w4pNc7yga701Zml/epw3Nwc6vSZuuthRpW9VuU92zFyzuzFd9KIwh+gSbq6eNrEaSeitUQBwwpe7D+4ew2+kC/9rKqTbq4c3dDK2tnQ/vpvwMWpQb8ZB58XG0ZrlfEPN0/pYWlpbW1hbt2w37R9ftlKYr+r4705Nm0+vrW5xHBlOlXCg00TOlo5+Xg4OXYa8/PFGKnaWE98sHlCR2t93aHjTx/rmFqWHrh9fj8Xb29PT+eGPSbsephVfb1aZcHrc0tHNHH0drdv2H/qDv98uWGndaqCN/q6s77eb+qOR0T9WyGingFc9gUAgJpF/WL32N61vL3rNGnUqKGeT6uhiw49yoJ3VPwtKgnPo9/Cu0kZGZl4oM7mFlxqVrh/wuSV19KICXSyisLM5JSU5NTsIr78894BMZ1G5Tt4xdX4dHwB+kyeVRC3tZbk9aWzb2QIIn29a93FVMvF924eOXn6xO3DvZH0M6eCiol5P9DIxIKUC+sXLfr1fmARGf0fV+O0eS8vHj190T9HrSXpj+SC13s3bXmpGBWSn5WVn7LKI+nsmp+vZCB2HWfv8c/OzsL/zUxPfXtywcB+fdv3GdLRzrgUI0nE4SVLz2e1PVfI5eZf66MO2vTrjrcS/Rj99qRe2rxk0YpbgYUk7YezclWhCmFJZnJySiouLa9UqMZrmpKi/ILSkmJuQYFMbWgrVY7Yol3bLrObmRQJpF+47KuWCVy6TLucaGh//TeQ/3ZTA8nTg8efCBBEFnpi36ko2tRrV0+ePr7z7N4RjNRzRx5lVe2jEVVLRLykOzuXLl96JqCEQv7CeS7p62P71vnzOt1PycgpjPzFK+nQnFln4zBEFnZi37qH5R3vJeP1dytrJR/G67FaBEm7v3771fA6W/MzM7OzU8+NYKWfO+Kfoau8XkXk2fWLDsS47UjJzC2+OIAUuGT6lqcVCKKMOrt+4YFotx1JeP3SIHLgomlbnpTiy/wvgPAHAAA1C4nOtugw87d7CUL84FpSXFSefKYfemPr5oOPc4gpwJ9HIpHIqFYp01/dM6A3n7FgUW928bOg0HI8ulS8Dzi1buXcGT/PnztrwdpN55+liLRVsxmeNUioViX/uAQEcWnVzdnOJjUtA0EKuFkqGsPHy9FEIRHxzVrNP7T72PLuDsSEBGVS0Im1i/elmdfr2bCLq/Z3rtLhsKyXQZE8knWL7u4kCoZPVxASFKZ2bjlibDP9lU773mPG1LcRPnsWpTBOb5B27fDZRFrzOYuGe1dZsiI1IYPkVa/PwOY0BKE2GTa6YyvHzKgkFb7Xyc/Orl+yO4FZq3eTzq468hcig06WGXhpw9IpE+ctWLhw2k+9x0xfcfO9MDfqkb/f88jItzeuXb6bJESU2S8vn9iy7OelyyaOn7Z09dGHKeLqKUh/UVKnlIuIQZxHo45ebg6pKVlypLiIqyRT6/q6mioVErlN6ykH91/YNLB21Q2SJDw9tWbelgiE07Fld1et9vN8XhzxKkpm3Wry5E7m+JBLp6GTWrtpXr8Ki4kIj5FZtZoyuZP+YrRLx8ETW7uqX4ZE5Sa9j+FXkHu2q2OY3bT5jIMHL20eVJdSab3q7PRsnX3dISPb4POSmvQd0aunZ25cmlidlZmDOtQZMsJQb9xnWO9enrnvk8uI2b4xCH8AAFCz6K/fUBlsM0sy29TczNyCXbfPnClD3QWpIeGJcmIa8A/g1G3YlC0XxSQWSsThN87fSTXrvvHGtZv3zvzShZJw+/TNt8X6c1xVkMgUSuX7+IRCmVTNMGHgC/P0tjQRpYW8TsxM4/L4chKTyWZQq8U7Lcmtw8jlJ05umN2zjnnlRyWqQotDQ6KFZp5d+jSzIhmv54l4fJ2ObWtrY5yCzrGzUGgq8ss+Zilt8evA4FTUsmOvts5E6YOyglwNg+Fbq5Zxy+0dnVAUyS0sxT+TXdsMXXL89Kb5vetb6rRfei5AlB4ZVYo0WHzqzs2bt89uneJVEvvgQQyz7ZiRI/p26Nh10uTpE5piEVdPXI9Qd9ty++G9O9e3Dncue3b62qsKYgmf4PmbQiU+49RigVSCbxmNhFi7uVuYSpNfvYpPTcnBGxWhmJgyadUSDInh2W74L0fPblsyrIWp2ni+sSqpUKjVse0cbI2DZla2ViqUl59fIBSjWpadA4eoW9tZaVB+QVlWcaGWhrg50UoSIyPCwyOScnlaVrX18krz1RRy3Ua19XkSQWzsnCgkam5xaWlZkZqCfKrbO1PIlOyC8s9+Zr4JCH8AAFDTYHgA1Ok+XYMjW7Xv3pouKolJzPpvHFq+E1Z2LpYyEq+AHxf2PJjLJfvW9jXRqtVMj/otLHJL394PzyUmNCKRSGpxeWEOL4+bm5dXUC54d/nyg5xiWvum3vjBv/2Y8Y0cM7b+tuHojhMBV84/SK5QaqrnE3aDZm06d29ja2vBomLo7z2DyQt/9LIUtes6uL2T/sqw/h/EztEeQypy8guNkyjLisoKSvAPH9agy3zz4KlA4dWve1si+XykqSgrFwoQOo1IrWQKDeNJ+GXlWoTRoEnrLj3a2thasmn4or60PdaNR65es2/FoLoMVKHkOHhybFykIikZMbextjA1NefY2yP86KePUlJVrnVqMVVyFd29UWNrIS/8Xki11iNT1DJRYS6vpCCXm1dUxn9/63ZAcja1QwsvJmLddtDQlt65ezdv2L/tRNDVC/45UrFSV217zOo1btujXxsLB1szBqL7UutZczgkpDwjp8A4KKooKcot0mlNLDkcMrkiPTvfWBdXFBXllJIRsUDI4xeKskLOb5kzbtxPY4bNW7XD/51MU/nqt07Iq+BXkE1MiNYjkWmIQCYqy8mu4AsryEwmkWZJZCoilApLKoS/863+uyD8AQBAzUd18bARaIrySnhEAfwT8PyFZxKasLysVBDy8vj8Pu7u3l4evnU7zzgcGillySRCYkI9Ep7C0h6emNPVvV79Bl7urnbWrSYEWHdft/qneoaHTl16LD7oX5Z4beVE13e3Vw1v2WPesdBKFzn1SMSNalrd79/uV/7i6lMR02f0pDpW+PZRKBQqFc8XnFb9elrynl3YdvB5cVFx2IN7L6JihCzqh7wmexXol2FiPXTSYB9joRKygf5Xik/IZBJZ/2wo/l/9oFb7u0kU06nkotK3J5cMb+to79Jp6r6gRFOWfn91Ov17k/H/IKUlfHnkq+treru5eXh7eng0Hbv5frTcVCGu0uENhc7khlyc38XNp04DX3dne5um4x+xe+/bPaOFmX60R6+Fh58UZD06sLhFxM01Axu2m7T9MbfqrzokfKv1m6tvvS9vrU3jTp1sFMEnNm8LyMjOfx3g/ywivoKmU3vp66rnJzdvf6Sv+/s9C48vNyHpECqp6FVotrzBwtcZmdyc9J3tyq4vm3U2SvVp8cbW0/86RhRw+tajUkn49hiC+Ud4nWK4QfPbg/AHAADfAaVCQyPRmIwv9G0B/qqywiyeKeJax9MeI3N6jd0TlCnhl5aWlpQUl5SWxl9dP6apJTGlnv4wX2/E4svRkjKeMD5g7/RW9bs1rtfApWr3HhIps+WUXS/jHy7xJkU+C6/+xMfX8F5cD0jMyiWxSiNiXoQlFZYW5ScmJ1XIUNuWczcfXNlZeWntT2PGXMwyrdNxSnd7Ks3YM4sqIzWLTLNv1+zz6IenLntHBws7qgol7sLTaVRkWxZepBiH/7esoOOrx3ae95jZfUuMWJ5877fhLWWKTxes8USMUMlaszZD19zMkgrLjW1XXvHu0obRDaq0jFYl9+o543yMTCTgp78+tbxX854N6jZ1q3wRHU++FZS6AzcFhj9fU9ci7klUNlH+wyzazV5zbEtvtt+OmVMmXE6jNuw3v6cjna4zbzRl9bGtfcwe7jTUaXi9lwPLwlSHOPfsMXDcoPqGudl1OvR0as6My8r6FOlINrYO1o5UuYo4HYjqVCQrE1tHXx87O0sHquxDXadTkS1Zds721tUu9X8bEP4AAKDmk+ZxReYMFxeH6r2ngT9Bf8vZp7CBpYW9DpOzHdo0bVDL3YlOEXDzijGGmbm5uRlFWlqUUySqfo0dQ8gMlpkVicWg1usx85d1Izyzr505/Ej/uLBOlJ+eklasxMg0OtPUim1jbk5H2aj+WY0/QyuQaVWFOQkBR7ds3rj7fEBsYly0/+PHr7IEmKRQbttm3PYHd2/dvrFheB1ThSnNoXVd4z2AhdnZOjq7QYO6X+xnzs7N2wTRZqcTjzVnpmUq1TRf9yoPBP+ekozYLBVryKoDu5aNbGqKyMVCvkiDag05Ek9IJP05RScPT1OWPD+/GKOxLSwszOlqfmlOkVhTbd8xlExjmFshFBrdo8O0n9dM8sy/dXDrvRi8lVFpUWZaUr4MIVGpJmxLtq2FGR1jY+ifzlEqXr7GuvnY9bduXr9987cRjU0EWrJdh3pOKkmR2rL52HXG+siGTKGWZNO6WRNnJ3sOSyP6cIpSrZBq5CiDQa+0YisndyaFnJGYYuh6WpObmS6UIz4uNraOLkwKJSMh2VjPy0wXyBC8VeHMHwAAgL+CpL+DqHJMKQ99Hqa2cGze0LPS/fLgz8CTCqYSVeRn80sLudzC4orw6ycu++dzmg3q4kOzbdOjK0f5+uy+/Y8Si0rzX17bumTp8qPB6YbuUD7Qv85Cp9UYgw9CY/v2mz62r0fSw8vH7qQgZdH3d69ZvOVMUAZPwCsve/soMFJSYVXf1dow8WcwVIf7eClRqxDweBViNUL17jN3x/UAv7vXrly9fX7zjK5tOvWYPW36sEbmKc+O7Np14EGCikanyhJfPElGKA37dnExzF6a/j5LVGTn5lK5h2adQijg8/SdrlBrNW9jLioIungpXCSKun7lfmoRuW2rupV+lAy7Vml7PiEx6BKlWiLmSfi8jBcXL999HBKuFpWUIog+ImkkhUVFCLt53/7ezJSb+/Y+SudVVETePbDml+VHn2VXfaAFxXdZgzefcYjk2mn0yF5eqXdOHLgeryqI9z+4fs5vpwOTSkvLKsoingaE8QrMGzp9ufXwrdW33scr51qFkF9RJsZXp81/fWbf5m23o6QUEkWeEh4Sr9DWG9jDl1zw/NT+zdtuRUnIJLI8LfxVvExbt19HN4fm7ZtYe5cGBL4p4hYUF4Q+f/pWxbPrWNeLhKjEAn65BF8mxaNeU0tN6cPzl14XlsXcv+f3PpPcuqUvi+JZB6+X+V26YKjf9YvNILduXccW3z6lWFBRKlJ+3prfiLEbQPAvg06eAQBfVamTZ9XTLUOmTFlw6lVhZkZ6RnpazqNdI9o6tZx3PF5sGA/+sEqdPCuSbqwZ3cCcSqPR9SgI4jpu6+MCwzgDZcatFcM8EAaNQmfWHbnBL4Oof6SKPL90zdodlefBhBHH5nUgtZyy/bUEU7478nN34nCLuA1aeTOPmOhzwuhz89euXBuYRQznB/y27JfZp6KUxLCRJuHmynkLll1M1BgGheFHF3bDF41vunPfpZfiPk1cFLxrw8Yll+OrdDFcGLB6/s/j976WGwfzg7YNcdVvmWv/ZZfiq64IE72/tGT9il8/32ecKOrkit6meIREkDZT9ly7emrh0gnrHpdhWPajHePqIk3Hrg3Q99NcFLxnuDu+cfjWufRecC7TOPMn6qRbqzevWfsonxjWK3t7+uc2SINhS+/nY9KI4z93oBnPuFF8By2/mUxM9Dl18r31G1asfvihfbMDty1dMHrfaxGKD5S9ObmwI5Wi3w6vAcuupBon0a/r1KKONArVUF/6qY5puY+3jPUl0+kIldZ67Mbnxu6xuUGb58/otymIp18mpit4umNSHTr+65jngCWXP3XNrSsI3jWpLlG/9KGL7Nynu1csGLYnhK+/k/JfZGg7QpVzptXGgX8HvN4NAPBVlV7vpn134dfjV56lqCyZVPzoQUI0lo2HT544oW9TGzjv9+dUer0bgmqUSqVKgxpfgoVhKInGZJowPvXrgWoUCqVKizc4RqIxmCYm1bsa0anlKi2ZxjQhMgoO06kVcqmOwmaxGBSdWq1TpD+9Gy/C3LqPbmHFNKl8+bAyTKtS4FtCZRDdimD4qjUYhYEvxDCegC8c3x4qg6XPqvgPhkqhVKh0JBKGz2liwjRWcZhWqdSgZHz2yltc8PRWGI/kNWREc/0JQRSfW46vFCHj8zI/zWug3w21lkQ1+ax7FcM4Jb5aLULCKHQWg4poNRqExmbS9Dshl+uoLCaTQSXhQ3K5wth6FIYJi0n/rPUUah2iX8Wn1tOqFQqZlsxkskxoKN56utyXj+LKRE49J7eyQWj6oPZF+DelwpuLyTK2r3731Toyg61vPUynUin0rWT4FvWtZNwOfDf0dRSfW19nfGoBVKNS4s2P5yWUQjPBUfE5dAUh999mqdxHjmlthv/A4K2HN74aNbQ83nof9g3VKlUKlbHOZBKtpy+qtWS6Kd5Y/6bKr3er8oMH4e+bgPAHAPiqyu/2VUn4IrFUSdxJjv/NTWNb2ViZVw0G4A+oHP7+JZhaptThuZL1rYO6MvVVRKmG3ah7CyuiUhPgQVOnozLZ37r15OnhUXkV9MYDWnOqBqn/sMrhr1ryBgAA8F/HMLO2c3b7wN3d3ckWkl9NQaKzmd8++eEYPm3bt+/UtCYlPxzdxOTbJz8c06tFu869W9ac5FcNhD8AAADgh0Oi0qhUGvzO8NeQqHjj1eDWg/AHAAAAAPADgfAHAAAAAPADgfAHAAAAAPADgfAHAAAAAPADgfAHAAA1g+EF/uCfhDcptCr4AUE/f98e9PMHAPiqWbNm4X9FL1iwQCaTESXw97BYrC1btjCZzKVLl0Krgu9emzZtiE8Q/v4LIPwBAL5qxowZFy5c8PDw0BLvjgV/F41GKywspFAo9vb20Krgu5eTk0N8gvD3XwDhDwDwVbNmzapXr97ChQuJYfBPWL16tZmZ2apVq4hhAL5f8IYPAACoYfBfzuHS5D8O/91bKpUSAwD8MCD8AQAAAAD8QCD8AQAAAAD8QCD8AQAAAAD8QCD8AQAAAAD8QCD8AQAAAAD8QCD8AQAAAP8arVqjVv0w/aphqI74hMM0ClFFcYVApv7L+69Ta1Q/Tuv9/4HwBwAAACBahZhfUpifR8jlFgqkGmLcH6ORi3jFBfkfF5HHzSviiZUoMVqfXFRlz46s2Lhp1bU0vlRFVL8EU0mkYrGyUnCqTKcQl+Vx9UoFskrb+Ht1RCsXlOTmcvFxRRVi5Zezk0bGK+LiE+mn+LTJBEwt/R/b80WoSpKTnZNXKiCG8YUk3fx1mJdT94UnQyuIUiU6pVRQ+qn98W3NL+ZXbT2l9M3pnTs3rLyWoVCqP9tGPVQpKsebHf83v0wg+98dd2NqmViIt9OH5kCV4gp89Vwuvs3ST7Nq1RJ+KbFZ3Nz8Ep5E9YVVa2SCYn3TV29f7e/UvzXo5Pnbg06eAQBfNXPmTA8Pj9WrV+PHGX5ebmERT/bp72xMp2U7eLt7OFnCe2r/lEWLFrHZ7C1btiCI8v2FX7Yd8Y9H3OxMdPjRXSfUeXQfOWr2lD6+liZ/6DyJJvzUwu0H76cya9sxtPg3QyapyhX2XcbPWb+wnx2eLRTRd/acPns6MJlORTScZt2Hz1w9v4+XSZXDsIFWlOK3a+kjfqNBS7YP8iGKH2GqmGtbD5+8FIO60CtMavUYNW3TpK4WtKp1pm/3EdM3T9bXEZUwPujIsXN33pezyVLUttngGWt+7ufNrLxPOnnO0wtHTl5+UopQEE6LAWPmLxzRmEUhxmolaYF7l/uV1Om7eOfQWkTxa9CUGysOBIlbLjg2rQmxqpKws4HxPMdey3t7Vg0feurkW+t37r0aqvFwZOlQDJ9AJcZcWg+fvnp+P3caohJF+h08deXCi0QyqsZcWnYZOGrhrIENzJnE7HrS8lC//aev3UsS2lLVYivvTkOmr/mprb2ZCTG+Kl7Y4V92B2u6/XJkXlszRCOOurP34JkrSSo7isSyTrvB09aObe9gSkVE0Vf379tzOZnlwMbbXmnWcPCUOXOHN7Qmf9oDtTjj+dWjF6+/ylfryM4te41YPGdwXWsTklqS+fLKkQs3XuXhdceWPQ11G+bnX/i/BDp5BgCAmqv8xeHfloyfvWz9jq1bt+D/4jasO/MwLEdOTAD+Akwj4Vk36r384J3rVy9dunL93tlV9eWP9+4+EZiJGDO2kpeXHhMWEREWGZdZKFQbalVolXLbZgMX7rt9+fKly/gybl49MtVdmhDsFy1FEEn01YtPclmDV/8yfdbsmb/M62AhiwxN/nRazABTCEryoi8dPXjsfGBshU7zhVNMvIhLl68lot13n7t399qx8S6FQRcPP8rEl//u0pUbiWg3Y32sa/HTC4f9M/AZMgOPXHtT0mjBrbs3b9w5s6yztSLidVKl03H4/8Txt4+dflracPEFf79zq9ohcTcvXo4W68cqBaX50VeOHTpy1i+mXKP58pk/tag4KzYsLCIyMiIiIim7WIriSTcnOy0jl5udlJ7Ok+tn00mzuCJTU5tGTEFmPu/zH1WSRi6wqN1x4f67N/D2v3T56s1ruyd6KmIe3g3DN1aW8OCOfyq15/Kls+fMmrhgVg8bSdSrxPIqZ6zyX546e/E1pfve85ev3Tm/d5hTzqNz+4Kzvnj2FqtIeO3/8PG7Eg2q0yciPPrduhChar7+6JVb1/aN8Sh9dHTf/SR999/l+Vwyp/XKE9eu37hx/frtk+tm965tUSn5IYg8we/Cifu5TtOPXr174Zd29PfnD12I4CGIItn//PH7OY7Tjl69feGX9oy4CwcvRpT9uZPJ/28g/AEAQM2ik/NKzer1X7jn2oVz586ePXfuHH60Wz+9b30zYgLwF+gP5wxzGxdPG0cXDw9XZ/sWA6eN7uNYHuMfHC3Cx6ny3t3atXrq8HFjRo+e/duBB+/LKwcPIxLJxNIOX4Kbu4e7h4eLg0/XAT0cTLTh77MQJC8pLE+C1G3XqZ69ra1lk8ELNy1bPLSBJTEnQZ3x7MSvM5feTFc6+dS1w75wjqgwNDAgD/PoO3lYUxtb784/jehpJU8KeJWZG/00iKt17zPFWB89opeVMiEgJF2SEfEsMVdYt31Xb0cnJ4fmQxdsWrZ8REMrYnGG/VZlxYXnk8xbDBrc1Mq6yYCfBnrba0PfpWkRRJPx4sxvsxdfSZE51K5jj5GrRwZDE/Bi/A6uHT9k9Njx40cO7jll+e6XXHXu65s3bgSEvAo+d/rE5Rg8CYniA87tXLFo+fK546Yu3Xr57Reu++Ltb2rt7GntgLe/h7uLo3ePnl1czLCI2CwFUpARU8DX1mvbqYGTo41t8yGzN61YM6G5c6VTWQgvLzOHRG3ep3+fum7ODnW6denUwI6RnlWq//KqE71/HpaYJrJv6EpCSVQ84b1/+SxX6jpo8rjWrk7eXQYN6OukzfR//l6MlOVlaGUVDet7Mxg0Gsuc4+Bga874cErUQJeXEpOvZLYdOKi1q0Pj/kP7NfTQRURnSrXctJg8uUnbAQNauzri9b6NPHURkWm8/8YlVgh/AABQw5AoVJYlx8mNaW3LMbK3tzZn0b+QFcCfgaE6XaX7xBxadejBVglCQjOV8hf7f9n6kjYqsCgzm5t9ZbDIf+vcXc9LiAkrIZGqJCSNWqvGDBHF0dODRCtPiXpfVF5WIVViVBbbnE2vdgxWKjyHLL+aFRt8alY7W43q8y9UXcQtIKMcbzcX4zDD3dtJjRamx8UVFlNROx/3D3UPTyc1qSCj4H1uGo3DatzATVWRz9XfziZFTMxNGVXWW5iVQrZmt27djGYYdPWojVJMUnMK8NUp3AcsvJAVF3x+Xid7rfaz3IJvYGHQkX0vs3xPFnCz0tPzXu5qlHp3795A816rNqz/ecK4afsO7FvYwTz04IKtd0pHPi7KzckqCJ7DSTw5a1uw4dRiVSS8+YiPeobWQ0gYitg5u5CYZfHvYguLC/lKlQ6hsS3MqoYwm/aLTp3y2zecuE7OK8orKS1nMb7w/wp+yNWHWQKz/nMHOWvwRZEQtLyoGFFz6tbyME5g7uTpitBKUot4itICbfKNBxtG2thx7Ox8+0ze86Lw402CRiX5WSib2qFLa3PDoL2rL41hlpJXUpyfi5hRO3ZtbQz4eJ1qwk7JLUI/36BvAMIfAADULPjBAxMXpkW/jo+MCNcLC30Tn1Uk+l8PEIC/gm1hYy2hyCpE716/jJSIaA7U0tjIyKiIEnZ9Wz6a6P82tcp1WTzkyUpy4sMT8O8l8l1UQkrA4f3XMyvM+neohyDWnacs7NiYd3DzukMb9l7Zt+3Uq/RySfVrgGYtmjaoV8sSEQnlah1GXG6ujO7p44WgeTFJycZhSWZqVnoBjW7v5eONYNzoxA/1jPSs9Dw6QyYWysoyiyNubFk2beTon0YPmLpgzaVwYZXnZTUCvqiiGNNoiNyrQ1FSmUDM52kRdosm9RvWtULEArla+6XtQRDnnmsun7y5tpGAmxwZ/T5ThlrXZ5lQ8CnlMoVCqZTJdEh5yIvX5QU6R1rp++jId9G5DDcrBS314ZNsYhFGJDJVwStICEuMfRceERkTn/z0yOnbiYUWAzrVYyNWnUZN79lOfnr3xn2b9l3fv/18ZF4+X/HFZz701HkPL168L7RuM75/GxuiRlDlv77/RkB37TuyOV2if5wEj5ZkFzd3MiUvLCre+IXwctNSE3MpdBJJhVAVZs2nb7tVLJYq5Cn7B2AvDm3zy5J/aglULBJWFJN1OuK7RPHWqxDKK3JyhOKKYtKnug4l8UTSMsEXz3n+6yD8AQBADYNhaGFM0KUD6zdv3rJly+YtmzevO+0fnv2l61vgb9FpUQqJxpCLKiokGWmRD85s2rBp04YtO074J0jlLFuyVkFMqEfCw1FZwvPrB9dv3bZjzeLpI3tO3phg137a+MG1DKfUnNqOWb7/wcElI3p5lGcGHV7z6+FbUXzDnB+RKTg8Q/7+pUHbhp27uVHTnp89HpCYkPD62Zvk/Dwdi6RxbNCxqxst48XZY0Q9MT8fMyXrMBLCT8qUslpOPHj39p37F2bVE4eePhqYQyxOj0IhU6hU/e8URiT8H5p+Q/CAoN8g/S8bv7s9iFbBL8tLCr5+dOf6RWs2Hb72PKGURq0ULfC9EfD4iuzsxCdnNq3fsGnjho37boWXyNkcStVbGslUGj/z3Y1D6zZt3b5u+cyxfcdtj7XstHDW6EZs/WiXdqN/Oex/bM304Q0K04IOr/hl94U3XKVhziq0svKkoPMn7iQzOk9e+nN3j6qPQGGF0W8iyqmuvQY3cmIhGImM7yBeNq/VqqO7efaT84fvR0bHv3z5NoFboGFhaoVFw5FLtx5d+1MLBzO2CZPj7ELJLol5HpNnXJqevoWo1KrtgzcdlUHD/1N55XhDUPHVkWm/35b/Igh/AABQs2AkEsWry7gVey+fO3vmzJmzZ86du7J+Sp/61U5xgL9NwCsSsBGOO8dMpbNu3Gf25pOXL+ib/PS5aw+Dr+9Z3L8ui5hSD8ODlku74Yt3Xz5/8cqWub19qcw6Pq27dPElxpPoZmaW7l7O3t3HLT56Yk0bRU5Q0LtSYuQf5txh7pIlg63f/Tqj/8CBu16LbBoMacNBVSi7xczFSwfbvFtrqIeIrPC6LUah6LSWjZq17zewpbuTs7N90z7dW2Am+aGJRcTicGQbjo05h6z7cGIPQzUkS1NLjs1XA4J+hqLwy1tndptwLIXZfdulWwdXjO3so1RXfTAE1ajYvh3Grjp95dI5vPFOn712/8nlXUv7+1RZgU6jsm/Uc9HuK5cvXd77y7Dmlma+7q169fIhkiSZbmphZefG8eoweN6+Axs7KMufPoqunGH1dLryd7f3/LbHj99m8ro1g+uzaVWvsSrinzyPTxO4N3TRigsKyyUyhYxXUS5XIrYdZ8xeNdYpe9fC0cMH7XleZt92Sjt7igmiwbRUqqk5i0hx5lbWphYWCnXlPmQsLW2sOGSt/vluPQzVYZYsC46bp5WVBYes+XByF0O1iIWplb1ttds8vxEIfwAAUONgNJaFjQPLhmNnYO9gbc6iV7kDCvwFZAqVRic+4/JCXz6VMiw7t2/TxNNeTePl8xVMC7zJORxbNpWEH+7J+rNilWAIlWlubc+0NGe1Grvj2s0ZTkHLVi65bogoKmF5OV9/opBCYZrZ2Nby9bI2s1NpK8eIP0QjE9l0XnL4VUUhNzf34d6hLnIbzLxrcztEJbLptPgQUd8/1F1ho7Xo0qubg4OjK5Py6bwehiEoVvXY7+zhiyK01CziMiw3KxXTqOt5OhsH/wd8oTnvnqSi9huextzYPaszh8ykYVqNDsPXgMP0l3Lx7Obq4UZiSfJ5chMzG/ynlWNrzqCqNRip2g8shlJMWNb2JixT03r9V5+8ttLt7arZky4n6sepxbyKMhn+gUwxYetbz5dj6aisdtVck3B31cQVJ8TD9vodm9Petup3o6fN46ZFXjy9Y2wzB2sL1y4LT98JCty0dP6v9xM1iMq5w4Ijj4u42bm5fvvGufB0Kov+7e1Ct40Z1WXqOeJiOsIr5NKV8nquDsSwnp2LN/5/x/iULONgMTdNpZDUdrW3d3FH6Oy45EyinpemkknqeToa7gD95iD8AQBAjaN/rMBwvQr8U/C4gomLs2NDE2OjIiLexcQ9PLbn0jOVb9fxXT0Qi7aDRngyIo9v3HD+WXRs5K19S6fMnn/4eZqEmNkAQ3UarUb94dY5xLTVlJ9/7i8Nu7LxXKSaG/lw59JpS3ddep3OzcrIuH/q4gupwKGtL4eYuBpUp8WhH66LqgV5udzsUjz9aHNeHVq7aOamsyGxce9Dru86Gcs26zi6HQfJfHF47aJZG8+GvMfrN3afjGGyO49sy2C0HdTRwas08GLA++jo6LiHF26/oiH1+7V0QnTCgvz8nDI5HgTqtOnnLBcEHjn0IDn50fHjt3PLLfq3q1MpH2AYvmv49hBntyoxc3TB5MJIvwcJcXEh904dvxH4JlRbkZePIExTNllZlpiUIjZpMWxiM8e86+vXnQ9JiI/3O7529pyFh57lVO0tR7/Las3HM2WMekOmzBigDTv12+E3ZVkxj/auGD9/66XnySlpmZn+ly4GVRTadPS2JybWk8acO3TxtaTuqAHeYkOvM2Ghb+PSuDwVohUV5manFUtQqm//jTfSxDiZUieIPDZzRK++Gw+f2Tu6TsnTQ+vnTFxz/FlMVMzr60fPR5BY7Ue3dbBpP2hK634WoUE3oyPeRUcFPA9TmJn1b1fPlqQTF+dzM/TfCOLRsLszSfHgyJ47UbEBJ87fTcqz6N+2NpPk2aCrI0npd2zPXbx+8vydRK5FP/2siEaEZ8zUIvGf6TL7n1blL4/169cTn8C/CP9hv3DhQocOHerWrUuUAACgKj8/P0tLy44dOyKIOO7+3ahcxNTDgyrILSjUy8/j8tVUU3Oz6o+Pgv/p8ePHdDq9e/fuCKKTFGXER0a/CgsLexvy6tWLp69y7TpMmjt3TDtHKhmhcry83WhlaS8ePH759s27css2g6dMGdjI2nBHHAHl5yZVkBx9m7XyJDrdMXdzNpWWxj/N1Dg27jG6jW1ZRtjVm49i4xITU8UenYfNmj28kXmVLuM+0Ahyk3iYg1fzDl6Gq4SCxIcBYfFy6+Y+HI6nA7kwK+zS9fuhL16mkev3/GnKyBa2ZMTKw4FalBV24fr9sBcvU0n1e/w0eWRLDhmhcHzrWiqyn106fvNpyLNXPLuOA2fP7+lBIYkSrl8JeFti1qaRo4mNT21XclnMgys3A8NzWU0HTJo+pjW+zI80wryUMh0H3x7valctWa727LKShEe377958bzUrHXXLq0tLVAbz3at6zOV+elRj1OVVh5Nu3Rq6sYUJwbe8Hvx9sXrHFrdHlPnjGxiWfnEKSouSCnXWHngu0y0HtuZY6LhJz5Lk1rX7TSuvb0w+82tu0FRMXGpWSrXdoOnzB7Vyp76cRFoacabsBfvuCWladFhr17iX+HL50/TJSynOs0sCh/7vwzlWzavY8+g0ugMBp1Oo5JMtGXp+VJ2rfZ9GjrQLZysMV7e2xu3A0JfPM8i1+0+bv6oFrY0MsXG08GEz31x/uqjN8Ev0lG3jsNmjWzmRKPwE+5eexiQx2zdzJVl7e7lwRSlBd26F/SWy2jUb9bPo1vh85Kt8Dobr9801Bv2m7lwTGsOjYzwUp4EhbyqsGhZ247+b54H3LBhA/HJcNL2E3jDxzcBb/gAAHxVpTd8FN1etnDvmdeFHCsmiTgXo1FIG4zZsOGX6U3hxr8/o9IbPhCdSiaTyRUfnkLAMArLwtKc+emefUwjl4gkCv35GirT3NycaewZ5ROtUqrUkuksVqUIrlNJxUIV2dTcgk1DVUqlKO7uhUgR5tN/dmdnc1b1JXyA4YtSack0FtEZDKqSSFUolWlhmEOnxJcp1XcEQzYxMzdnf+i45ffq+i0XCUVKlIRgdJaFGbHlJc+uvSxBPIaOaWN4okKrwKdRaBEK08zCrFonNPj2yFRaEo3J/sLNBahSJhZL9C8vo7EtzUzIarUSoeFLwPCfSrFIQzE1NfQto1WKhUK5Dt8GiompmYUpo1rs0apkKg3ycZcN8O9ELFSSWKYWZgxMpVAoUwNuvCsWuAxd3MORRqdWWYJOLZNJ5CoUw/B/9QX8AxVfk5kZTSeVKjUUE0t2lX5f8IXjk1NZpkzDggzrkqjx+fTbV6k7nE8jyCam5sQItPjlnZAMudPIiR0t9QFOq5CIxHINPq+ZmQX70759qn/aZ8OK1eTq2/P/rvIbPqqsGMLfNwHhDwDwVZXCH/jHVA5/PxpJZEBohc6688CWhuwH/hRRTHBEfjm76+h25lWD1H8YvN4NAAAA+KGZNu/VvWefZpD8/hKLxp279Rve2qzGJL9qIPwBAAAAPxwShUql0eCpob/I0HpVLzzXJBD+AAAAAAB+IBD+AAAAAAB+IBD+AAAAAAB+IBD+AAAAAAB+IBD+AACgZiCT4W/sfxjepNCq4AcE/fx9e9DPHwDgq2bNmmVpablmzRqpVEqUwN/DZrOXLl2K/3fz5s0SSZU3tQHw/XF2/vS6Zgh/3x6EPwDAV82YMePu3bt169b99PZT8PfQ6fS0tDQKheLt7Q2tCr57kZGRxCcIf/8FEP4AAF81a9YsU1NT/C8KmUz/Mnnw97HZ7JUrV7JYrHXr1sH5VPDd8/LyIj5B+PsvgPAHAPiqmTNnent7439REMPgn7B06VI8/G3atIkYBuD7Ba93AwCAmken0xGfwD8Eb1IURYkBAH4YEP4AAAAAAH4gEP4AAAAAAH4gEP4AAAAAAH4gEP4AAAAAAH4gEP4AAACAf41cKBYLf5heBVGdlviE00jLuCnvU3JKpZWKf45SKhELoE/Gvw26evn2oKsXAMBXzZw508PDY/Xq1cQw+CcsWrSIzWZv2bIFPwAq+IWFhSV8BWroEQPT6egcdy83R3MaMe3XySvyCgpLhOoPPWpgKEq3dnJzcbVmGoZROa8059XNa8lSxKXbpO61PVysP1s4Ki/Lz8kullJImM7Uzt3Nw9Hs90/SKAUFpWId287d1rACVFFekJNVJCEhmH5WV0cz4+KVwqJCbn6FikwmYaiWYu7s7uFqy6xy+MeDmbg4N5vLUyIMa2c3V1cb4yZ/oBIU8CQI097FikFU/id9llAKCjMLhEw7V297C2NVk/rw0NHDD7X9l8ydMqiBubH4Eb6VRQXFFXKdsUcSDENJJtYOLm6u1sZVamW8spLwB3eTKkT2PWf2qm3naGViGFGJTl5eyM0uxlsAQcxsXV3dHM2oxjGfaOUVRXnZJWIMRczsXdzcnEwpn9XtXNw8nEyrNbxaWFTCV5rYedhVH6NvvZL83LxyOcqwdnJ1d7P50EoaSUl+jqFuZah/tsX/pspdvVSBhz/w75PJZK1atbpz5w4xDAAAn5kxYwaeUYyfVVJ+WVE+Lu8Dbm5OcYVYrTOOB3/UwoUL8Txt+KiIv7xsTEt3j9qNGzVq2LBRg7qeLSasPvuqRGMY+0eoI84uHNbAzr1OY3wBuEYNars3HbLo5EsxMUFa4K6fe9rZ2jjaW9s1G/7z8dByYsQnutRHW+f2cPWt37h+Lbcek9ZcT/0f36nw7anZ46YvPBuvNg5nPNo5p4ujd4MGtd16TF51PRo1lpUJNzZObujo3RDfsXq1vdtN2v4gTWUc9RFaHnZ5zfAWnnXrercYNv/g42yibqQuCDk4ecmi1Q/TicIfoEm5tWrezLlnYomNwxW+2L9vy5ILsUrZp9pH6pR766e0dXM1tj+uQS3f1iMXnnhdahitUyUF7p43yNnRyZFj49xm5M/HnuSrq303GkWC//bZ/T3qNmpUv55P30krb8bKNdWmQdXJAbtm9XGr1aier0+fab/ciJcbpkDVKQG7P9an/nIjTq4h2o8gi7uweMrYKUfDPnydH6GqovArv07sUKthPa82I+YffFqk1Brq6uLwq79OMtaHzz/wpFhhqH8rRNQzgMu+AABQs6hf7J3Q08PV1dXT28vTyN3Ds9/Sk1E8Ygrw52EKfgGn/biTr9/HxcXHxyUkR+1xT9kyetraOzkfplDLhGVFxcVFxeVi+ReuW+KhXGDfdcbhF+/xBeDiElKDFtsXB5+/GKFAEEXYgY1n35MmnTq1fc++PSfWNeO9O3DkcRExr1Hm3cXztjzQTH6envg+MS14qlnI8aXLH+YRY6vCSsKuHjtx4mqiUIrqT+hII45s2RhY0vV6ZEJCavB0s7BjaxbfztZPWZQWS6s18FJ0PL5jSamZb8+vGFSLrh/xkTzmxC9LTsbX2RGdnByzr1Xp/d9+3R8h149BNRpN0cO9KxctOH87XaH4nau1WqWkvKiouARXKpAoDd1RisqL8ovxxioX6oypAytWO/fsPXztQA81vlxDqQqlsMi66eBDeOsZmy8h7d5C5+JH+04/F+MjI87uP/FGPvTQ0Z37dq/fs7KzJOzA7gdpVfJM/sPfVq47L+x3Ly4uLjHOb5Ll671L599IrLIqReiZA2tvZdU/+iIuKd1/mnX43jnzrqTgy488u3/tzay6hvqjqTbhe+bMvZyEb+gH0oSAS8ePXk6UabTVL5Gqoi5tWrA3xHzpy/ik+D3txbfnzdj5UoD//zT68sYFe16aLX0RnxS3t6P4zvxpO1+W/0d6lYTwBwAANQuJymB5DZ93JqJcIhHjRCKRVCJ5e2JBa1tiCvDnkUgkMgnBdB/vJ7PutHDZ0h70HH+/cDxUa0UpQUeXzhzcY0D/fn1HzVt9OjhbgVaNAYYlYJi20h1ptbv0deNYvk9IQ5Ds9CQpxaRBAx9LnVohse++6vzR86t6OBITGpQXFKMNmw4f3s3HMOjTrlvrOm68ovIvRS7ui4evihQmTXp5kKkYHv4Knvk9lzq0HDe9kzU+1mf4tIn1LMsCguIQpCQliSXOstUUJ8fHRMVnFgqUxiV8okiKSVC71+47qpMVgph3GDe5Uyu7+Ih4FZ5f4h/unTdmYZDCqVvjrh4o+QuRAVPnBZ1fNb13534DBw3u3rZ+z9GLbidKcl5eunLxfvCzwKNH9p99x0PQ/Nfn9y8fP3zMmG4d+05asM8vW1k9Qxnbv3Lr1W/T3dfNLi4+TY7k5aZLUVqTRnVsyDqVxrX7vHOnb+0YUrfyZUxBSQVWt8GoCX2b6C92U+u06N6xibeohF/5N6KS0OBXQrNWs2b3d8KHavcZPbWFk/TJs7D3oa/DRKYtZs011Gv1Gz29lbPsUcCrYsNcCFIW7vcmrZDerG9tRKtv7crUmSkpco7P8LHd8C+T3W7Y2D49XZKjU8TqjIwUJccbr+PLNG07dGzfXq6pkYmlxGzfGIQ/AACoecgMlpmVJcOEhWPjTE2ZDBp+8AR/R7WLY7Z1GzZjKySx8QUSUfi10zdSLfruDvAPeHL9t+7UhJvHr74t/uzJAxKZTKl8l5lAqJBpTZgMBLHz9rE0EaeEvEnMTOfy+WKURjehU6t8Y1atxq5dvW5GJ3vjID8nmydQWFmaf3agxvAQEyUy8+oxoLkVHpj0myzmC1CUbWuLxzc9qo2thVJbXlAhQ3gl2tw3UfdPL1u16tdftxw4cTe8oNLzFvp5ywtydSb0WrV9jFtuZ++sQ8k5hXhMwSgenUavuXht56L+9S102i89FyBIfhtRjDReefVJYODjm/vm1SmPvXcvmtVl8rhxg7p16z1z1rwZLZF3l45fi1D32RP4LCjIb99PrqVPjl0KqSCW8Ame/yjGG/AM1EKhRKw1MaGTEBs3DzMzSfLrV4kpqVyxQIYgNCaDWqVhzBuOWv7L9oVd3QxDuhJuVmm52NLctPLXIRWKUJ2pnR3xW5KpBcdajfEL8vNFYkxn6sCxMdbZVrZWGp0gr0KoH8JKI4LDijU2nYa0ttZoPjtzxy/N19BI9RrVNt7EaG3rRCbTuUVlZaVFWipSr1Etos7R13MKyjRfaMR/H4Q/AACoYfDEoJPxi3Nzi4sKcPn5+UUVQvl/46DyXbGyc7GQI7xCfmL0y+c5XJJ37ToWNCrF0qdhU3ZeUfijKC4xIYGEaCX8Eq6wqLCgsKiYJ4q9fSsgp5TatqEHgnA6jBhV3z5zz+YdZ/dfeHLnxuM0vrJakqCyrOw4HEum4cBcFnr35jMhtVavdr7VD9TCqMevy3S2nfq3daYa4ir+zVvb2ZIQfn5BiXESdXlpRUE5PkKnlMnKlGZtRs0/cPrMuUs7hjoUh1++FCkyTmb4WdJWVFSIhYgJjbgWTKbSMIFUUFGBIoy6jVp27tXR3sHGlE5CDUmxOsu6AxYs2rRoYEMzOkZydvfhWDmKBGIyYsmxtTIzt3BwdEIkccGBSakKl9r1rCgI2dy7cWMbXkWE/9tq17PJFK1cUpInqigpKCgs5YkSH/g9SedS2jT2MEFs2vQZ2Mwj99DOHcf2nQ++c/1pnkxqvLz8EcXE0o7jYM00pEdBqP/DwGLMo3enxsTTJgYWtjZkkiCbW2gcFPNLS7klOi3D3NqWTBZk532o80pLc8swneHULj/2WUiOiN2qT1tnGmosVYYJ+RVCHpnJJFqPRKGRhAphOTeXzxfySSzWhzqZhoikwjKeIVB+cxD+AACgZiFhqK7o8ZmFfWq7u3voubk1n7r7QaKEGA/+OWQS/i+ZX1xYUPbixfF53Z3sHR3sXb3bTdnz+GWhiieofCTXP0uZfO/ozHb2nl5ers5OtpbNRt6ht128ZGwjw6OzXv2WHXrIfX107gDz0HOLB7Tss+RctMwwZzVaRfaz7fMXXiluPWPzqr7GM1mfiEKvBZWTnIdMaWBHwTAShUzVny1zaNmzHbMg8NLeizFKhTIp0C84PKqMSVPLTFr9fPzKo+PzunhzHOw5Ho1q6yLeP7wZXEAszQBF9M82VM12qOGlx1Q86+IDGi0+gbFeHZluYsqkZd9aM6o1x4rTZuL+J0mmhsBjeG0ynpZQpLCoTBj64sqq7o4cO0d7B+fGI3+9EVKiFfBUxkUYUenM7Ofn5rTjOLt5ubs42Fo2HHUHabdh85y2FnjDUmoNWHLscea7y+sneb0+t6hXo67T9r8s+PLLrstDT6z59Vpu44VHt4+szagcczgN27di8R6f3H08tFwgfR/8+Onr90VUrdqzUbtWbH7giV3H3urrzw11BoVEQ5TR/o9zxdaDZ7XxMMdQEplCpX72/DDefnjjVWkffFgf7PFatXq1Vv5mIPwBAEDNgiFkisvAeWfCSvX3/Bnu+Mu8+dvIJtX7zgB/V0VRZoUZ5lrH3UFHcugz4WBIkUqhb3ChSCJX5jzcPamFJTGlHn5UJzUYvexqkkoqV6f4b5/YpHb31m07NCauJRK0WqvOc/eFJfovclG98Hv94a6yDzSS7Cd7lizblVh/0Z7za/p4EOWP+CGX7idySy090OSMd3FZZbzy0szsLIkKs++wbPeJX1rkbxrfsnWrrVHk2t2n9nEk0TBEWJCfVyb9cI7R1NzO3sHFhFbp6irV3tnB2oGmNsQVHKpVk23N7JwdP085X5AVsG9+b58B52St1scqNNmP1g9vLVVUuhyOtwoF01q0H7nxYYlKKcEbTyiUKJRpD/ZMbFKl2xitSu7TZ/blZLVKpcp5dWxhl0a9mrbt1py4jk2QS82aj9nyPPrlSnfG2weh6VWTFKqQZD05vGjO1pemM3Zf3NmHuH5eiXXnRZvPbO6oPDi7Z+d2O8M19QcvGOBCoeqsWszZdHZrZ/WhOfp6qLLe0IUDXE3NpdG3HsXE5Tn5UJPTYmIziiv4vJysjNLKt02SbDgOtk6Uj2dxMVRNsmXbOtWqzeFYOVEUles2phwXe9sql/q/FQh/AABQ0+CHPKoJy9RCf88fm22K/1P99jHwV+hP7HzqeQ9LD3sdpmA5tG7WyNfDiULmZecUYBQmm81iYaLi/JwiYbWHFjAMI9EYbHMEj1a1e85dtXGke9r54/v90/FxqLggMy2jRIlPQWUwTRlWpmYMzAxfpXFWw3eKaJXxAcf23s1yHb1h18oxzSxonx2idXyxWslNjbqzc/WqFRtP3HsXHx1x9+HDpxk8RFIs57SfdODZk8DHAbvHNjCTsyl2bZtZxd3bs23ricf5xAJKC4rpaqqXa+Vng+xcvRmINjs9zTiYmZ6hUlNqudsZB/+30ozYXK3lmM2nDqwc3cQEkQj5fKEO1RpuKsR3iUQhkxEnD082U8rNLcDIJmy8+Sjy8qKcAoGq2k8shpKoNJa+TUhuHWcs+m2KR+7lPevvxOofDpYVZ6enFMrxIElmmJiZWJmbMkgW+G9BlReBit8/ObH7xjvT/os2rR7X9Iu/Cyn5hWqb1pO2BQQ+evx42/hmLL4GselY31klLVFZtSTq2ye0YFeoEU5HD0u5VJCZEX/3wNo1q9YduvU2NvG93/07/vElH7I0ztrB3YRCSU9MMZzH1HAz04Uy1MfZxtbBhYnXE1INSVHLzcwQSrFa7pz/RuyC8AcAADWO/qqSDv3yRS/wl+jDl1rCL8wVlhfn5xeV8qLvnr/xuNCmSd/OvnROy64dbZVhl48ee5pcUlb45vbeNb/+evZVptQ4rxGGfyc6ndYYfBC6WZ2Bk0d1d070u37GLwMpjQs4vHn1nsvPM/lCAZ8X+TQ4Vi6wqePy8cQWHmNksTdPXH5TaNWlXzt3sqCksCCPyy3hi1X4t63EQ1WFVINQPLpP++3ktctnjh4+cnLf8vHtm7fpOGHM2MENzNNDTh8+dOpJBmJqxtZlhYVkYpT6vTpYM73rN6Cwy8LfvOOVlpby3kfGytmMFs1q0RBMIRIKBDINgtB8m7Q0lxYFX7sZLRHH3r3ln1FCadXKt3IH1BimQ1Giz5YqMBpdptYqlRK1VJD15sYN/+CwaLW4vBxvABMGWSsrLilGTJv27ONlknr/yJEnWXweL9r/5Ob1a8+85FbqSQWHoSgeGonWw3e068jBXV1S7p07djdJXZQQdGLH0q0Xn6aWlVfwKqJePo0SFZnXd7KutEWq5IeXbwRlWnTq38WHpTC2XnGFQKFDUJVYwC8X46vTFYddOr7nYECilmnCQrkxYSlyba0+3WpRi19dOLb34CNjPTc2PFmhrdWzbW231uN/PfXg5rmjh4+dPPTr5K4tmzT/adzk0S1dyZhKIhRUSPFlUjzqNrbUlAVeux5WXB7v//BxQi65ZXMfNsWjVmMLXVmAse738HFcLqlFi1p46saU+PaUiT973vmb0d84Cv510MkzAOCrKnXyrHqydcigMT9fjPtCV7ngT6ncyXPcpSWDvRn6xx2oODKCOAxfczvtU0e/4vjz8/s5IRQqiUrzGbDienz1jpJVYSfnLlu2wS+PGNYrD9k5uRnSdNKOED4mCNk5vT1xuEUcey84l1q1F2FF7LnlA1xMmCYmDDrNsBH4dG2mbH1egZU9/nXp8pkno5TEpEa6uCuLp07/+Wy8sevg4hd7ZnXAZ8E33a7bvJPhIkMVV/Z63+wmH0bMOhFu7De6MHDN4kWT9r9VGIbQtHtrjZdJ7bvPrTSvkTDm7NyVC5fdSyOGKyt/c2B+Z7ph6c3HbTlzYvfkuSNWPyrDsPQ7G4a5Iw1H//q4GJ8s8+GGvo74VPhk9p2mHY6r3nm2Ku7KkrVLV9znEsN6Bc/3T2mI1B6y9F4OVvpy97SW+u3Tc+85//w7OTGVkSb1wbL+zgiZztQ3H9F6dYcsuZWBlQRvW7pg9L5XIn175z/bN70Fvh142HbrPe907Idul/OCD8z8UO8192TM590xZ9xePWfshCPhMv1AXtDWRbMHbX0qMHyHiowH60Z5kfBVOveccyLm474pMh6uH+VtqPeYffxDnft094qfh+4OEejvpPwXGdvOqMpZ12rjwL8DXu8GAPiqSq9304SdWXE9w77n1KUDav2h27LA76n0ejd9F3NqtfpjF76GS7gm9Er952CoWq3EJ8ALZCqdTqdRqhxBEQTVqLQYmUKrPALVqlQKHRkPdDQyqtUhqtSAq7FCxKP3pNbW+BKIqYxQrUaj1ujP5344GmMYmcagM2gUnVqpQSl0k6oXglGtWq3DKDR82fpBTKtWKtUoiYSRKHQ649OdAPh0KmIEmYEvxDiiOPj223LMffDIlvrnUTB865UqLarfNwaDXm3f8N3AN4xCZ3zh7gL9VqjU+GZjFDqTQUE0WjVG1X/QL1GpIzPwZsR31Lh8vPX0W/f5GvCt16+CXGUV+GqVeOvRGSYMCqbFNy43+G50scC5/6wO1tUu+hq+HpUGX4G+amhAvPWodLz9qKhKpUFJNKZ+M/TLVCm1KAmfwrCnH1ZnaCR8Mn0dX99n366+edValGz8EtDiV/dfZyuch41tb66fENWoVSo13nr4vhl2l1Cpru/ax1DDdGr8aybR8Omqr+P/VeXXu1VZMYS/bwLCHwDgqyq/21cpKpeoKSxLa3blK3Pgz6sc/v4lqFKiQEl0lum3/u6Uaa8iijSsJt1bVn2m4j8NU8kVGh3NlHhr8bcjSw+L5vJojQe0/UO3Rv4nVA5/VX6JAAAA8N9nYsHhcCD51UxkEzP2t09+OLpHy9Zt2jWu/Lzyfx+JwWJ9++SHY3o0bdmhWzMOMVjjQPgDAAAAfjhkBtOEyaT/qxcevx9kOt54LEaNbT0IfwAAAAAAPxAIfwAAAAAAPxAIfwAAAAAAPxAIfwAAAAAAPxAIfwAAUDMY+60F/yAK5Ysv6gfgOwf9/H170M8fAOCrZs6cSSaTFyxYgP+NQZTA38NisTZv3mxiYrJ8+XKZTEZUAfhOtWz58RUpEP7+AyD8AQC+asaMGbdv365Tp45GoyFK4O+h0WiZmZl4pPby8oJWBd+96Oho4hOEv/8CCH8AgK+aNWuWu7u78Q0f4J+yePFiNpu9efNmYhiA7xe84QMAAGoY/Jfzyn93AwDAXwbhDwAAaga4OPOPw5sUWhX8gCD8AQAAAAD8QCD8AQAAAAD8QCD8AQAAAAD8QCD8AQAAAAD8QCD8AQAAAP8WTC1XyOU6Yui7h+oq7apOKeEV5RVXSJR/ef/VCqVcpiUGwF8G4Q8AAABAMI1KLhEKBHyBHp/HFynUf+5BYFSjlInxJXzA5/NFMlXlpIJh0sire46e2Pu4QKH+nQijVYjxletnlig0v7MBGpUEH//5JJXrKFGrDFWplL+3V6haJuLzeHyhTPWFaKZTq5UK7Z9qD52qqKiwlCckBnFZgbumt60zYvXFd3yiUgmmVSskog/tr99/gbhq66GYLv7uuTNH9wQVYtiXdg+HavDmw9uPL1Wof2cSRKuS6Revn6ZK6/1+XYoX9aOqjagE068Xbz18k6u03u/VvzUIfwAAUDMpKwqzExMSkpKS8P+mF/AUf+rQDKpSxF1ZOr5drXotO3fs0L59hw5tG3UY/8vhx1z5Hz7NpAk/s2BkU7d6LTt1wJfQvn3HDq3qtxm28GiQwDhel3Bv84x+fZbs371974Tew+YcfFZYPQ+gyrjbG+b1r9eyfaf2Ler3m7zs/HvVZxEGTbq5ZWYP3yYdOrQ0TPJWZfzi8frmT/Wl598Q9Y8qXh6dPmrKgjNxaqLwEaYtfHF65agOjdq2a9pxxJzd91KqRFZFbtCOn+YvXPMwnaj8Abrkm6vWrVrnV2RJFBCkuLTEqdv0W5dPzuvIIUqfqJPv/jato0+dFob2b98Bb72mnX6af/hZkaEBtLLYe1un9uu+YNPm7QenDRowbd+9DIXKMOdHqCo/5NzS8V2a4Y3XdND0lddiFJ99eVrF+9tbp/Wr06Jju5ZNB05ddCFSYGhhnSL+Dl6vra83Gzh1ob6ubz61OPru5lnDGrXu2KFd22aDJi4690agqPY2GK2C+/LMLxO6Ne/UvkmX0XN33c+RGlpYp6+vmNSthb7+05wd93Kk/5n3yED4AwCAGkctLeEGX967Y92iX1auXLFy1Yq5i3/bc+5FrvRPnqsCn2hkQvtWQzddCA4K8PN79Pjl3U1NFf7btx4JyECMjaoSFGTGRUZFvYtKzC4WfeEwjmrUTu1H/3o22N/Pz9/f79FT/0vzvOUJT+7HyBBEGn3hbCDXYszWDQuXLFu8aUU3M/HbF/FVz4BlBe7aeyWGPf5KYPDj4MCrE5yzg04ceF5IjDXiR54/eyWB1Pf4nZAXgZenuhcGntn7KBtBJO8unL2SROp7jKgXPz67xy+LmAkPcMr8yMe37z+JLFVpscqdhev3TRJ3/dCxJ+XN1t4PfXN3c2dy7JUz56Mk+rEqUVnh+6tH9x44eT+ah/3OmT+NuDQnPjIyKjo6KioqhVsiR/G8yM3NyskvzMvIyBYo9BkXleUUKG1tnVqbC7ML+ArjnJWQtAoxp3HvX88+17e/n3/g04ATs2qrYu/cfitEEFns3Zt+KYyBG9ctWb501qpF/TnCsGcxpVX7aEwNvHz6eb7HoquPngWd+Mmh/PGx06HlVeOf5N3NG+fC1W12X370LPD0JK+S+/t23UvRIJKY29cM9Ut4/dQk71K8fhdPwEUvT544HUzuc/yuX0Dw3dPjPQv8T+4MTK+SnuXx908fupvrvuByQPD99V1Mok/uPhPOw385S3x49tCdbJefLz0KfrChGzP21K4zoWX/kfgH4Q8AAGoYjSzO/+Cva67y3IduOH388MEDh85uG22TeW7L/ktv84lpwJ9EQjCMYcFx97Vzdvf29nBzajVk0ohunNIY/xfvRYazX+/uHNi8aPq8ubPnLNt+1C+2VEeEwk9IJBMrezdfO08vby8vb3fnOj36d7WjayLi8HBWmBKZK0Z8W3dq4GDHsW46aO7a+XP61bYg5jQoz83IpZo369qve20nZ6faXbu39TZHU3LKK5/7KwoPCuTq3HpOHNmSY1+r+6ihXSxkCQGvs7nvg59wda49J44i6l3NpQmPQuI/nBwrjX35Jr1QZlvHhkyq8mJX/LM6Mz4iX2fabMDAFrac5oNH9vGyUYVHpuOxSZP56sr25b/ez1Q4+NbiIPisVekbACuPDji+Ze7kOfN+/nnmhBHzVu9/nqPKj/Tze/A8MuLNtWuX7iQIEIT3PuDSoc0bt21fu3DJb7tvvMVb7zMYw8zG1Yejb39vTzfnWr17dHBi6cLjspVIcXYct0JTu3XHhi5OdnbNB81ds2jxyMaOld95o8vJTCyjsLoMGtjO3cW3XSNvE1lxdEqhtHJArIh7FZwjcR44fkI7D5daPQf378VRZTx+k5ASHxqSK3IaMG5ie0O9Xy87VXpgSFxmUWEhhd6kV98BDb3cnev36NS+ji0tPadUVGmZ2vzUmDwZo1X/ge3dnZsNGtSznrMqIjpLquWmxnCl9JZ43cO56cCBveq7qCLfpfGr/9B8GxD+AACghkm6ffp0tnbg6o1Lh7V3dnX38vJw6DBh89JxDhXvH4cnf3ZND/xRGKrTVjoz49qqUxeWouJVeI5aHXF28/7nyo77oiMio59ubF3kv2/lifAv3LlmSFOfkGkYStaieI6ytuOgFD43M1skEouVKI1tY2tnzaIQ0xlwui04dfr8pmGuxkE1nycRi6kUcqWcpC7K5aIox8fL0zjM9vZ10iD5aXFxeYVV6z7OWiQ/lcszDEoiHjzN19r2HtfLlYbvZrX8UZKbhlmYNW/ZnGkY9PDxJVOp6bnFePiTctqOXBf4+tbeqR0cMM1nL0PB97Xo+emDz+Kslj+OjggNDToxy+n9nWMnX5h0Xjhnzph+/Yb+8svq6a3MYs+vP/iA2/FATPS7iIgjA+nR5385EiojFlJV5eajUBCMpNVotIiFrQ3CqMjOyBby+RIVRkXMbRxtTfF9+YTiMXD13vOnFnY2V6vVpZHvE6UUy5ZNfSwrBURdWX6BVmNbp7aPcdjKzdudRC1OS0osKNFqOHVq+36o+7iTKAVxqarmU/Ydu3dodF1jXSIUiAUCKplSuR3KC3JRNq11p1ZWhkFnj1osFjM9v6K8MB+vt+3SytpYd6/FNDVJ45b8N94oA+EPAABqlsz4t+QGTgMHdbUnCgaM1ouuXD6xY1Q9OlEAf5uFjZOtlCIqEoS/CHhWXsaq62FdkJGeWWpau5NTiSLy+su0qgdyEkkpKM5KyktJTk5NTeMWhZw+cC4lj96vQwM82fWas7idV/rSObM3Ldp8ef/uq9GF4uoPvZLI5A9RRZv39OjR23xmq3H9GlXKOHQ3T3cMK0hIzzAOK3KzuVn5FCrH3atKXZ6blaevU/QH+fI315/y6a5DJ3a0VKrx7FEtfajLyyoqSvAPRB0lkZFyPr+sTIuwWrVq06lDHQRFMRRFPzvTqefUfeWV03d39bWsyM/IVpBsLBzqY1oNvhc0fOVkCpXOQHgv/f1zs9BantZFWekZ+Sa1mrvI0airATnEIoxIZIpKXJGdmJ+dnpySmplbGHbm5JWYNHrfzvVNEU73cdO7Nsldu2Dur4s23zyw+1Yyr0JS7R4HEkl/ZlKd+ezI8n4dp50uYjUf08WXXrmJKY4uziRyYUxCmnFYmJ+dlZqLf8+OLi5kSmF0QipRL8DreXgzGKIo8Y1gZU8unrnIJTUcP7g9h6jhdAJ+WXkRmUwmNkb/R5lYVJqeweNXFOPf6Mc6CSkXCkoqyo3D3xiEPwAAqFG05WUiBs3G1sp41kgrLstJfR/5LjomJi4ujVsmrnYXPPgbUK2WTKIyZGIeX5aS+OrKnkWLlixZvGzl9svhfD7dlqSpcvaKhGDF0YFnti5auWr1z9NH92n706+x9h1nTRpW2xDfHNpOXHsq5PxvEwZ5FSXd27l46d7rUV86d6gTFMT6Hdl7Lo7ZfeKCuZ0ciLKRXcPOXZ2RpCenTz1JSU4JfRISl5OtZZE0zg07d3PB66eM9ach8bk5WjaFiiDiqKB3EjOvvkN9LfUJCw9klCrnGxEqXqBSP2VCfbCh6ov68GMMCXj4M/z5BToFvyQv9dml/RuWT567aMtJ/6hCBl2/Anwe4tXJfJ5QmZ4RdW/PooWLlyxeuPi3089yBCx7ctXnX8lUennK27NbFi79ZdWi2WMGdRi2Mdqq8/KfxzU21Y92aTf+t3Nvr21bMLYxN/7Bjvk/bz37ivuFn3W6R4dJq88/e3l8Wt18/3377iUqiRF6VrXatHdipgacOegfE5f06vmb9zlZKrpObe/buoMzM/2Rsf76+ev3Wdkq5sdTpFo5PzX4/NGrMUjHab8u6eVB/ZT9EDxgU8i0qs1DwxuPjv+Hijd/ZXgZLxID3xaEPwAAqFH0N6fhRyXiFBEmSntxYc/yWXPmz50ybtScTefe5P5nniis8fjlBUIWYu/BMVPpLBt0m7Riz7Ej+w/s37//0KmrD89unt+7FouY0gBPAE4tB87ecOzQ0eNrpnX3odC93Zu1b0dcY0TIDDMLay8fF++uP83dvW9RU0nOs6ex1c8D6dTFEdcP7D4WSms/cdXcfk0Y1Y/SLp3m/rygv038jmUTJk08GiG1rtuvhS2iRkxbzp6P1xMM9SPhUqu6/VtxyHRp+qOg+FyRtbeNVJCdWyKSSsSlZaWayo9ukG1sbcytSboPUQfVakiWplYc6z8UEArDru1eOHTuxUxWpzVHzmxZMLy9p0pTOdWR9Atke7casWDf8SMHDhzYv/fAycv3Tmz6uY9XlRWgGrVdg06zNh4/duzYpvkDG1uw3Jwad+3ia0iS+FaamFvaOng6eHccMH3rthWtpCXPH8fmGUYZoUpReUUpX0lhW9u7uHm2bNu2loKc+yat8jSIfYcpM5b/5Jh/9NfZ0yadCOPZNh/byg7Pw3YtJk1fPtq54Ji+fjy0wqbF2Fb2NAYDn0WrKYm6e2j70UBei3GrVw5pZFHtK7GwsrWyJWs+dK2j79jQgmnOcXe3sjSzJas/1lENyYJlaW/z6ennbwnCHwAA1CgUZydrhaasqMLwHCPJpvmIX48+ehcV9uLo+IbWiiJh9Q4+wB9GIlOola6xlr2PfCtjsFu3aFPPyUptopJTzO1dvHFenh4uDraWpix61WMohjAsOK4+9m7ODl2m7D5+dIzT6217dz0q0o/TKaQyBR4EMBLV1MbFq2WTuhwzc4m82rmr3KAtC7fe0/bddXXXvK6uFoxKp5gIqBb17L1k/+PM+Kh37y7/2s8ddSKzWzewRTCNZ58P9Str+3noHBGz1q6UuITw6yd2zupSx8e10YjV1/387m5Y/9veF4ZtIji4eeuojJyCAuNgaWE2GVX6ujoZB/+3/PfPk+UmU489vbhjbj9vKxc7MwZZhxqfJ8Z/EEkUCglxcLJHzTQShG3n7GlsPldnG3M2i15l7zBMR2dbufrYOTg6tRrx274j89yjd29Y9TBTPxJVymVSPFLqEArT0tmzebP69lbWVXvd40UcWTB/9Jr7hulxcqlQJCzGM1fl/z9gCLVWz0UH7qW+j4yKurJ6iLucjTHb1fXEp/HpufDAvRRD/ddhHnIWxuzQ0BdBcp7tXvLbCW6rn48cmt/NlVn1pKkex8ENY7DTcojWqyjJ1iilPs529g6uJDpeJx7WrijO1ShltVztP3tq5puA8AcAADWLW7NeFtwyv4uX4kRK/KClDyx0KoKIhHyhDM76/VUYnj7kvKIM/T1nKSnpWdznZ7ccuVHo1GFSn9oIp9uQYU6qJ7tWbrkdkZmV9ujo3GEjRqy7Fy8iZjYwPC6ixhHDzn0WLJjeLvvhyQ1X4pD8kHPLJg6bs/fu+6LSooKCgPOXnvGKbFr52hET64nfHFt/KFzZYMr4dozstNSUlKTExOzCChmK6KSlJSVFAvzr1qT6r1swe86OW/HcvLw4v1NnIkm0tuN6OCOpD9YvmPWpfjaCRGk7toe358hNdzOEQn4Fjy8tDD44cejQn3bt3reipzOik5WXlZUI8fRJa9CmlxWfe2ffqRdFRSHnD15MzKX17dS40vVJDEM1Oq32Cxd/GRbWMokkIz60gMuNDTyz79QN/2dKXl4+PoZpQlbzs3NyNRbtRk2sZx53atXmW7F5XO6Lc6snjB71271qjyahOp1G33zEoG37idMndci/t2fNyShxTtiVVdP6Tt5x910eN78w/+n1SwFFmWatPe0qBSlO235DfVuTXjx/lpmSnpn+IuSlyIczamKP+iRMVlFSnM9TIIg269G2pVMmbLryLicrN8HvytU3CrTVxP510Rz/LUsnj990OSo7KzfR/8qV13h90sA6yrgzO48/KqgzaVp3O34a/pUkJyVm5pWINYhOzisrLRDgyyT7Nuliqyi9su9QUHrOq4tnr0Qm0Xq1r8+m+DbqbKMsv7z/0OP0nNcXz10NT6T27NgI32StfnvyKuSVn+L+t1UJsevXryc+gX+RRqO5cOFChw4d6tYlnigCAIBq/Pz8LC0tO3bsiH+2cLGhZ6UH3w3lkjAmVVVWWMzLfn7l1O2geG2tnt06tPS2/vz8BPiSx48f0+n07t2749lDUpgWHRb2LOTly+AnT54E+j3NsO00beGC8e0dqWQShePl68koS3l6++GTF0/fFlq0HTFz5pCmtlTKp/iB8nLiyzF73+ZtPM2MFXN3Z3NZWVxgmtK+ca+JnRzKM96cv3TvXXTs+3i+a8fhc+ePamzx6USQNj/uTURoVBY37V1I8OPHQU+fBj56mK20dm/UgJV+996rGIlVcx+Og7cztSjz9enz158HBCagdXuOnjGmlS0ZsfF2plWp/zRzdCtb/AcB/+XAgILQZUVJeXKLOm17NsBnEL6/cvFRSBGrTSNHho1vfTdqefTt05fuvUpnNBk4dda4NvgkH2kEuUmlGlvP5h19jM+0fsR2tzcrK4q9c/lGcGBAAbtNt27trCw01p7t2zRgKXNTIh4mSc1dm3Tp0tKDLU7wv3Q74EVgcBq5bu9ZC8a0sKrUeAgmyksoVVt5NO/obW6ssJztmFpBfGCKyKJ258mdncXZL69cfxQRGZ2QKnFsN3Ta/J/a2NMq3X5HsfHytdMVvLp67OqDgMcJWvdOI+eNbuFEI5fFP3z4/FWFeYu6DvZuHBKf++ri1bvBjx6lYLV7Tlg4upUNjWrlwiHzuSGXrt4LfuSfgtXqMWHhmDbWtLKM16+fhmbm58e/efEkKOjJ08AAv8QKql3dFjbc2xfuPMhitGnmyrTx8PYyFac9unz9wfNMeqMBc5bgrUenkC3dfL3NJHj92oMXmbSG/WcvHd+GQ6eQKhID/J49LTVrUceOXrmzmv9vGzZsID7pL8ZXor+NBPzr5HJ5165dV6xYMWzYMKIEAABVzZw508PDY/Xq1YYhnVIoyHt99cRt/+cpYiaVrFPwHDpMmz5paofaLFMzVpUuMMDvW7RoEZvN3rJlC34AVEsFfL5Q+uGlYChGseA4cixNPmYgnZxfXsaT6q+2081s7Wwtq18DVIkrpFoK08LqUw8umFrCKytR0Gw59lYmGolAVBLz4Ha8GHPvPbWru50Vu/LVN0wlEQgEIoUW1RGn2DBUZ2JhZ8uxoisr+DId3dzOcCFYLa4oL+XLSSSMYmrDsbX50OXJ79U/Ukt5IgVmYmFrpn8kvODx5delVM8Ro9uw8SFUISwtKZdoEJqZ9WfzomoJX6oiMSxs2J/9bOG7yK8o48vwBMGwdLAxJSsUMhKTY83CFMKKsnIV3drGzoZNQZWispIyiZaEYBS2Fcfe1rRa6+Ebh6/CxMKa9fGUI6qS8MtLZBQrvLXZKN46wsSgB3GlIuf+c7t7mJkzP392QqcQlJeWS7X6JrDicGxN9ZNoZPp31lHN7K2YZH0r88pL9afsMKqpjS3HxjCJofX5eOsZ69a2xlk18v9j7ywA2li2BrxRICFYEtzdoYVSpS0tdXf3lrq7u7tRd3dXahQoFHco7oEkxF3/2SRQaOntfe/d/92+2/1625s9Ozt75szszBnbZdUz2CIlSq3b8qJWq/BEM7IlhUB7e/tdgcRh7KRQY+DAgdQx6xhcmRoHrjUnN6atmbzhXgoRmy0QY0mWsD7/RVBNPE3E+fv7QZw/BASEn9Lc+dOhUshkChWo00HljcHr4ZCFPP8iTZy/3w5B8tOYWoVx6OAOzd40jfCn4KdFxZQwCF3HdiE3d6R+YZo6f0hVgYCAgPC/ChqL19fX19PTA/8gnh/Cv4Rh6z49+wxoh3h+/xaGAd17DR71P+T5fQNSWyAgICAgIPx+wC/807wEGuFfB6V5X+L/qOcHQPIdAQEBAQEBAeE3AnH+EBAQEBAQEBB+IxDnDwEBAQEBAQHhNwJx/hAQEBAQEBAQfiMQ5w8BAQHhf4Omb2pA+EtAa9AdICD8NjSrSpD3/P0tIO/5Q0BA+CkzZ860sLDYsmULn8/XiRD+A4AnTSQS582bRyAQ9u7di1gV4R+PkZHu2ykAxPn7+0GcPwQEhJ8yffr0K1euODo6KhTwJyYQ/nOwWGx1dTUGg7G0tESsivCPp6SkRPcLcf5+BRDnDwEB4adEREQQicRVq1YJBAKdCOE/A9hz9erVBAJhw4YNiFUR/vG4urrqfiHO368A4vwhICD8FOD8ubi4gIpCd4zwV7B06VLgAm7ZskV3jIDwzwX5vBsCAgLC/x5KpVL3C+EvApgUsSrCbwji/CEgICAgICAg/EYgzh8CAgICAgICwm8E4vwhICAgICAgIPxGIM4fAgICAgICAsJvBOL8ISAgICAg/NeQiyQSkUp38I9HrWqyn0Yp5dIrSyrrOOJ/e5ONQioVC38b6/3/gbzq5e8HedULAgLCT4mIiHB0dFyzZo3uGOGvYNGiRUQicfv27aABlHBqa2l0tkTrWahVKjzF1sHGgoTVHP8ZRKwaGq2OJ9Mdwm0q3sTS1traRF9zrBKzmZWxd67n8lE23Sd2d7OzMvk+cjmvtqKimiOFICLV1tbawvD7IGpxPa2ijCZEQWoC1c7W2lwXppm8ybVAXlNRVitEo9QqAsXO1t7csFnbr0HBp1eUV7KkkJ6JFbjWVE8n1yLj0lhCtQHZ2ri5/AcAXwIl5dJKqtn6ZBsnC2OtVF7w9NjRww/kfZfOnTrITyfUAPsewDGso9XWixs8O+CQ6Jla2NhYm+A1x0oxu56e+OheNp1r1Tsi3JVi/ge6ACvSOTI9ii2F8O0Yl1LCqq0qr+OD+IlUkFRLojZEUznFytauQQ4pBPTqiup6iUrP2NLazsZUq05zNGGq6iVqvLGlrZ2NTuVGuRguCDY/uPa/RtNXvSDO39/PHzt/KiGHzRGIlSoVyDYsBq9vako00PtLC5CQVcsTovSpZGN97B8NBYPSoRIy6CwBqD7IxiT9P18l/hpoq5c6Jg9FNDM1JuK/r/3+YaikXCaTrSSYU4wJuD83yC/j0ZlclYGpmbEh/s9d8fejkghZLJZQoYKUekZUMyNDPEZ35i9DzmPUc/gqIpVsStIDByyOAm9KNiPhZeA3V4E3IZuQ/txd1Uq5mM/iCaUyJah+cVg9QxMzIuEPn7sGmjh/SkE9R4Y2MDQlwDWBtmAzhCo9gpGx/l+e+H82TZw/Se7trftPPk4WkU31VMABUfJxvoMmjpsxuqO13p+zqiL5ytpDJ+5nqW1NcEo1hEJDMg7apffEiNVTO8OejurLq2PnTx29laRGqdWO3YeNm7l8WgfqNxURM+HmscjTT0plOL550IjxM9YMDfy2qlIXPj904sSZj1wKlkdpNXjsjLXDW+O+yqO5FByQDxo9fd2IIBwKUsnzXh09f+ZiNIOsJ2NTWw8aPX/dcO9vqgRlXfztUyfPPiySoPWdw0ZMmD2jp3NjqlWSqtizW15U2nSO2NjHRSf8GYqCB9tOvuMGTts9MVDXYtV8PH47togYtmFkoLGxwTelXl7wZN/hI9dj+GQzYH81aPCkYn2PsFERS6d2NEdBCknO21PnL598nCiXS3Hu3fuPGrtgfBe7HzSGgvTLm09ES9rN3jkl2FAn06KS5L46efrchXgmCRJat+k1ImLVQH9DPVBd5r0+eerseVgusg7uOSJi5aAAEh64hNVJD89dvPw0j6fSdw0bPH7R5DAbAwx46r5mi1JSk/TwbGOYQePgMAQspJTWJD88e+HS8zyeQt+168Bxi6eEWROwf1vTg7zn738E4IvX1mafXDczyMvPwcHB3t6ha8d+S68+ekuXynVB/grETzeNGtx+0sHoEp5O8iOUUOHViH6BHgO3Xk+u+R8cd1dB4vijk8OCJx95ksvWyf7BqJlJJ6b08Riw52k+Syf6GZLEM7P6BI3dfSfjz17xC1D67NyUUH9HB0dH58Ebrnyu04n/QqQpR2f1D3QZseF2JhtSfDq5YFjgwFVX01iQMu74nEHefZddTKLpgv4EVW123KV1Q8JagQfaycmpY6eh+y7EVv7swfuOyicbN+/d+ThfWw+g1BA/8cyczXtOxTA1AoR/C7WgrkTfo/vaC+9fP3/69HlUzLV5xNTdEUv3RVXrQmh8dyFAJIGd9+9Qidk0gk+/ZWfePYV58uLtwyPDsGXvrt3PkIGeVfrFA1eTBT3XbFiyfNWKdZNsimOOnXpTq7tWR+WzQ3sep1rMuRYT+/xYuCTn/vHzqVLdOR2SzMuH9j4v9txy7ePHZ5G9lO/P7Nj2sgbcPeuKRr75OpAf762MPrtz60tQMGlRO9btv0MPO/H0Q9T7pyd6Q9HnN2x93ZgmDdLsG9vXX0giz7oeF3d9oWPxg227zmdo7gsPCfFjL+3asOrMzRw270dNj0oBDCOCEUsVcHcE6MmlV1RX19AFjQOhLJRjzwGjN48PMjH61vODEdWX4xzaLjnz4fUL2Hwv3z7bM4RQ8uzEjXgRcCUzbp+5GMNot3TNkpXLZi0a5175/vChF8Uq7b2+QVrw5vaFk1dS6wXSb8/L0++c2Xknk7LkzPN3zw70REcfXb7uSQmIP/vemZ23MyhLTj9792x/b8zHoyvWPSoGrV7ug4Nrjr6DRp958f7WXNeq2ytWnI7nAs9eFx+MPOvBobVH36lGwWHmuVXdXb701Gc+iDP34aE1R94oR5x8Dstp95YvORnP1V30d4M4f78qck7Gle1jgvzbLjv3WmqAt7C0tLCw5IqKr88dN6hL1+WnEmhiXcj/FJRCKhLyxVLQU/1DlFJuwoMLOcUGEQsn92lr/z9YdFAQSikDaRXJFL/DIDdKDadWJvxpzn4FpZSLhAKRVPG/49oX39hx6uDTEoGJGdXc18vJnmqiO/HXUXDrRFRafZdNaxdNaEOG1DKZWMgXSuRKFYTCE41NqaZGf3Jglfdx66zRA+dEptEgqqUllWrGZyRvmTds/NoLWUJdkD+HWiEBKFS6BkhTsMUSqezP5zTC96BQKDROH+QoyFYjI6Ie2mvI+pXzgsUZ1+9/Bp0htbjk7ZGZgwMdvNxdXNuPXXQ6tuZbBxBEgMEZGIIYSEYwBjiLzsNGOJoSYj/ngHKUGlen0AsK7ehC1MejvUftuHv+8upwS921GmSZcdFMK6uhk4d5QpBZ+7ZBBAUvKbOg2X0qXt68X2vYesqy4R4QRO4QMW+yE7bg1pO8wnf3HtSSgqYsHQHLO06fN9kFV3DrUX5F+ZdKim2fkSM6mmOwWGr7/gM6uJmXFlc3umQAcWZCHINs11dzX/eBc2e0DyTERKfBHmvGnc1jO/Y7UYhq7dvFCcK0NGilqvtwfvFwP2sXD29vJytS6/5z7haIi18cPHzw0qOHtzdvXHPgIx2C6j9f3jW9Z7vQzt72fr0n73lG+66wggzA6RGMTSA8ARiPZIAjd+03wNPGMOZzlkhdmJ9UJ8S07RLqbkIyIPqPWn3zyoPdA7zQLSjESrr7OrNQ7BnugYInzJpR+/HpsxpU4NwVk/wJeEro2Ckz/Ywr7z5NSP/w6kWNOgDIA4hAPnrqDH/jqjtPEirzclKYBtaDJw8PIOBcBk6a0r0DKS42rZnLLivISKrTsx40RRNmwKQpPTqbxMdm8WVfshPr9CwHTxkZSITlk3p2NkmIBU//L/GYIs7fLwrtZeTOyOsvJc6Bw3deuBYdF/P5c+LnlLfR19ZG9PWTJp9ZsnLXkzyOLvB/CBqNxmDQLT1EzUCLSjJKjbou2j9nQKA9PMfwvwaoBkBSQWLR4NfPUvtPAG6K0JAmuX8SFFwUQGH481f83Qg4dBa93nvYhtsvUjLf7p/ezYWgO/OXwayuwXcYtXrBlL5u2hkmYFb4gYHkELrD1D1XYm9sGt2qWRP+A0pe3XuXVmTWac6+G28+JiUlJkQ9PLF6mA8q7u69FzGlTdvinwHnLBaHwzeuvMDhcFj4Gf4divX/K2q1qun+BFMPv2BDmSgtq1LAj79y4noeeeg5UBFnvtnfD59+7dCl2BqFLmQjwINBNW1XWfVCkcLAABQdSzc3kj4398PH3JLiCjaLr0JhsN84UziPvsu3bF433IZdXV6YcPd1qoxk16WNW7NJZ049B6M2pprqejkoM4qpRAXCV3D5OLUR1dRUK0ebkU3FSlZlObbd9F1b98wPM9fKucWF9HqBibFRQ6SwJ8KoLocM9bzcXbWam5nbKNT4shrgsqnRzj2m7n76MnLtIH9jeYu9ZlbGm/eVUPD2qIyU5NR3F1e3YqXevfPZsM/8iIhRffoOXLZs1eLO2NSrB6/EywafScpMTUu8ONm57vmB8zHfzy98Yz0FhyPgKQ308SgU1cHZyJCXHR2bXZBfzmXzQFhQ5nXhmqCuS3gVW6e26DasvZlc/l13iM/hopRGVlSy9pBgbGYmR/OqK6t4PDSQm5vp5EZkshzFq2IU1dEgPYx/gLu2XjEh26AwBqXVjKYjoKy6GpUextffnag5NCZbQxhCRW0dHVyLR/sHejTKUViDsppm1/59IM7fr0nO1cibiXn6fdduPX549pBeXq5u9vb2DtY+nn3mrzu4dU64C/rjkSNPUorr4cBqCYdWXUHniOXagq6GpAJGbUUlU/B1akIp5rCrKysrNICHmiuStzxe/gMUAhZdYNh6wpopg9pQMFLdnf4AtULEYTXesZLGYAvlfzDcphCy6TUMnkwmFNBrKsvKy+lMvlyjPRxRbXVleXl5RUUtgwVi0VwAowQJr6phCaUiEa+uurKsrKyayWk+agVfza6pqiqHVeBCCjWoXXSntIAAXHZ1VZVWzwoaqBdlf2AZEbuOVlHLkSqVEviWQKlqOlcGP8xqqYhLq64qKyulMfhi3cSHDpWYQ6dVaZJQQ68XSnWGAP+qZZy6Glq9QCIW8+poVWXlFbV0lrhJEtQg5ziaBABq6lh8afPRBrUS6F9TqT1fUf4z/b9DKeayaZroaXQucGe+84qBAty6Gq39/0zscHhOTSVoi7QX8MEF8BXgr0rKo1eX00BJaEifQsAEeUvnShoTpZLwQGkGVwMqy2vqmHzpD28ICg2zvLSGIzQxs7Mlko1IxiSSAeiWqEHmwDbTmAS2GoikoRFQy3iMmvIajkimAE9JDbB4aU0dVyKDT8slfG1Jq67jCGWNeWDsP2zOqDHhPlTdcVPgbgQK+FyNKiqlQP8qrf4V5TW1DJ6kQX9GWQFHTRk8bu70CX38PW1t7R0DOo6dPnNMWxd6SUk541+b+0XJhfU1ZUW15aDUl5VVFVaCGykR3+8vh2xuayxE1VezclOj3xWVqOycnOEVZEb27t76JVUJL1IrtOF0ANdFymNUFzPLy0rBw0xjJN2987qyXr99gBMEUUKHjvS1rjx56MjVE1ej7t54lksXffM4o/SMqOYUU4Oa2JuHls7d/piBdwhp/U1Xm2JORUGsimrdvK2UXsespqvVBibm5hgUkFc1yhnVTLVagYIIFHNzU822B0Vt/P377zk4j14dPRscJ1BolPVMJo+L0sfr1s+hsXg1R8hiMtSQnodvcOdeXSytKCQ8StXimJWRe+/Zc9fP7uNtiFUoqdZOpoZULouPhkzMqWRjIxMLS2sUL+vti+wcnqWLC0mtVBHsvTxIDHrCs0/N555Bl0Ym5FSXMGmVpWVloMbOePDkbRFNr0OAkwFECenVL9iFduHY0Qsnrr+/f/N1CRc8pborG1HWpbyNKRcYtekRYotTtTCDYUomYzDskvJKbUq4zDp6WZ1SgSVRzLHN5bXlDBTErWfX89hoA83iWgAKjVNzRKDHyf1qCTWXzeSw0ASibvcJGoNDccRceiXw8LkcFKHhWiCHuCI2vf7XmPhFnL9fEcm7y7dyi3ADJy8c26O1tR66SfcGbWLp3GP2zoh27vi4K4+SvlSBjqfg076RvUNmHnxVoJ07UkqSrswf36rj8qu6wWkVVJ91bdOyYB9fRycnF0cHp9Cxm67HV9R/s5TkD+B9OrlieNfQtt16dAjqOXP9hbelzD/uvUjLki5uWNrW1w9eieXi7tF7yvKzH8pYPxzdqHq5a87wRUfjn549PirEy8nFc8rK28Ww9oqKtMsbB7X1dXR0dPXoNXH5mXeVbK3eKlCR7R3Vvd/iiw/Pntvev72vk5NTp4j1LzLLJZrzALWiJuPGpmWdAgMdnd16TNjxKp8jwzYbH5FXpFzZvLy9Tk83j56Tlpx6W8JsjOEbpFF7pgxtO37/h4TEp7uHtvVxdHbvNHJXTB4fgmhvr23q0cHPycm53/SDDzJYX+2jrCm8sXVM51bgDq5u4SMXRD4vqNMYAqghSYycPmTkkqM3zl/b069LoJOzW++JS+5lVzYYSk0ruLt9bVhrf0dHJ1fX0FELDj8rahI1JK9KvbltVaeAQJB4oL97+PgFka8L60S60z9DXZdzf+easKDWjk4uYWM2P0hnibDoZoMRClr27R1jQwOA/V3ceoxecPxFMfOPpihV1bn3dq3t3CoI6OPqHjZ6wdHnJTRYHRApO+VMRH/PATse5jT0+KtvL5vYvdOc4zFl2kUManru/d3rwoPawLdzdnLsOGLGwceljJYLqjL7zpqJQ0fs+VBUGXs4oqtHm6n7ooqB4VS1mXd3r+3aqrXGJq4uXUfPOvI8r1qrNTv1wtzBfsO33HoV+3L/JGBxR+eeE7a9SQMaiVOeHejfORDcuuPgNZcTaA1mVpW+Pjh/7urIqILmZR6Fh1TRkfMG+/ZbfjFFt+aPmf/owMZe7do6Omj1HzZ938NihjZx5M5LT7yIubZ5VKCR5hgGbWxM0ieg1Cql+vt26sdg1cryt5eWDA7y8IPx9+k4ee+HtHoU1MJICMJ/BAaDUaHUatBBrKiJ/nBm+WAfN3c3F++gPvMPvX5fzKbRm86/gE6AuvDJqdk9XP39A/y83J0sQ0bck/pMmDbOXzNw5D5g0YGbny6tHt4Wijm/aGD4+M33c1uqazAevWZvvR6Tenm6ddarTQde1+jkGqwDOvmjS17ePv+8FBxVfIz6mJhMw2NRrgEdfFGlL26ff/pVXovHoRsLlpqRdH796iv5zsOWre0PnNGvKFUKpUKhVn/txAAZECpA86IHXELgJ8jl2k5cC2CJZEsKRRx9YFYPKxvXnrOOvS801GwHhL+arNIUbVpVbX1C9J0tg71dnd1cXb27TNl650M5l1bX7JHC4PUroq/O6+Hi6RPg5+PhZB446q7Ae87S2R3gUU6894AFh+8l3do5q7fZh3MLe3UeDp47uvbKBrgZUW9LOYTu49o5G4N2TzORoTulg+LZygtDe3nl1O1cqQoq/vzhfUx6JTCAg1crb2wdkN/KBv0+WB6XVolFK1RKpQI46E3TDpIE0vW1loQPlaC73zyMSimTwxd/cy1s6uYO/98F4vz9ipTlJghVbl1C2zq3OJmEIwROXjbUn1KeX1TNAp0ItFIi4PNAH1L3lKMgeFUyjyeWwwVUyYra3bl9txlHbir09akUCtmcYkJ7e2R2OGiWcuGKq2lT/z0gzoSjfdsPXX4pha2mkM0sLLjvzy4Z2n/hkQ9lP3KRoJRDPXr1m3v8tgSPtzA3J5OJesXPzy3qOXTLvbwfdXrgEZPaZ+sWnLyWwtezsgx27dzKygbK3Nmr1+DZxzNFeKqFhSmp6vOdtb3bTt/1DF7pjkarlaBnl3t53uhVq06WSgyopoaVDyJHjFx37GMFPBkjKby2furYOYcv1ipRVLIRPfnUsvWn3mbwsI0LtNKP9enTf9bBG0IcDtbTjKRf9vrysr7DNt3K+sGGB6VUxOfURm2bMmtbZL7YgGyEKYvetfps5IrJc7ZtO1cj1qeS9NOebF2z90xMGVyvSblvjo0Z1HXagTgmRLWgmhozsu+vGNppyqHXRRoHDTQrKmbC5TVTly48Ws7BUkm47KgrE8IXHXr6BXg80uTTKyev2ne6WoExN6eYGXGTr60fNmDbrQZXI+vUkP79pu27wkOjqRQqmUwiVLy9vnLAsI3XUn+gf1OkJbc3zxg1ffepCqmaSjWrTz+3ftPhF0n1WFyj+5d5aGT/gZP3xrHQFAtzsnFt+uNNgztN2nQr/UdZ/zly2YJ1u07UqJQUKsWUSE+8sXZI35Vn3zHgk2qVTCSQCCSNA3+QGhRUPl8sU6pBFS2MOThhcK9xO87VKhQgO8zIJmb1nx5uHDlxx/WYFvdTYPWIRkZ6GFCCsQaGJqYmJKKhAbbgyrhBfSbsOMcE9TywiZkxiRZzb93QkevOJMANBUolE8vl4qijq5ZtP5DAxlNMCfnv9m88sWvt/Nmrlx8q4uIoJGJ5womVW4+8KtC54Aoxj8sVNB2P1YBCQyhQHgQ8OEWgSEnjI6cO6T1q86kqidTCAuhvZlb/+fHWMRM2XXwPj3CgsfoEIhG00trLIZWEnXxm9+LtT2r7DB/eJ1g3K/enUKAwLv3mXYyncdksQD239Nm2fm3N1epfo1n5B1FfU0o3Utt42FCkkG3vKSdjaGzY5vX1bIFSTXsbOaNd0zWmapC3PiNX3MrmcHm8lFtrBro6h3caMKSPm+488G/QKJKpkeOAlUdT8p9PNai9f/NdU89OIeLQ6xlcKUaPYGhIwLr16t9FaVbzLkU3mqfFvsfGE2cXOseOCaaam898JnQMmz7IVimSGYWujTy3yDlunFYucOw2Y6CdUq3ZBqyoi94/c8KCx8YT997ZP8ZPG1EjeAsbK6o1VtkwSK1WylEWplRb6z+1vKfsxa5pHYhea3JtFqWLeQVPt4wIEUiaTIeDSNUKqUmHUduf0jhcDjAeE96cX/76xIxWzW6gkIqce8++kcUF1st/sWtKiFd4SN9xgxv9VBQW+HJEvE336bs/ZnycYyR6cvVdru4cjCDl5sO0PLZPqAOPXlRSw+bxebW1NQJBMw/Tss/avVc2eBfP6+ZkaTH3AdNt2JIhDmq1gtpp6Z4rm3xKFoQ7WlJh+ZClg20gC2tzS4o1StY4laNWoKhG5rZW1K8eHYZibkm1RTeGUavlEJVEtvH2olpQbNEN+1+AXAFRTCh2Vv/Ko/7/B+L8/WqAcsIpzWdLya29XMx1qze+RQ0ZWtkaGhlU19ULgQuhWbPXbKEWSrN2C17fpoZY+UU1eLz39LUnomITUlKSUzIT3u7r7WYmj80uoDGBh/FHzp9KIcg+ufdyZonv+J0Xnn5KyczKzvt8e8fULnrJpy6/TKr8fkgG6C/JTv9CMg6avTby9Udwx7Tkz6/vbhvgZwSlJ2fT6lvep4JCq9CozPgk0w5Tr75PTo6/vX5Ma+Mvl/c9Lmc7DNtw+WV8UlZWeurbe/vnd9F7d/Hq87RaJYTGgESilBCxzZSFh57FJsW+vrOkrTOhIi3vSx08H/758Z2PhTTHHiuP3f8Qn5L48saOgVhaJYPNgVfCAT2VuRmFBqSAiLVHX0Vr9Ex8/XDnoNamUGZKTlXLw1soFEaNwuQkZbr0mng3Jin5zb29g9pZpp3ccrfSqfvGl7FJmZ/vHA53o1YmZGZXwttO06+ef5RdZtF3w6mHMalZ6emp71+dXtvbLPnW3VdxxcCDApkGEgHp+Y2ae+jlh8+f7p2bHe5vVh+fXkCrV0F52Z8r8+o9R2+4GpOcnZ7y7tmR8YNai/kcHpcP4pbnZRXiDXymrjzyPDo+ORXo/+bJ3mHtKVBOWm4FHS4YGp1/SMrzB++zy6y7LDpw601CSmLUvX3Djbm1NYz6hrG/4tsnH+WWU/qtOvM4LjEzKy3t3ZPIFX1Nku7efvKprMVB3PKMz5UlXL9xm669ScjJSH336Oj0wa3FUj6XA2e7pliC5u9rSQUCTUEFRoCgL0VVSsh53OKDD6JiU1NBSf349sjIbnbQp8yC4uoW1rdiPAasOXrhyuKuzk7t5xy89+nZnpmdycXZBSqMx4Qlh568/ZSSAmJ5++zQmDBrKC/zSzFNAC5CofVwuPSSGufQITc/gPx6c2Z4Z4fsm6dOfUIHLHkQE5/08ebBMa0s+J8zs0uqtK0GrDcA1cKsqnaRpFb/guIKicJ+1Pz9917B+qekxr4/Mb63E/Q5q6io6rvd5Yqq2Iuz1584lUYZETFhSEenf3HMTg2hcXi8AYTBwUAGeCxaU6gR/jM0iyl1vwHFCR8/iQnm7YJaeTpYoVB1X4rKQKcDXmGpYFWVFVezGt9JpwUe5MFi9TUv9XPruXDzrtE26ccP7nxQDI5VfFppcQlDBnwYNBanjzYimhCwpqDswIF1cNNvbVu/4fjzSt0xnVYr4ghNSNq3BGpRizk0kVX3uRczM1LTUs/PDjIWGqjIHfypkLBWbNF97qUMrTzYRKivJHcMNAc13bMjO25k20zYf2b7pKAW3vAHmds6YyBVUVGh9rCksFAuVbvbtbTS4TvqvqRUoa3nnnx4ccv4AAzEBb0RLjy+BZ8D5kDBy2NtHB318dxi2HoYPB6PA7aoLK5iSb5RRa0Gzxpek1ib0NnLtk+zzz+9ZcW9THjoTVRXXlJYK4HUaBQWZ4A1MjQm4MjgsdRcqEHN4guYWakfzqyZOX36/G2X3iakJFy/evFWck3TB0PKrVVQO889kZSSmJZ6ek4nI7pIYdrZ114moisooXNOJAJ5OixniOQmHb1bW1uDIvElRzvsr6wsKeALFW72lKaVAdnSHo/BfcnO11SKysriAp5A4WpjZmZlg8Pgv2R/aZB/AXLYqi3kwH8fxPn71QDFlFFXKpYoCfr6uB83CFgceKTkckXDaF+LqNUqFEQNGLHy7MPru5eNCnRzsrWyopjZ+HmFGJFMpWKxZgD6jwqiSlaU8Dg7R7/n4GFd2zkagVpRrSK5du0THmBW9zEuvYLRUnODdxq0JvLW+W1LRrX2dLaxsjSn2ru7BpJNUZBELIeHwVsCPPYYKanb+KF9+7R2srazouCh0sQn6RXG4T2Gdm9nR9JTqzF4qmOH8OHtzLgJn7Ir6+XAcwJ9RSWp/5gR40a2dbdzD+49tq+jA0UgEqsxkDrlxauCImz3KYunjAjzcbF1bB02Yf60nj528Mi7JtUYx37Lj924sGPpmGAvZxtrKwuqnZtLIJmMAXpqJjxaQq0G1Y3XsNEDh3f3drYL7NxvUkdnc7m6Va++I0d28HagOvUK7+lmZVleWckUyaG69I/FxegOg8b26uxiggOX4kxtug4c0smal5KUDk9rY1BqBQZjFz546OTRQd4Orl0GDO3n7o4VCCUKlUrAZvIFQikaK4A9DAMjB9+hOyPvR20eE+IETyJhHXovPnT90u4V40K8XOwa9KdS8ZBEIleAuuoPqxhZyuuo7BxV2PgF08f0CnC2cQjsMm7O1H6BbsCooNiAa2mprzJKsZ26D+/dxQV+Ry0GR7YL6T441EaanpRRUtusO62DxeQL+cC5FgJPSW1g5Bg4ZNPxe68PzAx3aNp6tQDoE0NeA5fuuXr14LqJnQPdrS1AsbHzdA+yMieB5MjkLd0NZ2hGtXcwJ+LwBLKNkxvV1ADStw2bs+/q5QNrJ3X0dbW1tjKn2Hm4BlqaEyCZrCESlEIKuffp039MH38ninPrgcPaezorMZ6de4wa09XPzc6rb2i/YFcKv7qmjvWnF+fA+nv0W7j72vUjG6d0beWh0d/Gw7W1tYUJKE5SODuaUfjs+J7IBx8N+s7ZsX72gADtivB/CTU8s6T7DSlVyFta/2PgBcEybn0lvOasrKyyui7pwZV772otW/UJdcdT23TpZK5Iunn61OusqpqKmPtHNm/bfvVTabNOIsgEeE5Q6/ig9Iy9hkwc2c067/ntc08LIHr2mzN7Nx++/uYLg8Vk0BNev8+U8qhedk2HDsmevj54Q1ZKfGpddVV1XVp8qtjRoku31hTg8rHqmQw+6G4rKz9fOX3m0tsilT5BX16cEFeK0fMN72ANFcddPnP64ttCrfzzp1K0vl/PTtaqzLvnrn8sI3YMD7FRMWsqykpLiquZHIkafjMNCzyywDXBu7UKMRbXfrh1L5nFSn1492UpU69dG90GJx1qFUhcixW+vkiulIq5Yi6zIPYu6PokZ8j5DAY8Y6yPUQqqa2ogUmDP3q6GxU9PnXxdQK+rS3pyZvfOHVfiqpp3IXXm05ZqFM4lfOSgLjYFjy+evJcjrs57f+ngmr1X3ubW1tXR6UnR79L4DLKPlW6DBgzKMnjimuO3rp44uP/gkb3LxoQGBQSPGDluaGtrlErCqWfWcsDtlLWJt84fP/UqW4bH6SnLMhILZGjP3mGeuNr46+eOn3yZLcUBeXlmYoEU5dmjowPBwT3QRM18fevWp0pa2pMnUXk0vbbBHmQQk4TLqqdzQY5gHHwCzdT1b27DYdKfPo3Kq9ZrE+RCxDp4BJpCrKhbt+Jg+bM3uVX4Nm3cySgI6MMC+sCvE//bHlvE+fvVAI0u1cJJ38BACdfnOuH3gOIDqUAvSXf4I+AIiBRbR1d7Mzmn8v3bt+fObV83ecSMYznFHAz+m51m36NSMyvyOXJV8eMVY0I9XRzsbW1trGy92w1dfTmBV1xSUcf+bnEZiBJNpNg5ONuZiVk1sR8/XbqydfWsWUtPpJWrIXg+seV7gqSC1Lj6+dpTNf1utQoSFxay5czU6zumhXs42YNb29o5ewX3X3q7hF1WVl3P4cHOn1IOObq7W9voGk9jIxxeD9wBg4Vq8rKZPFxghy4BbiTtSSzJsmef9s42xAaXmUCxBXqSZRxa7Mf4y1e2rZ0bsfh4cpHyD/UEJrf1bOVmY605xBiQCRg9yMXD3dZG9ypRG1cPYypRLlOB3Ckro3Pqch7vmN7dx9XBDqTAztnRo+vc85lFqVU1tQwphFZDShTKwcXF1tYAvhirTzLC68ELh9VKtKGHn6+1h17uxa39gScTOmLxqc81OAsnazJR885ZFMHMxt7ZnqLg1cXHJly9tmPt3OmLjsTlyf5A/6/QCnLpHLR/h9DWnroX7aMI5t27t3d1abBPSSlbDJQ/MLuXp7O9o8b+7oG95l3IoJWU0WjMlhwjTz8/GwdCxqUt/QOcqZ1HLz0dV4GzcbWlkn72Rm14xZsB2drO2YGqFjI/x7+/eGHfhvljI/a+TuFDetgWxtx0KICycIuhkGu9dQNTKzsXB4qKT0+I+3z9xq7186bM2/c2XQRhG8cblQoF0cXT1c5Oe6hvbKBHxNm7uzs76nYAWrp4UCwguVwOv+n3zwHrjwe3dnYwR4lYSQkfLl08sGnBmIhdzxM4Gv2bJ6Dy6ekz15/Rw+cuWLF9kKe1wb847AduBy8zatISg1YT9ORabpsR/iw4gnH5m7PTw5w9fPz8fNztQ+akmkzYt2dZf2dw0qjLjGXrRphmb+rVzsvNt/eGBIN2k6f399BVLjpQGNAtx4CnugGPvrOn93fK2blh96EC5wmz+jmUn+7Rd9q2dSvXzl4dje++fNVY32b9IrOOM7eM8RefGWjt7OpsO/AMzaH/phntjeDXIx/be2DL3RwZhHXvNbQdseZ8Dzc7BxvXUZfq3UctntQOBHHpObQtqeZCD3eN/EK966iFk9qSFNnpSVlvnz6PXNwvxN/L09vHz9Pddcyqk59YEOvT8b371t+A3+dn6D9uxfJB5nHz2lhaBs+OgtrPWTK1dfOXI2Ow4E8LJdUibORID7Ok+cHWTraeS+5LAkfMC3agF1cwIWffNpaiz9vWrd72RuI/es3qSR7Aer7OLo5t5z1kOE2cOcC1uXepmdfFNXnvhN2AiROH+eSf2LBhc7LR6HE9fGinevWfumrF6u1LNj9Thy9ZP6tj0ylUvCHV1s3L09PTw9XR18PBwpxMdXRwMDXCQZWxZ/buXHYliQ8ctW49g8yZFwb6OznZOE26VOsxbducMDMIZd+1d5AF6+LAAFg+8WKt+7Rtc7tTQP0QMGreqjGOBeu7ejkFLXwp77J6+7xQMrBDTdzZvdvnX0gEFaFBwOi5q8c5FW0M83JqPf+5rOPqHfM7AbdU33/EvFVjXYo3d4PlzyQd1uyYF0oF11Z9urh/x8JLyTxVk7WDfyfA70b47yMUCkNCQu7du6c7VqsLT3bzsnQddzSaptRJAEq1QvcL9MDodxYEGJoO2Pswh6NWC6KWBzkb9ll9L4uvOa2QfDw6uKOe2Zij8dXgUJj3au84d1MC8MoIJCKJRDazNCXAkxu91r3KF6rVsuuzQvxNu656ns/WXP4VlUKSFNnPHzwAeqYUcwtzaiPmFtYkgyHbnucJdEGbQ0vaPMqNCqoOzR2NyWYUUyLs07Vd9qpAq+O3lN6a18ffuPWKJxn1mmOFXF10blQ74GHpGZOpzW9tSsD3O/y+uF5d9351WxsoYP2TfJbmIrW6aH/v1g72ow+ncNTll3u3srIdu/8zbAMNoGmUftjU1Z7Udd3VVM1talN2jPe2ANU3SqOnmSnFjAhXR8ELn+RwNdd8g/Tekq7+pHaL7mQxNMcqJe3duo4OkN/q+9lMjQSEebAsLIDUdsH9YjXj/sg2lqBN+SYJVKqxte3YzXfSJWplzLZwT2LoggtJICMBKnniufGdCcSB214Wao5rY25u6NHWxUBPD6f158i+o89+ytJqR0/fNylAo7+BoaERbGczQ9hxbD33DhyCGb21uyvks/RGplbbZpRcHdbO1nzo9rdlTQqZLGZvPw/DDkvPJDLVtDsR3Z2A8iQzqmVz+xP1em6/n9mQ3maolDUfbm3pHuxkRCToZs8o/t33vcwDBU1dH7urlwfkveBSasO15afHhNpR+m9+WSQFhiuOPjmvvWVDcozMTM3JRnByui49HU/XXfEt9XE7+3i49dj2vESuFTCzjsxsY62NRFP2qGYk2K8OmH4hGRQT7qd9A30gr9lnkxpsInuxZWAr/YDJx+OrdBJ2/IFBPpDn7DOJmrtKEvYNCQzov+p+vuYWspfbhrTS8514NL5erXq7XfP7cBwoZcrS2LMLQ61BK4zSB7cG+luYafTvOP9YXDP9hTE7B3lAftNOxLVoxB8wY8aM7du3a36W312+cvOGe9m6NKvVvE9HJ63afPh9ne4Y4c+ycOHCNWvW6A7gUTu5rAGpVKYZUW2GUncS9Ax0kqaAXgjwwZs8URpUcqkMfkuKFlne4xMXL0bGsVuKQItKIdWg2WWhQ6kAd/0asxIOAlSUK5pHo5R/J4c3GcgV8saEwQEUmpgYH+7cuXkrvrEWVynhk+Ba3XEz4P4G3L9oGYXmSqlcq6Fm+wiMCugD0t5wFaydxrDfaK0D7tPAvblmqEDCFV/Dl766cePcsVhtfflHwPtVGi5TAQvIm9wUxKmx0rcZ3Cj/Tj+lXCaVgOQ1kdfFPLh98XI0u9Emqu/DaPhergIioM+3BeX/HbhCbgAZ+fsVsfXraKbHTI/5nA9v5oVRqSQVWc+jnr/PK2WzOdUxNy48LxR06dzGzdoYHp+DMxV+QZK2E4GCtxjBgxZoNBY08lFXI8+9pWFaDZ88Z+O+AycuPHrx+eqSNs7G4InUBP8xKDTa3MoTeB22w/bdfpeakZqclAhISk5JSU7MzT81P8z125eqwZrUvzu59eYnNi5w+Jhp6/buPXb54f0nJxZ0dMZBP71jI2g0ZG3viscZ+k7acOFlemYafOukJPjWKZn5BRemdXQwVmuja2l8FKQeNL9YHEoglmjnYADAPCKBGDx0sKHARbzoczuvR9eh/YeNnL5uz55jlx/cf3ZySZg7/id6wqu6v6WpDrBC4D9QkVGsHAxNjdyGb7j8usF6IA0pKalZifFHFvb11oMa387TLAYtsARl0XHoihtPnzy+dHLj9Old2/iSVXmvIq+8TiyFIGHsxd1X3lVCvoOHT1u3e+fhS/fvvzizrLcv4U/ZmUAkwvaRSLRv1NEiFgnlUqV22NDS2slAj+g2cvnpZ+lZGvsD5ZPhRaN5BZfn9fFqcUEqCm3VecjiW8+fPr91Yf206d3a+FFUuW+PnnuTXCmH57hBor4WVHgQTjd1icZD4vfXj196kiv1Gjh40qp9e49fuPfg47U1w0JMoBY/ptAy3M/XD115XiD3HjBk6todOw5fvHv3xYXVQ4KNoK8LJIBd4Xez/JGNvs+MPwaF1oMk0XdOXniYLnLvN2DiKlCcgP4fbq4f05Hyvf58mYpq3bqDn5vF132//xLWvZYvm7egp5vuw60QZNhq/O6lcye21Y1dIvx7wEs44RV9WvD4pqNQOtC6ky2PRqPQmhWsuqMGUFh8k1fS4dzDxw0bPj7YpKUItKDghXEAbJMPgaHh5Z1fY0Zr1s6BIN/M36Cx38lRaPiFgtjGhMEBMHBMEgZENjN1dGtcdICCF5LC1+qOm6Fb+Ko7+haM5kq87kOF8EJmDSigD0h7w1WwdhrDfqO1Ds0a4G9tjgIJx3wNb995wICRE9o0/S5wy6DglfC6y1DAAk02ssFxaqz0bQY3yr/TD43F4fVA8r7KRWy0iZGJs5dJ4ywL6rswWr6Xo4AIXrqlO/xb+FtvjvAD9DsM7+duJ4m6fenR26xaCWi2UCpubezjE5unLN6y6/S141uupRZZjBjazcsZXi8Cqis0hBKIGt4ZJSwuLOdw5PCjilMyslPTSvNJQ9as23Z4x8LJk4YPCPbHy4USmRR2hr4tpd+AQlFsPSyMiVUFlSIs3tLW3sER4GBvYUrEo0AVgfm+KlBD0ty4j2lV1CGLVm45sW/x1BljewZ4GqqlwMuA7/hnQUEGzh5WxoYlZdVcSM/CBr41/I07S1N9LAbcGt608WOA92vWuq2FGS4/LfZLmfYNamq5mPnpU0Z1rQRUqXDrnhcfk1JuOnD+8i0n9y2ZBvQM9DGCZCKx7OeW+TPOgQoo4eBiSjIrqyxhq9A664E0WFEIeDRIwh9+0BVUg6ByZtVVlzHkBmZe4cPGLdy189ajI8tHeWJKimpobAgqSIpNKSX1mb1065l9S6bPHNertY8RSi4Uif5EzkKQhX+wtYVBQVpcbrFuZ7BSXv85MaOiUgzyFXZgHVwsyWZl5VX1SrS5xv5AeXtrCgHUWqDaamnJgULIoFVXMIHC3h36DF+yZ9fFm3tXjPYklhdX1XJEEGgEMDgU/P0n3UYhTlF5PRPef4MGXkxBWuqXbHTXucu2n9y/bOrUkX1DAo3VUrEmOT9Pj/a8oiglIblAP3z64q3nDiydOWtcn+AAM7RcIBRoyl5jJCB1fyYL/zSgKoeKMlLzM9ShMxZvP31g+bTpo/q3DzJDKUQi+NbfaE9uO2Pz+bubJnb4d1+WjjWkUszIhg3vHgP/6ZtYUMgm//L8McLfANqABLqmzWY8/x5wjkFtQtr7/WBf4S8KWp9INDT6BaynZx8Q3KFrK/LP69pfE8T5+zXxn7t8pJdD+cUFvQdN2B0VL5DJqW2nr1m1rHNx1OFV83a9ScQMW7ioT2tzzXIRgo2dCQb38fXHpII6CBIUPjt8/E16HoTHgUKpVkjEIjlUWM6uRumR9PAYetHlVSPmn84oFzTtVf4INN67fW97V0LypjUnjt0v42qWrZfFHls7tLNzhxWXk7/7Qg9wGhRisUIlT6Xxq5V4I30cVpJxYcv8tecSaoCb+m0r+EPggM7te7qQsa8PbDtx6GE1/FJCtbwy6eKaXn4uIQtuZ9TKQYdWF/o71DIIcuzU1cJccG/tlgsXMuoVkJqW8X7n9oexZaDOA8VeDakkUrlallnDr1LgjfRwOEnW1W3zVp+OqQRt61/xXKgVcsgqKNTCxiz2+IqDe64Wc4D11EpuwfUtQ9sE91h5NrYCtogu9LegsAbyvJurJ/dwDpmz7kohB8IZkslGChw/TyYxpppRjCAI2Fkty60VVMoxxvp4nCzn5q4FKyPflGjsrMmYP7S2c7vONnaypzu2nT6dWKeAoLqcDwd234/OVwL7aJwtm+BublZGsad3Hd11vYQGL2xX1mZd3zo02KPNrHPx1S1swah5tWJCN8dOc9ZdL66ToIlmZJJSn5crERtSzcjGRIhgYW1mSimNiv6UXiSHhCXxR4+8TPwigkcLwO1kErFcVlrLLZdjSAQcnlX6+MDUBYceZMNLGP+sp6aAJ3JkhXWCMhnKSB+PV365v2/hsiOP81TwvmrYKH9okn8b2F4yqVgmr6jjFktQRAIezy1/cnDmgn230ySQHvab0WkskWrt6GRpCr+RGgHh7wJjYGhoSGrpK7sIPwdjQDQkGWvenf0/CZLtvyhGPVYfP719SSd36dvNfTuR9AkYNN657cgrRTVqfYI+DqqOu3rjRVJlvWaCz733FA9Hq9zTs9pYolAk9/ncjsHtW1sSxRKZDGvdKay7l79p9NbpHvqg+cPZ+0ScSOahsBBKVVBeBG9nRKkVCs2+4RZaWDSW4Dv3yKrRPewyD28e5mSCB1GgnEJXnsswnbphZv82tt+2pWg0ROzUf0B7F+OnW2f5EeDgpHaLziTQFbCfmlVQytI6kN8CL9CQa9eG6CQA16kH5vXt7F5wdssQWwrQHo23bzv3SAp11MqInq0t8WqFEigOyZusfFdrluzAaVFCUMi8bXP69nSO3b4okIJDoW3aDY+x9Qy2MiGJJQo1CkK379W/vafJq53zAgw1eobMOxlbJ4P1zC4sY3Kbb0TTAi9hATSqCb/YE9wS1qFRcRBGa08l8FeD522aPay/G+3qwQmupsB6aKyJx6Rd0fih8yYPCnUC3opmkZFc2bC1APikSrlmjYtMgvXqM7p7QBvxjYOT3U1xsIoG9qHbowt7R4zp19YVglr16NPBx+ztvsWtjeCThsEzjnyolcHr2/KKy+lsGXBIgLbN7NOM4Jnr5g3p55F0cHVbSxC9ZWD/lyRbfwdzY+AVa/RxGrN57rDe3qXXD4xzsYZthLXyn7zzg0G/+VMHdWxp0Mq+H1C4o+DmwYmuVkRYJ1P3sG0fijpFjOkbbI+FIIfQYe06+ZZdX9LXDY8ydOny2dq/S0gQGR4KVENBXcMDQyw+H13emgoXMyvvMTve1ynhHn5BWQWN0VJ2AHTWhlfPgCP91l16dwqkxh5dFWIK358QMGnf6xopbJP80spaphy2CZxfIAc1lwMail6TUgTnMhxGJ9FsJ9EsH9KdbQzf8Fsuk0KtQrsHdbBIOb2hnSX8pFm4j9jyokoGr/krKK2qoesGOzWU3ZkRZm7Qd93j3B+kCgEBAeH/lWazBJs2bdL9QvgvApyJS5cuderUycvLSyeCQZOo7u069e7iYAAZ8VT6xiRDMxMj/w5DJs+Y1rurk4pe8OFZVj3R3N3PmYwz9fExRBF4Ap4C5dpt3JbVo73QzGIetVOvTgFWltbe3vYW+kyWCMKTLMxb+/YYvXTnnNYCIVpo6tkvNMjOqCbtQxnP3Kdf9yAHU7it+hayR7dONqZKkkiuxhsaGBFDBk2buWLV9D6BdoTvx96AAGcXHGJKVPEFMjXewNTIL2TQ5BlLx3XFSpg1hsGjwj3tjL+/i7AqPbOMQ/Du3zPYkfJ1+5uJa8fWLo4kQ5YA0jM0NLdo1WPk3A3bZw4MsgcdLpW4Ljcxq9AkeETfVk6mmosEhXHJtRjHDv07+VoaYrAUZw9XDycCWyRX4YyDwqftnN/HhFNNM23ds2srDyrRtlWwqSEkEEhUOKCnb5uBEyOWjO9mIK+vIbQe3t27BWuoqjPjSpkmXn16hLiSgUuhVksYuUlZhUath/UNcjHT6KCqgcMYe/QND3GlGKApTiFB7i6GxlyREkskUalenYfOXLt11pA2DkRgPQUzLz672ti7Z9f2XhbgdmoVuzwlv0BkETowtI29jY23XytbQyOOSIQhkChUklfnITPXrJ7Yy8dSDw3hbAJak00wfL5EiTMwM/YJ6jthxvKJPYzUrCr9gMFhvs4kQV5iZiHRf1CfYHeKZjNxM1BoM0cPNy9nQ65ELscYBnSbsnXeQCsJrZLoG961jbcFuMLYuW0rV1dTQw4fjScSKOZ+XYfMXLtt9tD2Lo1fBm0G1tbX18/GxIglUICiQqFQfbsOiFi7enKfVtYEuKgYu/lakLG1NLEKb9dx0Nq1Ee0IzCqOkXfnLq0dTWy9fWxtTTlsvgprQKW08u06Ys7m2T1MUbIafbfu7Vp7WXwtF1+RMb+kZDNNWncHpdcIDWGt/FpRyXgBTyTH6JsZewX2HD9j5eTe5nhuBc6nX9cAD1NRQXJmAc6rb5+23uaaFauq2rzPhdV4lx49OvhZavY3yuoLU7MLsJ59e7f1tiBASlZBck69kXenzu1cTEGxo+cnFlTinHv06ORvwc///KUK5xwe3s7fysXTy9aBzGPzlVgDMiXAO3T47E2ze5vj5JV4527tgnwsG7NAVJ2SmsMihwzo3MbJ7E/P1D558sTExCQ0NFR3jPBX8PLlSzwe3717d90xAsI/l82bN+t+fTMJ8s1mEIT/DiKRKCwsbOXKlUOHDtWJmqDm1dMFbKFEDb/9CDhTxiYmJIxawi//fObIJ72wwSOHBznhwBkRl8Vks8VSjCHZxspYwWHU8tBmlhQT+DM7aqmAVceAv3qLQunhgBdhaSin1XKEKENbCwoBx6dXsPhoopWFGaHJguLmiHkMLgu0qCqFWmVgRDExM/vjt3eA8AwWTypXQmo9fSNjEzN9dT2QqEycrE0ILby/UC6g0+v5SqKlhRkR+DVNkQjruXSOUKFSAu2JxqZkasNyGaWovrqWqTa2tTYhauOUs6tpHBnO1IqqSThIukIqYNfV8yVypT6RYmuuz6PXMlVGFlRTkuY2Yj6TWc+TyBXAtnpGJqbAf2Mx6PVKE0cQJ/57PQWMqnqumgDUNNSeBTrU1DFVJFsrMyL8FaSGMCqCpWVDGEgqYnEZHIEM5CEKRzACSTDW11pPLWZV17HUBHMqxUhfc7mEV8ugCzBm1lSQHeBYJWKxGRyODP6ekBpLAOk3b7gYIBHUM5lckVyBAvqTwEkDiM1k1CuN7K1MDbFyVg2NqSRZWYLUfp8WDQqZgEOvh78Po2dItjUnCBl1dAXB3NwM/nSGBqmIzaWzBHIVUB4PlKdQjeC36fwQpYjNprP5cqUChAKpNYEv+NpLkItZtXUcsQwiGFtZUyAenc5VGVJAtsOrEGQiNp3BFsvApfo4giHZggSxGcx6BcHKnGys31ISVBIWrZYLGcGbkHXrGKRCFoMJf7wXtomhsQnwwLksBkNmaGtFNsLL2LQ6hoxgadWYQhGrhlEv1ze3oOhuoZSw60AYAwtLzU3VEnAJDyKSqRRDOEdELBqjXqZHtTA30ZeyaHTwW3MtKHAyMYdOZ4llShSExwL9zUkoTn19vVzPkkptsiBPIaDX0nloYysKWbO7/M8RERHh6Oi4Zs0a3THCX8GiRYuIROL27dt1xwgI/1xQTRZeff0FQJy/v4U/dv5+jEIiVWFwWFzTd5wjICD8Q0Gcv/8PEOcP4fehqfOH+A3/u2D19fCI54eA8PuAaekluwj/CfD7QBCrIvx+ICN/fz//7sgfAgLCb0RERAQOh1u8eLFQ2OKHpxH+NeANQQTCpk2bDAwMVq1aJRAIdCcQEP6hBAYG6n4hzt+vAOL8ISAg/JTp06c/f/7c399fJkM2Cf8FAOcPi8VmZ2djMBhvb2/Eqgj/eN6/f6/7hTh/vwKI84eAgPBTZs6cSSaT169fj4xR/VUQicQlS5YYGBjs3LmTz+frpAgI/1DMzb9+Cxlx/v5+EOcPAQHhp0RERDg7O69atUp3jPBXAJw/4AJu3bpVd4yA8M8F2fCBgICA8L+HquFl4Ah/FcCkiFURfkMQ5w8BAQEBAQEB4TcCcf4QEBAQEBAQEH4jEOfvF0fCorMFUs0XfLWoFVIhv57JpDNg2Gy+WIas1PxlkQvY9XQ2X6r4zfNILuTU01l8ye9uBwQEBIRfgn/N+VNy6moKvxTkw+SVllTQhZKWd8erZEI2rbioIC83/0sFjcn/PpRUWF9bWlyQl5+bU1LLEkq/bxQkfFpRIQiQn5dfXEX/HXfhq4TS6CNTRm69nVEn0kqU/KSn57bNnto1pK2fn19gQGC/fpPW7rv+LpeOtKq/ItLUw3NHd592IKqQp5P8nsgyTi4e33Xirsc5HJ0EAQEBAeHv4886fyohj52ZEXNy68qRg4f36du3X7/eUyfN3X7z8auiWs63Q09idsaHe0fWTRo1uHevAYNmrd537WVBrVh3UoO86N3Ng+smjxnap0+PHhPXH7r1+kuNqEksChGj6Pm59eNGDOvbp2//fhMXb3uRUspqMv71OyCqTzx3+B6dYu9pQ9V8b15VF3Vo3YadkS/iGCIxChyrlRXln+8eXzJi5aHo39y9+EWRMKvKCisYAvnv7ZurJfU0YAc6V4asrEf47VGK+QJhCyMi/0RUoJVSKnQHAKWEy6gsrWbwJP9uVaCSCoWC38R6/z3UP0RefPfQHC8HE13ARnBEs84jDr6qlOrCafmws2OIrS4EDM4YN3R/YpVYd1qtLjzdy4usOwmDNrQYeyC2TKQ9q5Ly0k8MDLLSndRiZDHpwNtCoTbEPwuhUBgSEnLv3j3dsRal+PPpcZ6thux+U6KAjxVqXtSGbo44yLXL0nOfy+p4HHZ9PT0j9fz6cZYYCBq4JzqbpbkQ4ddB9nFpmKdh24W3Mtk6ye+JLG59X1+DVjPPJjF1EoR/nRkzZmzfvl13gPAXsXDhwjVr1ugOACq1SqXUolAqdcJ/CXj3sC4GDTrxV748Onb+wvFPPN3hH6PS/b8FfhD9H8gVP0sSUPynYf4l2GwWk1mvOwCUvtw13pfSddaJGIZO8h1NrQd8x28pe3X92tmjcX9oPd3VcFI0iWnJiJoQLZxQKcH9/wV5M+BC0/LNgPxnF/8X0LlTGv7UyB/zwaopq3dE5pvaDj0flyaWyzTRsHkfN40LJKXdWdxr+Ia35Y0je6w7x07llnBH7L1dDgIqSq6v6GSrvn9436u8evjWcnXF9V0HoyuE4/beKIadOdmb2QGmsjvnI19n1cKdAWn9+0Nz97xNwfc8HVPLB1HUZ76b72/AvHTiSlRWdZM+xD8aUd7lWzdznPtGDGznBHw7tVzOjXn6OK0sfPeFE5umhjiYk4xNzMyo/q0mbzl1ZV03j8yU1BJakzk1mVjIqq9nMJhMDocvb9LJgmfkmXVsCSiICgmXVU+n07kCmUpTKlQKMfyoMpls3ner1GQiLruewWQw6GyB+E+NwSrEIqACHB2Awxf+dPRLrrkAqAwHFzUJrpLDOrOEMmWDTCUG2tTzmioCbgdEmpsxGWye8A+XQgIrsJhcsVIplfBAsui1bK6oIS6FGBbBanBALE1TKhdyWByghUIpBa43ncEAAZS6cw0oJGJNIhgsAbgNCo1u8mIlDQoJrKcmlbCewPa6Ez9GFyeDweIKW3gAQIysehYTzms2T9ZEIbVcxKmns0Wg96CU8jR5zeFLlJobAgmHpY1T/NOcUcI6sxp05gqkP9dZKW20gxrYAYX5xgxwpKC0aQzBZnGlcp20AbnOTHCB4wl/fkM5iK0hPL+l8KBPqclWOMX8Zufhos2AFyQ2CJVSPofJ4IoanxulVJt+jbn4v8DwpVzEFQhEyDjqX4so7dysPk44HIlKpZDJFDNjvH2/BaeimT97PL4ijz0+pasFGm9kTgExkCkUMxLOpvPUI+8a3spd8GTzxACPQQvmRMzt4Nl18sHYet2JFuDHHB83YOS042ktjHIVPto43hujb2ZmiPUfPP9Ksk4MFT7eNN6nUX65Uc76dH5hV3u8kZG+XddJe56V68TNYMWfX9zdDm9krG/XeeKeZ2U6sRYl7cO+4TOnz7+TrxP8CZTZV+ctmrPodpmxTgBBlUVZegEDzl44MasTRSf6iiz75rKhrjis1v6w9QyJTuFTDkczNafVitwnW8a1d+43ZeqsxWGBYRMOPK9UfFtvcBOvLO9nizOEIzAjE137zz+byGiegWpV3pMtY4KxhlQTIiFoyNxrWdoHSa3Me7JtbAi4FsiDhy64kaNtb4D86Y7xbbTyoCHzr2c3tkONqBS18RcXDXAlkU30ncIm7n5Vp2tAlXUJlxYN1Mq7Tdj1qu7XmQT6M85f8pG9j6r5HrNOHrkdObatrz4WpxGbkDos3HnuyNo+ASafd299lF7F0oi/3DqRyVN3WDS+Xw97EBDj0G/u8jGdnUS3r72uoMshpSjj6bX3+ZKeGyN69XAmgAtw3ddsHt/WR3rj/ruiGgWkrox+GVPGdJiwZtOQDhaGIAozv7B1W0eFd7IQcJhC3i9juv9fPj+4n1xr2bqdszVRc4xGYw2IBnhIVEtjaw2tAwURQxddff3+0OTurkZaEbv287NDS+Z0Dg7x9fIN7N9/8oFz0fkMzbuslLLqT4cm9g2MOPLk7s2TSwd0CvbwcB8yY3dUSpVSmP/g2JJuHYL8AoJ6jt14KaG6wZ9XS1hfHu6cOyysrbePt6dH10nLDt9IKGR/6/Y0RVKW+Hj/kjmhbUJ8fH38/ANb95s4f/fV5BL2j5orSX3Km8hl4IJ2vj6+ga36jF+480p6ieYeKkXd52OT+weMOxVT1uDeVlxbMGHQwHW3MulwCCm7Ku3lwaVzw9q1A7fzDwj0Ch8bsf1CZjmv5b6CWkGPPT2519I9Dy7v3j6kW4iPs9eMTXeK2BAkqMn4cGTZyG7tvXx8AwJ6jZi14/zHfJYupZKU03NHjZ67/dj+w2v6d2vn6R/Yf/z8U28ymDpXQikUFHw8u2Zxl5AQX3//rkNXXvtQLIAw6Ea3R8qpyXh9dMX87u07wHr6B3h1HzVjy/m0Ms4P+zQqsbDg47l1i7vCcQaEjYg4/DSpQR8YLjPtzclVi7q1aw/yOqBPrzG7j73KrpZrqkQ1M/XcnBFtJ++6cfv+5TUju7b19HLvP3Hj4/hKlaT0xdk1vbsEA2N1G77i1LviH37cQMatzX57fPWinh06+PhodA4bOWXTmZRi1g91VkuExXEXNy0Pa9vW19e386DFF14XcFUY7Ff3D3jRuSBVy3t1BBnm69ej69CtBx6m1ikbEqao+HBqxeIeHTr4+np7efUaO2/7xfgC5o+7HCD86ZUgfHtfXx8QfvS8HRc+fWE0hldIOEUJZzeP7tYWZKu3Z5dBk9Zfjsun6bJN9uns8gmh4zbfyaBrjiGo7M226b27zj8bVwnbUV6ecmPLgu7tYGW8vToPmrjzyue8ur+1FypNv7z24JGLiQzdMcJfAlohETh1n3bydV5mWkpKWlbhp6Mhojvr1x14UqwLAZ6G8ryMrMyMrC+VdEFLZUANufaJOPwiNzUlJTUlOT035eVqX0XWs3tpIggSpl48+bSKMjPyyMat27ce29abVP/ySXKz6rwRaVXSw1v3XycCz/NrBaKDk3zx9Pks9IibcYUFma8XulQ/jtz9rBTEn3Lp1LlM9LCbsUAetdC1+knkzqdALs28uufAs/pOBz6Vl3+K7IlJPn/sQto3n4cWZF3be+A5vf2B+PKy+OO9sSnnj51P1dQKUj6rLvf20V17j95LYmN/0P4qBMyq/IyMzCyY4mqmBISTVVdX1YHeYkVFhba3pZJUMLFuLh69LIWVdVyp9somoJQykV3HMYef52elpwDSczLur/BTpNy8EceFIHHq7csPvxiOO3po246tK/dsHEZlRD2Mr9Zdq0NFrykneQ08+R5kUnZ2Rt6Hc5tG+5s164ALEq9dPpkg73ohKi0v4/E8z5o7OzbfyVNAipz7V85Fc9pGvknNy3oQ4cx5deRUAg88/9kPrpx9V99OI384y4X7+uipeNBWNEWSeTdy3+1St3Wv0/MTDvcjJh7afCIOZKwk817k3lulLhr5kX6GyQc3nYxh/q11x1d+7vyJPlx9Usow7j16Yv8OXhZ6GKxODsCYWHqEjVs2to0tFH3rZVYFAySKWZhSLlS3a9XO3U47SYw2smzTtoeDEZSWVyUUSdTMsuyaWrV/h66u9g0zv9ahnTtaG+OzC8p4YoWsqrSYJ/btPz7MgySoraksL6+opKPbLDtx4fyeqZ3sjb4bQPhHUhgXXUmj+ga7WmodOhQaQ/TpGObrmHvl8OXz19LySypoNAaPL4L7F3omVvaOliYEvDY30y4dWLEm8vaLKrEYhYMkxV+ij6xevupgdDYoyBiUSsysqqwte3Hu0Nl7r0o5CpxanPDyxPGb149u3XPualQtTy7n16c+O7Tr3IsCuqZ1VCffXLFg45GnGbUCoAZOrz7x0fHN64/eSqhoto6zKTm31q5af+DeG7ZYjEah1SqpIP/trZ2z1l6KLf2Bl5F+68Chs1eeVvOFKAykFJcl3N8zZ9X59/kgOBqtFDMrS+oqWF9HAxXs6orS0lquRIGBIF7S9R0b1u29E0UXCNEolEopU5V8ANfvvBOf23LNCu7AotVUvj5z/Nn77BoRFrI0c7Azxgk/3du+dtn2Oyk0PhoDqVQ1+W9Orly0625CubamlHIZxR8v7d8ZefxBOVOMlfDT393fuuTYg/hyuG8urY4+sXHl3rP3K3lC0AYwc66fu/Awo0yIxoLaGy62vJRbuzau23njZS1fgAF6quXqspiH++fvvBmXre3bfotaVh19asvqPWfuV3CFKKWUlnB/y+r9dxMqdBuAoJzbJ9asPHDlQSmPC+FQ8tKy+MjNK5fvfZkMx4cCXjutpqLs9aXjp28+zquXYdXS1HcXTt6+fHjnobMXHpezZJCIm/325P5zDzKqvu1Ca+Gn3d2zYc22K8+reXzgxqohuaoi7umhRduvfcj4geuhqI07t2317hO3yzgCUHDr8+5dunwvtUigsQOMjJ/y6Pz6JbvP3S5ggSKFUlbXJp3YtXb5kag0bVVe9uzEwVPn7haxeBAai8NUJD08tWbTmefptZqz31P+4uShU2fvFLH4ECigmIrkRyfWbjr9LJ2mOauUZD3ZsWLlhgufawRoDAqDYxfFXdq85sD5V7ma8RiUiFVdUVRB50gbKmWZkF5ZUlzFEivAE1X+/OTBo5H3izlcoAwWw8x5dXLt5jNPk+t0gf8OUBJ2DYPJFv0ircg/B7Uab0xxcDW3cXB2drCzChkycWg3Ki31xfsM0NqrhKWf7x/dtXzuksWLFq7dd/JJSo1uyqQZ+ibmdi7mjk7OTs7O9taePfp2puJkn7OAE1adn1TGVbm26ehjSaWaBgyYtXrOzD4eui57c2ipH+KK68QUdzL80DWH9vnVqzK5Xfdxo9pQzV3DRwzuQhJkvYgtq0x/F1WusO8+flQIkHcfMbirER+WCyuykyvURq379QuhUIIHDevlZCpOSCpoNp4oK0pPKlcSW/fv34ZCCRo8rLcmTCEoYIqS2FsH1mx9ViaxcnalfO+JwqjoKS9P7Vo0c9HSZcvmTh+zYMORdyXiypQXL55+SEyOv3PnOrzTS81Mf37txJ7d+w9uW7Fq88FbsTXfVzlqtR7J1NaFam3v7OzsZG/j1rt7R2sDxeeMMilEK0mvZMrcgPWsLSnUVv0jVs9fOMzfUneljurSQoWg3sXFGq5ysSSKhSXVSB+0EV9hZnx8X8a37jtufEd7G/ce/fuGUyQFz6MzJQJuZblUYOrboYODjWs7H0ccmptPA+2PsL6sQiow8W0Py9v6OuNhOa/ZDKqyIjetQqAX0qd/Rweb1gP6h3tZSZOSi0WKioL0CgG+Td9+sLz/gHAvG2licgHr+0Lzd/Bz5688LZqjsA0ODXGxamZDHSSrbmOm9HTCZWeXMjjAUtXFGUKplbc91Ug7YgVDsHX3MDZgF1cKRDxlXWWeSETyd6YYNAng6GRPNKsqL+dLRYyaWpHcytPXHZd6cnm3sBAvLy/v8Ol7qw2t3ZwsjPWb+J7/YEo/vqmpVzk42BiTdBLgEpn3XTpvoAUq4dTmyaGt/d369FlwPPJpetU3o1tl17afv/AxE9Nr/KG3cVklOW9O7x1Axic92rnlQWalBMJh0BgDAjY5+pVRqz5nYrKKM6L2eFAFT/ZvXHxb6h5xJz4l613khtZW6qLH73Jr2QpIVXx5x/F7r0WtZ++5m5BfUlxenXB6Rojxl1s7LrzJoH0/FgMkoti7lz7FsduPXPcqPv3Ll8K87Dd317RxVItev4oradi43Jzy+CdZmVyfcUeef8opL8x5d2WZL1X46kVsLg24XcChw2BxEBY4Hw01DyzAgbQAHw1SRj+48/FDdfCIjU8+phQUfMnNeR+1JdALJ735NiWvsqXtpSgYgmHMp9dlnsPOP0v7Uhl/cFE3q6JrBy49e1ZqP2bLrbj80uL83Kj7awbaFV86fO1NcgWwMhp4ImglJMS16bX82cfMtDvHh/lacbIevk8pg92Mog+3b79MYNoOOPgwITU/59PdxX5VqenFpWygOOz8yT8+uffhTXnA4LUPPyQWFBTk5Xx8s62tv4HkztvE7IpvupIaVKrCj3dvv/jEsOm//0FcStyjc2M9jLJv3XienK9xaqseHrl06mWqJHTIzhcf0otz3185NsreJOPl4Z13P30Bjg2c1waEzM/v0c5tj77NLMl8e6Stm/r1kQ1LzleYjrwYk5Qdd3F3V2e9spcx6aV1TcYTG5HFPr//7lWRT7/ld98mwLbNjXu3OzTYUPLgfXJWeUs6q1VFH+/cfR5Ta9lj1524tIK8hIerg1jZqV+KuFisxg5QwcNTVyPvpzDb9lx3PyYzPy/uzoXJrtYF73YcfPAmFSSsJuXZp1SGx4CtNz5ll5VVZN9YFeSiev0iLqO0Ze+vIuV5Qmqte/+t1+M04W+uDnJVR72MSyuFHTRV8bOLZ288yDTpvvVWfHZJUWnF5xd7JlmV3j155VFcCQgAejRYUJowX4doYQkOB5c3NFSR9iL+Qx51yM5bMdmlpRUZr/b0clS8eBefWvwHE3b/76DQWKBviw0xwn+EWqVsOpXo1C60k4G47lNKpVKVeefgqbdMj0U3bt9/cnKaU8Gjk9uvZ7Wwzw5eFKX7CUM0xKKxErEEggyNCBIUl8niqORymRxDMrG2trMgtdCkSdOfv6+UktoP7ArPnn3jKihqikplSnM3N1ftsZGbp41KVfElI6u8QqakuLg2yj1sIXV5fmVeTSlkTAoIbq1tcZ3d3PB4dGFls94Lo6pQaUJqFdQkjB66oAqEkXKI7qFTj987sWlsR2uUvKVPwNI+XDj8JF456tjThw8eRq7oaxB/69zlT/j240eN6ts5tNuUqRHjWpPy7+078/iL15Jbz588vLasjfDz1W1X0r+f0AbRN7uFARE8iWIx6OfoE4kyDKeunq2WyeQqPBFPtXa0NtbXhdMip9NUlVHPTi7w9/Vy8+gyefW19G8+g61iVFaIpWQvHw+tO0N19HTAYKuyS+oIZlZUMYaeV1gGbFxRUS7hqWzJoP01NDInS7CMvMJyWF5eKuUqbclGmpqsARatUknEB3UK0Uxlo+2c3UlEXFF1PZAriLjg0DZUjdzW2cPQEFdQTv82S/8e/tj5Aw15TX5KvdytTwd/W/Mf1TR27n5GJvjC0hoesLNaJVdBejjQyf8aXI3F6YN6SqmZKVepFGpIH49FgYq1ERxWD40Gp1AYZWVpPqeG936jl+/IpRfKq4WgxVDmPTrY0Xb02oeZXF34fzjCvAyeSOziYGdCamZ0s8GHs9JKk/bPH2tjSC4qfLRl3fgQe2OcTav5p7JZ2hor6/mFDFr9wA2HNuyY7ONENSAHDph06uLW/p76Hx58KKhhQBhQ5qUKqO/W1VNmhTmS8VZt5q4K9/I3sRu/ZsmKiFaOVmT/0eERrVwNGF9KWWw2lB51ITPDZuaO3TPHBVFxcqVMQm4/e+Xi4f781y9iCyq/8/5ArhI6bXxXKq14eGyWn6O5kZGhiYl7cHB/Gxs9SCZTq7/3F8EzW1HO4XMqURg2SK8cT/IJXx5dqlanHBjhTgTFQheqJcBJzID9H7L5tOeRM4LcrEgkY1Njl6DQ0Q5OBEguU6lacmlgUEqx2Hjw6vlj+wVbkkxNQJ1X/P5RWQk1Yt/xpVNDLLAyFRpr4zt3y9aIdor493E54MnHQio5Duc6dsm8dbP9ncxswsfPiwhuqy8RK1A4Rd3jW7dTkzEj1x/fMKWjo42xmWP7JQf2zW3vSYLgpWPgP1z/na8zBXVRZ+aEeNiQSEYmxk6tOo1wcjSC9dQuxGuOSpEU/6IgQzFo9eEN00JdbNw6DVi1pm+4Iwtedweyu+j97dTi6rDFezftn9Pa05Jg6tNj5ImLOycEm8UDb66YCdxlCCUTQl1WLJixuLcrGWvZasrSXkGBBKtB8+evXtjR1drUbUj49I6+ZHZJWTWzpUFSfJ/Nz9KF9e8vLezgbQdsa2LkGNhumLOLGdBZ2ThL2wRV9dM7Nz7FyAatOLB5dpiLNcnEIWTO3t0Lu/mBZII0gpauPPZJfkZx27lHdx5a1tHVwsjErVO/I/e3zwyzex0Vm/hFCtFruBx2HRoDWh40uIlp2OI3n+jq7FPTOn7TzQeAKkVeU8lmsRhoDPDA4fAmXRZFfapT55yZ0ckCdA0yEl9kfcaPWrF/bUR7C325Ui418Ri/dMm4dsbZH99nFCohuAPRIijQCsloIHIGH8LQgcOlhlRk/ykP4mvV6WfndGi6ZQ3hn4qZpZM5D1VXwox7efdBdS25c5cOJmqlnBzce6RHLf/Duahv1sCh4PWYjGpBXS2tro7Ok6Rd338yNVfZq3MABFn3X7q8DTW6f/e+82Ysv3rk0ONCXktLGdix5x/Wqi2HRvS2Vcm/9xOwNo42CjXtS1mF9lhSU15TVoVCUawcbJXq2ka5tKayprQag66nVdfW1UK4hnKOwmDUdSx6dV2TeVdZbWUtnQa61A1h0Fg4TBVNBhHbd+7ef2BnI2OiPgZUYy25LVbdVl6/9PTElFYYlVTu7BXs7Bwg5AvRENHUhEQkGpqRqVD9u1vX8vLRbbt0NJNJpKSgfoO85dKPpx/Ava8moNBKMZ9RI2QzaLV19TxxzvWT52KT5D27+hMh675TZ3V2SRjZt/eUKStuHD70olou/nbVK4fNKKQTBy45V1bPFwuS1reqebR5++uqJuMjaKqVlRpbm1VQqj3m1VVUFJWDml2C9xqz69TyLoKDXkYE4oyH6n5bbiwKNQL2Dhyz6+SKroJDnrD8gar3lpsLu5g2bZgV9FpabTVaT6+hJkFhIQaXVZ2TW1vHgOUNrg4KA+SMqtqG9SV/L3/s/IGMrq8tk8qlGAjdQiFtAAUBTw9e1Q3/BjUmmmJqZKCnPQdAY4zMKHg8CAEXHM0MmAXFFI9rvDcKZWpihtfT15UrhUJVWVaj9hq37+7nxJTM3NjHNxe3d8RFX7r0LKnkt3ihSW1NvkxCAUYiwIsim2NtGzh9/c73SUn58dH3jh9fO7FLK0Lh6QVbz3xMZ6ghaW0Vny/rFOBlR23sEqkx7q27WlhBoMyJRFI0GgUabSN7GxOS5v0xoHlUq1EQ2tLK0lB7NyVkauOqD06qQc1ErymWKlU5F2f1bePs6ubu4eHh5uLdqtfcEx84lbUMFv9HM798ZkVpYlz87dv3Dh5evnDCuHn7k4ukEP4H7SwusGuPAD+b7FMb+gV72IePmb/rxuOUonKm5nUATR+z74ELjVohrK8uS4r/fPfu9X17Vi+ZOmzCrphMEQq+3Q+vBlawsTInGugOIUlVBY9dl3xxyZB2Lq5uHh7uAGeHoElHEwqymGzY2wKlXAmhLMhkQ233WK3ZvwWXXwxWzaytEggMggO9bYDHoQPj28rb3JKgbPTsFEJWdXlyQuK9ezf2710D67n9XRoP0gNdIV2IpqiZDLpAILGxtjBuKAd2/bddin66bWwHWxykrKvhcISt/DyBi6U7DXDzD7W1N6iuYwj4ahQKpVCqDW2tKca6uSVN5Y22sLQwJumywsTSiWgMD1b8yFJKEYdWkZyQdP/+rQP71i2dNnzS1lefWT/UuZ5eKeDhW/l5OXzdro/2CvCytsEDO8ANEIMuEfM8vb3dbJos+bbxCbGztahlMrj1kG/HHh0Drb/cPDI2xNOhfb/x268++lxQzBApmo9xawA64Hw6hHdqZVNw69i4tnD4CZrwJQyRxuz02iouV1Jyd9fkbk7OrqD8eri7OTm2mnH4dU4+m0Vn8+E4Wk46bBK8V/vwTmEuzKv7R7f3dWnXb8LaUzeSikqBMj/qVSD8s1DKlWgU3kDAZ3NE6UmPDy0bMWL0qFFjxs3b97S0Ag16QU2HluCCVBl7e/+iUZMmTxk1KLyNW+/FSZZdF0aM8tIM8Jl3mL7zTsHLQ3MGuZcmXl41OWLb1aTmcxNqxudniRITt/4j3UhKpRqNQmPg/npTLP26drWUpjw9efFDaUlp8pt3qQW5EgJabuffJcxSnqaTJ71+m1KQJyVgsGgcFgffXde+wmAx8Gi37gCAAWGwWNBCNwuDBf/pDkDdBe9i1f3+BqWEw6CVxlzeuWxKj0HD522//qGYoAdfCZ54DWqIVc+X52V/OLt8+PBRo0ePHD51y43USgwVI232GGFwerXpr/cvHjlu4pQxQ8Lbe3Vb8Zncfd3yKYGaGtem49SdD4rents4Kbgw4cqqsRPXnI6uarZ0kNJ55p7zd3dPaG0M28zIwh5TQE96ldjUxaR4tu1ojkl/cOrE69z8ovh3HxLzs0UEPA5VE3dq3cZz9JCNiZn5ZScn2cZHTt10O08F1b4/vW7jWXqbDbD81CT7hBNTNt/IarrgE5gS2Kr5gC8Gg8bq4XHAgs3HgWHLf5uhfxN/7PyBs2QrJz08SiiR/nAIBRQLmUqtwmNwmtYAtDgqFpff5O3PKhWfw5KBtlN3DEzBZPHkX7eTqtVcHkcmk2oDAFOBUtlu3uppEwf6ers52gZ0G7Zn52AXYyg6Ja2a9cN1Zv8glHKpWg2e2CZ7BSApv7a6rKJepISwRqZkWzsbW/82PcePW7T9xqUNE7wJ0befJxVVAuvB+/QNDfRwTcqXGq9PxOBwMuBVw7mIAv84WFAIRF3mA4ODP+DZb2jN1RisnubOwKHnsMslYjjr4aIN5xj8PxWGQLY2I1maGHytG5pBSzu/dfq4iEmT1mzeeur04zcpuUzhH2YcqfuctfOWTPB10FdIxBmvb+1fNn/gxIWrbidXSEFvsEU3QwdIp6gg5sbeuSOnTZiwatPusxcevErIYgmF2pr4DwDlrKmBWXSaZm4GpXkvgFamUqj0zCgOdpamcEo1yddc1GAouLbUBVUowCOCJejrYZvYRM9AH1SgsH3hK4SFcbcPLBg1bcL4lRt2nr5w71V8FlPwzbrrZihBXqogHBbd+JhiCFRrezsqyQA8IgqAUmWoj8c3zQWsPgGH05Mr5KDiBc4fcIBsKGaNrh6ce2o1Bv014RgM/odDXwBRccLdAwtHTxs/bvmGHafP3X0el1HH/8G6TQ0KUBuA8qGvr2lvdICeHdy2wL0MSAVaU5WSqKfXNAAwFRGH1ZPJFUqxGtt6/PIFKyaHuBvJJIKyz68Prpg/etqS5dcTclveL0QKHr9swYopbT104Q+tnD9y6qLl1z7lgHaZz6kT8uEGQg23QRrUKoXawAT0dmwohniNHXQnvgNY3yho3LKlG+a0cTeUCrkln1+dXLdw1LRlK6/H5v4m0xC/OSxGNZeAsnA0N5SrTH26Tli+5+jhAwf2Hzhw+MTl+6c3z+7h2rSDDhck6+B+MzYeO3T0+Kop4a54PSc7/7ZtnbWnIbSekYmZk4utc9eRs3bvXRjAL3v3Nq3pel9+8vPXmeUcE3tjbn1hSS2Pz+fQamu/vuZAg33nWXMW9KfmHFwzbcb000kCU88+wRSUHE1qN3POvP7mWvmZZIEJkFNRJuZkMxIZLW+YQVHK5ZAJ0Yxq1lCrgLgxZCrZiIwGDYRWpJTLUHAY8h87CDpqEm4dXDJy4fUyYue1R09vmTu4vaNU3txfUCvlBs4hg+fsOXbk4IH9+/YdOHHpTuSmOeFOzW6gUsio3qEz1h8/dvTY5rkDAk0NHSx9QkNddYMGaH0jU4qlk6Vzh35Tt25fHiyse/8qFTR6jSilsN9hYEjU+bWGxsYEElHS9A0IEGTRaeL0pSOta85sWTBn5rnP9ZRWo9tY6RuxS9PKBDyfHv26+znaW7VqG+wp43x5k5BXWJxTKeB69+gfDssD2wZ5yXhfXsdlc5tkibEp2YSCljWkGSRDbWxgQrV3MDUzpqClDW8NAFUfZEQwNad83f38d/LHeQsqRmsXXxKmOiG/lPnDd/PX08pFArmNFQUeRQHJREGgDm9oEwEoNdwwgmMUvHRV0w5K4Pm/rzmCkoMWA34dDwpumkBrB3UMGxTsbqY7jYawbX19jE1RQoG0pammfxxqFFrTTDcOSahl4ozbs4e1C1vxvIj91bJYAoFsa+U3ZHA3F70v+aU1LLVmbB94L/AoVQOapUEo2FMBf8FP+AfoknzT5MP3a4i54RcKhTYysQWX+047+yKx6EtutmYzV3Z2TlZWemHp+UXd3bVjYE0AV4riLmyMPBcVz6KYuvWbMG3BjnMX759a0tldH/qmRmgCybLNmMUH3ydEPb0YOaFNKyybXhP/6NyGyI95DLmulGpW6ml+wb81/2p8P9X7i7siTz9KqqcYuvScMmvZ1pNnY2+s7O1PUv34dloaEwxjamauTzJsM+3Qo4TC/DxtSrOyc3JyvqSlHlvczwenmbbUJFDz9xtQsJaw4Zp6qqA86w7BSeXHK3sjT9z/zDAhOPecPGvx1hNno2+sGRBkDDWvnJoCawhH2bJ7BuJGqcBDozvUAa5RwSUHHo2H/2jWRurONfA1r+HgLSRHhzzu5v4Tx+/E15H0nLpPnLFky8mz726uH9aODMlaGIbTAM+OQkpYa51Aw9dbaBRTK4FhmikFUoGCzaDRTN9p5IL9T94+f3Hl1KI+4XgOoyz28aXNxx9/KmxRVZS+44j5+x6D8FdPLe7bQ4/DrIh7cmnLsUexFUoq2YJAgFxGrbn0rrSwMVvhIpyTc2ndiABjSKnthjYpXZhG3cAZFMG5x8StT968eH752MIe3Uzl0tKP9y/sOvUorvh36Ij+bqDQ6KabGrkFWcl8nH6Af2s3MlFihMFSnJw9fP38fH19fHy83e0sjA2aP1tqSJ9s4+bv5Onm0jti577tA60ST1y6EKNdIKrSLnpRQRiSuZNvl/aB5iQDlgD0OBuQF2elxVyJ3DW/b7C/R9sJm+69enJv8/btx2Oar3bFGPgNWbrzStTDGzfvHF3Q0xHtgDPwdwPtJc5v8BKd/MiCXk4oB4y+n3sbio0Up1fN1C1SZTOrsWiZg5W59hAkGfw1t7RT4vWr63WOKAiDQ0mahPkjarKic+qVfddeOLN7wRBfWx9XGzKhYTobfoDgBohMMVEZo1BmDk5u3n4687naWZjoN68lVEo9Yws3f0dnV9fO47Zs3z7ZNvPU8YMftA4e3CsH/1Oq0EQzJ+9OnVpbUAxZmo5dA6ykUytWTt/2uuFNNkIO0wCS2VHNmlUbesaBg5buPv/q4fXbd/bP7++somDwrd2sJQI5DmdGMdUGIhoZY/WUXL5QJJGp9JrJ8XpKHq/ZO7fIFGtI37CMprMwj10DKQT2lhbmFEu1Pqm0RmdVLqsGpRA4WlGbjLn+jXzbKHyPW1A3gjr37dvPmtXTMEqluPTLq0+xeUyuSiqq/3hm960icd9+Ya7WZHgBYHtD/bLcKjqvcUhDLa/6kiUQkT0djInGGGunQEMCJ6uUJW4MgJKWl5aIOHYursBPt3PyJBpBqkYvugFQSOA1zk2b1n8sTq5BegRaWRWtYYwFPD/m9q5oVcn5k9c/J3+77D0/P71eIsHj8Fg12tXDwszg1buYdPjFJVpkvNiXt0uLFD7ODiamBtrxD7jFb/ZAtADsuKAsHfwsTAjZMWl1YjHJlEyBIZNNjfRxKOBSfF98QNdRGPPkSWJV6/U3nkR9frFn6fKZwzuEEGUCHqjkfrREXSnmsFn1fEif4N5p+KTjb9/QhJ9OL/XUL88oqWXzQMajQUmVfP3EMSf/CwgPrIIGj1Hc65iSYteF99++T311YNGiaSO7dsLx63k8/k/GDL/BwM3TmEhOSkus5AuNTLQppZDNTEBKgdo/UFyLWi7D+HcKd3RQvYl6m1XYuF6c9+5NfFkpHy63OEgV/+ZjUZ7j3OsvP6S/Prhk8YxRYaH6Yg6XywVm0V3QHLSVvQPZhFiSX1hR15DyzPMj/GycJu18XQzpubpYWRjFRcck5zeu3VZLE988yM/luTnaU8iYxrz+d5EmvPv4JdM24vyzj1lvDi9dCnTuQpLyuFy2RucWbIIOaBfu5qr38e279C+Ng//8mHefigpFWCwG9N1QDk6mxhbpcR8+Zzd5k1jOx6dZBdWuDvYWVDQk5LKYfLWBsXuHwRM237lTI0q8ur2bcVVGaRmjhS6oUsLXhNc3cu8waMKm27erhZ+v7ehuUpVZWlLDM3V2M6dSi5MyvzB4ROOGbCUbG4B+EigeIAnwtg4USiZtnIuoLS6sraXrUqgCyjA4EqKpR8fBk7fev1fMybu4qatNZV5Rce0PtpIj/I8COh4qKZ9TVw2chtpaJluQcnP9juPpJm0nDfbDW/cePtCEfmvdgv2v8us5jNhzs3t26zT3UvNZW7VKpZDLZVKtR4LS8xq9duEEn89nD265VwBVv9o7tnfnGUfflguF4BmKvnH1Ba2Q2Mrl6zoRCBc49dCrGpmEy6TTmdVRh8YNHD7h0L79i7taQUAzLo8rApWLLP3aggkTZkYmyg2NDMUJty58kslajx/oCGVeXzBxwszjWvnn2xfiJJKgcQPNIe/24fjSrIt7rqXKZBm3Dp34nCMND2ulD2prqYDP58EzO/qtQrvjy3Iu7LkKh7l9+GRilrxHWOsm2ymAbRRKpaJh+LwJaBwONPdMNl0mEFZEX9ixP/LWYxGnqhq02HgsJBcwGAyI3H3cOGf0xz0L9r4sEwoEabfXj+rbZfaFjGaTtqD1UCrkUmlDxeHYd27EuIDkE5vXXs5VVnw4NH1A0JgDUV84LA63PvbBlcelyfjW9k2sB1Hbde9m6FT/ICqOXcdkM5MTPtRjhWFdAyxQEGiAuGzYY1N8ubVi2vCxB98L9PT0palPb75hcvzGD3SyC2hnK5Rc23vw0RcGm5/06M79/DKzbh28AgJDbPnSa3sPPPxCZ/OTH9+7n1tiFt7FH8QpF/H5HDGIE+cd3InAKDyx41QCk5t59/TZt/HisM7+hjjvgI4EZvGJnaeBPOvu2XNRMaKuYUGWoKsrA0WAJfhbv8v/E+cPqKYfPn2Mu53w8YXIW88yq0Ug7zEqTu3be7uW9pmweOXuyG1rblfWe08fE2ZvD68ho3j42mIwH+M+Zui8DzW3Jib2eWUN5Otua2CohyI7uZmbQGnvXmUVN7wqouL1mw9VNLGXmwNRH2fu5EommsTfPfcymaZrRdWQIiEnlye2dnQkkxrXaP2Dwbt6kQnE2pparlBXOLA4qx7jp3ZrQ/1wcMPm9XtvJaTmFBcVFRTkfry/b868nbFlrrOHh/u7oSHHjqOD7Ew/ntt9bM/FhLQvFQUx966u3XQiukQV2rOtE9VU3dLOgh8AshoNeXQcFdjKJOvQ2gO7zpgI8QIAANlDSURBVMak5xWXllV+vLt14aCe7YfvfZSreW93U0BriiUYkgxQ8XFxz2KziyoqqjMf7lowa935hBrwcCubDgl/hRG9ZkrvVj1mrDr7KSWvtKS4MOF5atzLWpmll4MF2QgydXK3oRh9uX/v2cuY3Or0qFt7TyeX18gNMPDgFmRAAO5ZSuL7x7EZhZXFBbFPDy4btvj8uzK45Vb8C8m1D+nn6WaXcnzVji2R0Wl5pYUF+WlvDyzu06HXxAN3M4B/1fLwG0CtVqAh71Y9vIMIL3duP3zkDbBTYdrbmzuPvflSJoWwmrE5tIEBDoVNTYx+HAPypbjg0/PDK0cuPP2yCBhNpWxpVwsK7dmqq7sfMerS7iPnotKyixM/Rq49G5Vt1LlNa1dbCLIJGRTkZpl6bf+RbSdjEnPLixKe3Fi77tjTbGFwWIiPjQm8rPE/A0sg4NHYzOTYR9HJeeUlhfGvjq0YuzDycR7QFpSkFqJHYT0CuvuHmL0/tOfQ3hfAikUZH+7tjYzKLtLaAdSUlq16+vja517ZuW/7wahUECL59YPVSw7fTRR169wm0MmYG31kyaCAsKkLDr1Lzi0trahMfJkcH0UTU90dHS1amDBhfjq+TBP+4LtEXfiU+KhqEdXdwZ5qDLn4AX1sCq/v37f5RPTn7JKS0vLMj6eXDu0eNnjDleRqUMjt7M3NzPOeP334/G1uWdLzWycuvskogvRh5w/NjDm+ZIBvp9GLjn74nFNaVlaRF5+Y8K5OZO7k7GL13ReP/mtoGuLGeWyEvwaUoaWbqjz+8OIhI8eMHz9m+IC5F5VtVkbunNcF3mmEazV66db5HfEv188ZPXzsuifK9lO3rRnt3+xNLSiima0N6JJ9Hdqx6jpu2tQe2Ff3b9+ht1q5ZeEA05Q1S7ecP3HkyIHb9d4jNiwb4fXNOBA8BA26tWgIR6TY2jvYmRtqRiKZ6XevXT/7vlQB4QNHzRkTYp6xZlT/AX1H7k0z7zxp6Vh/EMhv5Jwx7cwzV2vlqdTOk5aNDQByrOew5RsnhfCuzOnVa/bFOs8hq5aN8cWDONnpV0+dPnAvE7hgeBBmw8R2gqtwmPO1HoNWLRnrB4dpAGNgZmtlbW38dTF/A5Y9Rk3t5Ms5N6vvkH6jzxfYDlm+ZVSInpjHhZwDu/qS2TcvnbiczHcfunTdkn56L9dPHDxk4Nzz5bb9N68b59c8Nn0Ta0twi68GMes8dMKcIQaxD6+cLXVYsGL2GJuUTau2Rh49dvHMg0qX0ZvXTWrTMD+oAec/dMbAYErc8mHjRg4ZtTMa3XrkxsnBFNChy3h09fLR53kiCOsxcNKwMMfsHZMHD+k/4lCaUdic7VOCgZdL6TB9yeLJzvk7I8YNH7j0Ks1l1M4NkwJJELn91KVLprh+2RUxHsivVDuN2rVhcmsqaLXSbp06tuV6EvwKNa/+czfP6a7/dNnoITMvVjmN2LljchDwhzCe/eZsmttD/+ny0UMiLlQ6DNu9c0oQXIcxsp5ev3ToeZ7wV3mGQcenRSrvbhjUxtXE3Kb9qD2PXxUWFRbkJNw5ua6TtY2ZkSkJjbLvufVtlfazH4DMo53ciMY2XeaffZ9dySyOO7W0p58+1qDL9g80Meg9SOSfD/f2wREtuy86GZVeVsMuvDe7nRPZzKbHjjdlAnA9N/3iolBbAuTd78DD1NzCsqr0qLtL2rmSKR3mXkipk2tv8k+ipc+75Wzq5uXWbeXjfK5OACNOOLG6jaMNmWzt5Ozq5uaq+etobW6k7zP6bEIVbDyYhJ2DQjxJFAsrZxcXNzcHBxuypYlxr4W3k+FPjMnKXyxpZQYFbo0qavganPhaRBtf484rn+Vrv0GmkJW9WNqaAgVsel0ES+Sxpyd0tieaUS0dXV3cXME9ne0d7TuO3RuV11Q7LaBBUjPfbh/mZ0Yyodg5ARXd3R2trajmZLhrYDryQhKtpSysu7g4vJW1CdXcCejsClLl6EQhErsuuZYNa6BSZ5+Z2s0Bb0CxsXPxcXf1mTBvfJiHT/CYw7E0tVpwb/WAEHOSEcXBEaTX1c3RxppqRSHAT96MA29K4BV836KoerY+hAr5zrmS2yQJQsark9O7OxLMKBaOWjXc3Gyohp7T9kdlsEE0kg+buroZhC64nMTRhFfJ4k+P6YgjDNrxuggcSlnRZ8Z1dDemUhxcXICRnNy6D+0fYmdL6rDwViZPreY/XD+4vSXJiKzV09XRxoZqSSECPd2n7H5Z3OInlSSlj3cMb21naG5u5+Ls5uRsQzQidlh3N61Gdz7t6MQuPoam5paOzkBhR0c7ijmJ0CXidHQtfLYuekuYM+S15HpGw6eUJI9W9vAzCJp5KUUTAFAXvbUbCLPoWlpLn1viPd06siPQ2cze0dkNKO1kY2NuSYV1dh6/7VlBizpLefGXpof5mJqTHWClgB26DerXztmBGDxL+3k3CevDhfl9vAmm5uZwCDcnJ1uyCcmg/aJLn8rgCOhvDoxvZUUiUx1AmgGOjo5W5lad55x+X97iDeveHJjYukl4B0dHS6pl6OwT78rg8ApB4rUFffyMKWbgds7A8CCIrb1Nm+Grb2geCbU49eKSgR5YvImljZOPj7ffiEmT+/g4ufTY/KxYpaa92Teuk6MpiBxcC3BycrK2tAufczy6Er72v8nXz7tJEiPnbIEnAzVyhP+EJp93U0k4teVfsjIaSEvLqaALmtZXMi6tLC89IyM9IzO/vA7+/lRzVEJWNY1Wx2t6QiWqrypML6ioAw29WsyqrUx/Frl5z+7N11LKajmaT3e2BAirErFrqqpqWPDXmDS3rqquYIo0ByDOmuK0tHRYxRIaWwLLYH4kB7U4n16WkwbILa1plKvKnly6fO56gu6zqSBM6XdhGlCKWdW1NTRu80+5aoFfm1qSqbltQSWTy2HV1JTTeCBtMh69PD/tSxmNB1tRIWCU5aalp2ekA+1q2M0bAjjBYg6tlqYN24BCxKouTMsvreYCKbBeeV7U2YMHdmy6kVrD4LWki0JcX12kuUd6bkk1WxdEyqutqiqlCzT2VopYNUUZ6enpaaB3WsP+mllKCbumGGRueloGOMFpPNFEDkzTIJeWvrp28eiFjxy40QPWEzAq8kGssPW+Xtpc3ngvKa+uurKEzm+xQvt/ROvptYDu/PcoOCmP1g1zIKAhlAHRxMTElEwhmzbp3bj2PRBTK27MsvvLfTxApxhDNDY1MyFiIbQe1GXl60Y/RiWP39XGCrjaWKKRiZmZEeheoAh91jzN1foeagnoj8wIoKAhtL6hkbGJiRG8fBMXMPvYx9LmxeUfQovf9o1a36Gta4/1r4oaXDotqoynp1YN7t4OjdFZ38GpfcSWa2lVTb96LGSkv9oybpCRdqWYq0vXrWdjKrTWl0tKni8JMgfO3+vChg8uCq/NDPEz7bqqwfmTS0qfLw2ygAI3vyrQhVFUnl83vAdZ9yIA57CJW26kVTfXrDmV5zaNdCFrO47mLt0XrL94Yl1HDyIUtOXVlxY/QSzlZL3fPWmoEaohXe0Hb7ieUfH1A47VT46PsjECHUWTwMEn0lIuLQ0LChl9MLYSPD3g2hv7ptiZaIexHew7zNz14ub67gHWUPjyG6laR60ZSnnV03XtLCHfuVdzmp1Widn5d/ZN6W+O16pBaT1wxbnEKr72rPD9pjBPw84LLyZpk6CQxp0aE6pnOHj7q0LNQ6xUVyQ+3T5Wq4lxwLwXz6+s7OVn1HbhjXTYtFJezu0D053NtEuK7GxCIrY/ubGxT2tbKGzRJV2c3yFXV34+MXe8mWaJpllA/71PUpp+1VLMyoneHzGaitVM0NjbtF176GVxvbY2Utd+2NTNBfJdciONrjkGwR+u7BFgGDzrUjLwmgEqdW30lu4gzOKrjWGaIeXn3T86081cm5W2VsHTNj+4tmlAWzsodO65hCbf7GxOVfLLvZNcKbDOhj7THjy8snFAK2LriDOftR6mSsYvTjw+Z4otQWNnSxPf5TsfNPXD66L3Tx1rqacbF7Bt03fl+aQSjjZVLVEXc2D6OCt9XXib4D4rzzYLr6h+cWZJL3OcdnG+kUfntZeTGwo33F6UPT29wAeukyyD++9+/eb5vqF+nuEbHxdq6uqajIvLRlvgdHMOxu4D1lxKbOw6/Rdp8m1fmYDN4wmk/+2m45/It9/2/W+gkMhk3zpXfwfCpMePH959/z/2wW2lTCbVOsR/L9zUV49vX44CNekvoMyfRFuHtYDu/I+ooWXtmTWih6mFlYGBARGPbd1tyt6Tlw/tjAi0J0KYoDG7nuTxtR0ZZVn87R2TfRzJODTJtNOYlRdi6IJG+2h+sGOubZgc4ErFg0bFd+LG69E13OYVWV3OqwOj3Gwt9Yh6BkHefU99qIK/UPqPpEXnT1Z8c22fANdRx2Kr/vIa/vvvU8O78ZujUv30G9b/Bn/lt63hqVLdzx+h/KOnEr7+X9YGmEX3SwcQ/CR/fn6X/xdTN/CdmVTfG+XfUeBftt2/Ye3/Ok1UBOr+avo2cf4Q/jL+DufvV0FTxn/9x/IXBa5J/8oW7b+BztXT0GzJ9jfnvkUNKfkslkQgkYJCAwLjDEgkQwJKJeZXJZ85/Nm0/9ChvX1sNMMaKplIyGdzhXKFGqVPNCIZmRC171TQAO6Ckom4PI5ALFcoVFgjM1OSkQG+2eJ8tUIqZDPYYtAsQTiMgZE5xVD39bJ/HCKRKCwsbOXKlUOHDtWJAFJW7MUl8y+IxmzZubini248DAEB4XclIiLC0dEReCq6Y4S/gkWLFhGJROBV644REP65fH2lwU83fDQDBWGMzKjm9nZ2DgBHR2sLMoloYEgys/LqNn/jrHFd3My1E1ogWjyBRLaxtXd0dHCwpJg29fwA8AGeYEyxtgExOTnZkI0JzT0/AAqrZ0i1tbOHb2Vta/6P9fx+iJ5Z4KCxkyzKnl5+lVHXuH8UAQEBAQEBAeE/4i9yqbCmVlQzkm6hFMJfg6Fl6KLlAyUxMW9yKn74kkUEBAQEBAQEhH+F32087X8LA6jTuvjiqyvCXP6+l0ogICAgICAg/KNAnL9fHQy26TfIEBAQEBAQEBD+IxDnDwEBAeF/g6brtRH+EuB3KiNWRfj9aFbof7LbF+H/h5Z3+yIgICA0YdasWba2tuvWrVP+Fl84/38H+HxoNLpxty9iVYR/PFhsw6ZcxPn7FUCcPwQEhJ8yffr0c+fOmZqaIm7KXwUGg+FyucAFJJFIiFUR/vHweDzdL8T5+xVAnD8EBISfMnPmTCKRuGrVKoFAoBMh/AegUCitPQkEwoYNGxCrIvzjcXFx0f1CnL9fgR84f1I+h83lSRRKFYpIoZoaEnB/5QJNIYvGFaANqGRTA6yonsYRoglUskmT30YG2F9iQaharRRzaFyVkamJkb7283IICL8jERERoO4GFYXuGOGvYOnSpcAF3LJli+4YAeGfS9PlrciGj18UpSzl5pEpvUMDA308O626Fl3E1534a5C82jFlXI/ZkXEVMkj5Zu+Mib3nRsZXyiFF1K6pQH4stuyvvd+/j0pe++nc5Lk7Ln6uQromCL85yNTkXw4wKWJVhN8QxPn7RYnbt/LU8Zc5FUKuWG5tampsSNSd+GtQyyUioUAkVapAR0DEqqVV0TkShRpCKbRyhfJX8bQweKvQ4Ytt390/fzm6XKUTIiAgICAgIPy7IM7fL0pdtUSO6TrhaEx6RfXzDYOCrb9u0vkrMBi47d7T5KvLu7rgIIUag8FiMRiUWgJhBmy9C+QrurkY60L+/aD1bPtFzLD48urys7hisU6IgICAgICA8O+BOH+/GmpILuQJC6vq5QqKqbMVjkg0MTYywMOr3ZQidn1lRUVZOaCstLqOLZSrGgbohPW0moo6rkwBr5CrrCgrK6+i8+QKcEYtEbCrKytKS0poDL5Y0WxETw3+NAelkagbF4Oq5EJWfVVlZRmIEdy1ml4vkH69RsKiVTM4IhGfV1tVUVJWRq/nybUzKHI+q7YKvqq0tIrJFsoaFYVRKYRsVpVGy/LyajqLL/3jIT0s5DtibDtUxsfX8blMnQwBAQEBAQHh3wJx/n4xlAqo6NaswYNX3s7Iz3t+cHo3n7AVT/JZsOvEyru3Z3PP0M5BQUFtgoL8Bs0+8DC5hiPTXCZ5tXv6pP4LzyanZzw9MCa8Y3DbTkPmnM6qlEJQzdubO4f07uzv7zNxxaU3hTyNcyZ5tXPy2PDZkXHlCqhxYwdaH1K92jUVyI/Hlml2hKvlNdl3dm3o16VLUHBQm7btA4bO3XA5lqGNA8SSfGzu+A2Hnt65dGpyv1DvkA7Lt98rZMFnhGlXt04f0DUwqFWg34DFe+7EVrG/LqtR1hbd3711QNfOrYPatGs/eNami9FVfNhP/QOo4X3a6Ge9fR2bS9dJEBAQEBAQEP4dEOfv10MpFfD4cjWkUkiFXJ6MJ1HIxaz4g907dJ6462gRjcbn8bh8nijlwbbJXacfevZFszVDzK6rLCx8tmnE6HU7YovoHGZV8r3ly67c3Dh+4rqVe5O/1EqEkjcXl6zafzW1BgRHCetptMo67Tq/xv0/aEgtZNUCOVusACVD+G77sEF9p+yNzK2q5vP4HBZDkHg3cm74tGNvMjQuHkrKqyktebp/0/5TrzMrpEIrUxdnAhXKPTekc785h55lVYr4QrEs+/ruGb37LDrxqQp28FTixJMLRy/bfSi9giYQcOrpaQ+OLug1cN/LPAYc5Q8hdh3UllKf9yn+SzWy8g8BAeF/GKVK9RvtMVE3rbFVMhGfzRPCLc+/i1r9O1nv/w3E+fvFwOAgj4nX3r07MDbAJ2j41oeJRYmH+rqps5Pz5SrXKWsvp+QUlJWVllXnJR/t7mYii07NraZLIAiLxqhQmPSYRL8RC9/nFhclPNsXHkD+sHX25dqgIQcT8korC58eamdvUhSbmlVD17zcFIuFvxr8zYeNUGjt+j80CgdByUn5ENp92vor8RlfysvLS4o+xx8J9zeCXidll9K4mtB6KuhzdrF5zyUvEourCl9smRhimnduw+mkDPdRu25EZ5fU1NQyCl4eiAjDfjp05mlCFaj2MtLiagqE/tOPvMopo1WUJMUcH9Tds5JWzWb/8QZjveCQQHNVaWZmRR3y5CMgIPzVqKV8RnXJl7y8vHyYvNzcwhqW6F+qbSRcelWR5motII6iKjpfOz8DALdgl70+vfPgwZ23M6uY/JYilwkY1UV5ubASebk5X8rruE1W2uhQS7n0slwNpTSWqNG7aiav/6r7j+TNUIpYVYW5OTm5hVUMvlwnbEQhYNbTGYLv5D8AVlkuYBYWFJYzvtbsyoLnx5cP6rP42LOcr28b1gCHlwnqaaUFDfbPz8vLzS8G1mu8pQpYr/bDxaNH9+24ncVkC1vUBSS1rjwXRJKXV1TZxPRNUMm49ApwPjc3v4xWL260rkrK+ypnfpVrzPc1Tl5LcUJKMZtWDF8LMpzXZCJLJWqQgyv/rPX+GzR7cdqmTZt0vxD+i8jl8kuXLnXq1MnLyws+xuD18EZlby4lsGy7jh4V7mKCxxmYOgR0GzSkf/e2LjYUkoEBVp9gLiy59jqr0jhoXJ+OLmRs1pPTcXl11mM2L5/Z19/O2NLaFJP79n0iK2zx1ohxHbwpRBN3k8qHT/Kz0W7DeoQ6m+Y9PRuTi3cfNjDMzTTv2bmYHJzbsIHd3Ezzn537CH4PHdDRjWzlFBDab1Cfbm3dbakkAgGHw1JEFY/exhYbdx7RPcjb0kBZ9u7C01iozfTVcyeGOpuQiHp41ZenWyIvs4Omz5/Uw4eCR4FeGk7fWF9WlvIiTuTbvUtr49K3N1++yoGCQ3t2CLQkEU2tvEK7DxrdtbWPNQn/h68WxLOzbn2IYZA69mrjSTHQCREQfheePHliYmISGhqqO4YBjRJLIIWw2lXBCP86L1++xOPx3bt3B8YsfHpw3/a9p5/Gfnzz8uWrVy/uvc7jokkuHjaGWHTzXvIPUGQ+2LNny46zzxM+vnkBYnj96umdF2lMDLVVoIM+OK/88u7cqf07zj5NSU3/mFzBRlv4+9sSm0ct+fL0zJH128+/i3338vnTR7GVeBvPAGfTZvmrKow6c3zP5pNPY1/e+VTIwVm09bTGgmiURVFnI/duOfkk5tWdTwUiPesOXpZw7Fr55pNPYrVyqw5eVt8kSK2oS3p09tDug7eeP3+TVq0wdApwMW2sj5XiyvjL2669LUS5hLqa6oR/CIheUfLy8Jm7cVKXnv6Wug2L9Ny3OfWYVgPn9/czaf7mWhBeXvLmxOFt2449iot5C7IFtt6DqKwaiOrrb2+IghTivA+XTh7ZeeHR56SUuMwyptrQ1cvWBNvUMkopvyTuyoWTB87fiXr55H1qudzY3efbMOL8txePH9h25vGHFw8TS+hYq9bO5npYlEKc//5SJCx///JBYhEbb9PG1QLoqJLxS+OvXzy57xwc57uUUjnJw9uueZwKcXXKk7ORh47dfPLkXSZNTPTwsjMCz6RCXJP87FzkwSM3njx9n1EtNgRy47/xWd28ebPuFzLy96uiUKpglArt/gmcsaWjh7erBUpUExf78fq1QzsWzVh6uaBMgMVhUNrNGWoUGuXgFeRqYwUfQThDCxIGD7n6+NjY6t4S4+DuakjWl0nlKtBP/ObJ/w54pJ5k4+Li6WKh5jOSPkdfvXxk19qZK65klEEoPEY7YqhWQ2g01sHd3d5c+2yrlIyK/HqZvOT93gVDO7cLah0Q4O/XqsvAiF330/nFpeV1TLGJu6cX2R6VcW7L8NDgwKFztt3KF5JdA+ypRP2fbWjGYVFoRXUljcdHJn4REACyrJvr1uw88a7kVxpR+J9Fza8pUFoGTN188czJ48dPnr2ycyQq8eDijSc/1upCgDBKuUwuk8kUzbawNaASMsrV1m3Gb7oQGXk8MjLy1PmjK7vICt7feZ4LKnJ59u1Tt5OYQdPnTJ46Y9qMfqTcjycvxdTprm2AUZIsNnKftuPq+TOnTp89v3/JsLY2zatGad7dU0df5FnO3HXt6sk1bQRvLx06HA1UVH25f+rYsxyLiF3Xr51cHcTPfHL+ZpYCeDv5D04fe55jPnOnVp71+PyNzG9KjLzgwaHtVxL0h+26dWv3KLO8h/sO38puDCNJvXds54bIm6l0jlQn+g61QiaTwzSaRsGjl1ZWVDKEjfU1D+3Qrd+oDVM6WZAJLXhAQnqx3Nht7IZLZ4H9j584fT5yYaiq4MX5BylikIqcJ5dvRFd4jJ8xZfrU0eN7WRS+izz9prT5lymq485dePIR2/sgyL7TGwaTC98f/zaMIvfplYP3kvVGbzhx/sSSEPG7k5t3va4A1it4efXQnUT8KFi+rI0069bByynwR19qPl288PANqueBoyDOjUMtSj+cOPmmpFn+K7+8OL3t1BtBt/WnLuwZYV78YMPGq6ngWmXhq1PbTkYJwjacvrhnhEU5kF9O5bZUcv4GEOfvfwK1tPjjkem+VHuqTeew8GkRG3ZcvJtTwwe+V0MA8BOFdnKwMdJ2I+FVESrgwAHXsLGkodE4CAV3D3/q+QFQIGZl8bsjs0IoDhbm7TqGz4hYt+fSvdxa1neFBu4Ta28C7lpbnSnkSyEpj8VkMOrrWSxWPZPJYAkU4FE3wEIKNOQ0ZNu50yfn+1mh6mhV0TcOzAgNNLFrP/teTrFEE8mPATdRQ0qFAnjFOgkCwm+NWsarq2OwWp7/QvgXAV1alIGJuYMb1dre2dnexqLTxA1LJ7swPl16mMwB51U1n05E9HUmmJmQyD5DllxKhte+NAOFQmMIZpb2rlRHJ2cnJyc7K++BE0c7GKLfxmVCUN7n16UCXNs+/VpZmpON2k07cPf0mYWdzHXX6qhMjzdECbt26WBiYmJGtXZwsCIb4pvV2JUvr10px/hMXDO9gxnZvf/8+eMs5SlXHudBgurMPAPIpceA9qZmbv27hegTpSklwLdklaXnAnnPAR008rYGhtKU0uYb56SZcW9L9M3CJ0/qaGrabsKC6a3doZcf0oDnKMu8tX6ob8i6Dwwnzw5OcIvSAtzEq8uG2OuRTCkUkj7OZ+DCp+XKogdbdmw7d/PereXL5m1/A24nyry5c0JH74BAexPHsIkH33wz7wuA7W9MsXelWAH7OzvaWnkMGTXUk4p/E5spUn3J+ljBRHXqMyDY1opKDZ26+faF6xt7uTdduKTIef8gOYvWIbyvv5O9rX2XSXvuXbr5TZi6mIf3ikTuc9YuDLO38RgwdcZUF8yXKw8TxCz6lwKs1LnHACB37xkabGQsTi6rhxR5Hx59Tq/q0KNvgAuIs/PEnXcu3djc26PpULCiIC2mWEnqM2VSmJ1127EzJocGYd7EZAkUBRkxpQrD3rDcqu3YiImdg7DvPmTQf41PqSHO368OKGJqceHz8/sin5TI/YaMn7n9aOT5G+9iC5+uDXE3BR1QXTgQUA27bN8UKzXsFzb+hP/5U6DQ+pDk0fEdF58XKfyGDp688cSJS7ejXn95vCbcDa+U/8D5QqFRFlbeeljIftyp1xmV1eWlJcWAktKystKiqsqbq/t4wKOQePteU3a+TY57efXMhkmT2vq6GHITb+49+zqx4o+dOrhuRmFxODQaKbYICADgbGAx8BJd3THCfwroNSuauNIUn1YdiDJhcnqFSJhw7sDZdJPh1wsLy6qTIgeq489uvfDp5wuQeVyJVKmnh4MgKxcXgh4771N8UUV5DZcrhDCgNvvGmxLX1WKLXr8+tKRL9/CePUYu2HQhhi5vXmuzGfU4lbG1OVl7iKVYkqVQfXk138gpKFjPhPn5bVx1Vc6bz/l6WPMgZyoEmTi0aqNvzEx4A8vfJubhgNxJdzUAjp1eVYoy1vfz8dSOx1EtHRQo/dIaGvB4VU69Zx358PnGrtGtTBSKlvyW+pRHD/KEAfsTq8pKy5PvrW1V++nqlRjSkBULF44b0m/QuvXb1obrpV/ffvqDcOjVoqry8i+3pjtU3N9yLo6ti+GHqPgCoVCpj8dBaHM7JwNDTtanhMKSkmo+VwRBGD28ZjCjESatHG2E83Yl88q/5Ofl55fXchX4b8JwWWyU2tTBEtgFhmhqbq5As0pr6Mb2fq1I5uzkD+8LS7KjU75g0NZtXa0gZm0lRMJ4u5nyykCcefnlNI7i2/vW11apCdjWQd6GmkNTqh0KZ1hGo9NrayADTOtgL5JGbgLLiaVVv8iidaQV/dUBhUxJz0pNL/9CGrp+3bZDO+dPHD+0b2sfjFggln47VvYnXbufA3wsKCc+ubzCpO/G9dtO7l0yYcLQHgGeGDFPLJaBJkcX7FtQKLKtp6UxsaKgnI/CmFvb2tkD7GwpxvoYNRr0irGQjFtHqyqhyw1MvcKHj1+8a+edJ0eWDHFEFRZXM3h//ApnsUiphCytLQwNkWKLgIDwX8CMamMshJjV7JyUD++LSxU2jg4GKoXCwMbVU6+0JuFlWqUuoBZQNUq5jKoiemlJSWlpaXVd0r07rytZBh38nYBL1XnoSH+7qlOHj147cTXq7s2nObUCyTfvuOJJJTyIEjp67t7jkafObu1HqY6/cT0JHnfUANfwFHNzNMQur6rSiiSMWmYlQw2ppJB9h7FjO9vU3F8xddrCixkYz7AhnR2B04m1az92TGcb2gNYfiEdyId2dcJrrwaA2lxVz2DxuCh9vE4KvFKII2Qx6tWQvodvUOceXSysyCQ9lKrFJsbYvdfsuevn9PYwQEllZAsHUyKVy+ajIRNziqmRkbGlpRUkyHz3IjuHb+7kTJDLFPo2Hu6GTHri83j41RNfAS2ETMCuKmbUVADzVVTXpd1//Ka4Vr9DoKMBRGnbu38b17qLx49eOnn93b0bUSVstkDWTB8Oh82mccs/3Tm2YcnSRYvnbNpz/FUqT9psXNyUTMGi2CVlFdoreYza2nK6WiGVYh3aDB7bw00UtWHhnAWX05Q+/Sd3d8dDfG49i8ar+nw/cuOSpYsXz92w+9jLZK60WbZx2QwuGzIw0NMegnYOxRVzGRXlbBaXjSJ8leNQPBG7jvXdiPHfAtKK/i+gFItFcqiYLmbrGZmCosSquL1jyqorWeUCeIsECi7FP3LH/k1g904kFink+RwxV49EIerh6gseHZu6+mpcFYTFglu2VAmA8qTn0S7c3s0gac+286cfl2u3RVUknNs+eWBw3023stiS/HubZg/z7LN234MKMVbfxNLKHGMoLVWqTMlmJgR4TTSo4JRKhfL7JTWVOUmsOrW9vYWxkU6CgICA8P8KBotVo1VqdnVlZc2nDze2Twtr165dSOfeEzaei4otYVbVNZ29REFqVHHUmZUj2nbtFtY5tFOIX/cx9wQuQ8eMD4TnPP6PvbsAbCJZ+AC+cWuapKm7u1NXtEhxL24tboe7uxzu7u7uxQoFCkXq7m5x2/02ybZNgPt49+7eAcf83t297OzsZHeSdv+dNbxr9OilO86siW3nKonfO61f7/Ebr2don0Rn4Dd03trdq8dGB7h6uLv5BNhLXr26cvN1432wlL/nTT0DXAh596+ceqCMf6Uv45+/eVNOJVNIwjdnN5+8We8/et+hg8entdFJurf7xKsKCKp6e27zyVsNfsryY9PaMN/e23nspdaphnKFXC6Xor/Usd+6yv+TyRUyOZpxaHQqFU2QUpnij45WEplGlqamyOu90/u6egX3m70vPl99BrfyqckwjP4DlRSWVCY9vbJ5VGSgf2BAUMveMzafT8irKS7TClEEErUo4fzsPgEhEa1ahof4e0SOuFRnNzhudKgeuuFU1+i4FXsubZraJ5j+cO/M3l1HLTmdjMbTJnI0AZc8fZFaQgmauWX7vp0L21CSzq1aeydbc70NHD3tieV3zx65moW+d8Hr509fvC0ikkikmndX9x45X24/YNv2PccmttF7c3X1oWdlMgUElz5/+bGAFIC2uXf34vY678+tXnsrU+MoFdp3aP9p7xTRLZdLpHL0v829qiSH0T8dtDb6uwHh78ekPPig/ErByp83ollQaKCFHeXugiH2ZOWRTwuXYatuZymHzOXZBXl1PPR3AqKQy9Cf1uaz4dAWZDJIBmuEKOUBDWUdZZsarxH02/j5azn611JI6zAzC9L1eQPtGOibEsxbDFt5N0v5J6g8M6+4RvkrD6dcS613xRN0PCZtnNI1mJm4bl43axZFeaTWKnjC+tuCNqP6tfLgUF0i2rmyzdN3LOxlxSQq51ItW655Xhg5ol8bX1vVMYfMjdEBjg6Dd7wo1vqLTZyRWcXnBPr52Zigv4oAAAD+5+oqCquYsLG9AVssN209bMO1D9lZynuQpKQX1Eiyb20bGaD5p6jyl61z16m7H+Zm5+Rf3zDQg8gMC+8/LMZHPVt5IR6TbWNr7tJ71qaXb050lWaeOPGg+WoS5a9tHIXN4rKwsSKIY2LG5BoIhFo3F7GOXrZ5yxDds22syBRKn+OlJpHDo82k+LQXt9IRqPXA2HYuJqZGvj26h0kaXh+/lp2TfD9DAbWKiVOWG/v26BYq4b8+fuWtRptkQxMDfVM0DWCDCOhvdshIT9/E8D/6VVt0f92oEJLJqAekfrey8xKOzOnlKxBr/PJGG5VLhewWvRce/5CTk6G8gU1qXqUo9eb2kb5al7LIpSKrloN3PcrNy8t/tH9sa309f7/eYwe4Y9eG4Mg6LD0jK0Pn6NErHzy52EdRfvrwvVT1PCUcLEeMw9r1iovr6GZnbWHdsnvfThST0utJqRrpCzLtvGjlrkmGz3u5syiUmCM5ll2ndLXB0/LfxWdKRVEjR3fxsrE0DWjfIRKSfDh66XG5lGga2rrXmNhOyjatwrv3iWaYlV1LSmluk8g1MDQwRVQPyldDIAMW28TZyVDfwBRqKsdBMGSgyzEz+uw0z+8EhL8fE07XyMra0oRNJSi/YhTbqOnr1qwdH+rjaGJqbmUdHtxz7rbbZ+dFtw2BIKFUqkDrG1vZOFgY0MmNnyiRYWBtb2itp3E9PdNIVYdBRr+cqteWBgzlD7fmax1lO5b6dKIEInSat23RqsnBXg7orwwLq8jIPnO23Ty1qnebAOUfNRIRupZ0fUtbtEWm9gnJ7oP2Hf999ZhBfs5OpugXXT+y/6RVx46sGhxig/6kk2w7TN94dOOksS2Uc80srQwDuwxdcXzN8DAP7A4CJKaBsYmJvg5F62wYwbN77/n6LoE+tobgSwv80mS8isqaGr4c/QlU3ksJ/Udz5wb8FcpzUzQST/7LJ4+FNIMQP39XK2OYUJlTUAYR6QwGg04S11aVV/O1jzsqR3lwJCpDV/ncJM8e8zduG2yWsHblkgt5ynmCyqLC4joFutvFkSgMiqG+kS5Fv/mkbKWqF3unTpiw6gp2SBcqLyyiKyB7C824gEh41ZBjr/lX8gtycnMuzorUFzAVnDAPJxwRksMivlBdTSqRyuQ4IolAIVPwMCwSYuUSiVSuLNe6VYmRhR0ewmVmZ6kn87Iz5VKFo6X61hHfUPbxRT7e9LfjDy/8HhdIh8QiAY+nvFuFcp7yGQIEHB4ys7ImUetzisohPFXZexQFv7as8ovnOiEwnkRmqM6cs20/e+nm8VbJG2fPvvwJ7SJEXF1SlF8jhxQ4iEjWoenrG7HohojyysRGBANTMxMjkpTfeDqUVCSGZRCFTNLck0j51WS7bvNPZWdn5OaemdWBUymVsSI8HCk4dJ0FAqyXZBKJTIoQ8BwjUwsTI7KM1zhAK0HblEI0YvNhcwjSN7EiEimpKZnqk/mKczP5ArGDub6+sQWeSEvBypGi3AyBQOpkadiYsb8vzc8f3Ofv+/j8Pn9KBGNn/4hWYV7WBjQSHof+yUM3sHFq0bpDt5iYgYMG9urdpVWol7t/aERU95Z+zqY6ZJKxi194pzYBzmZsCgH9ccDhafqOQW16tPd3NWeRlSXKNl381XV0KUSj5tckIye/8OjG186qdlzN2GQiiWFo4+TbBn3TAYMGDezdq0vLEE9P35DIdl0j/N3NWVQikWPnF9mpTZC7OZpSNb7PeDLHzq1FaPtuPWIGDhw8uHfXjqHedkbYmXo4Es3A1MnXv0PXruhcdH7vrp0j/W0M6I0/xXQrn5Co6AhveyMdLLiiP/r1D/dsuA6F9OvfLcJSfVYtAPxamu7zVxG/cceND0KDIBfDosfnE2sNfSJau+g3/vwAf4rGff5kJa+uvs6T060DjZHyyjq+OPPhwaNnPzJDhwzo5mqhB1W8fnrveYGcY2pAEb2/tXfb0RvFDCcPe/3GYToIUuS/vPK+kmEb0taFhf7GpRi4mJJyXp27k8kz92itW3Bl7+5DL6voFF5abqW4qjw36WORcWTn9h5GTeNfDLqk4GlWfgWs78aGawU5L6+9q8N7tezhZ0YSVVfX8+UEBgXKe7Lv4PkX1bqeLmY0UcajC8+KCF7dBwY50oUpT9++LBBzbUzpivSH5y6/LjZp07dnhKU09XHSC7TcWl1+5U2Rcau+PVqYkkQ1NQ2qNik6+Jqk+KT3ZQQzd4Pye8dOPs7Riezby8+0adskJa9uJJeQLEKi3fWxIoyg8OWdtwUE44AQK0LBu7uXzp04+4Jo6xvRtQUt/cGTj+U42/DWnuZ0Ucar+OcZQo61GV2W+uDI7qOXcihu/g56zRkELnt3I7kQMg2JdmOjk3iOnSmSk3jhclKlkWcku+zukb07H5SyGIKsvLJq9H/v33/SDekQ5WfVtENgcPCV78qyskUsJzrMa0h5du1aZql5qy5d3IwUdVW1dVKiDhVf/Ozw4eN3i+ie7qYMafbza08yRa7dh7T10uWnPU96mCLkWBnT4fSnly8nZLLD+/bs6KlT9b4kM0PMcla2mZZw/VpasXHLrt08jBX11XV1MrwOlcxQVCU9TXxRjDdz5FY9OX/uXjIhpG/PcBsDefW7p4kJxZCpo371kwvn7r3DB/ft3dKagYjramprpXgGVSuY/s9p3udPC/oHJPDPEwgEAQEB58+fx6aBzymQ7AM9PH37/f4gQ4QVAcCvJjY2dsWKFegL/uMVffoO/e1kClJ0ZvTQSdOOJgnUNYA/b/LkyXPnzlW9FCbtH9vZQUfX2MpKdaGaCduu26Rtd4oksGq2TJB5c82gNta6ZpbmlsYe7cdsuZEvEStU8zCSJ9tGTJg490I+Nq2UcWFmN3codPyup0XIx9OzBkUy2bq6LCaNZh81Yv3DMnXbmj5dXTY8UNfIzMLEyDU6dvOdUtVbFN9bu2TZjOPJUvS1LPnMgkHhDH1TC1N9p/YjN9zIxNZC9v7i/CH+DH1zS1OOfZuh665gzcs+aJYPWXtJXV76YP3SZdMOJUmUE4qyR3umtLVjm5jo2bUZsvpSpvaa1SXuGj5l9IQzqdi0poyLy4aFczlmlibcyCEL1i6e0mVw19nXqxDZu0MzOlsRQsdsiC9HkMone6a0sdYxsrQ01bNrGbPsRoFUq/MQydtD42aMn3QuF5tGyT6dm9vFEfIesvRqmuLD6VkxwXr6emy2jg7Ltf3wDVdyRdr9j8hEeQn7p/T1MbWwMrUwDOs96XgCT9ljhQ+2LJk/Zs9LHvpamHR6UUwgy9jCzETfI3rU+jsFIlUjUn7SxYUDwznGVuamRq7tB6+5nqNqXS7Kf3FoWj8fMytLU3PDsJ7jjz1vUPZYcfz2pfNG7nxej75WSArj903q7mZgYarn0m7oyqv5QpmyTbT88b7J3d0M0W121igvfrxz2fyRuxPq5PCXX4D/ISzqqWilzs/mAf8MoVDYqlWrWbNm9ezZEysCNMhFObdn9hqZGrpny+qu2MX0APDLiYuLs7a2RpMK+jvjztrYZZtOPSs1j561eu2yGBdwGux/a8qUKQwGA03V6GsElsuk0qa7FCMIjkJnaD2PAVFIRSIJjO45CRQK9bM7fqAQhUyugPDad3CBZSKhDE+mUVRPPEKE707teF6Lc+o9qZUB+Wv3zUMUcrFQJEfn4EhUGlV9/APNEWIpQiRT1E0r5KLGKjQaVePRSLBcLBDJ0BnoG1IpzTO+Wl716MyjUrlJlwGh6t+rCqlAiG4dQXtRNXTTZOgs1XMFvoCusVikvAUYgcKgk3FoN8IEChkPIXKZWCxF15FCUd6PSCEVqnoPwZGpdMoXg15o9ysgHJ6odUQakYv5UoRCUT7EBkY/otRLh58VVln1n9XuD06dQ3tKJJApcAiOSKbRKKq2YIVEKlPgyerzotDPWSoQSVWdQaVSNJ400tRLBAqVQm6e8bU2oYpnF+Iz6vW7DW+pp0xS6HdDLJTKIRyFStc80vy1cnQFpHJ54/r8c3Aad+pofoUC4e+7AOHv/wPLKl4enrozxaPfyEnRbnSsFAB+ORrhD5Lyqqpr6gUykq6+Ppf9taclAP8ZzfD3D4HFfLECIjF0vndkF3+8/7RUpuPbIaj5rn8/PESCpl4FicH83r0nSHv8IqeS0qJXqNGPcRLff0Az/P2zsRMA/iw8keMavWDRtNhWziD5AYAamalvYmVnb29pCJLfTwdP1aF//+SHItn4BQQEe/5Hz+r9YeAodPr3T34oqqW3f0grH/2fJvl9BoQ/4AeHI7FMnO3MvvosSAAAAOC/Q2CwdFmspkvtgD+FQNfVZesxftr9EvjYAQAAAAAAfiEg/AEAAAAAAPxCQPgDAAAAAAD4hYDwBwAAAAAA8AsB4Q8AAODnQCCAy57+ZmiXgl4FfkHgPn/fH7jPHwAA3zR69GgajTZz5kyBQIAVAX8Ng8GYO3cu2qsLFy7k8/lYKQD8Szk6OmKvQPj7EYDwBwDAN8XGxt6+fbtFixZSqRQrAv4aEon09u1bAoHg5eUFehX417tx4wb2CoS/HwEIfwAAfFNcXByNRpsxYwYY+fu70On0+fPno726YMECMPIH/Os5Oztjr0D4+xGA8AcAwDeh4c/Ozg79RYFNA3+HadOmMRiMpUuXYtMA8O8FHu8GAADw81EoFNgr4G+CdinoVeAXBMIfAAAAAADALwSEPwAAAAAAgF8ICH8AAAAAAAC/EBD+AAAAAAAAfiEg/AEAAADAPwUW8QQC3q9xV0EEQWBY43oahbi+ojC3uKJeDGMlfxYiEQj5PBk2BfzXQPgDAAAAAAiBFXKppJFYLJbI/2REQWC5RgtYGwrtRmQZ905evHDida1c8Uf3VoPlUhG6KLqw7I/WAFZIVTXEUu1m/qhco025/A/eF4FlyjVW1oC/rAIrFGg5NvGfQeCa6uqaWh42iSp6emjxoM6TN15+X4eVaFL2v1SM9Z2q96SyzzspL/7a1XPHE2uxSU3o5yeToBuJLS5FSWRoD35tW2RoLbR9mfaH01QuVXxlKfXn+8UaYdB56JIidJU/698/Kv/OQPgDAAD4ySAwSntXgsjRvcsfxgng28Qfjk3r6cqis/S4eiiODs2277yT78XY7P+A7MW+SZ1sqAw2V9UC2gaTZtNx8oEXjQNVJffXxQa4dB09dMiYUPcOE3a/E2EzNJU+WD84kM5goQvbth+/550QK9eAVhntT6Ox2Qxa4MAFlzKwYqj04cZxgcpyHVrAwIWX0rFiCCqL3zgsCGuz3djtSV9pU/Lp7PzOtjQGg2bTfvyup1VYMab+9f6xs36bfbnprb5NnnJ65uwZcy8W6GAFEFSQlig0cJ2xaPUAPz2sqJk09cKiQV5suq66//X02Dos524T979uvPt23oP1IyPs2g8cMHxsZIuo0buf1kFa3/fKF5vGhtNpuspluQb6XA6DQvXpP/d8+mc/FXmPNsW1ZDC5LAYrdNCsy/lYMZT/aMuYVjpY+ZyrTeWNFKknZ48eMHT78wbt91XifbqwMMadpceiOXYav+NFU//yPp1fOMCdxUXLozXLvz8Q/gAAAH4uJRfnDp40eefTSvUkLCu8vWNMz/CBKy9+/NqICPAfQSS8SrPIYXse5memffqUllX8crNbyc4xkzbczMNqyAU1ZXlZ2VlZ2QUVdaKv3B1QLhFYtonbdjcvJeUTKj33061ZNnXPT59IRlOeKOnw2lPp9FHbty5bu375tmURiuzjR19+FrJyr63cejs/fH16UW5O4YsNLZHsI0deVGMz1RreHlm/8Zmw84nEkuKMu2NNPhxbufpmAZpNUk6v3/ywqu2R16UlGbdj9Qpv7jqSLEEXyL2xeuvNnMC1qjZf/t4Wn3fkUAL23cEIP55ctOBkjs/6V1VVr7dFiu6vX3nwrepBMjIhvz7n8vbFCxbvvVOkkH596E8hqq/IQ7tFpbiqXnlMG64sKyqqKCspLCkXq8e8ZCU8tn9A5KgAZiVP9OWBW5xUUGMU2HvrvYKsdLTzUtJz0y5Ns294uPdgQj0azZNO7DqahO+9bduaDWvmbVjQkZh2fN+jPM0nU+j7jlx1MSs7/VNKalZ6yrlVw8MCvFq06hxsq/kwC+HrY7vX3K702/swLTf96mjz1L0z5pxNhyH5x7O7Nl4t8NwRn5aXcWWUSfHZ5Tue12u03pB268yRY9fy5DDaB1qPx4Ak706vnbf7nemcB+kFSb+3Udyd/9u2p+hPouTD2fXz9iQZzXmQVvBWWT5v6tYn1T/IX2gg/AEAAPxc5PzK0oryenX8EFS9urr35EeFX+zYYW3smaoKwH8BByEQhaVvaadvYmFtbWFmFNB7SO+2JuXvbjz4UIcGHEFe4oXNK6aNmTx5woRZa3dee1Mi/fyhWDgcnsoxNLPTt7SyRpkbO7bv2NKQIn/1PheCitNfFfAQB/9QF0MDLsery7j5E8ZGO7OwRVUkH589SCnguQSFO5qYmhgHdh83b+L4zi662GyV8pe37xTAVu0Gxfjrce3a9u3RSlfw8ebjHEhck5OrkOt7hbTg6NmGetoS8fzMMh4EpSc8SMmvdw6OULUZ0G303EkTu7pqva80611iIaLbonNnPw6nRc8+Hez0JS9fZaHfL3n205PrZi+9liczs3YygPDaqUdNUfH6xs5VE0dNnDz1t7HD+02cv+lBtqj41fXr1x+9epVw9szxSx/rIKTq7fWjO1atXLt28dRpizacflIqxxbXgFB0OGa2XGNztPOszE3sO7QOM9WBX73Ll0AlucmFNVIHv1A3E0OugU+XMfOn/NbXy1jjkRUQnso2MLOztbG2sjShlWSmCpmBUyYODTElY/OVqpMfP8znm3cZMjjU3NS+XZfodkbS7JvxyRJBfVGhVKjnERRsbmIX4GZDJjakl9Y1tV73If7lp2yBkZspDtF8TyVFQerbIhEjsFPnUAtjny5d27uaSxOTsgWKwvR3BSJqUOdotNy7S+f2bpayV68zarDFvjMQ/gAAAH4uODxBDX1ddG/r1ls51m2nzB7eypJDI6prAP8d5Wl/GmNSDsERIXR+ScLrIrni46Wd+++XWQ5Z9/vmnYt6GaVdO/D72Q/1WMVmn13hANEYBDxRLJZAEJ3FUBB5NVXVEpFAKIboaEK0NWORsHoqFZlpIh2Kvas9GZKKRSIxgWtlaWeuVQcuyckRKvTtHOzV02xHZxOFIi8tl8/QNzNWEGpzsoohSJiVX4LISGZcJlSVlSZkEO3cHLE28XqqNjUTEVSZny3V0XVv4av+28HOyYFKhTPyy9FYWE+xatFzye7VM/oGm+K/ktfQlX559uD9V9KO83du27ZtwfAQxdOzR06/IgR2i+4Q6ecX3LNX357elPTL2w5dS7ca9vueXVvXjnCtf3lmwynVsKQ21QUi2GsUjsIgEkhisUgGURkMmMSvrq6WCIQCGZ5BM7FyQL/vWMXPyDMfXU4sEQV27+nHJGqmHKSysEAo1XNwc1T1Kc7QxsWCiCv4mFtO1TM2hCl1udnZMkiYX1gCi0nm+kws3Is+3Y/PLEU8O7e0xn95zl9NaaGUSvYK9TdUThEt7ZzYDGJWUU1VSbGESvIJ8zNSlVvZObEYhIz8ii8PGn8PIPwBAAD8dHA4ApFChxK3/PZY5Np9+eKe7mRlFAT+XvpmNgY8XEluVeKjSxfzy4w69uzm42BvE9Rz0GDn8rpHRx5nYxUxOJzyogEppJDLVZcMFN3dd/jte36wvysEmXYaO8qRcj26Tecp45ZcPnYq4YshIFlFaUUDT5x9aWYvW5qOjg4tIGbeZTTKacIbGOpJodriCuwAP1JTWVteDiEyAeQ8ZMeWcR7JM8xxOMbQi/h2kzaO8aMgRcWVvAZJ9uXZve2oyjb9+8259FmbsrKSkpoqiErCEiGeSIYr6yuLShUQ3T+sXY/+nS0tDFkUnALNZuoamgwCRv2+6dS2cW2trS0twjt09HV0r66sJUAGpqaGenpcC0trckPC+eOf0kkte3X3trK29ooeNsBXLnh88EYB1gQG7T1EIVNGQrT70P9W3Dl1/PnzukB/Zx3ItENMjI/ena7touNiF904dvzN106XxFQ+vXwpv9i0+6DWWmOmKBxHnyPH1+SVYEfbhfVV1cVliFwspLjErNs5I7RyraMuiTHinKTjomPTIvVUY3y85PNX04rxYf3b25EUX14/AleVl1SW4xl0rPdweBJSzasuTUsvL6+pwH1WXlVYpn3E/XsB4Q8AAODnonw+u7ShMunU77uOnU0oJ+DBL/L/FRiGcTgSqaG6rKLuxYOjcweEhwYFBQWH9Zhx6HUyn8TnNV6NoIRGBSTr1u7pPcPDIyICvZ1sTDz73NUNnzpppDdFOd+q/W877uTe3zGus+nry0sHRPVefPxNg2pJNRghEEofPM3HR8x4UFhQWJI4z6ng2qI1t4qw+SrmLaIi2dUPz2w6+bKivOL9rVtPkxPr6SQqoe7JlvFLD9dFb0svLS0/Nkz/8f7JK28UQiQqsfTh8zwoePr9YrTNVwvci6/PX6WVu/Ao1bFMzVyDxxGVRXiCKgApLyb6owErRC4T1r05uXxsV5cWYd0mb72exqApB9aUT02GYYUCgcrKa4RJL66sigkPDUZ7L6TduE13PgipkgbNMVKIQKIVPjs7s2dYWGhEcAsXezPnIbepkUsWTQlVHaO2az9p54Py50cWDnZ/cXFFv5Z9Jm+PL/7KPV/En+5cTRHjO8V0tsJKNBi5hgRzRI+PbDrwOLeg9M39O/GvX1RTyWRiWcLuGXO3lQQsfZ+WW7Z/uNnDLYPmnUlFm69OuvmgRGrYdUSYFR2G0QhHVI24N8Ph0O5Tjllq9R6EIxDQTkXjrGY5WoKWYhPfF/idAQAA8JNBYEXGw2MPC7nBfUcYp929cPFJITYH+FvVVBTX0XFG1oa6coTt0XbYvE17dm7ftm3b1h37T105uGJiBwfNA4/oXh5nFtB13PK9u/bsWxTXwZnGcLD2Dg6ywebjyDpMlrWtqW3LfhM2bpnmJ8q/d/+dxtUcBDRDcDx9g9u1D7I2NTU18o9q5S0nFr1I07oqxCJi7KQp3Yw+bZw1bPiwXYl8rkt0gAGBUpb6MkcidY/sEuFobGzoHhnqLKz7dDchTUzC67l7h7TrFGRtgrbp166VL0IpTEhtHH9CV5rA1efqcvGqSxmUFHIpnq3D0df/jwaTixNOrp/SY8LxPGbrJbsPr5nSJ8xWItVMdYhyPI9uH9R7yua9u3egnbd12/7jl/YsmxRlp5VAYLnE0KPV2BX79+zZu2pKDz99to2ZZ2S4nTp+QngKk8UxtDK0C+0Su2rd3BBx5aM7SZ+NHaLkOR/eVwtp7iE+DKxEi3HYsNiZMZYlexaPjxu5L7HGwC8m0ISqU5OdlCds8Izq3NbNytzIJyjATcbLvPsypTj9Sfy7j2WGtlxeeVZOcU0Dn1dWVtLA1widOBZHn22Al8qwbYYVMoRNYxtYWnH0WGh5Y1+g5ZAunWOox1ZPf2cg/AEAAPxscHgdx8hW7XvGTp/e0Rl6eOzYpcQf42DSTw6H0tgr1qZ9eCOg0r29vO24TIhDphrbu3i28PNr0cLX18fH1dZUj6GdjxCEbmDl6ufs6e7aJW7ZykXdrD4dP3syoUI5D5ZJJMrLYOUwnmXs4NUq1FOfQa6p17iVDFFPn21ow+VwGo9W0pg6eAokEmndbgZH1HGNHjt705Gd6zf8Pn9omCXZns50tTPk82AKhcPBruSgs3QJBHl9A47F5RjacTnsxis86DrabSqTlYGpJY5CKalUrScEVVUU4/FyG1PVOWzfUpHy9ENZQ2Dc2vULx/X1s/N0MNOjaYwSKnsU4urr4fUoJAM7Z3cfP3X3+TpbmerRtAbB0D9pqBwTFz8nVze3tsOWLlkyxCbr1KHd8aqLrRG5VKK8M7RcjmNw7T0jIrwM2dRq/penDVYUZEtoeCcvz69mP7RPOR7R4+ZtOLxjw6ZNswa1tMQZUxne9sYSgZxMRvtfvUY0HTaRgggElYXZHxIunDq0emLvDu26j1t38d6TB9u3btgZn6dxZiLX0IzIYOQXY71XW1UMw2IrEyMjAxM8DS3HfjLrqooRWGJtZqB1mud3A8IfAADAzwXBQThLRy83ex0Ichk+eUBLnRtbNh17VILNBv4ryosNFHK5TBnQFMrRmsLba9ZveYpz6tnJk2replM4IefE0nkH3ihP1Uu7MKNLu/AxBxK17lWsakAmkaoTCZnlM3Ta8Cju/R07dtwvhSrvrhnStdPkw+8FZDyacz7cvfyg+APe3lxfVVnNun0PL5lO+tW76nvMFd+/fEeYzwjxNkfbVh1ERQvFSUcmxk5ceLXBwcXVxbbm6cUX9XX23ToZGroEsopLzhw++lZ5NlzJg8u3cvIYAb5O9q2jPRWsjKs31G2W3L92S5CrE+pjgU4oN1lZSPMM8JenvT2282YRBJXeO3Dg+dt6vxAvqnKemnLTlEdwNQ9tqsmk4sJ6CcTisHXIouRzGzfvOHdV0FBRrvwLBUEUMqlEAum37h5twLu7Yd7+N8o73RXdXTOsW8uxe99p30MRhmG097Heg4hO3eP6tTN8sGntxitFUPmTTaN7R8buf1eDU8CILOXxlbs5iXIHQ666crOKDy/elaYzrcy0sh+69urek6WenDlh5JTzJebOLs6OvLd3HucXWnXrZG/p6sGuqD2+/eBT5ceb//zO1dRPBF8Pd7/2cw4lFmUnPY1//vLh4fl9OkS2nTZjwW9tlWOWjRenkB3dPeHCj3u2nMmCoPJ7p47eia/0CXBlkpxdvZCij3u3nMlEyx+cOnb7frl3kJeJMm8rb5n91ftI/2NA+AMAAPi5oEFAju4o1U8nIHrGLF4wyTfn5t6d57P+7CMpgGY4ur4V7+2lGd2DgwJDQgIDWkQtq3SffXDHfNW5Y7TQ2IUbJ3nz9g2KCgoIitlR6jFg+aLB3tpXFFB09blcPXrzJdc20eMmjYps2Lt9+/E87/nLJraBbvTtM27dsoULpm/MsO6zcslIH9XZgI10AmNXDgqmnB7m7Rvg59tuR7l771XLu6E5reLZni3bVl1Jk0FU30Hj+7gR7vT29Qts0WL8LVroqHmjA2kQZN5x0eqp3ZgX+gX6B/q1W5pi1nPx6tG+OIjoP3L5oFCdC+o2224vcu2xemV3dJuqnm1fs2b+kTdo2qJ5D1u8aoRX3vKoFi2iFn8y675g4Vg/zSPaeOWmGXAZX45amXUeFhfslLu4rX+Qr/+KZ+zO0xf29JZXVdZCjn6tnOnZG9cs3fOS5zVk0epZbXn7BoQEBvp1XPJGp/WSxcM00yWKrMPV43I1xlJNOw0ZPaGT6OSOdVs+mk2bNbo7/drg/uMWL1i8fvH2JJOYVWsnhH8xOAmTmK72dl6WWjNKXhzesnHeyXcCiOTSY2jXQPbtEeEB/r6eU2/hwqZtnhiJforG7abMnzvEIH5020D/Ft1XfTDpt3ndhDBjIoFI1+VwVPfrNjA2MzeztDIzYJMoeKgsYd+a5RP3JDSgK+4TM3PdxAjR7t6Bfm2WJxv03rhlchgbgkge/Wasm4SW90HLl77l9v592+Rw5UUkpS+Pb9sw+8Tbhs9v1f4P0h50/cMTOoH/IaFQ2KpVq1mzZvXs2RMrAgAA0BYXF2dtbT137lwIKr44Z/ZDQWjfhWPC1ONGssI7m5ftPC+MWLhgeEenH+Ocop/DlClTGAzGihUr0NggqiktKSmvEcOq/SICw2R9CxtLE92mLCepKy7ML66TofNpHFMLC1PtG6ZAiKCqsFZMYhqaNM9QCCuL83N5VAsraxMdcVVxaW7i9WupPMSszZC2jlZmnC/TlLS+JC+3sE6Gh2C6gaWltQkTfT9pXVFZg4zKtTZk4CBYUFlclFNaj4cQMtvMwsKs8fgpLKoqzs0uFShncEwszC30sACn2aa+pYWNiS66AJx39ejjcpLzgAEBdLSOrKEsPze/Woyj6mkuqgYLq4tqRQSGgRlbK60qwcLKkqKCkjoEQuiGNiYsAp9fj9e1NGPB9WVFBQVCupkFOkGS88qV7UtwEEJiG1tYW3I1ek+ZPUQ1xbVCiGGocR8auaCqpCC7gWhibm3JkleVlBQn37v7qbLeKCouytHQ+Mt1gWS8ssoGMYllYaDTnCKl9aVldQKynq0xEw8p0DYLc8t46CdM4ZiaW1roYa0oRNUlBTllDRCCo3CMzK0s9LQ/XkhSW1xWJ6UZWhky8JA079aZR+kyu2HDw1hokpLzygrzCqtEiKpN88Y20fLywrwCVbmJmaUFV1UuaSgtr+WT9GxNmP/RaZV/F+Uh+EbNr1Ag/H0XIPwBAPBNGuFP3lBeJoDpLEM9euO+Q8YrLS4UkIxMjbgaA0/At2iEv3+MuEEgx1F0mN/7cxIn37xfKGUGdoswwEp+BlKhUCon6zRH8u9E8PH+44xyUtCANiZoqMIKf3Ca4Q8c9gUAAPi5EHWNzE1MmpMfisQ0sXa1NwPJ7ydA1WV8/+SHori1iWrfMfRnSn4oMp3+/ZMfiu4U0bZz75amP03y+wwIfwAAAADwy8ERySQSuDf4fwlHQjuP/PP+rQXCHwAAAAAAwC8EhD8AAAAAAIBfCAh/AAAAAAAAvxAQ/gAAAAAAAH4hIPwBAAD8HDTv1AD8LfB41dP3AeAXo/WlB/f5+y7Aff4AAPim0aNHm5iYLF68WCRSPr8L+OtoNNrEiRMZDMbq1atBrwL/enS68m7eaiD8fX8g/AEA8E2jRo3av38/+utboXrwLPDXEQgEdeZDUyDoVeBfTyLBHpyMAuHv+wPhDwCAbxo9ejSTyZwzZw6fz8eKgL+GwWDMnj0bTX6LFy8GvQr861lbW2OvQPj7EYDwBwDAN8XFxdnZ2aG/KLBp4O8wbdo0NAIuXboUmwaAfy/weDcAAICfDzg0+bdDuxT0KvALAuEPAAAAAADgFwLCHwAAAAAAwC8EhD8AAAAAAIBfCAh/AAAAAAAAvxAQ/gAAAAAAAH4hIPwBAAAAACQTNVSXFRViCvLzS2p40j91/zOpsL6qFFteqaCgoKS6XiTHZkOQXCyqeHpk9ZbNa65kVTeIP29cga5BKbqQeumiouLi4qLKWp74i8uR5cL6crQeqryWr7GOmuVfW3eFmFdfVyeQYZNaEAm/qiQ/P7+gpKpe9MU7wuIGXn29uHlTvk0hbsjPyy+uqMWm0bfIur4+LtSj/8ITb5oLm8jFvJryYvW2K6H9UFpd37zxiFwsbEg8tWvn76uvZvOFkq9dpI2gPVBZWKBcFu2Br24n+kYidZ187TpNyyrLG6RYKQqrr2q0hif76lcCkfJrlR+dqvdgrBClKkeb/Lz8uwP3+fv+wH3+AAD4pri4OGtr67lz56KvxQ2VPCmBztJjkNQzgf/SlClTGAzGihUr0E5Nu7h++8Gb76X6bDKM7qYVPIJj+759hvQMMqUSsOr/P/m708t2HLyRDpmxyAp0d4qDZPWQRet+Q6cMCmOh8+GMe3uOH9l9LkEGIQSbdt36DpswKNCwcQgG3f1Wvz5z+PCRR3noFB5PhEXVZWVVLr3n/jZpkA+7qRIOgjNv7zx06PgLPpfYwPbo2GPgbz18yOjOHM66s+vgwWPqcvfOvYdM6+alNcBTl3hi9ZEkStjI+f1dtL85iLz81aXDB4/dypfiyJYhXXoPH9rWlojNRJNf0fMja++XmIUMndXOBiv8Fjma9A7EN7gPWjTAk6IuKn+26+SDFHzY3JgAAwPGZ50qy7q1bfeecy8E+noUGEZwOEgqItmE9BgyflCwIQ6Nhmnxh4+f2X81QSQWk12jorv3iu0XZkHR3A60zv0DB0+cfFurCwmNvKN6DJvcyZWi/T4Kcfr9gweOnXhbp4sTGXq17D54Ykd3XTIOLX+AduqJNzVMnNDQs61yWTcaEZIJUuIPnzh17nWFDkEuNHRs2XXo5E7uzM/et+Tt9aMnT9/LFMBk65COvUYPCDenk9Dy4rfXj588cy+TryBbB3foNWZguBmdpJW7/kma9/nT6pXFixdjr4B/kEwmO3z4cFhYmIuLC1YEAACg7erVq2w2Ozw8HP2d8erYop3X0/E2QY5ccPTmL7l16xaZTG7Tpg3aq7n397+o1I+MXT66e1hE66jOHpRXN/cfT1bYeftbM5WVEYVUKhZLpDKZAsHhCQT8Z3txeeaDw4kV3LC45aO6hqF/0rfrEGZR+/T5+2KyU2s3fXnKuQ2H4qsdwsLt3Fw9PB2gTx/eCrkB/hbY81bRxog6XAvnFkFhrVu3jopqb49LSfhYohcyKCbCiqauo6wkTru0Zc25VMOuk5ZM7GRa8/zirdf1xoFB1vTMKxvXnPnI7TJl6eROxhVPniVmwnat3Aya9vJ1qdd3b1h2MFvPP6p7kInWzl+ScWXTquNJzHYTl04MJ328e+NWDsErQrksAkM4/qtz29YvXPcEcfVv3dFdH1tGEyyTikRiqVwuk0oVEI5IIOAgYdbDY9cTS3VbdA6xVIe/ujoRzdC2dainOZeO18ghanDB06Mv8ggtRq6d0DM0omXrdh3CjesTnyekwDatfUxwqVe3HbiRbxne0sXNycrZkZWV9Lhc1yfEltPcjiL12vbVR17SOkyeP6GzWe2Lx4+SxNYR3iZkbL6SLOXqjtVHX+t0mDBnXBdz/quLFx+U67WIcNDNuLl9zaEEctTkBRO7mNclPnn0WmzT2tuEl3Bo/ZYjeTbDpo8f3C3QnJd08eKTcn2PMHv95g2Qpd3csXJPPBQ5Ye7YVozMh5fPvFW4hfmYETNu7Vix5yESMWHuuFY6WfGXTycp3EK9zKifb/o/ZcmSJdgrcNgXAADgZ4Pwy3Nz8otrReBYzd8I3SPjmEZW7n6Orp4+Pp7uzp1GzxwZzc59dPTWR4GyAv/jsWk9HXRYOjpszwGLLmR8cRAPh8MTdY1tXFs4evsoebgGDxjZ14wiu/vsEwSlJdzIrCUFdu0bamtlZdZ6zJr9a1YM8dXDllUh6xpbu7Tw9fX18XG3qEh9JeVGzFk4IZyDzVYpe3DmSLrYuveMSR3s7AP7T4rtwuIlnLyVBfEKXr3Fy22jB7a3swsY0CmYQuEnZJZjS6Frn3Tl+uukbB0vUyJRua2aFGmJtz/KyEExIzva2UXFjunvaMK/9uQTuoGylHMLenoGjjvziWHlboH/PO6qyVMvrxhsz9TRZbOZOjrBQ5fFV0M555YsX3rwzKVzM6aOX3RHuRo5VzfHtvTz8bE3cGg7ZveLL7+7OBxOR9/crYWDsv99vD1cAwcN6GbHkt1+8lGoyHx7P6sECunSN8zRwdqybdzSAxs3jgux1IowNfnJH2CRbccBndFl+7QJZNDrnqWXax3SrHl5/WxqlcWgabO6erkHxowc0ttQlHT85mtZdemHT3K+TceYLh6uAb2jAnXotc8yq6Cq5Ee3CvKsOg0cEeHt4RYW07tbqAXtzYfiaqw9ldzkhykNSGjfoV09XduNHNHP205w83maEMn5+AgtD+k3TFk+YnhfH7T82ceqH+OnFoQ/AACAnwsOTyCSiMQ/2BUD/z1YIZdpnOxl5h/WUkda+/RFtlicuG/BhieELifzyqpqP+5sX3drw/SDiZVfO4tL6/wpiRSWI6rDbcZWlgRyTcabdyXlZZU8gZykw2TpUL6+D0aqE48eThSRo3q1t8eKMHBZYTEOMbCzMFVPUy1sjCRQSWY+j2Xt5YnQyxLi3zXU5z9+9YkAM72tDdS1oLrXZ++W4c27jWhvQfzyDK+SvAwch+Hn56seoTO3tsORqGl5JcoDmhZRY3bEZ93eFRdmpPjqOXQVCQd2Pc2zXfeqtrqq+sOFuS5pV3dse8jovXDWjEE9O3dfunztkijG+5Nz118p73oqv76uOv/sUO7HA1P3v+BhLWhAV01z3ZRjiTj0e44Q9E0tSPTqlLfvSkuKK4VCBUTW0dOlNR2YVuGYubgRdctfxieWVuY+fZeKyNgtbAw0j3VCFaWlkELfwdZSPckytjZHCOWp+cVsSzc3Arv8xZMXpZV5z5NSEBnLx4oN6YVM3nfw9q4Bzur69aXF5VW1dJrWMfPy4jxIhxwc5qcO8oZm9mQaM7OwvKyoANEhBkdg5UbmDhQaIzWvDP4h0h8IfwAAAADwNXr6ZmwBrqqk9uOrRw/z8xFrW2uqVCqhmjt66OSVvbyRVIBVVENzhqShsii7Mi83Ny8vr6TyzaVTN/MrKaHetmgoaNmnv4dpwbZ1Gw5tPXT7zImbKRV8ydcvoJBlPbsaz5PZd4gMaExvKmhqwOubGOOQ6rzCYnWRBE2SRZUQopBAluFDh7a2KDkzMWbA6L1JBNd2/VrZqo941r6987QCNojsHGxCUJ6M+Fn6gGuqquvrcBQSlqXwBDJcy6+tqoIgmouXX3jbMD19Np0Ewdq5FsNx6zJlytJJHR1JsFDMNbbSYxnzGvh4iMnlsnWYugaGxhD/3YNbKWkCE1tbqlgoJpm7uLBrq19de4amSw04HEEqqCvKqSotQLuvsKTi/cVLdzKKyKE+NnTIIKhTV3/7kr2/r9+75fD9s8fv5dTXCj67pIVoFdRnaJS94Mas0cNHH34LeXWPbevYeMBcjatvgMPXZOfmqyd5laVl+eWIQiYlWQf1GdbRSXxr9ujhcQeSYM9uY9o70CA8hanHMWBRlPkRqUm4dvlGGc6mY4SXxsFmqL62urYGolGxo8voX2ZQvaCusiCvtrahBkejYkkRhyci9cK6ypo69fR3BsIfAAAAAHwVgUSA8RBSX1JYUPrm2ZUdc/p37doluveQ6dsuvHxbXFNaqTl6hQYCJD/+xKoxXfv27dure9f2ET1GXeXZdu01wEcHnU106zRi7updc/qG2knijy8ZPXLmjlsZYvWiWuQfn91PkzIDO7Z3xa6UwCgTh7lbgBul9Ontsw+V14UUJz599eF1JYVMJgqTrx28+kTsO3jd2rW/j45gpTw7fuF1GVpH9PFOfB5fNzi6hRUFUSiHIT87306hkCtgBQQ3RjtlOlQ981gGQXQ6jUbCQzJZ09zPkXSNbSws4aQji+Jates2fu2p56V0ijJGog3AMIz+C5UVFpd/eHX/yJx+XaK7dO7ad/zao/c/lNWVag+c4smU0jc3Vo3t3L133949O3eI6DzxWp1N32Ejgrjo+tJdOw5fsGHf4hGdvKkPji+PHTpl3fn31VoNVH28ffLSA4FjryVLVvw+LJTz6cGu0y+LFJrrbeDg6UStfXr51LV0kQzKf/PyZVJSOZlEJFZ/uHPy0p16+55L0WVHhHJTHu089bJQ3rwsL+3Wge0XU7nRk6f3ctfVGHJEN1Mul+K0IrUcRhRSGTpDqurMJmiPyOV/5orp/x0Q/gAAAADga3i15TVMmGPBpAtkxgH9Fuy+cvvm9WvXrl698ehtTsLJNTE+qitBMMp4ZNt66OJD927de7RprD+9QOASMmz0sCAsKuBoXCMLHx9n775TVly9uMq/PPno2SfNZ+U1gtNePytXsHwjQzifXRCrYhe9dNmCdqJdrW3QENd5T7ZuwIB2JkIk9fXt93WCFt1GdQlyc3MJ69HJp67k2clbWfz0S9ez6nUih7U0RNeAQCQSlP9ibamR9Ay4eoY4Ah4LBHgIh+hz2Ppc7SuC/0D5063jWhHN+52qCNh08/mJVbEdXESaI5pocJOI+CzXDpM2XLt7W9l7l68+eJ3x6Ni6AW5aIVQhFZv6d1t88P69+w/2z2xj0SC09R742/AWdHX3EehcYytnL3vf7iMWnjy+KbQy8+jRRxkayari/cOUuhr/viN6Rfh4ubXs1MaXV5547FpCtUYdyLzL/NkreiOXuzjTybgeO9/rtR3bwUpBzvsQ/6m6wr+fetnI6DYthBWvjl5NwM7ty76ysP/ghU+cR+/aGxtiQNPqPgKbwzUwRVNoY+/hcIgBS8fA1laPwzVF37upHEL02bpG+lqDud8NCH8AAAAAoKQ6mxJ7jSpJfPJAQOWEB4V5WBrIyPWlDTKmnpGxsbGRIZNCgGGIoDECpIRARAbLwJShx2KEj9x6+MgI8wfzFi6+XKicJ6mvrqoWoXVweIqOvr6zg4O+Dlci/fJudUXZGUSubmCgj/YRy0ZyMZ8bMWlbQklZWXnFo1WdLSSGCDvC21kKI2iWahqfQyOIcqouLyv344VD62MDfbx9vXrMOn757LGZ8+ftTajA6imZWtmjm5KRl6ueLMzJwCkkztYm6sn/X2nSwwyZ/uwz7+IPzWxvQmBQ8LBcDitUQ3LoGqgipbmVBYEuKK2XMtiGaO8ZG3HoZFiBvqX2CCQCk2gMfRMGk8n07r9x+6EZ1omLpsy9mq6cJ+PVVFUKVGNqZDrX0NnJ3oBjIpMrN7mJ8uxAdLOx0UAEwaH/wDCsNc6pEAtNQsdvf1BaVlZRcXtVH7M6gpzR2tsZJ1No1ENw6ILKvkQ/35w7m8fM21fTYcnJY/PbGWEVNBma2uDJjJS0bPVkaX6GVCR0sjA2MbHEk3Q+peZolrtYm2hv9PcCwh8AAMBPB6fMKfivDQwB/yXlffkkDVUF2VWlhbm5BUVlr68cPHuv3NC7U6QrySigVYShLPHY9oP3PxUWFzw7s2HugoUHn2TxsYVVEASBFXK5TD3sRaQ79xjSL8oq/ebpfbezoPLkmztWzt9w/GFaZU1VRcXzm3eThA36bhZal/Iq1WS9LxRWGJmbotmvacxKLqyprq5skKDpJf/5ge1bd13/JEa/AIJP8Q8y8ST3qBAOx9HPCpK/uHn6QSYaCpNu3E6slVgGezm4Rg5ftP/MmaP7du89vHPB8MjA0JbDhgzt7c2FEHFtTU0VD22T7OAbyBaU3z95+U119dtrZ25mV5KC/R21jjkjymO4TevTDE+limRyQX1lfXVFRsKl01cfvkyS8yorIYhCo+LlvOLiEojl3b6jvU7WpW3776eXl6Edu3PZ4kUH4/O1LyBR9h7afY2DhtZRvbu3scm8cmjHxVRh8ad7e9dOX3n4YQoaeSsrXt6//bqunO1hpnmxtKGDjwUe9+zC6VspBcVlifcfJVQJTEJ87NAeFtdVV5XXK3uvNOHY7g2/X3rTgPatMD3xeaoYcW4famlq72GOIyZcOHlDvezDhAqBcai/Eznz2uHTt9JZ4R3CrAj1RQV5OTnZReXVAjkEi+trqlVtEqxdfDmKqlunTr8oKH137fKdT/mkgBb2DIK1ow8Hrr598lRCQcm761fvfMwjBvo5cdFgKUb/ECirE2sdtP6HgfAHAADws8FBiEwsFDRIxUIlgYAvlMi0Tm4C/jQSg1P55ury0dHde/bt27t7xwFLk2ntp88cG22HzuSEDood05qesjluUK9uvcZseaWwa90x2FJrcA5HIFGpFGrzaCDeo/uIwa1NMzZv3nc8z6RHJ19mzslRE5fu37F16+LfX5GCh8b1dvtieE8olhpyWdbGXPR10yBRVdLpI0d338uWoVEjKNgeKTgzokv7jlHR0y7UWHUaGhOKBhzLtqNH9XKpPzqiR+cuHWNWvcQFDJo40JeF1zGx9/b38w8I8PcI8XWztrC29XB05NAIUGXSyQMHt15Pl0KQrmffUcNbsV4ti2nXLmbxE9i77/AhfrrYe6vgyTR0275yf2KjiOiOdtyUNQPaRbfvvuYW36FtXzeLhuLSWsjC0csESd+9c8ueRKjFwLGju1qkbh7Vp0vX6EHLbpWyW3cKs9A6rAzjiFQK2nvNb2HXqX/fTnZZuzdv2/uJ2r6Np1HR8TETl27dvO3A+h3xcOjgsQN9tQ6hmrccPCjGh39lfEzvbp1GbEiEgsdOHBpkhodK3lw4fGDjtRQhRDDx8bEkl54Z36dzdFSnuRfKrXtNGqI8IG4WMXjwAD/RtUkxvbp2Grk+QRE0dvLIEG5Vzqv3T+KTbh9dNn5Evx49evXp1b3rpNUHnpVA9R8vHNy9+uJ7HgTRPbsOjOtikr15ZM/O/VfEi7xHThkWpI+Wu3cZGNvVNGfrqF6d+y9/IPIeNXVYsCH69ShPvnz0wLornwR/eCLl/57WJ/nF9d/APwE84QMAgG/SeMKH9PbSHjNX3HgvJZKIqtP0YYXCd+T61QumtbXCagP/GY0nfEAKKZ9fzxfI1OMxCIwQdfX0dTVO8EJkgvraOqEcQtCgyNZjYyejNZOLGsRyPJmhQ24eV1FI+PVVIjyTzdYlwRKxqDrhyLZnVbBzzOxOlmy65v2HMbBUIJLCRBpT89EUCnE9TwyT6egS6F5bIebXV9eJIBxCpLHZ7OYbxsASfm1VnRjdsxPpLOWMz8KaXMITSiASnam6SUrV/RP3ShUmXQdHqnKeXFRbXSOQodvGYn9xExqZiCeWQ2S61lphFGJBA9ov6DeRzOSy6QSxRIQj6+qQlQvV1YiITDZLF21OIa6rrlY9Wo5IZ7I5utoXsyh7iieUqd5Co/ekvNoqEY6hy2VRYYlQIHx/bt+TgmqbwUu6WpLJnx02VoIlvLrqBhEC4Uh0XTYHXQmUQszji6R4OpepfE/0fWqrGyQIhBDpqt5rbAWW8uqqmpZl66BdLVd9JyQKqHHYE4GVHw26OrSqJ6fvpfK4PUe11VcmKbmwvqaOL0NIdBZLs+PlovqaWrRc8wPRXp9/juaVPs2vUCD8fRcg/AEA8E2aj3eTCmrrG/jND1pFYIVyt8tmUsHBnD9HM/z9U2QisQIiUbUvG/gORO/vPC6WMgM7h2jdafoHJ5NIFAoilf69e0/w8eGz7EpKUN/Ir50H+GPSDH/gNwUAAMBPhszgGJhYNLO0sjbWA8nvJ0GiUb9/8kORbf0Dg0K9sKcG/yxIFMr3T34oqo1vYHgbX/3m8zJ/LuCXBQAAAAD8cgg6HDaHwwAp4L9CYLBYelwmQfv46c8DfOwAAAAAAAC/EBD+AAAAAAAAfiEg/AEAAAAAAPxCQPgDAAAAAAD4hYDwBwAA8HPANz58Ffi7oF0KehX4BYH7/H1/4D5/AAB80+jRo9ls9vz58/l8rWeKAf8dHA7HYDCmTZtGp9OXL1/O4/GwGQDwL2Vqaoq9AuHvRwDCHwAA3xQbG3vnzh0/Pz+pVIoVAX8NmUx+8+YNkUj08vICvQr86127dg17BcLfjwCEPwAAvmn06NHofydNmiQQCNQlwF9Ep9NXrFhBpVJnzJgBxlOBf73AwEDsFQh/PwIQ/gAA+Ka4uDh7e/uZM2di08DfYfr06WgEXLp0KTYNAP9e4PFuAAAAPx+5vOlpvsDfA+1ShUKBTQDALwOEPwAAAAAAgF8ICH8AAAAAAAC/EBD+AAAAAAAAfiEg/AEAAAAAAPxCQPgDAAAAgH8KIhEIhQIZNvVvh8CwxvU0CnFDVXF+aVWDGMZK/ixEKhIJBeDCp78MhD8AAAAAgBC5VCzg8/kCFT6fJxBL5X/q/mewTCJCF1Q3gFK2IZLImoIOmoQgUeq905cunU6sRGd8rXFEgTbC46HrwROKpYqvvj+ikDfXkTTXUS4r/H/KlSuknIEVa4MVMrGAh1Ku8hfvC8vEErFE/mcyG6KQVFRUVddp3ECx+MXJtWMHzt91K60eK9EAo/0vbOp/Ze/x0ZVtfksEVsCKrEfXr184mViJKNC+/BKCfgRCVQcoe+/rn55mHYlGD/9ROfrFUPWM8sP8wy+E6suDLqyqo7FmGuV/rvf+10D4AwAAAADRp7MLB/kaMJk6Kkymru3QNXeLsLn/CdnrY7N6Ozc2gELbcOgz7+wnbD7Ee7VtQohb55EDB44M8+w191QOVq6Jn7R7epiuLhNdNnT0uoelWLEW3rs9M7A6IbHrm+vw3u6fGYmVx629X4IVQ4K3+1VtKlcoeOS6B199kl3JnbW97HVRtj1mn/wkwUoxcM7VxWsWLr6ZjU3/BxTpF5csXbjkaj4NK4Cggg/3C+WUniOmd3LlYEXNZBnX14wKNGruPnRl3frPOZvROMxX9WbPhFaO7fv0GRwb6tdp+omPXxn/q3p3cFpHVQfothyz5ulXIiYEVScfmtFJXScybuXjpjrVyUdmRKvLI2JXxNdhxRBS/GDdSE+0+3Sde846kYGVaoNLHm4Y6YUujNaZcby5DlzyaKO63LHHjGNfX/b7AOEPAADg51J8dnp/P0rYuF1PCrESlPDVgXFRtu0m706owEqAP0dUXWgYPvzQq7rK0qKi0oqa11utPy7qPnLdrQKsAiIVNFSVV5SXV1Q3iL4ybIdI+LUmbcbuflFfXFxUXFRUXpV9Z6Zh6e29h5PRLCV+d2TenrfQyJ07Vm7atHrHct+KF+s3P9H+sMSfTi5YeL2ozbF3fF7+7eHklBOrj77/LIcJ3x9bNO96cdsTb3gNeffHMB9vnbnyFppR4ZSTixZfLog4moQue2cUNf3UmiPJUggqurNyzOIzwmF3c2qqq3Puj+U83jZ+xd1irDU18ccTM8btfOuy4TWf/25nQNn52TMPvhMr5yhkMmn53T2/jRu95mSaWPgHt0SUi3nVaLcoVdbx1cd066tLi0qLi8tqeFhPIZUKm67dB6zp5wwTcF8ZBJPUlXD9eu98Xl9VVlRUVFxelXvjN9OSy2t3veBDkPTt8XXb4kW9tu/8fcu6hZsXt6p/snbF7UytJ1OI3xxfP+t0jvu+hLLK3DsjWY9Xj5h9IVP7g5K8ObFu1slMt33PlHXi9J6tHj7rfBa6nR/OrJ97NNVpD7ps3p1YTubeqdtfoCFZ+uH0/Li18ay5z8uqkjeHVp+KHbX1ea322kvfn1kwes1D5hxlnS3hdadjR259hmZH2cdzC0evus+a8wwt3xZRf2bUiK3Pan6Qu0qC8AcAAPBzkYtqiXR8ambpx4ymfbjgw8eK2rIqIqlBDE6I+q8oH35A1tUztWTpG5uZGRtwWvQeMSDasvr9jQcf69FsJcx/cWbDwrGDRo4YNmzSsi2Xk8rknz0UC4fD4aksromlrqmpmamZmSHXtl3HNoZ06PWHbAgqTHtVIsQ7BQQ7cjkspkfnSUun/9bLQ3sEjFeenUdETLyDvRg6liFeDiSSOLOsAZuJxif03/LnN28X4+06DYnx1WFate7bJ4ojSb35OA8SV+fl4WBD32Af5bKeymUz0GXFRdlFVD3/tp3a2nD09Gxatwp1NiBl5lZorros893rEgIroGvnFgyGV89+nR2NFYmv0tEvkjzz0eHlk+dcyJNbWbsbQwSth4Jh4MpXV7cuHtF/2MjY2MF9o0fNXH8vV1z88sKlC3efJzw+emT/6eRa5bja1cMb5s2ct2DKyNEzVh57XPa1EERhsI0tdblGZmZmpoZc66g2kRa6+FfvciRQUc774nrYJSDU2Uifo+cVPWHp7PlD/Sw0HlkB1byLf1gotekxbHCQkb51m65dO5oocm48SKrG5ivVvn3yoFBs1WPooBC0TtsuXaLNkNybD5Ol/IbiIkSi7xWILmvl72ZPpYoyyvmQoiDlXbFCJ7RL52Ajrmfn7p08rZE3r9I1m0TrpCaXyBih3VR1ort18rJFXidlCxX5Ge+U5Z2jQ5TLduvkYw+9fp1Rgy32nYHwBwAA8JMhEHR8Az34IuGnNOzQnuDDGzlDx8DBlQr9SCcW/WwQWCFvvhQD7xQSEUzjFye8KZbLPl3Ze/hhsWH3eQuXrpgcxU27dXj7RWUo/AzagkLzYg4KnYgnSCRSCKIzdRCysL6iUshv4AkUNEMbGwdzNgmrp0bnGJvAxPqCnCI0CGYXluFhiimHgc1U5VOkLC9PINezsbdXF+k5OJnAsry0HAFd39QEIvHysrFlcQjFjEOHqK5dp85dNLmTjbq+XCRF5DIiDqe5kpX52WIdXXdfX13VpL2TA40iy8yvgiApj2zm3nHGhkWTegWaEr56wltV0rVTj99KWk5atWzpskm9PMVPzx8/n4QPbN+qVaCXl2+nTl07uZMzru05ej3NpPeiNSuXzOljV5t4buv59yKshWYIDGs+xQZPppOIJLEE/XuGqqODJwtqqyqFDXU8CUKjm9s4W3OpWEWVyqICgYxj5+pIVk7hTWyczfFIfkqeZlKrLMrnS9j2rk4U5RTO2MbJHA/lp+SUUzjGRngavyAnWyzn5RWXI3KaOVcXqinJl1CpXsF+Rsr6ZCt7RxYdycyv1PwhqykpEJLJXiFYHUt7J44OLquoqqqkSKwqN1aWkywdHNk6UIb2st8PCH8AAAA/FwRNATS/QN8CueRNRq2yRPDhsVyXrOfgTpX/uUsUgP+XgZkdl4crya5Ken71cmGVdb9xA1v6t/BtP3TqWM/q2kcnEvKwihgcjkhhMJtH82Tvzp1ISqxydXOAILPoYX0N+ce6tOs6beLqhzfuZ2F1NDF8Ru3cOdHx2RgLHE63z1l8p6lbx/jTsZkqOKYuQ4QT1IrQOKkiEYjqqmG5hAe5DN2xY7JL4njlsr1Owx2nbBkbgC6ra+Zga2fKIqhqF149eii5kN460luVkNTkZSWldTUQg4plKQKJAlfxy0tKYIjuHdK+99B+bs7W+jScAvlsqFNFz73X3MU7N07t4e3t5Rk9ZmRLd5eSokoiZGFna2FsbObo7KwreXP5+MdMnejxA1t6+/hE9vttQjhBFH/kQdNJiY0IFJquxljomxtnnz0ocXW3Z0CmUT2jbZCTXdtFjxm34snNexonPDTS0WFI8LwqPnaYXC4RKXtGJtccYmQwGRICr5qvOqSN1hGLhHU1sFjIp7rGbNg9N7hoiT2NpDvgBL/zkkMzwhhQbUVpdRXa59h5izgCBakWVBSXVzd3BFxTUVJdiWcysTp4AhmpFlWVZmRWlNdUQbqNy+LxaLmgoqhMY9nvCIQ/AACAnwyC4OT4Fi1bFwmhxOQKCGpIfEjQJRq7u+L+5OWpwLfgcOhem1BTVlxcdvfCusH+Lk4ODg6Oju59l1+5WySprGo+Jquqi3w6vbSvu4uTo5OtlakxhxVwkhQye9aUINXonVOfpWeSSh7vmdCJfXPrcH+XbgtPJgtUSzYquLc2dub26u6Hcmqq6y6N0L2+fcSKW9o5xzaofRg17/L+tZc+SUSSjDsXbj97UE4j0yi8Z5viZmyt7HJAuezlUdwb20Yuv9l4uqJyyK/w+Z4JYw7k+Y9dt2uAI1aqovzKIDD6rdL47mBlEImEV8YEqQxNfqoZX8CTaboMWu75FaPaGFk5ufRcePK9Ll0ZLVWPTVbI5TBUVFRW9/TugYl+aMfYOzg6OXaYevBesbyqUusMBSKFnnV7V183Z2cnRztrc2MOvfVJJHTluoVt9NC5OLfei899qHt7Zslg+2tbRvq6dZuw42mpZrAz8w4PoJZd2rry+JvqemHKnWvXHzwqIhOxuWpmXuGBjKrLTXWuX3/wsICCqnixc+KUFTn+a9NKKmpOjTK9sabfnCuFEjmCfqbKHzhseXTii25QjuShFbR6D0ZLYWWh5rIqXw3Q3wEIfwAAAD8dBFEQzBxspHKovEwkTv1YJxNSDPWJCvjH2LP8W9RWFtUxICMbQ10prO/badyqg2dPHT+GOnH2xoOzG36Ldmk+Jot+KOi/lmF9Z2w5d+rMuQ3TenixOJ5OAeHB2BFXCCLQaHQTcyOrVoOm7dm/OEJeeO+O1hlp5SkvChU4v7Zdw2w4eizXyAh3ES/19vMsrQOFFi0nTZvV0yR5xYQevXtuShAaeHUJNsSRiz+9yFdAvm26hquWjQj3lPJTbz/LUK4ULC17dXzDyi1PKa3jFk+J9lA3pIbOJ3H19XW5eLky7CnBChmOo6NnwNUOTn+g+NnRFXHthh3I5URvOntl57zBrRzFMu3zThGFnOkUPnje4XOnjx8/dvTo8bPX7p9YP72zg3o4EqOQSU18Oszcev7s2XM7Fg4KNzdysW3RtpVd42l9RBqdyTLmWIV0m7B1x8q2cM3Dm0n52DwV44jYCfMHWxRunjGkf+9tCXUmQX3CjAkUrSPrxuGx4+YNsSraMmNITO9tz2tNQvqGmVJ0KrOSCmUiv87dWzuZGHA8gwK9YHHmjUdZEMdEzxDXdLceGJbj2AyOIZfdfK4hns3hcozwTTd4gWEZxKazDKxsuHosA3zTsggsh1gMjpG+xrLfEQh/AAAAPx90V6LvGsASQJUZr158qGLgWVbWLPkXt2cD/orK1PdvhTQdb08vOwM2jkvTMXN09wkIDAwI8Pf39XW1MecytOILgkB0IxuPIDcfb48eoxYtmd/NLvvilXMvypQzFRKRUKSAILkCzzJ28m4V6s6lE2vqsQOQKhKxCKLSOGymepLO1MURFTw+Xyv84Yg6zlEjJi3fvHLe/IWTegVYUByYLHc7A55AQaWw2erT9iCaLhNPVDTwhOg3ovTZoQ17LhXb9P5txqj2Hqa6WmlImUQMzayIVHJpebm6qLKsBE9AbMxV57B9S1Vawvviatf+8xfPiI0JcPJ2NNOjKlR/hGAXY6CdwtHnEvRpNEN7N2//QLT7/P39fJ1szLh0rRiEfqVpeqbugW4enp7thy9csGCgfcGVUwcf5ypnwmjv8dFIKZHi6PoOXhERXgYsam2DZu9BEJXt2n7Ub4s3r5i/aNGYHkHmRAsdppetOTZXjcpxixoxdcnmlfMXLhrbM9icYK6j621nJBXKSSQuR1f9eVIYLBIFqa8XsgzNSXR6YZHqE4SgmsoSGJLbmOtrxmKuoQWZTi8owu64g9ZRIHJrMyMjA1MSnZHftGxFCYygyxpoHHD/jkD4AwAA+AkhCsgo0JdWL/l06VQ6h8Z1dTEiyMHA338PQRCYQKaxuNg0JE/auWHt1XqTqChvhkVkSw9B8v7lKy+prq+ufbi4T/vwUbsStC7dVLagkEkl6kRCNwwaNaGHj+Lilv1n3wqhujtLY7p2n3ulnGHMYbN0y5MfPsl/KTQ2VB7SbGTp5o3PSD915pY6Lb6/dy8zFXZ1ddSMGqLE/WPHzN6UZBQSHBocyM25+7Kk2KhdByMje1d8ZvbZ0zdUy8If79/LSFG4enrjsy9sPPS82mvezpm9vY1ZX00eNFcvp9qkFyePJqLxCnl3+kj88yJHX/fmG/ShlHdV/trfFoLayoxauZ5nsLkhEyq6vW3TlvOXeaI6tGPkCqkCITDQfGzYKiqMVHxpw4qLqrP8FG93jukdOWLHG+2b2CgfBiKTSdSFOLpn31GdfHAXV2869JQP1T5dF9un3eTzpSQDHTabXpYa/yjjUa0xW/NiaenHo9OnTl72Uic4ODgo0KD0+eO0FE6HaE/NzZB/PDZ98qRlL2hBQWgd/bLnj1M/sdu0d7C2t8PnFR/ZdzFTWUuc8fz2u0Shg5O1mZO9TUPqy337HiiPz7+9cermrRxbX3cjzdRKdnCw5aUl7tl7T3n/xHfXT924kWXj5aRLdrSzFaS/wsqTb5y+fi3T2tv9P4rU/zD0mwv88wQCQUBAwPnz57FpAACAL8TGxq5YsUL1MufwiFGTJxx9jyCSF9sGBnENO849/QlBZE/X9Jo4ZdntYlUl4D8xefLkuXPnql4Kk49M7u2hb2hhb2eLsrEwdO03a//jCrlqLiIX5z3cEtfFxcDa1trO0q/71H0PSuVoutEgeb5n3LQZS64WYNNKudcWxvhTW03e87wUybyyJK49V5/N5rAYTNeu47c9q8ZqNYNTry2LC9Mzsba1NHLrPHbbnSpVccmD9ctWzD7xXqqcSLuyMjaKY2Jla2nigbZyL19VBV027frK0aplrYzcosdsvYM2r0g7Ob+7vZ6+ibW9o3rDLEwMu0zd8rQaqXmyfvGS3w68FqkWrn5xZHYXV0MLCyPXTqM338pVFTape7N/zKzJ0y+mY9MYWPmfnBvrxkSZGlnZWhhHjVq+de28/nH9Ft2uQRQfTizo5cxoOWHj43K0hcRjczo76ZnZoivn2n74+oflWn2HINL3x3+bP23GpcatQcEZV5f298YHDl95IxPJuLxkZGtjY66enq4u16vruG13imUy1Qo0EX28tHJ4pIGFjbWFSYteE7fFl6srFD7atmzR+P2JPPS15OOl1SMjDdE6lia+PSdsfVQmVdWRiT7dWDmqnZGFnY2lhXe32C33C1ULw/LSF0dnxfia2VgZeXcds+leubp+cfy2xXNGbH9Sp5yQl704OjvG11xZp/Po3+9ibcKyspfHZ8e0wMo3NpYXPd69cmHcnhd1clg1/U/Bop6K9qDrD3Ii4i9GKBS2atVq1qxZPXv2xIoAAAC0xcXFWVtbo0kFggouzNr5kebfe1FPV97T9VO2fzDs+tuiGC/iq12Tr1e6tImdGK66uQTwbVOmTGEwGGiqRneAwuqikqLSKjGi2i8isIJsYG1nZcpqOkoqqSkoyC+ukaLzaXrmVlZmbO1xNERQkV8jJukYm3GaZij45QV52Tyata2tqY6ovKgk5+X16yn1sFnboe2cbCy4X4zEwYKKwpysEgEeQsh6ZlaWllzlyJW0rrCkXkbn2hjq4NAq5QX52aX1aBUSB10PS31scEu5bG5WCV9zWVF1YVFhWb0MaTwfFFbIdQxtrO1MmQVXDj0qIzkPHhioeov60tzs3GoxjqpnqlxU65gsLKwsqBbimUaWbK3bqygphBXFBXnFtTCEMIxszViEBl4dgWNjwVLUlRbm5QoYFtbWFiySrKEsNyu3Gu09hMw2sbC1NlDdbqUJgq5ptQDHMLZo7j05v6IoL6ueZGZpa8WWVhQVF727d/dTZb1RVFx7ZyNTjtbYJEpZPz+njId+ehSuuSW6Faq1ldQVl9YKKFw7E10CWqeyuCC7tEFZR8/MwspKH9siubCyGO1WdAZC0TO2tGq6k4ysvrQgL79SiBabWVo1tpl768zDdJn9sBERrMY6BZVCtE1TjTYhWUNpQe7n5dL6ktKaBjLXwYRJ0E5h/1s4jdsiar0tCH/fBQh/AAB8k0b4k1TnlQkJOvoW6L5dWJ5bISaxjMw5VIRfllsjp7GNTLTP6gL+mEb4+6cgguo6KUTncLWzzz9P/OnOw3wxo0XXiB/xSOQfETXUi6VUjv737j1h6qPH6WUkv36tzTXvNP1D0wx/4Jw/AACAnwuFa21loUx+KLqRjbUVmvzQlzgdY1tLc5D8fnA4Bpfz/ZMfimwf3qpVu6CfKfmhaLqs75/8UFS7oJZRXcLNfprk9xkQ/gAAAADgl4On0Kg02levAAG+CU+mUukM8k8a/UD4AwAAAAAA+KWA8AcAAAAAAPALAeEPAAAAAADgFwLCHwAAAAAAwC8EhD8AAICfA171jH3gb4R2KehV4BcE7vP3/YH7/AEA8E2jR482NjZesmQJn8/HioC/hsFgTJw4kU6nr127FvQq8K/HZGJPjUaB8Pf9gfAHAMA3jRo1av/+/QQCQaFQYEXAX4DD4fB4vLozQa8CvxoQ/r4/EP4AAPimuLg4Fos1Z84cgUD5jHngr6PT6bNnz6ZSqUuXLgUjf8C/nqWlJfYKhL8fAQh/AAB8Exr+7Ozs0F8U2DTwd5g2bRqDwUDDHzYNAP9e4PFuAAAAPx9waPJvh3Yp6FXgFwTCHwAAAAAAwC8EhD8AAAAAAIBfCAh/AAAAAAAAvxAQ/gAAAAAAAH4hIPwBAAAAAAD8QkD4AwAAAAAIlktFAl5DQ71aXT1PLPtztz+D5RIRvwFtobGN+nq+SKrQaASBBMnnNu/Zu+VBmVj6B1cZy6UC9bKCP37/P6qjWQ5jZUqwTMSrr0M3CV0drOgL/38dWCaTSOSabX6TQlZWVlZeVYtNonJubRgV5NB9xqHEaqxEA6KQijX6H9Wg7D1sLgpBEDj16pHDuzc9LEcnsNKvUq/tl1Vg+dfL1RRSkerdG5p6FVFIhDy0T9QaeHyUUCTB+hadi3U3Tyj5g35FZGK+qoZIuwYiV5b//5/I/xK4z9/3B+7zBwDAN8XFxVlbW8+dOxfdRwnraoUKig6bSSWo5iFSXo0QJtOYTAr4g/5PmTJlCoPBWLFiBQSJ0y5v2HHg5jsRR5cMI+iOnU926RTTd1iPQAMyXmtX+UcU784s33XweorCSNkCgu5fZfU426gBQ6cMCFY+VwvJfrj36MEdp5/LIARvF9Wz/4hJA/25nzWdfXfHgQNHnzfoERs4Xl36DpnW1VP9IWvIvr/zwL4jX9bJUZU/U5breXXvO3RaFw9lMVz1+uLB/Uev54pxFOuI7v1HDm1p+fn3BK56c+nQviPXVHXCu/cbObSVVVMdRFL64ti6e8UmwUNmtLXGCr9Fnn1944H4evdBC2M8Keqi8mc7T9z7CIXNGxhoZKjz2WbJsm9v273n/PMGDocCox8ADpGJqA4RPYeOHxSgj3auJP3xkWOn915+KpRIKK7tu/TqE9sv1IxExBbXVJd0cuPNTEbgqFltTbEilbqkU5tuptMCYme10ypXUkgz4w8dOHLkdRUTEhp7t+0xbHJnNwY/9dzebdtvZtEpRByeAEvqqyqqzNuMnjB5UmtLcf7T48dPnHpeQIIlNHP/LjFjY0ItKGSsPSWFtPzdjaMnj99K5SmotuHR/cYNCDNGf2bR8uSbx04cv5naoCzv1G/sgDAT2hcf899O8z5/Wu+2ePFi7BXwD5LJZIcPHw4LC3NxccGKAAAAtF29epXNZoeHh0NQ5b3fl+84m0ly8XXkkpTzhMmnlp55WU1x8DanqyoD/6Fbt26RyeQ2bdqgv4lz7+17XsoMGDxvWMeAoPBW7Vyp7x+euPBJYe3ma6V6JqpCJhKjf6xLUDCEJxAJn+U2eeb9QwklzBaD5w/uGBAWGhbZJtCsLvFVSinFKdKVq0i7vPXow3JzvwArRycXN3tCdkaq1NDPx5SGLY4SpV3ZsfF8Kjdq1PSRbY3rXt98mCwwbuFnqYPNVxKmXdm58UIKJ2rkjJHtjOtf3bz/TmDk52fFyL6xdd3p97pt42bHtTOoTHiZXECwj3TWV2Rc37r+VBI1bMSMkYHktMf3HxaQPUKc9TVTkzjj+o71J99QwobPHBmM1rn3qJDoHuKC1oHlCqTh1aU9W5avfCJzaRHZ0d0AW0YDLJeI+XyhRCqViMUyGEcgEfEQP+P+kWsvSxk+0WHWVGUtpK6qAcexjAj2stKnEwifB2q44NmxZ5ly94FLYjsHBIWEt2wTbNiQlJiUCdtEeBvj0m7sPnQzx9gvxN7ZztzekZ2f8qqW7RloydYINBAskyvqP90+umPF8kciB/92HV3ZWuU7Vy5/ILQLiGosbyZLvbF7w7FXpMjhU0a2NxUk37r5rIrtHeJgxDa0dPMJjIgIb9mypQWc/fpdOs1vQP8OTrLEY0evPZR5xQ7oFtXSkVrw8u2bGpZHkBWneX1kGXf2rD/wUOY/fPLwMEZ+wu3LH2DnIC9TYtbdvev23Zf6D5+Elhc8v33xg8I5wMOU+lmP/O2WLFmCvQKHfQEAAH420vL0pMv71u45HZ8lVRUo6gs/ZeYU1MpUU8B/Bd3z4lhmDoEtWwSGRkSEBgf0njilfyiUcv/4w3ShsoIk++LCgR5sQy7bJDh27Z1C1VKacDg8kW3h7N+yRXh4RHhEREhgu1Fx3U2JgrvP0yEoPeHqx3J8QPeBrVycnew7jl22ad5vXZ10sWVVKp5cOPyx3rzr5Bk9fXzbjJg4uDWxMv7U/XTNY3KVCReOfqw17jJ1Ri8f39YjJgxpQ6p6dPpePlSfl5Aol9l1HdHT26d1bLdgCqEmPr0CgrJf33jTgPj0je3l49NzfGw3M1bVlecZWof5FFlvbr1pkHv2je3t49MDrWPOqrr6DF1nSJ5xZfnAwKCRB17ITexN8fivR4aCe5vGeHLY+kZG+gYGUZM2veZBeeeWr1l5+NyV87NnTF5yuxytVHx/9+RO4SFhvlYeXacfT1YvqQn9AHSNbf0ifQNCItCwFRzYJnZwF2sa/86zdLEi6+299EJ5ULdBrT3cnZ06jVm+ddG8GG9TzeQHQbwPF5f29fQcuPVGla6jWXO65X+8tKyfp+eAbdcrmE4WXx8rvH32Y4Fej0kL+4cEtRkxon8HZk3CiRsv+UwzpxatW0VGhIcH+7FFJXiCz6x5c7rakvOfXrr//KNNSPdOkaEhoX3GL9y8ZMEgXzOtRFvw4cG7Mp5XjxH9QwK7jx3S1dGo8tqLDDGUn/IoqZTnjZaHKsu7ORlXXn+WVoMt9Q8B4Q8AAODnApMpjn1DvUvq0689zVcWoKGDRCIS/7ODk8AfgxVyqQR7jbIJbdNOR1L54Fm2TP728NyVN4St9mTmFVUmrg3MP7ti6pG3GqezNUJgWPMcLjwJB+HlcjSW6xsbKgi1+Tl5vIYGnlBO0jEwNNHX0UwiiqLsXBg2cbCzVU/rOjpbSJGClBw0wjVSFGXlK2AjZ/vGOg4ulnIkPyWTh8ZOOxG+6NWrbDTLvE5OgYVEF3MDqDI7FWfADgryZ6jq2zk64ymklNxi1RSmNDcN0WeGhARgdZxc0TqpOWgdab1hxKA197Pv7x/X2gz+6h8XFc+2rrzyhr3weWVJccnLY1PMEo/9vjme2nveb9MG9ojutnjJyoXtdVPPzV91KrPV3qyq8uLMQz0IL3ZMPZwkwlpopjyrT/O0QmXvEeRSmZzANjBUUKqzs3N49fUNEgUJxzIwN2JqHmNFyaXmEYM2Psh+fGxuD2OZuOlkS7nELGLA+gfZj47N62EibS5vgpTlF8hlRu4ejuppA2tnGzyp+ENuWVNVWeaVo/HF/I6xQwJJaATPTZfpQn4RHjpiHh/9PMVkPUMzI13s8LZaRWEuzCSHtQs2VE2a27rSmTqphWVlhXkKXVJ425Cmch1d+qfc0n/21D8Q/gAAAH4uCAxRGD5texkJBSlvM4UQ9PnxR+BvomdgweHjqopr3r+8dzevkOTk5s4h4vF6Tj4B7IKKhCuv8rCKGBwk5dWWFdQVFxYWFRVX1r6/evxydgkx1NcegkzaDRjoZZy+Yt6iHWt23zh57G5GjUjjogw0ZRAMjY1wSEV+UYm6SFpeVlFUgYNwjbWUdfSNDCCkJq8YS2/S8tKKQrSOQgLZtRs3pqNV/sEhHTr02fSC4N1lRLQzCSorq6qrRUhk1fkB6BoSSVANv6aiWiMAwdUVlXU1ODKpsQ6ehNQIqisrIYju4RPYulMrAyMOkwTBX73KguPRa9bsdbN6eDLJCM7CxsmIa1Ff00CAWAZcjq4uy8jEFCd4e/vapzSxrZsHB4fgdJ39WhjW1by4+BjbzkY4vFzYUJpfV1mKdl9pZW3qlfPXUnIJoS3sGJBxWJee/jbZ65Yu/H3Vnjunj8UX8Hmiz6/c0HX1DmnftRXHxFCXjCiaV5bp6h3coXsrPVNjXSqigL/cCJyevgEOX5OViw3n8qtKy/PKELg5JpYn3L1XXGsR3bOl6gyAutrqmhJ+wZPDK8fG9O/Xv+f42WuuvxdoXbqB1NVU1lThGNSmXiVCdYL68rz8mpq6KjytsRzCE5E6YW15dd1XOvd/B4Q/AACAnw2CyMgWHboG0OUVye9KIRxIf/8bOAKeCOMhuKG0IL80+eXtw8tjBw6I6Td0/OJDt5JTy+vKq/lYzUZFz85vnDZgxMiRQwf1696+3/jrAutO3WN8lImB6NZp6PQlGyb3CLSWPD+3dsr4uXtuZ4jVi6Fvhf5r7h7oRqt8ce9CfL5CDhcnPk9KfVdLIjXtp5V1LNwD3elonfPxuTBa51XCm5R3NVQyBS98f+vkvUSFT/9FixetGBrKznx19uqbCnQnD8vlym+Mugnl/ysUsFzzgcYK9M0Uckh5jYoKgv5PIUProMvRGXQaGc20Mo0spY2kY2RjYSlPOr58Ypceg2duufSqgkZRXk6gfGoyDMMKGCotKK5ISXp8ZkXsgL79+w8YMWv7+ecZlQ3l1VoXDxNIlLLkO79Pixk8bOTwQf16tO81/Ua9Ta9BQwOVF8XQ3ToMmbNq28yBUe6UJ2fXTRw9c+OF5CqtBiACg05nUCFILtde26Zy2deSn5Khg6ezDj/x+unraTyRLD/p5Zt3byrRjkfUP1iynBf33ldJ/TpFq0/MR5tRlL/9mFWMcx08Y/aCuXGBpI9Xtu24n4X2WCPlpqM9qOxMNXSV0A5RSKXof5T1msqVXYWoevsfBMIfAADAzwdRQHSnNq1YielJF5IqdLDLfoG/F7++upYBs0xpZL7MwCN67KLtO3ds27Z165adh68+ubBjQXf3zy6wwZkGdhm3bM/OvQenRps2JBWa+A4ZExeOncmP1zG2coqI9PXvM3bmvm0TrXNeHD3/vFI1C+PQZcnsiX7lv7e0ptIp3XenUj27hhsLhOozOzH2XRbPmhRQsaWlLYVO6bYzheLRNdJIoMh8e+dNcYVj22G9o4KCA9r1bOdYlvXw5N0CkrG+gQGEJ2BfEAIeD+uzdbhsjePNJDaXzTWACM11cJA+h6lV549Vvdk/ozPbuv/BDOtJO46sntwr1Fosa46WyvgkEQiYNhFDZ+7ctXP7tq1bNm09dPHhqW0Lezip+wUDy6WG7i3HLtu3d9/+BQOcCdlFXNeY3+KC2eqDqUSmibWLX6hXYI8hk7eun+mY++HYyafZqll/A4uO0ybOaNdwurOLAZPWe/trWujwlmYSLEIiuUnP8mrkDpHh+qpp9KdPrmDae0T2Gdy7dWRYSFifmJ4RECH12tus5mxJ0GWx9Q3Rzcd6FU/AIRwWnWttxdLVM1TgcVj8whMgRI+lo8/mqqf/ISD8AQAA/IwQCQR5d+9DKatPuPO8ngxu8vI3wKEhSSPxVCe/jOdRdEKDIzxMORK6RELTs7R1cnZ2dnJ0tLcx02d/fmsdBKFyjG1czG2tzDr/duDkkZEW9+etXHmrTDlPIRGJxMpRHhjP0LOwDw30NdHjNAg0TjFEl4chp16LD77ML8jOyb+7pqed3IqgE+Rlhc1WUdbpvujAC1Wde2t7OiCWeGaIt71AqCCRdBhYGqXQGHiCQiwUm1rbywmUnKIidXlpYRZRIXGyNlNPqpla2smJmnVy0EUdrc3Vk/+/sle3P/Jp444nxh9f0t/FwNacq0NuHF9D/4tD0yZkbG6MsOR8EsfCxhHtPbT7HOxM0XhJ1gp/CKygMPVtXM0sLCwi4/YcODzd+sWSmUvuqg6tw1KxSARDkEwOUVkW9iGBPqYG+jyRViz+S3AUt24LDsUXFGbmFVxbPcheyIQoER5OqnlleRkyOuQbEth41TVRz8DIzF6HRlOfJIkWUKgECk6mHGNtYmBiDdGYKdnYoeTK0lxEynOwMDY1tYBorE/ZWG9XlebCEr6Ttek/+/cb+HUBAADwU0LQPQ2nfaQrX5h//3m6HNbakwJ/ljKvSHg1JepzzkrKqt5d33Pkcj7Xp1srd7JJSJtWesJHe38/Ep9aWl784vzKyZMnb7mbxlMvq4YgiEIhl0nViYSg495/1IAO5h8uHd1zNxeqeHN+7ZypK048zqqtr6muTrh+41VDJcfNUk9VGYW+vyzr/pbVa7Zez8TrsJhwevzdNAjv3qmlDZp9RHW1tTV8tGV59oMta9ZtvZaBU9bJeHwvFca5d4jkcp0CLGSi+CsnHudWV9ck37j5rFpgFuxjpWPvE8isLbh19Fpyff37mycuZZQSgwOcKGib4vq6uhq+DIKozi2CmfWFt48o63y4deJyajE+OMhZ6/IFRAFrnAKngUziieVSMQ/tu9yXVw+fvfEwQdpQUYHOoJDxcn5ZWTnE9evYyYb88fSGQ/E51dVox26bM33q5jvYteqNlJfKyNHuwybtOg/o2dby05ndWy6nS0qSr/y+YMyCI0/SqyurayoS79xMqC7S9TDFRuI+p7xuBF3bz1cXUb4H3HR4G5KLGmprKxvQd1QUxO/esGzV+WQZna4D5b568p4nderSxll1RUld5ofMmkK2pUnzMK+xb6Svvl3ZtVuvSwtLy0uTHtx7KqrUD3e1w0Eyfn1tlfKTItm4+bKkFVeOnH1VWvnx1qWrb9KhAD9HXaKNs6+utOLykTOq8otXX6cjAQHO+jgcLOHV1VQ2SLQPZv9vgPAHAADwc0H3Yc27NY/2bSykgoz3b6qbDiQB/xUyU7/+w73fp/UfNGT48KGD+sau+0iPmvxbbAc7dCYnJGZEbGt6+q4pY4cOGjZt91u5TUQ7fzONe/ShiBQdOp1GbvoY8B7dhg1qaZ67e/fRCwVGndt5MfMvTp617tiBPXvW7HxHCR40vKdrU6BAszvJ0j/ADsm/OKF/7949+y24Wm8VPahPsDIeVidfOHXmYHyeDCKidWyRgosTYnr36dlv/pU6q46D+oZyIMiizajh3Zwbzkwc3D+mT9yGNwS/mLExPhSI4t5nxOAIVtK62J49Y9e8hLz7DBrgq7zDTE3yuWPH9tzOQNOfrmfv4UNast4p64xa8wLx6j14oKpOEwKFQWcwmjetiXFYhw4OhplbYnv06z1oyz2hXas+7laisvJ6yMzJ24yQe/jg7qNvIf+Y0XFdzDN3Txo+YED/Mevul7HCogLMtS7WRfDqt2j+G8a+U7++HezzD+/afziN1ibC3aD4/LTZ6/bu2nNi68EEXHBMXH/fr4c/hEBGW/rK2uLJdHRG00mUVR+unTq24066ECKYenpbUssvzxzer1/PvkuvVVj0HDegpanq/oSQSCbn6unaayVNll/0gO5e+IcrBo0YMmDwxEMf6eGDx3d1p0GVyVeOHdxw+SMfghjunfsPjzbN3z15SP9RG55KvYdNGBzIhSC6a6f+Izqb5e9Vl0u8hkwcHGRIQtfn480zx7fcShM059P/Ge1B1//9+wFfAk/4AADgmzSe8JG1b+CS1/RWsdtHtFDuPuWlVxf1HXCR/du6/Uui1bePAP5DGk/4QKS86qrK6nrsTiAIDJP1TC1M9JpvvasQVpWVlNdL0T0nlW1kaqxH+yxdiOsreFICncNlNB87ltZXlBbziYYmZvo0WUNNTdGTw7sSahCHfrO7O5pyGV8M1yrrF1XwIRxC0jUyMTZgqi4KlfHKqwRyKsuUQ0OX+HodlLShoriwQoju2cksQ3RG451kYFFNSVFpnQSisDWKK+8cvVMCm/UY2pKFTiGi2uKi4joJjsIyNDYxYGqd8AdLGip5YjyVY6DT+F7NpPWV5aUVDWhioXHNDXWJQmEDRDcyYEDC2vLSEhHFwMjYUIeIiOtKlO2jC5CYBibmhszPek/CQ98CUr5F01sjaFlZIQ+vh/a2DtxQXVX9+syh50XVVoOW9nJgseh/dKRUyqtqECFUPY2mVKT8qgZhc7mMX4nWI7PNuXR0XdBNLCuq5CMwQmYZafaAQlhbJ5QQGYYs7Q9cIaopKy5Fvw8IROcYmZhylVkRKX946m5Kg0G/uCh9HA5CxLVonRoR2qahsakBs3GN0d4oKy6pESNk3eZyGb+qukFAZJnrM/4nx4A1n/ABwt/3B8IfAADfpBH+5IKqegmBwuQ07ohlvKoqIcRg6elSP9uhAv8/jfD3j5EKhQqISlPmje9K+O7mo0KxTnCPiD84ePpDkopEcphM/9+ko78B/8P9Jxml5OBBbb54gtx3pxn+wC8KAACAnwuRoc/Va0p+KBJT38RIHyS/nwOZTv/+yQ9FtgsKCWvp+89eZPqXkWm0Hzf5oWg2fsEtOwQYYZM/LPC7AgAAAAB+OUQmh83h6Hxx4Bn4Kwg6LDZXv+nw7g8LhD8AAAAAAIBfCAh/AAAAAAAAvxAQ/gAAAAAAAH4hIPwBAAAAAAD8QkD4AwAA+Dlo3qkB+FugXQp6FfgFgfv8fX/gPn8AAHzT6NGjTU1NFy1aJBKJsCLgr6HRaBMnTqTT6WvWrAG9CvzroV917BUIfz8CEP4AAPimUaNG3b5928fHRyaTYUXAX0Mikd69e0ckEj08PKTYE3kB4F/r1q1b2CsQ/n4EIPwBAPBNcXFxaEAZO3Ys+hsDKwL+Gjqdvm7dOgqFMnnyZIFAgJUCwL9U69atsVcg/P0IQPgDAOCb0PBnb28/c+ZMbBr4O0yfPp3BYCxZsgSbBoB/L83TW8EFHwAAAD8HuVyOvQL+JmiXgl4FfkEg/AEAAAAAAPxCQPgDAAAAAAD4hYDwBwAAAAAA8AsB4Q8AAAAAAOAXAsIfAAAAAPxjZCKxWKTAJn5ZCAxjr1CwlF9bUVJRy5dqFP45cokE9OqfAMIfAAAAAEAKmUhQX4eqV6qrra0XiGR/KowopCJ+fS3WAErZBl8kbYokiEIu5328c/rixVMJZULR/5d0FBKB8Gs1FBLhV8tVEIVExKtFV6C2tkEglqsqwXKJkKfcqsbVQufyhGK56sZuCDqzQb2AckW/2iosE6MbhUJrSL5IV7BUKBIK/1Q3ITJReXl5ZR0fm0YVvzz7+6SRyw7eTeNhJRrQFRA01DV1K7qydQ18oay5V+VyuTT94fWr508mlMtlzTO+BMtEf7C26Bwhn//l9qEQhVTIV75/bR1PIMI6Dv0ceDW1TZ+0qlcbvy6ITIKusPJD0Pzwtf1RHUSu3FhVufCPlv1bgPAHAAAAAOLMq+vGt/d0cHByVHKwsQydsv1RMTb3PyFPPrciLtLRwdHRCWvD3iYsbtXVVGw+1JB0cH6PgO6jRg4b2bbtyFWXCrDyL8myrq7YtnZj/Oc1ZNlXV279Srka7/2JpT2sre3sbK27zdj+tEJZVv5k96xuqvVxQlfL1d3T3dlxwNzdT8tVCyQfm9nN3NrOwdYmZNiSc7nKss+VxO8YHWZlZW0TMmLZhU9irBQjy7m5btu6Dffzsen/gCzz5oYNq9fdKqBgBRBU+OlhTr0oJHpwmJ0OVtRMlnN/+4xobwe0W1Wc7G1dWo1ZcTm78UE3Ve+Pzu8T2G3wkOFjOncYvPhi6h8/q6UwfteOtevulWKTGorubVsxe+6Jd1+51Xf1pzPLBzs5OdvZOPWYsfl5rbKs9u3eWd3MrWxVK+Tk6ubp6erSdeLqq5noPLjk2a7pbR0d7awjRiw7n6Ws/gVF6bNdM1R1wkcuPadcSk1R8mzPjChV+fAlGuV/PxD+AAAAfkZ1bw5MjQmytbK1t7ezNfUfvuLCe/CEsr8A4ZWkkR3bLj6d+OzxgwePn7+9OIXybF7f8duflGE1lAM+MqmSHP7aExFgQXUBxaXz3OOJD1WevLyzuw+UeW3/mTQ5GmJSzi7fl1AXtXjF3IWLFywbYfjxzvLfn1Ziy2oSvzy6YNqEVfvf1jZIsCIVceIxtHzFobc19VrlapKMi6sXn0txXHkh+d2j/R3FNzbP2fi4AjIJHjB774P7Dx8+evj0+ctj8zo4mOkzrFq0MIYqH2/edD7BYuLjNy9fvLkwxSrr/pI18arA2ESaeXnR1G2P2eMvpqZcmmaZfmruvFNpTU8XFL0+tWTamMUHXlXVfWV91GA52l0ylFyBdZmMV5FXVFBYJWwaf+ORnXvFjNk1ua2BAYOAlWngl2fjLAJnH3/9HP1cHjx68vLhpj7kjPPrDyeJ0LT08eLmnXeLAmcvnb94wdSZw+yzbixbfivz848HnRamXl87f/xvB9/WfnF0WJ5359j2DduflTWIPh8UVKRc3jLvYILu9MPxLx5tj0burBqz5GYhxHIbMGfvC/SL8lDZq4cWdLfXJ9CtgvycFNnXVk5adVUcc/jJ6ytTHHOPxo3b/4qnvTry1KurJq66LIo5/PjVlakO+cfiRu9/zUf7KuP6mikrLwn7ouVXf3MqRMv3JdZjC/3dQPgDAAD4yUj5766tmjv7FM955MaLZ04cP3lq22BW+o7xM7bfSdE4mAb8GTj0H4aBqaOHlb2Tm5uTg03bkROHdDAoTDh7O6UBnS8pTjyxdGrfqC7RHaMHzVx78W3l50EBh8MRGIbmDh5WLi6uKEfbFv36RxtT5E/eZEJQXnJ8dj3evVV7PwszU+OQQfM2zJ3V252FLYuRpt3aOWdg3KEPPGNTd1McrnEXLU27jZbHHvzQYGzmaoLXeFKDkjJblD+7dCFLatNl/Pg25hZevUcN7sTmJZ27l6ag6pvZubm7ubm6OugWpb6XGrScPntcGBPJeHjtTUa1a6vOLZR/PbQeMnvd/Hn9PbTWR57x6nGmnBHUZ0AbM7OWI4b3dDQSP3iagmYnWebdvfMHj9ibVGti4WqGw2uvjxpSk3Rlw/TurTt16datfaugvhNW3iuQFiccP3706oNHd3Zu33Q8qQaC6j9d37N04ugJE0b06D12waEnVZ/nNvSDwTG4xg7ulnbo5+Lm4mjn3a9rextd+HFihhQqSHuRVyH1bNXR38bKzDQsZvaGhYuH+5lrrw8/5fauGX0GbX6aq2PrYYr77FlmvNQ7j9+lVBl4W6HJ87MNqX1z93pWjXnfcZM6Ojl49x7Qt6uJ9NO5ay9raXqmdp4e7spe1a/LT+NTgxfMndLeEspPepbFJ4f0ienoZBs5MKa7p5UoPuFjFdaciiL/U0JWAymsd/+OznaRg2K6+dhI4p+nC+HclBdZdcTQ3jFoecSAmO4+tpLHL1Iqv+iQvwUIfwAAAD8XydvzR6+mysNG/jZmUHdfv4DAgICesbN+G+BTmHDr0uOcppEZ4M+CFQp58/Apzik0MoQhKHnxulgm+3ht/9FHpYZdZ85dsHh8G73M28d2X/5Q+8WOGYEVcs0PgEQj4IkSCdoonaVLIAvrysrr62rqeFKKoY2tgwWbjNXDSHlkM/cOU1fPG9vV3xQnxTW2L+WR1OXjuvmb4b82wluem8eX61nb26kn9RwdjSB5fmoemq8w9Sm3zj4vkfm0jfKmQFBpZiqfirdwsiRKG+pqa+tkTAsbJyu95mOxqMqCbBGD6e7jq6uatHeyp1MU6QWVaIBpIJm4RE1dvWBCjyBz3FcfkVL7/ua5Z++k4WMXL5y/cHx3d/GziycvJOECWkdG+Hu4e0e17xTlSsq8ue/YzXSjHnOXLZk3vadd/ZsLOy68//LZ1QgMa/cqlYgnS8USGURh6uCpopqysobaqjqhnMowt3Wx0adh9TAKIc3UtcOkNQsn9Y9Ee7VxDFJFkBr/OLOK4No+zJok+2JDqosKGiQsO1dHdb8YWTtbEpH81NzmiCrNeXz1eb6wRZdeISw8VF2cL6aQPUNbGCvnkSztHPUYUEZBpeZYY21JvphM8Qz2M1FOES3sHbhMKLuoqqq0SEwie4Soy0mW9o56THTZiq+cofg3AOEPAADgpwKnvryX16Ab1LWHq1HTXo5m4t2/l6ekOO3x27z/zVDBr8jQzE5PABXnVH1MvHkps8iw88jhnSIjwrvHjhloV1L88NzrIqwiBgcRiFQaHZuCIGHylUsfP9S5uthAkFmn/l2NJZe6dxu6aM72Z/fis762U6e5BbfvM3KYv6+jCQPSOLjcXG7MwKmv5NCgHK5iMukyvKhB2HgAViSU1NYqZIqmzFTy9vzFgmL9lu3bWKBTcEVZpUgB1TzbEhdkZWdnZ9Nl8u/3PzvECFeUlNXX43QY2AYRSDRFraiipBSCqG6B7fqMGu7fwsmEgVN8NZ7o2LaJm7hyyYyBYaEhQb3GDAtzsCrMKScR7JxdbC3MrTy8vQygj9dPJn3ER4wc0Sk0LKzjkClDfGSVj049UZ2PqAlPJNMY2GsIkifdu/HqRaWziw0DMm3Zua0t8Vq/XoOmTdvy8v6jr558qOMWGBUzdqiPn5elHiTTzH6SrNt3PuZI3TtGuTGhr1zwQtNhKAiiGj52qqNcIhTW1sFSWVOvNry/fyMzSyeyb2cD5adQXVlaVwOxWViP4YlUpE5cXlJRp/GeNVVltbU4NruxVwlUuE5aVZaVXVlRX4PjNJdT4DpxRVG55rJ/HxD+AAAAfipluWnlNMjU0vizUSO6tS27Xl6QW6R1kAn4K4hEggIPIVX5BfmF9y5tGh3u4uRg7+DgFDB4+ZkbqRX5pcoDwo2UB2NTzi6P8XFWXuthZ2NnZR16VOA2ctyUYNXQmWefuXuuvz+7JCZAdmV1TIDvgFWXm0+gUyPQaRQyul8WS7UTnkb5ZwctG9m0aOmJZFw8tuNxCTpV/vTGvScPClXLqMDv7l/6IGe069/LS/W1kcM4fMHlu2/LzPoeSXzx8tXZIbqvTk/d8FAzd8nlcoVcDiGN74j+H04uh+XKQEn91vpAJKaxtbkF/GjLpI4mVo7e/ZefS2MylO+tbFahkMsQqDC/uOLp3SMzI5S9au/o5Npj2q5b6VUFJVojcEQKPefu3gE+Tk7KXrWzszKJOlLrOnnu7HYG6FyKd59Z+++mX/t9Yif25VUDW7QYMPPIm89+Agg0KpVKRN9Z2nTmoYrg0/XrGWWUdsOiXNkKOYLD4fGfZSIzN393QtHFPVuuZ6OfR/Hzu7fuPsghopXUh4cV2Q8uva4StR7Yz0M9jW6bTIr2lMa7yBWw1uOjFbBCgdZp6lUltI5MKlFetfxZubK3vzqu+pd9tqEAAADAjw1RKNCdD77pfLAmOBwORhDFVy9GAP4btRXFNUzEyMaQJVYY+EZPWHXo9ImjR48cPXz8wt2Eqzvn9XBrHo9ShyOLsH4zNp89cercmgntLOV4R6dW0Z3UwQBFZXON3DzsXLvETjt0aIF/Xfrlqy+aD8v+RXbt586d25P9eELvtu3azb9dxfHqHG6EYDt5RfrbN9UKPb8If476kgo8Dpazvf1adusX5e7g4GDXtleXYJiYdT9Z44oPsr6hvp4BTqE6p1AJzSF6unpGXBI2/f8qeXZwyfCwTqtf41uuPXVlx7yBrRzQqIjNVEIghVTCdIoYMv/wmVPHjx49fPjoudvPL+xY2MNJ67IPhUxi7N1++uZzZ86c3TK7uyeNYmMT3rOXN1W9aTgaW9/ExsXKI6r/+N17VoY2FF45/yJbNev/J8m4cTsppdbe35HAKymuahCIhLU11WKRVtgyaztx6tJhxqnzhnZo027h9WLDsH4RpgSyugcUWW8TS+oJHq1DOKppiMDmGuoZ49FErJ5GELTHdDhGBpzmcwkJLD19fSOcrLmOAtJjsI1s7fS4bBONcliB02OyTQ2wtv9mIPwBAAD8VDgmVnoKqLqy8rMhAXl5BZ9JNDDhqs/QAv4bOM1T/itTk5NEVF0vL087Qw5ej65jYu/ZIig4OCgo0N/Hx8nSlKt9dSqCIAxjG88QDz9fr56jFi6d180h7/LVcwnKy4URmYjP40khSAbjdU2dfVuHeuhRCbUNIvWifx1CoDm2HTJ+0cZls2fPGdu9hRnVXpfjZqc6+QyqyM+V0WmuPk0XmBA5+nom6FaxG++tQmHoEGh4qVjzfEIDMysChVRSil3uXF5WjMMjNuZG6sn/X23ai/cFlY69Zi+aPnpwsLO3gwWHKldo3tkZB3EN9clcOsXI3sMnIBjt1sDAFj4Olib6dI3PQJWCaFwzz2APL2/vTsMXLlg4xKn0+plDT1Q3plGIBTzltc8SKcIwcPCOiPAyZJJreX949bGGioK09w/uXDm4ctLwwXEL9999nphw5NC+4y+LGrOuCpnp3GbwxPkbl86eNyeue6AZyYyp62WrPHKOfj8Kc4QkxMHHi6maROkbmlPotPwC7GYy1eUlclhua2GgGZf1DMzJDFpBoXKEFlVdUSxXKKxMjIyMTMh0evOylcUyhcLWzJCk1Rt/FxD+AAAAfir00MhQUlnpg8fJ2jcly0pOltJ13J3tqVgB8OcgCJ5IpjadRilKOrh7132RWau2PkzLkFAPedrpLZuuFSijQcXj9WMG95lzKknrLDk0+ykv95CqkgeOaR4+bmwXV9HlHYfPv+ND9U+3T4mNXXOzBM9m0KnkovfPXpWlwCYGbNWiX0CUraH/wSabIbByxpfl0vdnF8xffyTDsm2btm1am1UmfqyqNmwZ5aiaWZv2NqW+jGtn3fxu1uGt7CW0nEeJ6gPXkvePn/IzIA8nc9WkGt3F00GU+e7SqVdC9A2SL59PeFth7+vSfE6jknJ9vrKe/IaafCHe1C/MzpwNFT44eODQhfsCSV0dOgtWwDg8Gc00BqGtgxjV9/ZsvKq6b6Hw3cE5o/vNPPZeO7qhvQo39ipEZPkOGNHRXX5l3dZjz+uhujd754wbsPByIcyk0Kik4rQXL/PfSk3Y7C9XCKXu1MZZhgEjF+4+f3zL8oVLVy6a0CPIy92zS/de0Z7GGmFLnnF51bKl2z9yWitZ8j69zszitO7oqRrwrc1I/lBVQLcxb75EmmznYCst+nDi2MNaNOYn37ny4EmJjY+LoWZ+o6B1ZMXJx489qEbf4P3dy/fiC628HFhkOztbWQm6rLr83uV7jwqsvF1U5xL+/UD4AwAA+MkEDB3Zj5H3+4RZu58q95owAhXcXjZ88NJqm/ZDegd8eZ9c4D+AEGk6mVc29vJwdHCwt3ews7aMeaYzbPuOZf2d0LmcdhMXrejPfD3Z29bB1t530j184Mjx3V2ahnzUcHjlXViag4f3oGmTulu/mjh57v5P9tMmdDFPX+se2Gv2pHETeo2+SYiav2Ssv+Zx42ZoEzgUNtUMQXDoOzTPKH24ceWqOSffSyGyZ4/eQeTsTc6mNvbWpq03lzgMmjOlnZ66mkAgMOTo2JooT5JrxG09fml/j/r1oeZWdjZWFpOf6rRZvn4Auq3ljzevWjXr2DspBOkGjl84v5f+3YFW1tYWfS5KQ6fMnRGheTcYdD2V64NNabLoNmiAM+dJjLmtvbXxsMMNPjHjWlgWpWRXQw5eQcYNjyZMGL/pqShs4rJlsY5vJnta2DvY2PY7nG8xfGJfV61LjlVvoXUunn3fuLgYj+SFEyeveKo7elgH14K1LYJ7jhszfs6IKSel7Wav/C3S6A8Sk7LvGj8giq6prYevkperv7e9maG+oZ2dg7EeFSp6snPF4nH7X/EhomO7ji24ZZsDLO1trc06bMlxHLNxRrSZegWFIoGeLtXOVLNX6QHDpi0ZavNhspudtcWAs7yIRZtmtjUmQlDJ092rFsftfYlmbXrA0OlLR9h9muLpYG0ec4YXtmjLrDZGEETzGzRtyajG8lP1YYu3zm5rTFIeQd+3elHsnhd1Wmcs/jVaHfS1vyaA/zmhUNiqVatZs2b17NkTKwIAANAWFxdnbW09d+5c1ZSMV1z47PKOS/EvM2voRBxSBxuEduwaN7yrvR4N3dMA/6EpU6YwGIwVK1agO0BRdVFRYWlV4y2AYZhkbOtoaaLbdMhOWluQl1tUrRyConMtbazNWJ9dciOozKsWkXSNzZrv4KIQVBTmZjXQrGxszJiSisKirIQrVz41wObtRnVwtbHQ+4PT5xTCioJqEVHHyIKjNY6rEFTm1whJTCMLtqocXaXieindwM6IgWYaQUVBfmZRHR5CSFxzayurplueyOpLyhqkVK61gfaonbSuJCczp1qOh2AdQ2srezMWmgmQ/CuHH5YRnQcNClLWljeUZGfkVoohmr6FlZWl9m1UFMKqwmoBXsfIUns9lWBhZVF+dmENDCFMYzszDonHr8XrWluwkbrigtw8PsPC2tqSTZbzyrIzs6vFeAQh65lZ2ltrHSNFV0dYXVQjgBhoVzSFQrQbCnMy6khmVnbWHHllYUHB29u3P1TWGXcc29HZxBTNb1+FiGqKqniIjokl57NPDhHXFJXWSOkmNkYMPCSpKy6t5ZG5Dqa6BOV7FeVmlvDQLwSVa25pbaXf2Lq8obS8XkRkWxoxtX7mZLzS/OzcSgFC4VpY2ljqq1Zbmn/rzP0Uie2IES3ZaCejW52fnVMhQMhomzZWBo2bJueX5mfmVQhhzXJJfUlpdT1Z31G5Pn+BZkwH4e/7A+EPAIBv0g5/SnBdTmp6TlE9QsBDCqqxk5uT9ef7NOAbNMLfP0VRX14jg3T0m2/T84ORpt17mCuienWJNMVKfgIIv6ZGhKZg4x+1V0UZT56mleC8e7exJGgFr3+QZvgDh30BAAB+Sni2rVtg2/ZR7dq2bdc+zAMkv58DgWVk8OMmPxTBwj84JNxfdavhnwZOR4/74yY/FNncKzCiXbD5d0t+nwHhDwAAAAAADIHB0mWxta+4Bf4qAl1Xl63H+GEyFwh/AAAAAAAAvxAQ/gAAAAAAAH4hIPwBAAAAAAD8QkD4AwAAAAAA+IWA8AcAAPBz+OKx88BfhXYp6FXgFwTu8/f9gfv8AQDwTaNHjzYwMFi8eDGPx8OKgL8Ah8MxGIzJkyfT6fQ1a9Y0NKgfcwYA/1p6etgTX1Ag/H1/IPwBAPBNsbGxR44csbCwUCiwR1AAfxGRSCwtLcXj8UZGRnK5HCsFgH+pvLw87BUIfz8CEP4AAPim0aNHozFl6tSpAoEAKwL+AhwOR6PRli1bRqVS0V+/fD4fmwEA/1K+vr7YKxD+fgQg/AEA8E1xcXH29vYzZ87EpoG/w7Rp0xgMxtKlS7FpAPj3Ao93AwAA+PmAQ5N/O4UKNgEAvwwQ/gAAAAAAAH4hIPwBAAAAAAD8QkD4AwAAAAAA+IWA8AcAAAAAAPALAeEPAAAAAADgFwLCHwAAAAD8UwrvHzt//liyBJv8JfH5/Lq6WmwCVfh4x8TWbj1nHHxZhZX8WRXPrl09c/jtL92rfwq4z9/3B+7zBwDAN8XFxVlbW8+dOxeCYImALxSKZU2/sBGIrMNi0ikErd/owLdNmTKFwWCsWLECgsTplzZs3XvlFZ/JJKL7QkQuoPj0GjloZE8/vf9wlETx7szyHXsuvZfpM4gwOo1DpA0kl87DR07vH0hXVsiP33Nw9+9Hn8ohBG/fKWbwmKmDfFjKGZ+Tl784vPpesWnI0BmtrbAyDC/p9JojSaSQ4fP6OhOxskb58bv3bt99v4pN5Bv59xo4alZnV6j61ck9e/bezUZn4whESMqvqa5x6Tlr6tTh/py65Ev7du4+lyLAM5za9h8yemi4mbohDXXJl/fv3H02ha+qM3j00AiNOorKV8fW3snTDxg6q501VvYt8qybGw4+rHcbtGiAJ0VdVP5029E7yVD44sFBJkbMz3pbmn17x86dpx7X6OiSVBkFkUp03Nv0Gzl5oJ8eOiXPfnroyKFtp5+KJGKSa6deAwaO7R9kjG7ql3jvz266nkpqMWp2lKlyGlHkPNm/b+++JyV0RGIRFN1/9LSODmTt90frPD24f++ex6V0RGiO1omb3tGRTEC3XVaYePTwwYMPc4iwlGkT2mvYxAGhpiSCour9jcOHDlx8V6NgOLfrNXTSwCB90udtVn24cQStk1yroDu16TlkyqAQLgmnLP94Ey2/9LZaznBurSwP/nzZv0LzPn/oFjRbvHgx9gr4B8lkssOHD4eFhbm4uGBFAAAA2q5evcpms8PDwyGo6uGW5asXbz127+7NK5evoC6cfl5C4lq5W7JB+vtzbt26RSaT27Rpg/4mzr23/3kxvcWAOUM7BgSFt2rnSk95duFqmsLSxduCqawMS4V8XoNAKBJJYAhPJH2eteWZ9w8lFNJ9Bs4Z1CEgLDQ0ok2gGT/pbXol1SncmQunX9t27EGpqU8LS0cnFzcHSn5ulsLI19OYii2uopDJFHUvL+7etmr1U7m7X8v2rvrYHCW4Jv3u/k0rjmWxfNt0CzTR2oGLMm/s/v3CJ2arIVOHtzUVvH/w5IPAyMfXwUiHY+rsGRAWFt4yMsIazniTWsYNHTiwlU357a3rT74hBg2eOjyQmpXw+GkxyS3QiauZmiTZt/dsPJlICBz82/AganbC4ydFRLcgZ30iBMvk8vrEy/t3rFjxWOrkHdnJwwBbRgMsEwt59TyhRCISiaQwRCSjSaYh/c6Ray9LaJ6dwm1oylpIXUWNTMc0NNDLzpCJJ+I/61W48NnxZxkSl/4LR3b2DwoOi2wdbCL6mPQuC2cb4WmES7+59/CNTEPvAFsnewt7R/3SrHf1bA9/c5ZG0EF7VSqr+Xj/+O5VKx8Jbf3adXRlo6XStJv70a0jhgyaMCzKVJzy4N6LGpZbC1u2xgcrTbu1f+Pxl2idccOiLKSpD+4mVHHcg+zYZYknTl57KPUY2i+6faQjrST50/sGPd8A44p7B9BsK/EdOHZwGLP49YPrqbCjn7sJRWNtZFn3D2w88FDkM3Dc4FDd4tf3r6XAjgEeJoRstHz/fZH3wHFD0PI39699Uji2cDehftYj/7UlS5Zgr8BhXwAAgJ+NqOTTm0q8XfvYxXPmzJ49a9b8wYHVtw9vPXG3UDneBPx3lHtYtpVbRKewlm3bt2/bOnLQtLFdvYTv7px+lKl6oJ4g6/r6KZ18gwJaBPecteNB3hdHynA4PJFj6xnWMSwqqn1U+/ZtWnadMDLaCKq79zILgrJfXU8ugby6DYry8vJ06zp2zpIJQyKsVCOCzWTZtzdN7BY99/xbiZ6lEeGzeClIuXvn1Zt0yELvi+AJVSdeOf6ujNt24vyBoWHRY8f2C0WKH5x9lIlj2XiEdujQvn37qNbBXHmNjmnk5N8mtOZC6Yk3XlVKXXuOHhgaOmDqiA6GxOJrzzO1vkFwzpubLyskbr1GDwoNjZk6vKMRufTq80x0jiLn/vbfenScceqlmGtpSCR+NUrABY/3zuvg0yIwKCjAv8Wgebve1EGFt3ft2XXmxu0r69cu2/ykEq1VFH94+ZghQ4YPbNd1xLKz79WLasOxzJzCOoS2bKPcijatOo8fGGVJrLvz7P/auw+4Js7/D+CXHZJAQsImhBD2BkFABJWtddRdd5246mzV1tGfra122tpW29plXSiKCkLFrThQcYDKlj3CyILsdflfwqEJtj/rz/5brc/b16tyz33vcnmSch/vnrur0hjqSs6V1qtDR0wfGtkvOHDkgnWbls4f5mNnnvyQfqs6+c2S4alLfzndQXZ3wqPzuu+eOVJSZ/3Kgv/MTEocsWj22CH45oJDZ4olZh9s970zWSUPqEPT/zMzOXHEAqSG2HL50MUycdOdE+evlLlFjR6XlpKYPGPRmveWLRwe6Aw1F5+72dDlP2LOzOSESW9MHcqhNOVdrTQ7w41ouYfUSPxHzjbWLJ4y1IPWlHftgQpqLr9wq07sN6KnfepQnnXzb1erxP8/Z2RB+AMAAHixYHAEEosbEBkfFjMgNnbgwKgpy9IH4eVlZ27XgvT3TGC9VqNCf0b4D0lJoqqaL1xrMEDlWVu25jTwlh7IysnfOdvldsYX67MqHn8esAHW67Toz0YMFplIkMmQ9EilkhXYLolUjtUjr4JjOPB4PhxbIlqHUnYQfYfM3fnbrx/PHuyG0Vjs9+GK7Px6KTV+YpqXFdR3kJa+saJSpXfyDwrombYLCnVHAmdJtTFf9ZBXH915vrk7avirkQQI4tdW6FiMqLgBPeedfQMDKVRMRUO7aQrVXl+pY9pExj6sCbCi4MrrkBpVJ9Erdub3+Xs+S090wz4agGCm48r2DzJOdI3ffjL3eN6OVSnQ6Z+/+f4yPm3GpMnDEwYlz5m7cE48vT5/y7b9tz2WZ53Oz8lYGSa48MOazPLHn7hiMOgtnm5Ds7Uik2RSmRpDoZBVOLFQKsXodDqYyKCweQE8uz6RWtNF9Yydtf3E/i+Xj3KDVTrT5hpa6x4oVQ4hEcFIbyCcvUO9yYS6ktq2R8ERbq2tVagcQ3trHH1CfcikhrsNpXV1Goo+NDGGZWqHSHYeXgEedEjYUqejkWKS45yMrTgPn0BbOrGsrt28gwRNdVoaMSYpznTqGefpF8SyJVU1CoTNjToKcUBKnOm8Oo7ni7QTy+stPpG/Dgh/AAAALxyDAYbNHktGJJOxDgwaxQr8Sv9LOTjzWFJMW13n7cvHj1XUkPoPSQvjuXNDElJS7B80nDlwtREtRGEwOqVU1KESdHYKBEKpquLULwfL6+D4SF8Ichs5e2YQ48aiuYs3r/3i+N49BQ1Srb5vaqKGDUwZPW2Cj7eLLdmgg82OX8nuHT7RqGKlvpbqQTbAjw3Qx7EcHQwYcVMrv2da39kmbGlH6nozE1xXkJHd3sV9dXiiMVzAHa3tXUKIQkKH3WEJRL1A1sE3jylwB79NIsJQyL01eBIskHYYX4IaEpM0etpEH283WzJGb76dD9kGj1377rdb0tN8PNw4cbGDvF04nXwRHnLhurs4ODh5envT5LeyDxQVq4IShoVx2G7Bia8ku4nbz+87jb6HXhiMXqUQtaul4o5OgViqrDmReex2qS4uypcGuSZNHN/f7c7KhYvfXbM1f//uwg6NQts3PdoER6dMnD2e5+tpT0N6tectYmxZLAgvrmtsNU1CcnFHe0ObQW++NBapweDFtb01CmFHWyMfA4k7hR2idnnLxe/enZycNHhI3PQVW06UGSBYhHS7AGNtjfYYBkeCxApBa5v54TuxoF0owFpb957uxxINSE1bdXVnh1iApT1algAj7c1twr6f9V8C/KYAAAB40SAhQyWVCLRdErFYLJKWXTxdopXb8FzR4xDAXwWHxcJYyCDlNzfx7xad2bNl/rSpUybNXvLB7jOlVUgQEppOCD9kMDQXHtm2evq89PRZMyaNSZvyxm9y3ogxr4UbxwziA4bOWPXe1qVjormaa0c/Xbl0ww8nK5U9C/bC0ahWZDwEqbV640Hch7t9ednpi41K1oChkVyyQYuELeMfC5yAqECK6MbpQxdqNWpN0/Wrd8qKReSHVwvoygovVKho/Yem+JsG2un1elinf3SZp/EHU5PZATZkEtbpzGsgDKxH/tGhRdIfhWxFQLZTozfO/b14QqA5uru4qG/u3bR05NgZa7/JvtlpemuQzvQ8ZZ0OhtoaWjoriq9mbU6fOmnK5Knz1n6Xfb1WKO8UWKwPRyC13T27bfW0mXPmz3l98thhE1ef6PKYMH16tB3SB5SAYTPe3vz16qmpwaQrWVuXL1jz5ZGSTsv4h6NSKBQkU+mQXn20akevsACa7HpuZl6ZRKqqvX2t6N7Nzj6XVzh6hfjT5DfyemuuF90rEhCwSIDUd9wpfcDHBcxY9c676+ZHE0tzd+y4UqXW4wxmvWrsGT3Sp7BZr8LGf7aZ9aqx83RIm07bpx2h0yPV/z9H80H4AwAAeLFgkB1I6bEvFo8MHxA7YMCAgf1T19+gvzJp2ig/i2sHgGcm6xJ0USC6ixVRrmV6xU+Yv/rt1atXvfXmm29/sCPz2w+WpXlb9jgG4xA4aPyCde+s+8+kaOuOwmqq7+ips4bQeq7MwNHdvEPS0mIGjJuZ/uGGCfTSqwdyb4pMs/47bVn+6SoRJWZMEhuZwuLwODwBb3G1B8Jn2OrFs8NEv4yICwwKmL+nAuOdGO2o0vbEDkPNnetNKlrgoFinngNLBIatjS0LCU9ohkT+MtjSrVmMnvObJgQ6i8FkIW/qYY0BZtBtWHSzmj8mvLN/0+yQuMUZlcwJa95b/FpiqLPG/KgaslK1SkF1DR8+4+133l69atWbK956b9uebZtWDOWZ5R8kLem0TM9+4xasW79+w+wkZ01pNZEzPH1hvL0pxSJbyfYOH5QSHTdm8owNq6c7lN3ef/h6g2nWE3CSF8xeGC/NnpoaFRb0xu67hLAJMc5ayyTLSV40e/FgeY6pZvGuYnwoUqNDEh1M5XhHDZ84YVhaclLK9CkjozXq4tw6oY2dvYPB8OhQKMZga2NtxzC7EgtLs2Ew7QwPMx0Ga4AYNCrTjU2nM+xhqHdZpLchWxsqy9Z4bcpfD4Q/AACAFw0W65k4ff03mfv27N27d/fuY/t2fjhvpD8d/EJ/RhgsFmcWqhTV9250E/AR4TG+LKqaRbb17NcvOjYuLm5gbGxsTIQvxx6Ndb0MBqqzZ1hcWFRk2NQ1O3duG8++8uWuH690o7NN9Hos3TVgwJjhcS5McnufQ4e/S1dx7VLe9i1vT4328fLhDV25+0jGT0tWr/r2suVwMIJ1zKwPtx+5lHcg88jOt0cHkHxJpBBfjmleZ2MNzCKHRYc/TBJOru5aEqVFhF6L0CVsIWMVXBfTWLVeTs4cLYnW/LBG1EzCyrls01i1J+m8ffpOa3fq+oz9OzbMjw+Mj/Rl2+pgU9Y0HtzCYDFYiMWi62xJVu79wvsbezVuINKv4UivUi2+yAZYT7FzC48LC+/Xb/TK777+aqFH8dfbthVavHutGkNz8I8ZPire3cWmQ/InehVBsYubu/n7QxdzM7OOfvPWeH8cm4iP8PGySH8UVtzszd/11GxfPTEAz8ZjwyLCGTQ7H4adsxP6+dOYdiQ6RqSg2LsZKPTaNjTSyyStOFjm4epoPrTTzp4NUel1bWivyrr4WFjq7uzoYu+EtNf2tktN7Ty245+K2k8N/K4AAAB4sRiQP9aOnkFRAeERkZGR/aMigz0cqb93YzPgz0N2+QatXCpoV0nFnZ0iibzi1LYde+7bhI19JZLqPjhtsLUgZ+v7+wrrxV2i29lbFi+Y90lumcUVH0ioMV7Loe65ZIRsF7NwxevJzAs/ffv1+Uao49qudYvTP8i83qRQyLol13KPF4qb6IFc8zu5mDEO6oTRoX04z1FvfpNdcDZ73+59h3Z/kJ4wYHDKgtlzX+uHLItssaxbqYMgTdXJz/+z8fMzIrfA4CAX4Y3T91Ra/1HDfE1rE5cWVXa1OHnzkOyHRhtKYEwMqa3y6M6TFRpN1dldGXce6AcMDKZCEKyRy+RSlR6pCYqKIbdXZX2Xj9RUn/01406NLjYu2OJyCoPxzKT5qUqU3mAQqiECjcIkQ/zbed/9kpF9QS1tRxIbnkjA6BVCoRByHDhquDv2xg/v7b3aKpfLKk7tWLN03kc5VeZXzCCvYDzRrFGj928mhUxOfy3R4cqOzz7LrdW13cl4f9nUtfuu1Uol3d2SonPHC/iVVsEuv9+ryP84j3oV0jec+mrT6k15jQ6+PgFuXaWXbnVIvMeMCLXCQFqFVCpRIL2qbzjz9QerNx5vdPAx1ty/fLNd5DUqLcg7Zki4La/xUN49caewS1x2/uTZ7kbreN8In4BQiqxu/86jJSLpgzOZh66UqCIHhjgir61VyGVdxk+K5B0cQZPVZ3x/pKfm4KU7qv4DAmxJ3kHhVEX9/u+OFCPtZzMPXbqjjBwQ7IjBIMvKkO2xvP7nGVn8qwXc5+8fAe7zBwDAE5nd56/7bs6xSjU3NCWOR0PnAv8bs/v86QUVhedPnfvt/MWzJ45l52Qfzrok5yRPXTBnuB+NiLVy9HCwFpVcOZqRc/J07onbImZoyvjhka5U8qNDKHr+3Qs1MoZn9GAf9NbNjt5OmJriswfuqT2DohPdFEVX8n/OyC0qunn7SgXWc8jk9GmxLqZxcH2p2kouPuhm8KJTfJgQhkChs5xdXV3ZbLYTh9B5q0rKjBo5bYALFhLcOXTk/HUxvZ+XvbWtnl90Jfern/efzMo810wNHj59RrK3lWknL64uKGlTeUWPi2ITek9Aku14rlZd5Wd3/5BxNK+ggxk1etacFB4ZB4mKDx48WdBG7e9nT7Hjsa1kled+RWp+Q2qiX505O9WzZ50m6o77l6rFNPeoVL8+402pzlRlVeWVfb8eyM85dE/q4uXF1pDUTO+keH8Mv+Ta2cz7KnvPyLTBvtay6vP7fzmcfzo7q6CJ4JU6ZWwMm2p2tAvurLhULSS5xaT4ob3KdGPCreVnMu502XuFp7pri68e3334ZOHV68U3a2G3uFfnTk/wpJl9Lg/BwsqrFW1YTmyaP5KCsVZUVVPx1WM792WdOJxxuZUaOGre1GRvBhHTXpJ99OQpPjXCz9GGqm4qLszeue8IUnOp1Spo1LxpyT7WRBLL1cFaUpq/+4e9WUeP5ZTL2QmTloyKZNLt2PbWmprCzL2Hjh6/2smIHLdwTqonnYgR3jt6KPt4nVVkkBONyXaw0dZcz9ybidR0MCLGLpqd4mlNIjLYjnRt7Y1DezKP5l7toEeMXTgr1YtBwgju52WfyG2iRPg6EC1vYvN0zO/zZ7Eai4GGwN8FPOEDAIAnMnvCR8OuWa/nSlPSv16X6ozOBf43Zk/4MCgETY0NzZ2KnnFpBhgmOXv5e7raPIw6GnFD7YOGThWy56Q4cL157D6D3wyyjnqhkmDjzH50BxdY3l7/oKqLzPX0cbNRtTc2Vl3I2HdHAnNfXTEm1IfDtDgA84geWUygxNs4udv2GcdpkAsa+F0GG2euAwUDqUX1zWINxdHbmYZBZrXX11Y0ipD9OsnOncfjoqPijPc6aWnv1pBZHvaWN0HRdbVUVzxoV0JWDu6ePK5dz2u15P58qhXrOXnmION1Krqu1uqK6r41KL28o1GgwFo7uTMfG28KK9qb6h7UC/SQwdrF151F6O4WYug8d1uDpKW+pkZK4Xh4cplEvZRfXVHVrkS2n8Ry4/ny7Pv0qkLQKJQhYdKdiV4Hi2yTrLOpplxEcPXw9mRqOxoaGq4dO3yLL2KPXTsu1MXV9mGhJYNS2NTZDdNcuOiq9LKOxtrKJonBAJPtuDwvrp2pXSVqbBHKSA6+bDrOWNNkqoGRGneel0dPDULb1VJT+aBTDRkguiOytBv6VdF1t9ZW1bTLYZI9Us+1M30ZdC2nMk6Wyt1mzE9mIQFOJ22tq6xpQ2rsOObr1En5dVUP+DLktR61q8XNLQIJwcHPzQZvmdqejvkTPkD4++eB8AcAwBOZhT+NqKmpG7a2Yzv0GXIGPC2z8Pe3UUgkOohiw+hzi7/nhqr4eH6t0jp2YpLFAMDnnEomVWlIDObz2qvyu6fOlrcQBswa5tYnef19zMMfGPMHAADwYiEy3Ty57iD5vaAoDMbzm/wQRK/4IYkpMQ7o5AuCTLN+fpMfguwZPThlRJzxcu3nAgh/AAAAAACgsDQGg2FrecUt8KxwVDqdaW+N9Oo/dNivD/DxAgAAAAAAvERA+AMAAAAAAHiJgPAHAAAAAADwEgHhDwAAAAAA4CUCwh8AAAAAAMBLBIQ/AACAFwAGgyESn+NbWbyYkC4FvQq8hMBNnv954CbPAAA80bx583JycoKDg7Vay0efAv8rPB5fVlaGw+H8/PxArwL/egUFBehPIPw9D0D4AwDgidLT05HfFUgERP6LNgHPxsrK6ssvvySRSIsXL5bL5WgrAPxLvfLKK+hPIPw9D0D4AwDgiZDw5+3tvWrVKnQa+Csg/UmlUjdu3IhOA8C/F3i8GwAAwIsHnJr8yyFdCnoVeAmB8AcAAAAAAPASAeEPAAAAAADgJQLCHwAAAAAAwEsEhD8AAAAAAICXCAh/AAAAAPDvAOsQ4L4dwJOA8AcAAAAAsFYlkwi75Cq9WXYy6NXybrFEptT+caDSa+QymUz11JHLoFVIZVKlFkannwDWKqViociMUCJVaPTobGRTtRpVxZnD2VkHCtvUGu3DGY/TqxUKuUJj9sLGtykUCkVCpAP+6L1a1Ji9W4NOpegWCowzxFKF+tEGaZUyCdJobH20mZb+qAZplz9pWeBZgPAHAAAAAB239n4wLz7906wSMdqCkFXnb105cuYHe66L0JbHNV/a8dW3H2eXdaPTf5ao6JdNn723u0iATv93urrzP7w1btCQpJRkk5TklPgJ73x1okaGFoiKD368ePy8JUuXL3ttyoovTpT1zngMXHVq+/c7frrShk4jy949/PnytJSE5JS4+Zt/vtGJNlsQlhzqrUnf/PO1DrQZgiR3s75clops2ZBB41duzbsv7WnWNxb8/N7rKYMSk8ev+jq3StPTaglGat431Yx7a1tu5cMauOGSqT3B2H68UoU2A38dEP4AAABeRIYHWetej3F34XA9OG6Oo9/dU/K06QMwp+is6W4pP3qj4mJlF9oEyWsKy+6ev9IgqulUo02Pc4qcOnPq/GRvG3T6z8LJGkrL7tYK/3jN5gyS+hIt03/i+p++3/HV119v/+qbTYsCGm5kfvPbfSQbqapzPv8pv5wzasr8ua/PnxkLnd+35cv8RwHNTPulb95bsfr7yy1iNGupGk5s3fTLOfXQlbt/+GipR1XGJ2u3FbT0zOulasz/6sPdZ5WmmmW86oxP135x0Vgjvv7tzqN52riNv/747a6NKZiLBz78PL8TgptObFmzLacjcsXen99J053/8c13Dxb3+X6q6vO3rPkqmx9hrBlmKPjprfUHSuQQpK0/+dE727JbI5bt3bVuGHTp51X/OXAHfLf/YiD8AQAAvGB0/IJd70x+Y788YtkvuUcyDx4+siNFnLt06sZ9N/hoCfC0MLDBKi4+RoeBrlxv72mS3L+lI1PY4fE0HN40XXR4U/qI2PjY+Pjo8MCxK744XYu0dt7O+HX/D+frVZDk5v6N81IjBsTGhCcv+ehY37Rj1HzqixUTQiP7x45ZvS6jQmVFIeJMu2HpzYz30tMiYwbERKSkf3Ls3mOLGp/NYMv2jYgP6x8TN3DggIGxr7yxaDyPpjx/owqC6gpzy1rhqFfGDg4K8OcNX/HpTx+/NyPKtmfRXqqynG1Lk5PX5dXbeAW5YdHdf9PlvbsqRB5Tl6ybFhaRuvCt+aMZwusH8ivMT7Y2Xdm3q1ToPm3ZWmPNgrfSxzBERYfOVEvqzx4suNkQOujVkf2jYyImrNjy48cfzo1jqkov5pV0EeNfmz0tPGLi6uWT/R0EZwrLdOjqTGRVV/JKugmDJs0x1qxagtSIzxRWQlBt4W8lXThk2Rnh/cavWjo50F50+kqpxbLAMwPhDwAA4MWivn3iaEEjOXbKwmnjEvtFRkVF9R/3+uo5adRbBUfz7/zx+Ungv4J1GlJAhJ8aqym5a0p/qupyDRnvEBBANkBYAyQuPnzgahkhbu66995dv3iUp+RkRtaJW1JIJ66urqrq1LbdPrT7UjF28Bsfb9m8NBlbUZh5/K7lh6GqzNt9vETiN2fDx5un+1urmq89wBIIBAiqzNt58DKfM2Hdhx98uGGiR+PFjO/zyh9/hDMM63Xmp0/xVjgsQaPRwJAVwwZDUgj4fLFIJOnWEqmuXG8OE1mzOW03mRM6YsUn7y4eE+UEaXqG7akELfVKiMnz41mZiljevi6QoeVBndmmK4VIDWzL8+FRTNMsHz9XDMSvq3vQWqWiQtwANqG7WywSijRUVw9vNg3X3lKtsbEO7h/sbKr39POhUQx1LRank0WtNRprWlD/kJ4aLz8faytsA7+9q71eTaOFRIW4mNo9fb1srDD1zb97FBP4n4HwBwAA8EKBK25cVFjxRkwe58skom0QzS113uQgiaSsoFyCNgFPCUl/lJAwzy6ssqgYiT66qvsKEsTwC6VqYQjGQAzOoOlz17+9dPbQlJS0GXOnhdrT+U18BYTH4fEEIoGg4D+o7dY7Dxw7aHDirGWr18yaHOPSE5ZQklvHM+41MpOnLX01ccjYWVPSQgOYWgOObLiTl3mr2mrw5LljkpKSRs9LT3NqrT53/Lrl0DsMBoPFYnsOQZq03zx+ovSe1NvDBQtx0iYO88CdW7Fi3Sef7L928Urd712zYeU/IHXSwtkxA4NdaBgderkH2YpC0UPKLmlv1lQqlSKJTmWeMslkChXGqiWyhzVylbgb1orbBJ0avaG75ODm6XFDkhIGzX33u0stSM+JO9tkcqwtndoTMfBEK71E3dGGHlA1UYg6+VKzGgJS06UWdNTWCTvkMgzD5tGycJfKclng2YHwBwAA8EJpra7A0Ume3hx0upd9oB8NAzc0NaPTwNMywForVy5TSdA08CGo+lazUqB3dqPo9MgcJH0xfcICAl3qdq0d6uziEbdwR0EHHt9z0haC9Fqtx4AhUbqW7UN5HPdX12TI/f2CPe3IPXNN4MbKKjVk6+Xn0TPtHxge5OEMYySt9S1t17K/WpLo4+nB5fK8Iue+/+vh65Vl9RanOvFkasmhj6ZEePE8uDxvv8DguKQ9QqeJ8+fFOyG7clLklOVf7DqyddlAh8ZDG0aEx8zbdLQUXbIXnm5NpZKQbKbWw4/CoZdvtKvkXuaezGvGY32qm6dPnyuohqFHIRN5514+Ua5d9w/tOViI1pw5e6EaeUdaHaY2+8y1Ml3gGz99v/3n9VHKM7vf317URIL0aiVkMKCvgvyFUas1KpXZ8EaNsUEJwRY1Gq1aKtVo1EjINGuHkHaLZYFnB8IfAADAC0Wn1xAgAwGDQ6cfwuPwsEGv12nRaeBp6XUaO79IlpIgunvtYmErUUMPDbHT6mAIS4Ag/sUv3hwf4DsvV5z8aeapnW9PiOIYHmUUvcrAHLbyi6OXinatTCVeWz80aMSiT7LvKXtmG8GwDsZBBHSQHwKLx+KMWUyrVNADX1m5NSPrcObBg/v3Hcy7dLvg102Tgiw+Yb1GxYuftPbbY8eyc7YvT3TqkvmGj5k7P45FMa0PS3Pi+ITG+MdPe+PtfRlbIpoqDh+++GcuJMYHTNy65aPXiOdnJ8fGx8093M6MGzfYDac3DjLshQ8c/9lHm18jX0Rr2mwHjh/siodwkJYZFp02ZcaklP4xsZGT0l8bosdV/FYlZrvYO0G9BxeRt66H7BlMJ0fk3fZisOzs7RyRTkGnTTU2DHtvHzsW0xnz6FYypnZbZ/NlgWcHwh8AAMALheXEUWogfie6Z9erZUqVCtlXavltcgLOnsXqM9QL+PNgHc7RP4Sph+7tP1wO4e2CAh0wWtiAweIxsqoLpcLuiDmr17+VPiXOO4DnaI2HTQeu0JikgQ1EOxe/4JHz3//462/n9NfV3bl6z3gYFs0xeJazA4wVNbWiw9c625vaBW0YyIblyMIyqFZO3sHh/aOjY6KjIoIDvdwcWVbm+QsJQTprJ4/g6KCQkJBh895fu2qMe2XWwV8u1xrjk04h7e5SQ5BSg7Nx8o1IiA9xoBG7u//U0TIs1son8fXlG77Ysn7tuiVj+rni3Gxtg716htyhMFgrb6Rm/Ze9NQS2DT0wLIhOt+ex6DY26PADApmKJ2OUOpojF48nNLd09By7bG9tMUB6d2dH0xQK+RrjiMSmlvbemmbYALs5udrZsZH2R8vyW2DIwHF2ME0BfxUQ/gAAAF4o1kFBHEFHVeGtJuOUoeHi9owjh+9rZYWniiC5TbCvm6kKeHoGA6yHCPSIUEZ7UcaRu53M4FAihGQ/JPxgIKlUxNeRfQbGhXna6MpP7Dp49Oy1rm5JN4RFZhqwRCvhjR83frzhpyKJlTMvJNLHzpFGdHAwXnDbm+HcopMiSB3FOdnFcghS3P0t/9yJMi0Oxlob2/mnf/rxbKOxTHJz54ZViz/PK3/s9nZI/tP2DMUj2iXMmp7GFeZs++HY9U5IePOXjWuWbc2vl2NJWAhbV3LjbmcdzsmeYSruyxRG0UQKQdLy7C2ffXe42T417ZVhwzji4oo2gV30ID90toms/PjHn36X1YTWSEoqWwWsyAH+vMB4L9im8Xxxz51hpMXXb8gaIV+vELcgT01baU7O1TYIEhcfP37jvtg90MtiBKQtN8xHyy/LyTbeb1Bcknu8qFTs5scl4tyCvXXG9st8Y3teLrIssjoauhjw1wDhDwAA4MXCSpyUxG45tH7l5xfaIAwvMYl65/gKn+DRu3TeqSPS0BFlwFPSaRQKuVyp1UPW4f52eI4HxdE7iAZpVEqZQi6V6p2Tpw0jq/YlBHDZXO7igxrf4RNcSDXlNR2wTiVXSKUqu0h/x9qrW2I83D3d7D0/e2A3fNHiRDt07SYOicveSQ9q3/2qszN74MaDJRqek7xbJodoCUvemT9QkTXV38nDg+0+9kADK3HUYJ75gEHI+CpyxaMHaGBpUXOWz060zX9z0arvipkzXw3CXX4nImHGsqVvLho96+e2yMmLZvanosWWDNqeVfUcWqNwkga5SgrX93flct1d4j+usp+4Zs4wLjKn5fSWTRuX7irqgmi8hHh219UNxhquc/yWStbE1XOGsiHIKSl91TiPpu0juS4cjit7ca4mbuZbY30h68j0VQuToDPpIWyO36t7BEHz1iwYjNRD/PPbPtm8ct8tCbJs9Pw3FyViz6WHIjUjf+0ImLN6/hBnCGJGpa9clIy5MD+MzfEduYvvN2fVwgTjANfWc1s/2Ljkx2tC42YDz8biqPLD0ZnA30mhUCQkJKxZs2bs2LFoEwAAgKX09HRkx7t27VrjhEEpai49/ev3R84VN6isDF119Y3NHTKyi0fcuFVrl85N8AJnfv+c5cuXU6nUDz/8EII0kuZ2OUxhclhWkErU1C7HWDuwmSRIIWgUqgh0J2cbnJzf2NDQ1o3sKRmuPq42kKS7i8DgOBram7s1FBbXjiRva6yvb5NiDAbYlu3pznawPHNrpJY0N9Y1digpTk50HI5kINLYzjbIx6WWtDTWNwlUyIdLcuDy3J3p5pdcIJTCRpEST3N0oT/8cA0KYVNddReRw/V0sVYLmltabh0/VCzUuQ5fNDzA0Zn+R8Pk5MJGsQJLc2Qzek7XGpSdzXX1/G7YABEYblyuK/K2ERpJY6tYQ7bjOlnjkdfqbK5Ha2zduO5oDULbzW+sa2hXIuuhOXlw3Z1oPWMVddK2prqGNoWBzGJz3dm2ptcyNGT/eq4F4zHx9SHGXIzWyA1kJtudx354c5redojMdH3YrpU0t0oURJaHszX4fv8vMJhHX0cQ/v55IPwBAPBEFuHPRNFaeq+8rkOJweMJODwOh8PoH1S0OoWEJMb1+/1DPkBfZuHvX0EvaReqYZqjs8UZ1ucFkjC0FWfO10iJwSMSOCDA/d3Mwx847QsAAPBCorgERieNGDli+LChqanJSUkJiamzXx+fEOZtcboQeJngGI4Oz2nyQyDRA+sUGhk1sJ8LSH7/MBD+AAAA/i1wVBqNZv3YPWAA4DmBZ9iz7B36ntIG/nYg/AEAAAAAALxEQPj75xlM0AkAAIDfA35R/H8AvQoAAAAAAAAAAAAAAAAAAAD8O0DQ/wG4T5nFjbP9FAAAAABJRU5ErkJggg==)"
      ]
    },
    {
      "cell_type": "code",
      "metadata": {
        "id": "OXoyxLy0TQhT",
        "colab": {
          "base_uri": "https://localhost:8080/",
          "height": 498
        },
        "outputId": "4c513779-2517-4595-ac1e-30c934e78457"
      },
      "source": [
        "# verificando a renda familiar\n",
        "dados_apenas_faltantes['Q006'].value_counts(normalize=True).sort_index().plot.bar(figsize=(12,8))"
      ],
      "execution_count": null,
      "outputs": [
        {
          "output_type": "execute_result",
          "data": {
            "text/plain": [
              "<matplotlib.axes._subplots.AxesSubplot at 0x7f05ff86b828>"
            ]
          },
          "metadata": {
            "tags": []
          },
          "execution_count": 16
        },
        {
          "output_type": "display_data",
          "data": {
            "image/png": "[encoded data removed]",
            "text/plain": [
              "<Figure size 864x576 with 1 Axes>"
            ]
          },
          "metadata": {
            "tags": [],
            "needs_background": "light"
          }
        }
      ]
    },
    {
      "cell_type": "markdown",
      "metadata": {
        "id": "RWubyaYqUsmW"
      },
      "source": [
        "**A maioria dos alunos faltantes está entre B e C, ou seja, tem renda familiar inferior à R$ 1.497**. Para levar em consideração a quantidade de inscritos por renda, da mesma forma que fizemos com os Estados, vamos ver a proporção de atrasados em cada faixa de renda:"
      ]
    },
    {
      "cell_type": "code",
      "metadata": {
        "id": "zrIk3VQjbtIm",
        "colab": {
          "base_uri": "https://localhost:8080/"
        },
        "outputId": "680c40a5-78dc-4f73-c6e7-60a743d07643"
      },
      "source": [
        "# ordenando a renda para utilizar no gráfico\n",
        "renda_ordenada = dados[\"Q006\"].unique()\n",
        "renda_ordenada.sort()\n",
        "renda_ordenada"
      ],
      "execution_count": null,
      "outputs": [
        {
          "output_type": "execute_result",
          "data": {
            "text/plain": [
              "array(['A', 'B', 'C', 'D', 'E', 'F', 'G', 'H', 'I', 'J', 'K', 'L', 'M',\n",
              "       'N', 'O', 'P', 'Q'], dtype=object)"
            ]
          },
          "metadata": {
            "tags": []
          },
          "execution_count": 17
        }
      ]
    },
    {
      "cell_type": "code",
      "metadata": {
        "id": "8IEEX5cQn99L",
        "colab": {
          "base_uri": "https://localhost:8080/",
          "height": 512
        },
        "outputId": "91773b27-9d06-4844-97f4-ee2ca8bb22d7"
      },
      "source": [
        "# criando uma variavel de proporcao por renda\n",
        "proporcao_faltantes_por_renda = dados.groupby(['Q006','alunos_faltantes'])['Q006'].count()/dados.groupby('Q006')['Q006'].count()\n",
        "\n",
        "# plotando as informacoes\n",
        "proporcao_faltantes_por_renda.unstack().plot(kind='bar',stacked=True,figsize=(15, 8))"
      ],
      "execution_count": null,
      "outputs": [
        {
          "output_type": "execute_result",
          "data": {
            "text/plain": [
              "<matplotlib.axes._subplots.AxesSubplot at 0x7f05ff89fc88>"
            ]
          },
          "metadata": {
            "tags": []
          },
          "execution_count": 18
        },
        {
          "output_type": "display_data",
          "data": {
            "image/png": "[encoded data removed]",
            "text/plain": [
              "<Figure size 1080x576 with 1 Axes>"
            ]
          },
          "metadata": {
            "tags": [],
            "needs_background": "light"
          }
        }
      ]
    },
    {
      "cell_type": "markdown",
      "metadata": {
        "id": "ZgkiOqvBOO3R"
      },
      "source": [
        "**A quantidade de faltantes claramente diminui conforme a renda aumenta.** Alguma dúvida de que, quando analisamos o não comparecimento dos estudantes no Enem, podemos estar diante de mais um número que evidencia a desigualdade do país?"
      ]
    },
    {
      "cell_type": "markdown",
      "metadata": {
        "id": "f5aahiiJVbFz"
      },
      "source": [
        "## Conclusões"
      ]
    },
    {
      "cell_type": "markdown",
      "metadata": {
        "id": "tDOelG0hVGB-"
      },
      "source": [
        "Existem histórias das mais inusitadas sobre os atrasados do Enem, como as mostradas nessa campanha da Pravaler chamada [\"A Verdadeira História dos Atrasados do Enem\"](https://exame.com/marketing/campanha-traz-historias-reais-de-quem-perdeu-prova-do-enem/). No entanto, os números não são apenas aleatórios e mostram alguns padrões que evidenciam a desigualdade do país, já que **o lugar onde vivem e a renda familiar dos estudantes podem os deixar mais suscetíveis a não realizar a prova**.\n",
        "\n"
      ]
    },
    {
      "cell_type": "markdown",
      "metadata": {
        "id": "ozckCKaM1Qjw"
      },
      "source": [
        "Com esse estudo, pudemos observar que:"
      ]
    },
    {
      "cell_type": "markdown",
      "metadata": {
        "id": "beyHhCTv1Sot"
      },
      "source": [
        "*   A maioria dos alunos que faltam, faltam os dois dias. Dificilmente quem perde o primeiro dia comparece no segundo.\n",
        "*   Enquanto a maioria dos estados do Nordeste tem menos de 25% de alunos faltantes, alguns estados no Norte e Centro-Oeste passam de 30%. No Amazonas chega a 38%, a maior proporção de faltantes do país.\n",
        "*   Mais da metade dos alunos que não comparecem à prova tem renda inferior à R$ 1.497,00."
      ]
    },
    {
      "cell_type": "markdown",
      "metadata": {
        "id": "JK3rjNzydm4C"
      },
      "source": [
        "## Ideias para estudos futuros"
      ]
    },
    {
      "cell_type": "markdown",
      "metadata": {
        "id": "_7Uopg-6fmsk"
      },
      "source": [
        "Conforme os números dessa análise foram aparecendo, eu me fiz várias perguntas, especialmente em relação ao futuro. É possível utilizar essas informações para melhorar os exames que estão por vir?"
      ]
    },
    {
      "cell_type": "markdown",
      "metadata": {
        "id": "PhC2mx-phjoL"
      },
      "source": [
        "Aproveito para elencar algumas dessas perguntas aqui:"
      ]
    },
    {
      "cell_type": "markdown",
      "metadata": {
        "id": "7RIL0KXPdo7f"
      },
      "source": [
        "\n",
        "\n",
        "*   É possível prever a quantidade de alunos que não fará a prova presencial do Enem 2020?\n",
        "*   A prova digital aproxima ou afasta os alunos que estão mais suscetíveis a não realizar a prova?\n",
        "\n"
      ]
    },
    {
      "cell_type": "code",
      "metadata": {
        "id": "ZBbKX9GStlGV"
      },
      "source": [
        ""
      ],
      "execution_count": null,
      "outputs": []
    }
  ]
}